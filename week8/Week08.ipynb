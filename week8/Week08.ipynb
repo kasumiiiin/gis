{
 "cells": [
  {
   "attachments": {},
   "cell_type": "markdown",
   "metadata": {
    "slideshow": {
     "slide_type": "slide"
    }
   },
   "source": [
    "# 自転車犯罪マップ\n",
    "\n",
    "<img src=\"https://raw.githubusercontent.com/yohman/23-1-Reitaku-GIS/main/Weeks/Week08/images/crime map.png\" width=600>\n",
    "\n",
    "このラボの目的:\n",
    "\n",
    "- オープンデータソースからデータを取得し、Python ノートブックにインポート\n",
    "- 複数の列から単一の住所フィールドを作成\n",
    "- 緯度と経度の座標を割り当てて各行をジオコーディング\n",
    "- 美しいチャートや地図を作成"
   ]
  },
  {
   "attachments": {},
   "cell_type": "markdown",
   "metadata": {
    "slideshow": {
     "slide_type": "slide"
    }
   },
   "source": [
    "## ライブラリをインポートする\n",
    "\n",
    "このラボで使うライブラリーを一気にインポートしよう。"
   ]
  },
  {
   "cell_type": "code",
   "execution_count": 3,
   "metadata": {
    "slideshow": {
     "slide_type": "fragment"
    }
   },
   "outputs": [],
   "source": [
    "## for spatial analysis\n",
    "import geopandas as gpd\n",
    "\n",
    "## for data analysis\n",
    "import pandas as pd\n",
    "\n",
    "## for pretty charts\n",
    "import plotly.express as px\n",
    "\n",
    "# for plotly themes\n",
    "import plotly.io as pio\n",
    "\n",
    "## for URL requests\n",
    "import urllib.request\n",
    "import requests\n",
    "\n",
    "## for maps\n",
    "import folium\n",
    "from folium import plugins"
   ]
  },
  {
   "attachments": {},
   "cell_type": "markdown",
   "metadata": {
    "slideshow": {
     "slide_type": "slide"
    }
   },
   "source": [
    "## 自転車盗難データをダウンロード\n",
    "\n",
    "<img src=\"https://raw.githubusercontent.com/yohman/23-1-Reitaku-GIS/main/Weeks/Week08/images/Chiba%20police.png\" width=400>\n",
    "\n",
    "まずは千葉県警察のサイトにアクセス。そこから次に手順でデータをダウンロード：\n",
    "\n",
    "➡️ https://www.police.pref.chiba.jp/\n",
    "\n",
    "➡️ 安全な暮らし\n",
    "\n",
    "➡️ 地域の防犯\n",
    "\n",
    "➡️ あなたの町の犯罪情勢\n",
    "\n",
    "➡️ オープンデータ\n",
    "\n",
    "➡️ 自転車盗（CSV）"
   ]
  },
  {
   "attachments": {},
   "cell_type": "markdown",
   "metadata": {
    "slideshow": {
     "slide_type": "slide"
    }
   },
   "source": [
    "ダウンロードしたファイルを `chibike.csv` と名付けて、このフォルダー（Week08) にセーブ。"
   ]
  },
  {
   "cell_type": "code",
   "execution_count": 7,
   "metadata": {},
   "outputs": [],
   "source": [
    "# ダウンロードしたデータを読み込もう\n",
    "df = pd.read_csv('chibike.csv', encoding='cp932')"
   ]
  },
  {
   "cell_type": "code",
   "execution_count": 9,
   "metadata": {
    "slideshow": {
     "slide_type": "slide"
    }
   },
   "outputs": [
    {
     "name": "stdout",
     "output_type": "stream",
     "text": [
      "<class 'pandas.core.frame.DataFrame'>\n",
      "RangeIndex: 7346 entries, 0 to 7345\n",
      "Data columns (total 15 columns):\n",
      " #   Column         Non-Null Count  Dtype \n",
      "---  ------         --------------  ----- \n",
      " 0   罪名             7346 non-null   object\n",
      " 1   手口             7346 non-null   object\n",
      " 2   管轄警察署（発生地）     7346 non-null   object\n",
      " 3   管轄交番・駐在所（発生地）  7343 non-null   object\n",
      " 4   市区町村コード（発生地）   7346 non-null   int64 \n",
      " 5   都道府県（発生地）      7346 non-null   object\n",
      " 6   市区町村（発生地）      7346 non-null   object\n",
      " 7   町丁目（発生地）       7330 non-null   object\n",
      " 8   発生年月日（始期）      7346 non-null   object\n",
      " 9   発生時（始期）        7346 non-null   object\n",
      " 10  発生場所           7346 non-null   object\n",
      " 11  発生場所の詳細        7346 non-null   object\n",
      " 12  被害者の年齢         7346 non-null   object\n",
      " 13  被害者の職業         7346 non-null   object\n",
      " 14  施錠関係           7346 non-null   object\n",
      "dtypes: int64(1), object(14)\n",
      "memory usage: 861.0+ KB\n"
     ]
    }
   ],
   "source": [
    "# データの情報\n",
    "df.info()"
   ]
  },
  {
   "attachments": {},
   "cell_type": "markdown",
   "metadata": {
    "slideshow": {
     "slide_type": "slide"
    }
   },
   "source": [
    "Wow! ７千件もある！ちょっと多いので場所で絞りましょう。<h1>「柏」</h1>だけのデータフレームを作ろう。"
   ]
  },
  {
   "cell_type": "code",
   "execution_count": 10,
   "metadata": {},
   "outputs": [],
   "source": [
    "kashiwa = df[df['管轄警察署（発生地）'] == '柏'].copy()"
   ]
  },
  {
   "cell_type": "code",
   "execution_count": 11,
   "metadata": {
    "slideshow": {
     "slide_type": "slide"
    }
   },
   "outputs": [
    {
     "data": {
      "text/html": [
       "<div>\n",
       "<style scoped>\n",
       "    .dataframe tbody tr th:only-of-type {\n",
       "        vertical-align: middle;\n",
       "    }\n",
       "\n",
       "    .dataframe tbody tr th {\n",
       "        vertical-align: top;\n",
       "    }\n",
       "\n",
       "    .dataframe thead th {\n",
       "        text-align: right;\n",
       "    }\n",
       "</style>\n",
       "<table border=\"1\" class=\"dataframe\">\n",
       "  <thead>\n",
       "    <tr style=\"text-align: right;\">\n",
       "      <th></th>\n",
       "      <th>罪名</th>\n",
       "      <th>手口</th>\n",
       "      <th>管轄警察署（発生地）</th>\n",
       "      <th>管轄交番・駐在所（発生地）</th>\n",
       "      <th>市区町村コード（発生地）</th>\n",
       "      <th>都道府県（発生地）</th>\n",
       "      <th>市区町村（発生地）</th>\n",
       "      <th>町丁目（発生地）</th>\n",
       "      <th>発生年月日（始期）</th>\n",
       "      <th>発生時（始期）</th>\n",
       "      <th>発生場所</th>\n",
       "      <th>発生場所の詳細</th>\n",
       "      <th>被害者の年齢</th>\n",
       "      <th>被害者の職業</th>\n",
       "      <th>施錠関係</th>\n",
       "    </tr>\n",
       "  </thead>\n",
       "  <tbody>\n",
       "    <tr>\n",
       "      <th>3109</th>\n",
       "      <td>窃盗</td>\n",
       "      <td>自転車盗</td>\n",
       "      <td>柏</td>\n",
       "      <td>柏駅前交番</td>\n",
       "      <td>122173</td>\n",
       "      <td>千葉県</td>\n",
       "      <td>柏市</td>\n",
       "      <td>柏１丁目</td>\n",
       "      <td>2022-12-28</td>\n",
       "      <td>10</td>\n",
       "      <td>道路上</td>\n",
       "      <td>その他</td>\n",
       "      <td>70歳以上</td>\n",
       "      <td>その他</td>\n",
       "      <td>施錠した</td>\n",
       "    </tr>\n",
       "    <tr>\n",
       "      <th>2880</th>\n",
       "      <td>窃盗</td>\n",
       "      <td>自転車盗</td>\n",
       "      <td>柏</td>\n",
       "      <td>南柏駅前交番</td>\n",
       "      <td>122173</td>\n",
       "      <td>千葉県</td>\n",
       "      <td>柏市</td>\n",
       "      <td>豊四季</td>\n",
       "      <td>2022-08-07</td>\n",
       "      <td>19</td>\n",
       "      <td>４階建て以上共同住宅</td>\n",
       "      <td>駐車（輪）場</td>\n",
       "      <td>30歳代</td>\n",
       "      <td>その他</td>\n",
       "      <td>施錠した</td>\n",
       "    </tr>\n",
       "    <tr>\n",
       "      <th>2835</th>\n",
       "      <td>窃盗</td>\n",
       "      <td>自転車盗</td>\n",
       "      <td>柏</td>\n",
       "      <td>南増尾交番</td>\n",
       "      <td>122173</td>\n",
       "      <td>千葉県</td>\n",
       "      <td>柏市</td>\n",
       "      <td>逆井</td>\n",
       "      <td>2022-06-19</td>\n",
       "      <td>22</td>\n",
       "      <td>その他</td>\n",
       "      <td>駐車（輪）場</td>\n",
       "      <td>20歳代</td>\n",
       "      <td>大学生</td>\n",
       "      <td>施錠せず</td>\n",
       "    </tr>\n",
       "    <tr>\n",
       "      <th>3081</th>\n",
       "      <td>窃盗</td>\n",
       "      <td>自転車盗</td>\n",
       "      <td>柏</td>\n",
       "      <td>柏の葉キャンパス交番</td>\n",
       "      <td>122173</td>\n",
       "      <td>千葉県</td>\n",
       "      <td>柏市</td>\n",
       "      <td>若柴</td>\n",
       "      <td>2022-11-22</td>\n",
       "      <td>09</td>\n",
       "      <td>その他</td>\n",
       "      <td>駐車（輪）場</td>\n",
       "      <td>20歳代</td>\n",
       "      <td>その他</td>\n",
       "      <td>施錠した</td>\n",
       "    </tr>\n",
       "    <tr>\n",
       "      <th>2872</th>\n",
       "      <td>窃盗</td>\n",
       "      <td>自転車盗</td>\n",
       "      <td>柏</td>\n",
       "      <td>南増尾交番</td>\n",
       "      <td>122173</td>\n",
       "      <td>千葉県</td>\n",
       "      <td>柏市</td>\n",
       "      <td>新逆井２丁目</td>\n",
       "      <td>2022-11-05</td>\n",
       "      <td>16</td>\n",
       "      <td>その他</td>\n",
       "      <td>駐車（輪）場</td>\n",
       "      <td>10歳未満</td>\n",
       "      <td>小学生</td>\n",
       "      <td>施錠せず</td>\n",
       "    </tr>\n",
       "  </tbody>\n",
       "</table>\n",
       "</div>"
      ],
      "text/plain": [
       "      罪名    手口 管轄警察署（発生地） 管轄交番・駐在所（発生地）  市区町村コード（発生地） 都道府県（発生地） 市区町村（発生地）   \n",
       "3109  窃盗  自転車盗          柏         柏駅前交番        122173       千葉県        柏市  \\\n",
       "2880  窃盗  自転車盗          柏        南柏駅前交番        122173       千葉県        柏市   \n",
       "2835  窃盗  自転車盗          柏         南増尾交番        122173       千葉県        柏市   \n",
       "3081  窃盗  自転車盗          柏    柏の葉キャンパス交番        122173       千葉県        柏市   \n",
       "2872  窃盗  自転車盗          柏         南増尾交番        122173       千葉県        柏市   \n",
       "\n",
       "     町丁目（発生地）   発生年月日（始期） 発生時（始期）        発生場所 発生場所の詳細 被害者の年齢 被害者の職業  施錠関係  \n",
       "3109     柏１丁目  2022-12-28      10         道路上     その他  70歳以上    その他  施錠した  \n",
       "2880      豊四季  2022-08-07      19  ４階建て以上共同住宅  駐車（輪）場   30歳代    その他  施錠した  \n",
       "2835       逆井  2022-06-19      22         その他  駐車（輪）場   20歳代    大学生  施錠せず  \n",
       "3081       若柴  2022-11-22      09         その他  駐車（輪）場   20歳代    その他  施錠した  \n",
       "2872   新逆井２丁目  2022-11-05      16         その他  駐車（輪）場  10歳未満    小学生  施錠せず  "
      ]
     },
     "execution_count": 11,
     "metadata": {},
     "output_type": "execute_result"
    }
   ],
   "source": [
    "# データをチェック\n",
    "kashiwa.sample(5)"
   ]
  },
  {
   "attachments": {},
   "cell_type": "markdown",
   "metadata": {
    "slideshow": {
     "slide_type": "slide"
    }
   },
   "source": [
    "### `value_counts`でチャート\n",
    "\n",
    "このデータを見て、咄嗟に知りたいものってなんでしょう？\n",
    "\n",
    "例えば、<h1>「1日の何時に自転車の盗難が一番発生するの？」</h1>の質問に答えるためにはどのようなデータ分析が必要でしょうか？\n",
    "\n",
    "では、そのチャートを作ってみましょう。"
   ]
  },
  {
   "attachments": {},
   "cell_type": "markdown",
   "metadata": {
    "slideshow": {
     "slide_type": "slide"
    }
   },
   "source": [
    "データには **【発生時（始期）】** のカラムがあるので、各時間帯のカウントを`value_counts()`で調べる。最後に足される`reset_index()`で結果をデータフレームに変換します。"
   ]
  },
  {
   "cell_type": "code",
   "execution_count": 12,
   "metadata": {},
   "outputs": [
    {
     "data": {
      "text/html": [
       "<div>\n",
       "<style scoped>\n",
       "    .dataframe tbody tr th:only-of-type {\n",
       "        vertical-align: middle;\n",
       "    }\n",
       "\n",
       "    .dataframe tbody tr th {\n",
       "        vertical-align: top;\n",
       "    }\n",
       "\n",
       "    .dataframe thead th {\n",
       "        text-align: right;\n",
       "    }\n",
       "</style>\n",
       "<table border=\"1\" class=\"dataframe\">\n",
       "  <thead>\n",
       "    <tr style=\"text-align: right;\">\n",
       "      <th></th>\n",
       "      <th>発生時（始期）</th>\n",
       "      <th>count</th>\n",
       "    </tr>\n",
       "  </thead>\n",
       "  <tbody>\n",
       "    <tr>\n",
       "      <th>0</th>\n",
       "      <td>18</td>\n",
       "      <td>44</td>\n",
       "    </tr>\n",
       "    <tr>\n",
       "      <th>1</th>\n",
       "      <td>19</td>\n",
       "      <td>39</td>\n",
       "    </tr>\n",
       "    <tr>\n",
       "      <th>2</th>\n",
       "      <td>08</td>\n",
       "      <td>37</td>\n",
       "    </tr>\n",
       "    <tr>\n",
       "      <th>3</th>\n",
       "      <td>16</td>\n",
       "      <td>36</td>\n",
       "    </tr>\n",
       "    <tr>\n",
       "      <th>4</th>\n",
       "      <td>20</td>\n",
       "      <td>33</td>\n",
       "    </tr>\n",
       "    <tr>\n",
       "      <th>5</th>\n",
       "      <td>17</td>\n",
       "      <td>32</td>\n",
       "    </tr>\n",
       "    <tr>\n",
       "      <th>6</th>\n",
       "      <td>12</td>\n",
       "      <td>28</td>\n",
       "    </tr>\n",
       "    <tr>\n",
       "      <th>7</th>\n",
       "      <td>13</td>\n",
       "      <td>25</td>\n",
       "    </tr>\n",
       "    <tr>\n",
       "      <th>8</th>\n",
       "      <td>15</td>\n",
       "      <td>24</td>\n",
       "    </tr>\n",
       "    <tr>\n",
       "      <th>9</th>\n",
       "      <td>07</td>\n",
       "      <td>23</td>\n",
       "    </tr>\n",
       "    <tr>\n",
       "      <th>10</th>\n",
       "      <td>14</td>\n",
       "      <td>20</td>\n",
       "    </tr>\n",
       "    <tr>\n",
       "      <th>11</th>\n",
       "      <td>10</td>\n",
       "      <td>20</td>\n",
       "    </tr>\n",
       "    <tr>\n",
       "      <th>12</th>\n",
       "      <td>21</td>\n",
       "      <td>19</td>\n",
       "    </tr>\n",
       "    <tr>\n",
       "      <th>13</th>\n",
       "      <td>11</td>\n",
       "      <td>19</td>\n",
       "    </tr>\n",
       "    <tr>\n",
       "      <th>14</th>\n",
       "      <td>09</td>\n",
       "      <td>18</td>\n",
       "    </tr>\n",
       "    <tr>\n",
       "      <th>15</th>\n",
       "      <td>06</td>\n",
       "      <td>12</td>\n",
       "    </tr>\n",
       "    <tr>\n",
       "      <th>16</th>\n",
       "      <td>22</td>\n",
       "      <td>11</td>\n",
       "    </tr>\n",
       "    <tr>\n",
       "      <th>17</th>\n",
       "      <td>00</td>\n",
       "      <td>9</td>\n",
       "    </tr>\n",
       "    <tr>\n",
       "      <th>18</th>\n",
       "      <td>23</td>\n",
       "      <td>9</td>\n",
       "    </tr>\n",
       "    <tr>\n",
       "      <th>19</th>\n",
       "      <td>不明</td>\n",
       "      <td>6</td>\n",
       "    </tr>\n",
       "    <tr>\n",
       "      <th>20</th>\n",
       "      <td>05</td>\n",
       "      <td>3</td>\n",
       "    </tr>\n",
       "    <tr>\n",
       "      <th>21</th>\n",
       "      <td>04</td>\n",
       "      <td>2</td>\n",
       "    </tr>\n",
       "    <tr>\n",
       "      <th>22</th>\n",
       "      <td>02</td>\n",
       "      <td>1</td>\n",
       "    </tr>\n",
       "    <tr>\n",
       "      <th>23</th>\n",
       "      <td>01</td>\n",
       "      <td>1</td>\n",
       "    </tr>\n",
       "  </tbody>\n",
       "</table>\n",
       "</div>"
      ],
      "text/plain": [
       "   発生時（始期）  count\n",
       "0       18     44\n",
       "1       19     39\n",
       "2       08     37\n",
       "3       16     36\n",
       "4       20     33\n",
       "5       17     32\n",
       "6       12     28\n",
       "7       13     25\n",
       "8       15     24\n",
       "9       07     23\n",
       "10      14     20\n",
       "11      10     20\n",
       "12      21     19\n",
       "13      11     19\n",
       "14      09     18\n",
       "15      06     12\n",
       "16      22     11\n",
       "17      00      9\n",
       "18      23      9\n",
       "19      不明      6\n",
       "20      05      3\n",
       "21      04      2\n",
       "22      02      1\n",
       "23      01      1"
      ]
     },
     "execution_count": 12,
     "metadata": {},
     "output_type": "execute_result"
    }
   ],
   "source": [
    "# create a new variable with hourly counts\n",
    "time = kashiwa['発生時（始期）'].value_counts().reset_index()\n",
    "time"
   ]
  },
  {
   "attachments": {},
   "cell_type": "markdown",
   "metadata": {
    "slideshow": {
     "slide_type": "slide"
    }
   },
   "source": [
    "この結果は良いが、カラム名（ヘッダー）を直す必要がある。"
   ]
  },
  {
   "cell_type": "code",
   "execution_count": 13,
   "metadata": {},
   "outputs": [
    {
     "data": {
      "text/html": [
       "<div>\n",
       "<style scoped>\n",
       "    .dataframe tbody tr th:only-of-type {\n",
       "        vertical-align: middle;\n",
       "    }\n",
       "\n",
       "    .dataframe tbody tr th {\n",
       "        vertical-align: top;\n",
       "    }\n",
       "\n",
       "    .dataframe thead th {\n",
       "        text-align: right;\n",
       "    }\n",
       "</style>\n",
       "<table border=\"1\" class=\"dataframe\">\n",
       "  <thead>\n",
       "    <tr style=\"text-align: right;\">\n",
       "      <th></th>\n",
       "      <th>発生時（始期）</th>\n",
       "      <th>件数</th>\n",
       "    </tr>\n",
       "  </thead>\n",
       "  <tbody>\n",
       "    <tr>\n",
       "      <th>0</th>\n",
       "      <td>18</td>\n",
       "      <td>44</td>\n",
       "    </tr>\n",
       "    <tr>\n",
       "      <th>1</th>\n",
       "      <td>19</td>\n",
       "      <td>39</td>\n",
       "    </tr>\n",
       "    <tr>\n",
       "      <th>2</th>\n",
       "      <td>08</td>\n",
       "      <td>37</td>\n",
       "    </tr>\n",
       "    <tr>\n",
       "      <th>3</th>\n",
       "      <td>16</td>\n",
       "      <td>36</td>\n",
       "    </tr>\n",
       "    <tr>\n",
       "      <th>4</th>\n",
       "      <td>20</td>\n",
       "      <td>33</td>\n",
       "    </tr>\n",
       "    <tr>\n",
       "      <th>5</th>\n",
       "      <td>17</td>\n",
       "      <td>32</td>\n",
       "    </tr>\n",
       "    <tr>\n",
       "      <th>6</th>\n",
       "      <td>12</td>\n",
       "      <td>28</td>\n",
       "    </tr>\n",
       "    <tr>\n",
       "      <th>7</th>\n",
       "      <td>13</td>\n",
       "      <td>25</td>\n",
       "    </tr>\n",
       "    <tr>\n",
       "      <th>8</th>\n",
       "      <td>15</td>\n",
       "      <td>24</td>\n",
       "    </tr>\n",
       "    <tr>\n",
       "      <th>9</th>\n",
       "      <td>07</td>\n",
       "      <td>23</td>\n",
       "    </tr>\n",
       "    <tr>\n",
       "      <th>10</th>\n",
       "      <td>14</td>\n",
       "      <td>20</td>\n",
       "    </tr>\n",
       "    <tr>\n",
       "      <th>11</th>\n",
       "      <td>10</td>\n",
       "      <td>20</td>\n",
       "    </tr>\n",
       "    <tr>\n",
       "      <th>12</th>\n",
       "      <td>21</td>\n",
       "      <td>19</td>\n",
       "    </tr>\n",
       "    <tr>\n",
       "      <th>13</th>\n",
       "      <td>11</td>\n",
       "      <td>19</td>\n",
       "    </tr>\n",
       "    <tr>\n",
       "      <th>14</th>\n",
       "      <td>09</td>\n",
       "      <td>18</td>\n",
       "    </tr>\n",
       "    <tr>\n",
       "      <th>15</th>\n",
       "      <td>06</td>\n",
       "      <td>12</td>\n",
       "    </tr>\n",
       "    <tr>\n",
       "      <th>16</th>\n",
       "      <td>22</td>\n",
       "      <td>11</td>\n",
       "    </tr>\n",
       "    <tr>\n",
       "      <th>17</th>\n",
       "      <td>00</td>\n",
       "      <td>9</td>\n",
       "    </tr>\n",
       "    <tr>\n",
       "      <th>18</th>\n",
       "      <td>23</td>\n",
       "      <td>9</td>\n",
       "    </tr>\n",
       "    <tr>\n",
       "      <th>19</th>\n",
       "      <td>不明</td>\n",
       "      <td>6</td>\n",
       "    </tr>\n",
       "    <tr>\n",
       "      <th>20</th>\n",
       "      <td>05</td>\n",
       "      <td>3</td>\n",
       "    </tr>\n",
       "    <tr>\n",
       "      <th>21</th>\n",
       "      <td>04</td>\n",
       "      <td>2</td>\n",
       "    </tr>\n",
       "    <tr>\n",
       "      <th>22</th>\n",
       "      <td>02</td>\n",
       "      <td>1</td>\n",
       "    </tr>\n",
       "    <tr>\n",
       "      <th>23</th>\n",
       "      <td>01</td>\n",
       "      <td>1</td>\n",
       "    </tr>\n",
       "  </tbody>\n",
       "</table>\n",
       "</div>"
      ],
      "text/plain": [
       "   発生時（始期）  件数\n",
       "0       18  44\n",
       "1       19  39\n",
       "2       08  37\n",
       "3       16  36\n",
       "4       20  33\n",
       "5       17  32\n",
       "6       12  28\n",
       "7       13  25\n",
       "8       15  24\n",
       "9       07  23\n",
       "10      14  20\n",
       "11      10  20\n",
       "12      21  19\n",
       "13      11  19\n",
       "14      09  18\n",
       "15      06  12\n",
       "16      22  11\n",
       "17      00   9\n",
       "18      23   9\n",
       "19      不明   6\n",
       "20      05   3\n",
       "21      04   2\n",
       "22      02   1\n",
       "23      01   1"
      ]
     },
     "execution_count": 13,
     "metadata": {},
     "output_type": "execute_result"
    }
   ],
   "source": [
    "# fix headers\n",
    "time.columns = ['発生時（始期）','件数']\n",
    "time"
   ]
  },
  {
   "attachments": {},
   "cell_type": "markdown",
   "metadata": {
    "slideshow": {
     "slide_type": "slide"
    }
   },
   "source": [
    "いよいよ準備万端。この新しいデータフレームでチャートを作ろう。この場合は plotly express の bar charts を参考。\n",
    "\n",
    "https://plotly.com/python/bar-charts/"
   ]
  },
  {
   "cell_type": "code",
   "execution_count": 14,
   "metadata": {},
   "outputs": [
    {
     "data": {
      "application/vnd.plotly.v1+json": {
       "config": {
        "plotlyServerURL": "https://plot.ly"
       },
       "data": [
        {
         "alignmentgroup": "True",
         "hovertemplate": "発生時（始期）=%{x}<br>件数=%{y}<extra></extra>",
         "legendgroup": "",
         "marker": {
          "color": "#636efa",
          "pattern": {
           "shape": ""
          }
         },
         "name": "",
         "offsetgroup": "",
         "orientation": "v",
         "showlegend": false,
         "textposition": "auto",
         "type": "bar",
         "x": [
          "18",
          "19",
          "08",
          "16",
          "20",
          "17",
          "12",
          "13",
          "15",
          "07",
          "14",
          "10",
          "21",
          "11",
          "09",
          "06",
          "22",
          "00",
          "23",
          "不明",
          "05",
          "04",
          "02",
          "01"
         ],
         "xaxis": "x",
         "y": [
          44,
          39,
          37,
          36,
          33,
          32,
          28,
          25,
          24,
          23,
          20,
          20,
          19,
          19,
          18,
          12,
          11,
          9,
          9,
          6,
          3,
          2,
          1,
          1
         ],
         "yaxis": "y"
        }
       ],
       "layout": {
        "barmode": "relative",
        "legend": {
         "tracegroupgap": 0
        },
        "margin": {
         "t": 60
        },
        "template": {
         "data": {
          "bar": [
           {
            "error_x": {
             "color": "#2a3f5f"
            },
            "error_y": {
             "color": "#2a3f5f"
            },
            "marker": {
             "line": {
              "color": "#E5ECF6",
              "width": 0.5
             },
             "pattern": {
              "fillmode": "overlay",
              "size": 10,
              "solidity": 0.2
             }
            },
            "type": "bar"
           }
          ],
          "barpolar": [
           {
            "marker": {
             "line": {
              "color": "#E5ECF6",
              "width": 0.5
             },
             "pattern": {
              "fillmode": "overlay",
              "size": 10,
              "solidity": 0.2
             }
            },
            "type": "barpolar"
           }
          ],
          "carpet": [
           {
            "aaxis": {
             "endlinecolor": "#2a3f5f",
             "gridcolor": "white",
             "linecolor": "white",
             "minorgridcolor": "white",
             "startlinecolor": "#2a3f5f"
            },
            "baxis": {
             "endlinecolor": "#2a3f5f",
             "gridcolor": "white",
             "linecolor": "white",
             "minorgridcolor": "white",
             "startlinecolor": "#2a3f5f"
            },
            "type": "carpet"
           }
          ],
          "choropleth": [
           {
            "colorbar": {
             "outlinewidth": 0,
             "ticks": ""
            },
            "type": "choropleth"
           }
          ],
          "contour": [
           {
            "colorbar": {
             "outlinewidth": 0,
             "ticks": ""
            },
            "colorscale": [
             [
              0,
              "#0d0887"
             ],
             [
              0.1111111111111111,
              "#46039f"
             ],
             [
              0.2222222222222222,
              "#7201a8"
             ],
             [
              0.3333333333333333,
              "#9c179e"
             ],
             [
              0.4444444444444444,
              "#bd3786"
             ],
             [
              0.5555555555555556,
              "#d8576b"
             ],
             [
              0.6666666666666666,
              "#ed7953"
             ],
             [
              0.7777777777777778,
              "#fb9f3a"
             ],
             [
              0.8888888888888888,
              "#fdca26"
             ],
             [
              1,
              "#f0f921"
             ]
            ],
            "type": "contour"
           }
          ],
          "contourcarpet": [
           {
            "colorbar": {
             "outlinewidth": 0,
             "ticks": ""
            },
            "type": "contourcarpet"
           }
          ],
          "heatmap": [
           {
            "colorbar": {
             "outlinewidth": 0,
             "ticks": ""
            },
            "colorscale": [
             [
              0,
              "#0d0887"
             ],
             [
              0.1111111111111111,
              "#46039f"
             ],
             [
              0.2222222222222222,
              "#7201a8"
             ],
             [
              0.3333333333333333,
              "#9c179e"
             ],
             [
              0.4444444444444444,
              "#bd3786"
             ],
             [
              0.5555555555555556,
              "#d8576b"
             ],
             [
              0.6666666666666666,
              "#ed7953"
             ],
             [
              0.7777777777777778,
              "#fb9f3a"
             ],
             [
              0.8888888888888888,
              "#fdca26"
             ],
             [
              1,
              "#f0f921"
             ]
            ],
            "type": "heatmap"
           }
          ],
          "heatmapgl": [
           {
            "colorbar": {
             "outlinewidth": 0,
             "ticks": ""
            },
            "colorscale": [
             [
              0,
              "#0d0887"
             ],
             [
              0.1111111111111111,
              "#46039f"
             ],
             [
              0.2222222222222222,
              "#7201a8"
             ],
             [
              0.3333333333333333,
              "#9c179e"
             ],
             [
              0.4444444444444444,
              "#bd3786"
             ],
             [
              0.5555555555555556,
              "#d8576b"
             ],
             [
              0.6666666666666666,
              "#ed7953"
             ],
             [
              0.7777777777777778,
              "#fb9f3a"
             ],
             [
              0.8888888888888888,
              "#fdca26"
             ],
             [
              1,
              "#f0f921"
             ]
            ],
            "type": "heatmapgl"
           }
          ],
          "histogram": [
           {
            "marker": {
             "pattern": {
              "fillmode": "overlay",
              "size": 10,
              "solidity": 0.2
             }
            },
            "type": "histogram"
           }
          ],
          "histogram2d": [
           {
            "colorbar": {
             "outlinewidth": 0,
             "ticks": ""
            },
            "colorscale": [
             [
              0,
              "#0d0887"
             ],
             [
              0.1111111111111111,
              "#46039f"
             ],
             [
              0.2222222222222222,
              "#7201a8"
             ],
             [
              0.3333333333333333,
              "#9c179e"
             ],
             [
              0.4444444444444444,
              "#bd3786"
             ],
             [
              0.5555555555555556,
              "#d8576b"
             ],
             [
              0.6666666666666666,
              "#ed7953"
             ],
             [
              0.7777777777777778,
              "#fb9f3a"
             ],
             [
              0.8888888888888888,
              "#fdca26"
             ],
             [
              1,
              "#f0f921"
             ]
            ],
            "type": "histogram2d"
           }
          ],
          "histogram2dcontour": [
           {
            "colorbar": {
             "outlinewidth": 0,
             "ticks": ""
            },
            "colorscale": [
             [
              0,
              "#0d0887"
             ],
             [
              0.1111111111111111,
              "#46039f"
             ],
             [
              0.2222222222222222,
              "#7201a8"
             ],
             [
              0.3333333333333333,
              "#9c179e"
             ],
             [
              0.4444444444444444,
              "#bd3786"
             ],
             [
              0.5555555555555556,
              "#d8576b"
             ],
             [
              0.6666666666666666,
              "#ed7953"
             ],
             [
              0.7777777777777778,
              "#fb9f3a"
             ],
             [
              0.8888888888888888,
              "#fdca26"
             ],
             [
              1,
              "#f0f921"
             ]
            ],
            "type": "histogram2dcontour"
           }
          ],
          "mesh3d": [
           {
            "colorbar": {
             "outlinewidth": 0,
             "ticks": ""
            },
            "type": "mesh3d"
           }
          ],
          "parcoords": [
           {
            "line": {
             "colorbar": {
              "outlinewidth": 0,
              "ticks": ""
             }
            },
            "type": "parcoords"
           }
          ],
          "pie": [
           {
            "automargin": true,
            "type": "pie"
           }
          ],
          "scatter": [
           {
            "fillpattern": {
             "fillmode": "overlay",
             "size": 10,
             "solidity": 0.2
            },
            "type": "scatter"
           }
          ],
          "scatter3d": [
           {
            "line": {
             "colorbar": {
              "outlinewidth": 0,
              "ticks": ""
             }
            },
            "marker": {
             "colorbar": {
              "outlinewidth": 0,
              "ticks": ""
             }
            },
            "type": "scatter3d"
           }
          ],
          "scattercarpet": [
           {
            "marker": {
             "colorbar": {
              "outlinewidth": 0,
              "ticks": ""
             }
            },
            "type": "scattercarpet"
           }
          ],
          "scattergeo": [
           {
            "marker": {
             "colorbar": {
              "outlinewidth": 0,
              "ticks": ""
             }
            },
            "type": "scattergeo"
           }
          ],
          "scattergl": [
           {
            "marker": {
             "colorbar": {
              "outlinewidth": 0,
              "ticks": ""
             }
            },
            "type": "scattergl"
           }
          ],
          "scattermapbox": [
           {
            "marker": {
             "colorbar": {
              "outlinewidth": 0,
              "ticks": ""
             }
            },
            "type": "scattermapbox"
           }
          ],
          "scatterpolar": [
           {
            "marker": {
             "colorbar": {
              "outlinewidth": 0,
              "ticks": ""
             }
            },
            "type": "scatterpolar"
           }
          ],
          "scatterpolargl": [
           {
            "marker": {
             "colorbar": {
              "outlinewidth": 0,
              "ticks": ""
             }
            },
            "type": "scatterpolargl"
           }
          ],
          "scatterternary": [
           {
            "marker": {
             "colorbar": {
              "outlinewidth": 0,
              "ticks": ""
             }
            },
            "type": "scatterternary"
           }
          ],
          "surface": [
           {
            "colorbar": {
             "outlinewidth": 0,
             "ticks": ""
            },
            "colorscale": [
             [
              0,
              "#0d0887"
             ],
             [
              0.1111111111111111,
              "#46039f"
             ],
             [
              0.2222222222222222,
              "#7201a8"
             ],
             [
              0.3333333333333333,
              "#9c179e"
             ],
             [
              0.4444444444444444,
              "#bd3786"
             ],
             [
              0.5555555555555556,
              "#d8576b"
             ],
             [
              0.6666666666666666,
              "#ed7953"
             ],
             [
              0.7777777777777778,
              "#fb9f3a"
             ],
             [
              0.8888888888888888,
              "#fdca26"
             ],
             [
              1,
              "#f0f921"
             ]
            ],
            "type": "surface"
           }
          ],
          "table": [
           {
            "cells": {
             "fill": {
              "color": "#EBF0F8"
             },
             "line": {
              "color": "white"
             }
            },
            "header": {
             "fill": {
              "color": "#C8D4E3"
             },
             "line": {
              "color": "white"
             }
            },
            "type": "table"
           }
          ]
         },
         "layout": {
          "annotationdefaults": {
           "arrowcolor": "#2a3f5f",
           "arrowhead": 0,
           "arrowwidth": 1
          },
          "autotypenumbers": "strict",
          "coloraxis": {
           "colorbar": {
            "outlinewidth": 0,
            "ticks": ""
           }
          },
          "colorscale": {
           "diverging": [
            [
             0,
             "#8e0152"
            ],
            [
             0.1,
             "#c51b7d"
            ],
            [
             0.2,
             "#de77ae"
            ],
            [
             0.3,
             "#f1b6da"
            ],
            [
             0.4,
             "#fde0ef"
            ],
            [
             0.5,
             "#f7f7f7"
            ],
            [
             0.6,
             "#e6f5d0"
            ],
            [
             0.7,
             "#b8e186"
            ],
            [
             0.8,
             "#7fbc41"
            ],
            [
             0.9,
             "#4d9221"
            ],
            [
             1,
             "#276419"
            ]
           ],
           "sequential": [
            [
             0,
             "#0d0887"
            ],
            [
             0.1111111111111111,
             "#46039f"
            ],
            [
             0.2222222222222222,
             "#7201a8"
            ],
            [
             0.3333333333333333,
             "#9c179e"
            ],
            [
             0.4444444444444444,
             "#bd3786"
            ],
            [
             0.5555555555555556,
             "#d8576b"
            ],
            [
             0.6666666666666666,
             "#ed7953"
            ],
            [
             0.7777777777777778,
             "#fb9f3a"
            ],
            [
             0.8888888888888888,
             "#fdca26"
            ],
            [
             1,
             "#f0f921"
            ]
           ],
           "sequentialminus": [
            [
             0,
             "#0d0887"
            ],
            [
             0.1111111111111111,
             "#46039f"
            ],
            [
             0.2222222222222222,
             "#7201a8"
            ],
            [
             0.3333333333333333,
             "#9c179e"
            ],
            [
             0.4444444444444444,
             "#bd3786"
            ],
            [
             0.5555555555555556,
             "#d8576b"
            ],
            [
             0.6666666666666666,
             "#ed7953"
            ],
            [
             0.7777777777777778,
             "#fb9f3a"
            ],
            [
             0.8888888888888888,
             "#fdca26"
            ],
            [
             1,
             "#f0f921"
            ]
           ]
          },
          "colorway": [
           "#636efa",
           "#EF553B",
           "#00cc96",
           "#ab63fa",
           "#FFA15A",
           "#19d3f3",
           "#FF6692",
           "#B6E880",
           "#FF97FF",
           "#FECB52"
          ],
          "font": {
           "color": "#2a3f5f"
          },
          "geo": {
           "bgcolor": "white",
           "lakecolor": "white",
           "landcolor": "#E5ECF6",
           "showlakes": true,
           "showland": true,
           "subunitcolor": "white"
          },
          "hoverlabel": {
           "align": "left"
          },
          "hovermode": "closest",
          "mapbox": {
           "style": "light"
          },
          "paper_bgcolor": "white",
          "plot_bgcolor": "#E5ECF6",
          "polar": {
           "angularaxis": {
            "gridcolor": "white",
            "linecolor": "white",
            "ticks": ""
           },
           "bgcolor": "#E5ECF6",
           "radialaxis": {
            "gridcolor": "white",
            "linecolor": "white",
            "ticks": ""
           }
          },
          "scene": {
           "xaxis": {
            "backgroundcolor": "#E5ECF6",
            "gridcolor": "white",
            "gridwidth": 2,
            "linecolor": "white",
            "showbackground": true,
            "ticks": "",
            "zerolinecolor": "white"
           },
           "yaxis": {
            "backgroundcolor": "#E5ECF6",
            "gridcolor": "white",
            "gridwidth": 2,
            "linecolor": "white",
            "showbackground": true,
            "ticks": "",
            "zerolinecolor": "white"
           },
           "zaxis": {
            "backgroundcolor": "#E5ECF6",
            "gridcolor": "white",
            "gridwidth": 2,
            "linecolor": "white",
            "showbackground": true,
            "ticks": "",
            "zerolinecolor": "white"
           }
          },
          "shapedefaults": {
           "line": {
            "color": "#2a3f5f"
           }
          },
          "ternary": {
           "aaxis": {
            "gridcolor": "white",
            "linecolor": "white",
            "ticks": ""
           },
           "baxis": {
            "gridcolor": "white",
            "linecolor": "white",
            "ticks": ""
           },
           "bgcolor": "#E5ECF6",
           "caxis": {
            "gridcolor": "white",
            "linecolor": "white",
            "ticks": ""
           }
          },
          "title": {
           "x": 0.05
          },
          "xaxis": {
           "automargin": true,
           "gridcolor": "white",
           "linecolor": "white",
           "ticks": "",
           "title": {
            "standoff": 15
           },
           "zerolinecolor": "white",
           "zerolinewidth": 2
          },
          "yaxis": {
           "automargin": true,
           "gridcolor": "white",
           "linecolor": "white",
           "ticks": "",
           "title": {
            "standoff": 15
           },
           "zerolinecolor": "white",
           "zerolinewidth": 2
          }
         }
        },
        "xaxis": {
         "anchor": "y",
         "domain": [
          0,
          1
         ],
         "title": {
          "text": "発生時（始期）"
         }
        },
        "yaxis": {
         "anchor": "x",
         "domain": [
          0,
          1
         ],
         "title": {
          "text": "件数"
         }
        }
       }
      }
     },
     "metadata": {},
     "output_type": "display_data"
    }
   ],
   "source": [
    "fig = px.bar(time,x='発生時（始期）',y='件数')\n",
    "fig.show()"
   ]
  },
  {
   "attachments": {},
   "cell_type": "markdown",
   "metadata": {
    "slideshow": {
     "slide_type": "slide"
    }
   },
   "source": [
    "ありゃ？順番が件数の多い順になってる。実はx軸のオプションっていっぱいあるんだ！その中の一つでカテゴリーの順番を設定できる。\n",
    "\n",
    "https://plotly.com/python/categorical-axes/"
   ]
  },
  {
   "cell_type": "code",
   "execution_count": 15,
   "metadata": {},
   "outputs": [
    {
     "data": {
      "application/vnd.plotly.v1+json": {
       "config": {
        "plotlyServerURL": "https://plot.ly"
       },
       "data": [
        {
         "alignmentgroup": "True",
         "hovertemplate": "発生時（始期）=%{x}<br>件数=%{y}<extra></extra>",
         "legendgroup": "",
         "marker": {
          "color": "#636efa",
          "pattern": {
           "shape": ""
          }
         },
         "name": "",
         "offsetgroup": "",
         "orientation": "v",
         "showlegend": false,
         "textposition": "auto",
         "type": "bar",
         "x": [
          "18",
          "19",
          "08",
          "16",
          "20",
          "17",
          "12",
          "13",
          "15",
          "07",
          "14",
          "10",
          "21",
          "11",
          "09",
          "06",
          "22",
          "00",
          "23",
          "不明",
          "05",
          "04",
          "02",
          "01"
         ],
         "xaxis": "x",
         "y": [
          44,
          39,
          37,
          36,
          33,
          32,
          28,
          25,
          24,
          23,
          20,
          20,
          19,
          19,
          18,
          12,
          11,
          9,
          9,
          6,
          3,
          2,
          1,
          1
         ],
         "yaxis": "y"
        }
       ],
       "layout": {
        "barmode": "relative",
        "legend": {
         "tracegroupgap": 0
        },
        "margin": {
         "t": 60
        },
        "template": {
         "data": {
          "bar": [
           {
            "error_x": {
             "color": "#2a3f5f"
            },
            "error_y": {
             "color": "#2a3f5f"
            },
            "marker": {
             "line": {
              "color": "#E5ECF6",
              "width": 0.5
             },
             "pattern": {
              "fillmode": "overlay",
              "size": 10,
              "solidity": 0.2
             }
            },
            "type": "bar"
           }
          ],
          "barpolar": [
           {
            "marker": {
             "line": {
              "color": "#E5ECF6",
              "width": 0.5
             },
             "pattern": {
              "fillmode": "overlay",
              "size": 10,
              "solidity": 0.2
             }
            },
            "type": "barpolar"
           }
          ],
          "carpet": [
           {
            "aaxis": {
             "endlinecolor": "#2a3f5f",
             "gridcolor": "white",
             "linecolor": "white",
             "minorgridcolor": "white",
             "startlinecolor": "#2a3f5f"
            },
            "baxis": {
             "endlinecolor": "#2a3f5f",
             "gridcolor": "white",
             "linecolor": "white",
             "minorgridcolor": "white",
             "startlinecolor": "#2a3f5f"
            },
            "type": "carpet"
           }
          ],
          "choropleth": [
           {
            "colorbar": {
             "outlinewidth": 0,
             "ticks": ""
            },
            "type": "choropleth"
           }
          ],
          "contour": [
           {
            "colorbar": {
             "outlinewidth": 0,
             "ticks": ""
            },
            "colorscale": [
             [
              0,
              "#0d0887"
             ],
             [
              0.1111111111111111,
              "#46039f"
             ],
             [
              0.2222222222222222,
              "#7201a8"
             ],
             [
              0.3333333333333333,
              "#9c179e"
             ],
             [
              0.4444444444444444,
              "#bd3786"
             ],
             [
              0.5555555555555556,
              "#d8576b"
             ],
             [
              0.6666666666666666,
              "#ed7953"
             ],
             [
              0.7777777777777778,
              "#fb9f3a"
             ],
             [
              0.8888888888888888,
              "#fdca26"
             ],
             [
              1,
              "#f0f921"
             ]
            ],
            "type": "contour"
           }
          ],
          "contourcarpet": [
           {
            "colorbar": {
             "outlinewidth": 0,
             "ticks": ""
            },
            "type": "contourcarpet"
           }
          ],
          "heatmap": [
           {
            "colorbar": {
             "outlinewidth": 0,
             "ticks": ""
            },
            "colorscale": [
             [
              0,
              "#0d0887"
             ],
             [
              0.1111111111111111,
              "#46039f"
             ],
             [
              0.2222222222222222,
              "#7201a8"
             ],
             [
              0.3333333333333333,
              "#9c179e"
             ],
             [
              0.4444444444444444,
              "#bd3786"
             ],
             [
              0.5555555555555556,
              "#d8576b"
             ],
             [
              0.6666666666666666,
              "#ed7953"
             ],
             [
              0.7777777777777778,
              "#fb9f3a"
             ],
             [
              0.8888888888888888,
              "#fdca26"
             ],
             [
              1,
              "#f0f921"
             ]
            ],
            "type": "heatmap"
           }
          ],
          "heatmapgl": [
           {
            "colorbar": {
             "outlinewidth": 0,
             "ticks": ""
            },
            "colorscale": [
             [
              0,
              "#0d0887"
             ],
             [
              0.1111111111111111,
              "#46039f"
             ],
             [
              0.2222222222222222,
              "#7201a8"
             ],
             [
              0.3333333333333333,
              "#9c179e"
             ],
             [
              0.4444444444444444,
              "#bd3786"
             ],
             [
              0.5555555555555556,
              "#d8576b"
             ],
             [
              0.6666666666666666,
              "#ed7953"
             ],
             [
              0.7777777777777778,
              "#fb9f3a"
             ],
             [
              0.8888888888888888,
              "#fdca26"
             ],
             [
              1,
              "#f0f921"
             ]
            ],
            "type": "heatmapgl"
           }
          ],
          "histogram": [
           {
            "marker": {
             "pattern": {
              "fillmode": "overlay",
              "size": 10,
              "solidity": 0.2
             }
            },
            "type": "histogram"
           }
          ],
          "histogram2d": [
           {
            "colorbar": {
             "outlinewidth": 0,
             "ticks": ""
            },
            "colorscale": [
             [
              0,
              "#0d0887"
             ],
             [
              0.1111111111111111,
              "#46039f"
             ],
             [
              0.2222222222222222,
              "#7201a8"
             ],
             [
              0.3333333333333333,
              "#9c179e"
             ],
             [
              0.4444444444444444,
              "#bd3786"
             ],
             [
              0.5555555555555556,
              "#d8576b"
             ],
             [
              0.6666666666666666,
              "#ed7953"
             ],
             [
              0.7777777777777778,
              "#fb9f3a"
             ],
             [
              0.8888888888888888,
              "#fdca26"
             ],
             [
              1,
              "#f0f921"
             ]
            ],
            "type": "histogram2d"
           }
          ],
          "histogram2dcontour": [
           {
            "colorbar": {
             "outlinewidth": 0,
             "ticks": ""
            },
            "colorscale": [
             [
              0,
              "#0d0887"
             ],
             [
              0.1111111111111111,
              "#46039f"
             ],
             [
              0.2222222222222222,
              "#7201a8"
             ],
             [
              0.3333333333333333,
              "#9c179e"
             ],
             [
              0.4444444444444444,
              "#bd3786"
             ],
             [
              0.5555555555555556,
              "#d8576b"
             ],
             [
              0.6666666666666666,
              "#ed7953"
             ],
             [
              0.7777777777777778,
              "#fb9f3a"
             ],
             [
              0.8888888888888888,
              "#fdca26"
             ],
             [
              1,
              "#f0f921"
             ]
            ],
            "type": "histogram2dcontour"
           }
          ],
          "mesh3d": [
           {
            "colorbar": {
             "outlinewidth": 0,
             "ticks": ""
            },
            "type": "mesh3d"
           }
          ],
          "parcoords": [
           {
            "line": {
             "colorbar": {
              "outlinewidth": 0,
              "ticks": ""
             }
            },
            "type": "parcoords"
           }
          ],
          "pie": [
           {
            "automargin": true,
            "type": "pie"
           }
          ],
          "scatter": [
           {
            "fillpattern": {
             "fillmode": "overlay",
             "size": 10,
             "solidity": 0.2
            },
            "type": "scatter"
           }
          ],
          "scatter3d": [
           {
            "line": {
             "colorbar": {
              "outlinewidth": 0,
              "ticks": ""
             }
            },
            "marker": {
             "colorbar": {
              "outlinewidth": 0,
              "ticks": ""
             }
            },
            "type": "scatter3d"
           }
          ],
          "scattercarpet": [
           {
            "marker": {
             "colorbar": {
              "outlinewidth": 0,
              "ticks": ""
             }
            },
            "type": "scattercarpet"
           }
          ],
          "scattergeo": [
           {
            "marker": {
             "colorbar": {
              "outlinewidth": 0,
              "ticks": ""
             }
            },
            "type": "scattergeo"
           }
          ],
          "scattergl": [
           {
            "marker": {
             "colorbar": {
              "outlinewidth": 0,
              "ticks": ""
             }
            },
            "type": "scattergl"
           }
          ],
          "scattermapbox": [
           {
            "marker": {
             "colorbar": {
              "outlinewidth": 0,
              "ticks": ""
             }
            },
            "type": "scattermapbox"
           }
          ],
          "scatterpolar": [
           {
            "marker": {
             "colorbar": {
              "outlinewidth": 0,
              "ticks": ""
             }
            },
            "type": "scatterpolar"
           }
          ],
          "scatterpolargl": [
           {
            "marker": {
             "colorbar": {
              "outlinewidth": 0,
              "ticks": ""
             }
            },
            "type": "scatterpolargl"
           }
          ],
          "scatterternary": [
           {
            "marker": {
             "colorbar": {
              "outlinewidth": 0,
              "ticks": ""
             }
            },
            "type": "scatterternary"
           }
          ],
          "surface": [
           {
            "colorbar": {
             "outlinewidth": 0,
             "ticks": ""
            },
            "colorscale": [
             [
              0,
              "#0d0887"
             ],
             [
              0.1111111111111111,
              "#46039f"
             ],
             [
              0.2222222222222222,
              "#7201a8"
             ],
             [
              0.3333333333333333,
              "#9c179e"
             ],
             [
              0.4444444444444444,
              "#bd3786"
             ],
             [
              0.5555555555555556,
              "#d8576b"
             ],
             [
              0.6666666666666666,
              "#ed7953"
             ],
             [
              0.7777777777777778,
              "#fb9f3a"
             ],
             [
              0.8888888888888888,
              "#fdca26"
             ],
             [
              1,
              "#f0f921"
             ]
            ],
            "type": "surface"
           }
          ],
          "table": [
           {
            "cells": {
             "fill": {
              "color": "#EBF0F8"
             },
             "line": {
              "color": "white"
             }
            },
            "header": {
             "fill": {
              "color": "#C8D4E3"
             },
             "line": {
              "color": "white"
             }
            },
            "type": "table"
           }
          ]
         },
         "layout": {
          "annotationdefaults": {
           "arrowcolor": "#2a3f5f",
           "arrowhead": 0,
           "arrowwidth": 1
          },
          "autotypenumbers": "strict",
          "coloraxis": {
           "colorbar": {
            "outlinewidth": 0,
            "ticks": ""
           }
          },
          "colorscale": {
           "diverging": [
            [
             0,
             "#8e0152"
            ],
            [
             0.1,
             "#c51b7d"
            ],
            [
             0.2,
             "#de77ae"
            ],
            [
             0.3,
             "#f1b6da"
            ],
            [
             0.4,
             "#fde0ef"
            ],
            [
             0.5,
             "#f7f7f7"
            ],
            [
             0.6,
             "#e6f5d0"
            ],
            [
             0.7,
             "#b8e186"
            ],
            [
             0.8,
             "#7fbc41"
            ],
            [
             0.9,
             "#4d9221"
            ],
            [
             1,
             "#276419"
            ]
           ],
           "sequential": [
            [
             0,
             "#0d0887"
            ],
            [
             0.1111111111111111,
             "#46039f"
            ],
            [
             0.2222222222222222,
             "#7201a8"
            ],
            [
             0.3333333333333333,
             "#9c179e"
            ],
            [
             0.4444444444444444,
             "#bd3786"
            ],
            [
             0.5555555555555556,
             "#d8576b"
            ],
            [
             0.6666666666666666,
             "#ed7953"
            ],
            [
             0.7777777777777778,
             "#fb9f3a"
            ],
            [
             0.8888888888888888,
             "#fdca26"
            ],
            [
             1,
             "#f0f921"
            ]
           ],
           "sequentialminus": [
            [
             0,
             "#0d0887"
            ],
            [
             0.1111111111111111,
             "#46039f"
            ],
            [
             0.2222222222222222,
             "#7201a8"
            ],
            [
             0.3333333333333333,
             "#9c179e"
            ],
            [
             0.4444444444444444,
             "#bd3786"
            ],
            [
             0.5555555555555556,
             "#d8576b"
            ],
            [
             0.6666666666666666,
             "#ed7953"
            ],
            [
             0.7777777777777778,
             "#fb9f3a"
            ],
            [
             0.8888888888888888,
             "#fdca26"
            ],
            [
             1,
             "#f0f921"
            ]
           ]
          },
          "colorway": [
           "#636efa",
           "#EF553B",
           "#00cc96",
           "#ab63fa",
           "#FFA15A",
           "#19d3f3",
           "#FF6692",
           "#B6E880",
           "#FF97FF",
           "#FECB52"
          ],
          "font": {
           "color": "#2a3f5f"
          },
          "geo": {
           "bgcolor": "white",
           "lakecolor": "white",
           "landcolor": "#E5ECF6",
           "showlakes": true,
           "showland": true,
           "subunitcolor": "white"
          },
          "hoverlabel": {
           "align": "left"
          },
          "hovermode": "closest",
          "mapbox": {
           "style": "light"
          },
          "paper_bgcolor": "white",
          "plot_bgcolor": "#E5ECF6",
          "polar": {
           "angularaxis": {
            "gridcolor": "white",
            "linecolor": "white",
            "ticks": ""
           },
           "bgcolor": "#E5ECF6",
           "radialaxis": {
            "gridcolor": "white",
            "linecolor": "white",
            "ticks": ""
           }
          },
          "scene": {
           "xaxis": {
            "backgroundcolor": "#E5ECF6",
            "gridcolor": "white",
            "gridwidth": 2,
            "linecolor": "white",
            "showbackground": true,
            "ticks": "",
            "zerolinecolor": "white"
           },
           "yaxis": {
            "backgroundcolor": "#E5ECF6",
            "gridcolor": "white",
            "gridwidth": 2,
            "linecolor": "white",
            "showbackground": true,
            "ticks": "",
            "zerolinecolor": "white"
           },
           "zaxis": {
            "backgroundcolor": "#E5ECF6",
            "gridcolor": "white",
            "gridwidth": 2,
            "linecolor": "white",
            "showbackground": true,
            "ticks": "",
            "zerolinecolor": "white"
           }
          },
          "shapedefaults": {
           "line": {
            "color": "#2a3f5f"
           }
          },
          "ternary": {
           "aaxis": {
            "gridcolor": "white",
            "linecolor": "white",
            "ticks": ""
           },
           "baxis": {
            "gridcolor": "white",
            "linecolor": "white",
            "ticks": ""
           },
           "bgcolor": "#E5ECF6",
           "caxis": {
            "gridcolor": "white",
            "linecolor": "white",
            "ticks": ""
           }
          },
          "title": {
           "x": 0.05
          },
          "xaxis": {
           "automargin": true,
           "gridcolor": "white",
           "linecolor": "white",
           "ticks": "",
           "title": {
            "standoff": 15
           },
           "zerolinecolor": "white",
           "zerolinewidth": 2
          },
          "yaxis": {
           "automargin": true,
           "gridcolor": "white",
           "linecolor": "white",
           "ticks": "",
           "title": {
            "standoff": 15
           },
           "zerolinecolor": "white",
           "zerolinewidth": 2
          }
         }
        },
        "xaxis": {
         "anchor": "y",
         "categoryorder": "category ascending",
         "domain": [
          0,
          1
         ],
         "title": {
          "text": "発生時（始期）"
         }
        },
        "yaxis": {
         "anchor": "x",
         "domain": [
          0,
          1
         ],
         "title": {
          "text": "件数"
         }
        }
       }
      }
     },
     "metadata": {},
     "output_type": "display_data"
    }
   ],
   "source": [
    "fig = px.bar(time,\n",
    "            x='発生時（始期）',\n",
    "            y='件数'\n",
    "            )\n",
    "fig.update_xaxes(categoryorder='category ascending')\n",
    "fig.show()"
   ]
  },
  {
   "attachments": {},
   "cell_type": "markdown",
   "metadata": {
    "slideshow": {
     "slide_type": "slide"
    }
   },
   "source": [
    "チャートのテンプレートを変えることでルックスが変わる。\n",
    "\n",
    "`template`のオプションはこちらから：\n",
    "\n",
    "```[\"plotly\", \"plotly_white\", \"plotly_dark\", \"ggplot2\", \"seaborn\", \"simple_white\"]```\n",
    "\n",
    "一つずつ試してみよう。"
   ]
  },
  {
   "cell_type": "code",
   "execution_count": 16,
   "metadata": {
    "slideshow": {
     "slide_type": "slide"
    }
   },
   "outputs": [
    {
     "data": {
      "application/vnd.plotly.v1+json": {
       "config": {
        "plotlyServerURL": "https://plot.ly"
       },
       "data": [
        {
         "alignmentgroup": "True",
         "hovertemplate": "発生時（始期）=%{x}<br>件数=%{y}<extra></extra>",
         "legendgroup": "",
         "marker": {
          "color": "#F8766D",
          "pattern": {
           "shape": ""
          }
         },
         "name": "",
         "offsetgroup": "",
         "orientation": "v",
         "showlegend": false,
         "textposition": "auto",
         "type": "bar",
         "x": [
          "18",
          "19",
          "08",
          "16",
          "20",
          "17",
          "12",
          "13",
          "15",
          "07",
          "14",
          "10",
          "21",
          "11",
          "09",
          "06",
          "22",
          "00",
          "23",
          "不明",
          "05",
          "04",
          "02",
          "01"
         ],
         "xaxis": "x",
         "y": [
          44,
          39,
          37,
          36,
          33,
          32,
          28,
          25,
          24,
          23,
          20,
          20,
          19,
          19,
          18,
          12,
          11,
          9,
          9,
          6,
          3,
          2,
          1,
          1
         ],
         "yaxis": "y"
        }
       ],
       "layout": {
        "barmode": "relative",
        "legend": {
         "tracegroupgap": 0
        },
        "margin": {
         "t": 60
        },
        "template": {
         "data": {
          "bar": [
           {
            "error_x": {
             "color": "rgb(51,51,51)"
            },
            "error_y": {
             "color": "rgb(51,51,51)"
            },
            "marker": {
             "line": {
              "color": "rgb(237,237,237)",
              "width": 0.5
             },
             "pattern": {
              "fillmode": "overlay",
              "size": 10,
              "solidity": 0.2
             }
            },
            "type": "bar"
           }
          ],
          "barpolar": [
           {
            "marker": {
             "line": {
              "color": "rgb(237,237,237)",
              "width": 0.5
             },
             "pattern": {
              "fillmode": "overlay",
              "size": 10,
              "solidity": 0.2
             }
            },
            "type": "barpolar"
           }
          ],
          "carpet": [
           {
            "aaxis": {
             "endlinecolor": "rgb(51,51,51)",
             "gridcolor": "white",
             "linecolor": "white",
             "minorgridcolor": "white",
             "startlinecolor": "rgb(51,51,51)"
            },
            "baxis": {
             "endlinecolor": "rgb(51,51,51)",
             "gridcolor": "white",
             "linecolor": "white",
             "minorgridcolor": "white",
             "startlinecolor": "rgb(51,51,51)"
            },
            "type": "carpet"
           }
          ],
          "choropleth": [
           {
            "colorbar": {
             "outlinewidth": 0,
             "tickcolor": "rgb(237,237,237)",
             "ticklen": 6,
             "ticks": "inside"
            },
            "type": "choropleth"
           }
          ],
          "contour": [
           {
            "colorbar": {
             "outlinewidth": 0,
             "tickcolor": "rgb(237,237,237)",
             "ticklen": 6,
             "ticks": "inside"
            },
            "colorscale": [
             [
              0,
              "rgb(20,44,66)"
             ],
             [
              1,
              "rgb(90,179,244)"
             ]
            ],
            "type": "contour"
           }
          ],
          "contourcarpet": [
           {
            "colorbar": {
             "outlinewidth": 0,
             "tickcolor": "rgb(237,237,237)",
             "ticklen": 6,
             "ticks": "inside"
            },
            "type": "contourcarpet"
           }
          ],
          "heatmap": [
           {
            "colorbar": {
             "outlinewidth": 0,
             "tickcolor": "rgb(237,237,237)",
             "ticklen": 6,
             "ticks": "inside"
            },
            "colorscale": [
             [
              0,
              "rgb(20,44,66)"
             ],
             [
              1,
              "rgb(90,179,244)"
             ]
            ],
            "type": "heatmap"
           }
          ],
          "heatmapgl": [
           {
            "colorbar": {
             "outlinewidth": 0,
             "tickcolor": "rgb(237,237,237)",
             "ticklen": 6,
             "ticks": "inside"
            },
            "colorscale": [
             [
              0,
              "rgb(20,44,66)"
             ],
             [
              1,
              "rgb(90,179,244)"
             ]
            ],
            "type": "heatmapgl"
           }
          ],
          "histogram": [
           {
            "marker": {
             "pattern": {
              "fillmode": "overlay",
              "size": 10,
              "solidity": 0.2
             }
            },
            "type": "histogram"
           }
          ],
          "histogram2d": [
           {
            "colorbar": {
             "outlinewidth": 0,
             "tickcolor": "rgb(237,237,237)",
             "ticklen": 6,
             "ticks": "inside"
            },
            "colorscale": [
             [
              0,
              "rgb(20,44,66)"
             ],
             [
              1,
              "rgb(90,179,244)"
             ]
            ],
            "type": "histogram2d"
           }
          ],
          "histogram2dcontour": [
           {
            "colorbar": {
             "outlinewidth": 0,
             "tickcolor": "rgb(237,237,237)",
             "ticklen": 6,
             "ticks": "inside"
            },
            "colorscale": [
             [
              0,
              "rgb(20,44,66)"
             ],
             [
              1,
              "rgb(90,179,244)"
             ]
            ],
            "type": "histogram2dcontour"
           }
          ],
          "mesh3d": [
           {
            "colorbar": {
             "outlinewidth": 0,
             "tickcolor": "rgb(237,237,237)",
             "ticklen": 6,
             "ticks": "inside"
            },
            "type": "mesh3d"
           }
          ],
          "parcoords": [
           {
            "line": {
             "colorbar": {
              "outlinewidth": 0,
              "tickcolor": "rgb(237,237,237)",
              "ticklen": 6,
              "ticks": "inside"
             }
            },
            "type": "parcoords"
           }
          ],
          "pie": [
           {
            "automargin": true,
            "type": "pie"
           }
          ],
          "scatter": [
           {
            "fillpattern": {
             "fillmode": "overlay",
             "size": 10,
             "solidity": 0.2
            },
            "type": "scatter"
           }
          ],
          "scatter3d": [
           {
            "line": {
             "colorbar": {
              "outlinewidth": 0,
              "tickcolor": "rgb(237,237,237)",
              "ticklen": 6,
              "ticks": "inside"
             }
            },
            "marker": {
             "colorbar": {
              "outlinewidth": 0,
              "tickcolor": "rgb(237,237,237)",
              "ticklen": 6,
              "ticks": "inside"
             }
            },
            "type": "scatter3d"
           }
          ],
          "scattercarpet": [
           {
            "marker": {
             "colorbar": {
              "outlinewidth": 0,
              "tickcolor": "rgb(237,237,237)",
              "ticklen": 6,
              "ticks": "inside"
             }
            },
            "type": "scattercarpet"
           }
          ],
          "scattergeo": [
           {
            "marker": {
             "colorbar": {
              "outlinewidth": 0,
              "tickcolor": "rgb(237,237,237)",
              "ticklen": 6,
              "ticks": "inside"
             }
            },
            "type": "scattergeo"
           }
          ],
          "scattergl": [
           {
            "marker": {
             "colorbar": {
              "outlinewidth": 0,
              "tickcolor": "rgb(237,237,237)",
              "ticklen": 6,
              "ticks": "inside"
             }
            },
            "type": "scattergl"
           }
          ],
          "scattermapbox": [
           {
            "marker": {
             "colorbar": {
              "outlinewidth": 0,
              "tickcolor": "rgb(237,237,237)",
              "ticklen": 6,
              "ticks": "inside"
             }
            },
            "type": "scattermapbox"
           }
          ],
          "scatterpolar": [
           {
            "marker": {
             "colorbar": {
              "outlinewidth": 0,
              "tickcolor": "rgb(237,237,237)",
              "ticklen": 6,
              "ticks": "inside"
             }
            },
            "type": "scatterpolar"
           }
          ],
          "scatterpolargl": [
           {
            "marker": {
             "colorbar": {
              "outlinewidth": 0,
              "tickcolor": "rgb(237,237,237)",
              "ticklen": 6,
              "ticks": "inside"
             }
            },
            "type": "scatterpolargl"
           }
          ],
          "scatterternary": [
           {
            "marker": {
             "colorbar": {
              "outlinewidth": 0,
              "tickcolor": "rgb(237,237,237)",
              "ticklen": 6,
              "ticks": "inside"
             }
            },
            "type": "scatterternary"
           }
          ],
          "surface": [
           {
            "colorbar": {
             "outlinewidth": 0,
             "tickcolor": "rgb(237,237,237)",
             "ticklen": 6,
             "ticks": "inside"
            },
            "colorscale": [
             [
              0,
              "rgb(20,44,66)"
             ],
             [
              1,
              "rgb(90,179,244)"
             ]
            ],
            "type": "surface"
           }
          ],
          "table": [
           {
            "cells": {
             "fill": {
              "color": "rgb(237,237,237)"
             },
             "line": {
              "color": "white"
             }
            },
            "header": {
             "fill": {
              "color": "rgb(217,217,217)"
             },
             "line": {
              "color": "white"
             }
            },
            "type": "table"
           }
          ]
         },
         "layout": {
          "annotationdefaults": {
           "arrowhead": 0,
           "arrowwidth": 1
          },
          "autotypenumbers": "strict",
          "coloraxis": {
           "colorbar": {
            "outlinewidth": 0,
            "tickcolor": "rgb(237,237,237)",
            "ticklen": 6,
            "ticks": "inside"
           }
          },
          "colorscale": {
           "sequential": [
            [
             0,
             "rgb(20,44,66)"
            ],
            [
             1,
             "rgb(90,179,244)"
            ]
           ],
           "sequentialminus": [
            [
             0,
             "rgb(20,44,66)"
            ],
            [
             1,
             "rgb(90,179,244)"
            ]
           ]
          },
          "colorway": [
           "#F8766D",
           "#A3A500",
           "#00BF7D",
           "#00B0F6",
           "#E76BF3"
          ],
          "font": {
           "color": "rgb(51,51,51)"
          },
          "geo": {
           "bgcolor": "white",
           "lakecolor": "white",
           "landcolor": "rgb(237,237,237)",
           "showlakes": true,
           "showland": true,
           "subunitcolor": "white"
          },
          "hoverlabel": {
           "align": "left"
          },
          "hovermode": "closest",
          "paper_bgcolor": "white",
          "plot_bgcolor": "rgb(237,237,237)",
          "polar": {
           "angularaxis": {
            "gridcolor": "white",
            "linecolor": "white",
            "showgrid": true,
            "tickcolor": "rgb(51,51,51)",
            "ticks": "outside"
           },
           "bgcolor": "rgb(237,237,237)",
           "radialaxis": {
            "gridcolor": "white",
            "linecolor": "white",
            "showgrid": true,
            "tickcolor": "rgb(51,51,51)",
            "ticks": "outside"
           }
          },
          "scene": {
           "xaxis": {
            "backgroundcolor": "rgb(237,237,237)",
            "gridcolor": "white",
            "gridwidth": 2,
            "linecolor": "white",
            "showbackground": true,
            "showgrid": true,
            "tickcolor": "rgb(51,51,51)",
            "ticks": "outside",
            "zerolinecolor": "white"
           },
           "yaxis": {
            "backgroundcolor": "rgb(237,237,237)",
            "gridcolor": "white",
            "gridwidth": 2,
            "linecolor": "white",
            "showbackground": true,
            "showgrid": true,
            "tickcolor": "rgb(51,51,51)",
            "ticks": "outside",
            "zerolinecolor": "white"
           },
           "zaxis": {
            "backgroundcolor": "rgb(237,237,237)",
            "gridcolor": "white",
            "gridwidth": 2,
            "linecolor": "white",
            "showbackground": true,
            "showgrid": true,
            "tickcolor": "rgb(51,51,51)",
            "ticks": "outside",
            "zerolinecolor": "white"
           }
          },
          "shapedefaults": {
           "fillcolor": "black",
           "line": {
            "width": 0
           },
           "opacity": 0.3
          },
          "ternary": {
           "aaxis": {
            "gridcolor": "white",
            "linecolor": "white",
            "showgrid": true,
            "tickcolor": "rgb(51,51,51)",
            "ticks": "outside"
           },
           "baxis": {
            "gridcolor": "white",
            "linecolor": "white",
            "showgrid": true,
            "tickcolor": "rgb(51,51,51)",
            "ticks": "outside"
           },
           "bgcolor": "rgb(237,237,237)",
           "caxis": {
            "gridcolor": "white",
            "linecolor": "white",
            "showgrid": true,
            "tickcolor": "rgb(51,51,51)",
            "ticks": "outside"
           }
          },
          "xaxis": {
           "automargin": true,
           "gridcolor": "white",
           "linecolor": "white",
           "showgrid": true,
           "tickcolor": "rgb(51,51,51)",
           "ticks": "outside",
           "title": {
            "standoff": 15
           },
           "zerolinecolor": "white"
          },
          "yaxis": {
           "automargin": true,
           "gridcolor": "white",
           "linecolor": "white",
           "showgrid": true,
           "tickcolor": "rgb(51,51,51)",
           "ticks": "outside",
           "title": {
            "standoff": 15
           },
           "zerolinecolor": "white"
          }
         }
        },
        "xaxis": {
         "anchor": "y",
         "categoryorder": "category ascending",
         "domain": [
          0,
          1
         ],
         "title": {
          "text": "発生時（始期）"
         }
        },
        "yaxis": {
         "anchor": "x",
         "domain": [
          0,
          1
         ],
         "title": {
          "text": "件数"
         }
        }
       }
      }
     },
     "metadata": {},
     "output_type": "display_data"
    }
   ],
   "source": [
    "fig = px.bar(time,\n",
    "            x='発生時（始期）',\n",
    "            y='件数',\n",
    "            template='ggplot2' # change this to see other styles\n",
    "            )\n",
    "fig.update_xaxes(categoryorder='category ascending')\n",
    "fig.show()"
   ]
  },
  {
   "attachments": {},
   "cell_type": "markdown",
   "metadata": {
    "slideshow": {
     "slide_type": "slide"
    }
   },
   "source": [
    "### Make your own charts\n",
    "\n",
    "では、ここで他のチャートを作ってみよう。\n",
    "\n",
    "例：被害者の年齢、被害者の職業"
   ]
  },
  {
   "cell_type": "code",
   "execution_count": 20,
   "metadata": {},
   "outputs": [
    {
     "data": {
      "text/html": [
       "<div>\n",
       "<style scoped>\n",
       "    .dataframe tbody tr th:only-of-type {\n",
       "        vertical-align: middle;\n",
       "    }\n",
       "\n",
       "    .dataframe tbody tr th {\n",
       "        vertical-align: top;\n",
       "    }\n",
       "\n",
       "    .dataframe thead th {\n",
       "        text-align: right;\n",
       "    }\n",
       "</style>\n",
       "<table border=\"1\" class=\"dataframe\">\n",
       "  <thead>\n",
       "    <tr style=\"text-align: right;\">\n",
       "      <th></th>\n",
       "      <th>発生場所</th>\n",
       "      <th>count</th>\n",
       "    </tr>\n",
       "  </thead>\n",
       "  <tbody>\n",
       "    <tr>\n",
       "      <th>0</th>\n",
       "      <td>その他</td>\n",
       "      <td>216</td>\n",
       "    </tr>\n",
       "    <tr>\n",
       "      <th>1</th>\n",
       "      <td>その他の住宅（３階建て以下共同住宅等）</td>\n",
       "      <td>91</td>\n",
       "    </tr>\n",
       "    <tr>\n",
       "      <th>2</th>\n",
       "      <td>一戸建住宅</td>\n",
       "      <td>67</td>\n",
       "    </tr>\n",
       "    <tr>\n",
       "      <th>3</th>\n",
       "      <td>４階建て以上共同住宅</td>\n",
       "      <td>52</td>\n",
       "    </tr>\n",
       "    <tr>\n",
       "      <th>4</th>\n",
       "      <td>駐車（輪）場</td>\n",
       "      <td>29</td>\n",
       "    </tr>\n",
       "    <tr>\n",
       "      <th>5</th>\n",
       "      <td>道路上</td>\n",
       "      <td>16</td>\n",
       "    </tr>\n",
       "  </tbody>\n",
       "</table>\n",
       "</div>"
      ],
      "text/plain": [
       "                  発生場所  count\n",
       "0                  その他    216\n",
       "1  その他の住宅（３階建て以下共同住宅等）     91\n",
       "2                一戸建住宅     67\n",
       "3           ４階建て以上共同住宅     52\n",
       "4               駐車（輪）場     29\n",
       "5                  道路上     16"
      ]
     },
     "execution_count": 20,
     "metadata": {},
     "output_type": "execute_result"
    }
   ],
   "source": [
    "# create a new variable with hourly counts\n",
    "place = kashiwa['発生場所'].value_counts().reset_index()\n",
    "place"
   ]
  },
  {
   "cell_type": "code",
   "execution_count": 21,
   "metadata": {},
   "outputs": [
    {
     "data": {
      "text/html": [
       "<div>\n",
       "<style scoped>\n",
       "    .dataframe tbody tr th:only-of-type {\n",
       "        vertical-align: middle;\n",
       "    }\n",
       "\n",
       "    .dataframe tbody tr th {\n",
       "        vertical-align: top;\n",
       "    }\n",
       "\n",
       "    .dataframe thead th {\n",
       "        text-align: right;\n",
       "    }\n",
       "</style>\n",
       "<table border=\"1\" class=\"dataframe\">\n",
       "  <thead>\n",
       "    <tr style=\"text-align: right;\">\n",
       "      <th></th>\n",
       "      <th>発生場所</th>\n",
       "      <th>件数</th>\n",
       "    </tr>\n",
       "  </thead>\n",
       "  <tbody>\n",
       "    <tr>\n",
       "      <th>0</th>\n",
       "      <td>その他</td>\n",
       "      <td>216</td>\n",
       "    </tr>\n",
       "    <tr>\n",
       "      <th>1</th>\n",
       "      <td>その他の住宅（３階建て以下共同住宅等）</td>\n",
       "      <td>91</td>\n",
       "    </tr>\n",
       "    <tr>\n",
       "      <th>2</th>\n",
       "      <td>一戸建住宅</td>\n",
       "      <td>67</td>\n",
       "    </tr>\n",
       "    <tr>\n",
       "      <th>3</th>\n",
       "      <td>４階建て以上共同住宅</td>\n",
       "      <td>52</td>\n",
       "    </tr>\n",
       "    <tr>\n",
       "      <th>4</th>\n",
       "      <td>駐車（輪）場</td>\n",
       "      <td>29</td>\n",
       "    </tr>\n",
       "    <tr>\n",
       "      <th>5</th>\n",
       "      <td>道路上</td>\n",
       "      <td>16</td>\n",
       "    </tr>\n",
       "  </tbody>\n",
       "</table>\n",
       "</div>"
      ],
      "text/plain": [
       "                  発生場所   件数\n",
       "0                  その他  216\n",
       "1  その他の住宅（３階建て以下共同住宅等）   91\n",
       "2                一戸建住宅   67\n",
       "3           ４階建て以上共同住宅   52\n",
       "4               駐車（輪）場   29\n",
       "5                  道路上   16"
      ]
     },
     "execution_count": 21,
     "metadata": {},
     "output_type": "execute_result"
    }
   ],
   "source": [
    "# fix headers\n",
    "place.columns = ['発生場所','件数']\n",
    "place"
   ]
  },
  {
   "cell_type": "code",
   "execution_count": 22,
   "metadata": {},
   "outputs": [
    {
     "data": {
      "application/vnd.plotly.v1+json": {
       "config": {
        "plotlyServerURL": "https://plot.ly"
       },
       "data": [
        {
         "alignmentgroup": "True",
         "hovertemplate": "発生場所=%{x}<br>件数=%{y}<extra></extra>",
         "legendgroup": "",
         "marker": {
          "color": "#636efa",
          "pattern": {
           "shape": ""
          }
         },
         "name": "",
         "offsetgroup": "",
         "orientation": "v",
         "showlegend": false,
         "textposition": "auto",
         "type": "bar",
         "x": [
          "その他",
          "その他の住宅（３階建て以下共同住宅等）",
          "一戸建住宅",
          "４階建て以上共同住宅",
          "駐車（輪）場",
          "道路上"
         ],
         "xaxis": "x",
         "y": [
          216,
          91,
          67,
          52,
          29,
          16
         ],
         "yaxis": "y"
        }
       ],
       "layout": {
        "barmode": "relative",
        "legend": {
         "tracegroupgap": 0
        },
        "margin": {
         "t": 60
        },
        "template": {
         "data": {
          "bar": [
           {
            "error_x": {
             "color": "#2a3f5f"
            },
            "error_y": {
             "color": "#2a3f5f"
            },
            "marker": {
             "line": {
              "color": "#E5ECF6",
              "width": 0.5
             },
             "pattern": {
              "fillmode": "overlay",
              "size": 10,
              "solidity": 0.2
             }
            },
            "type": "bar"
           }
          ],
          "barpolar": [
           {
            "marker": {
             "line": {
              "color": "#E5ECF6",
              "width": 0.5
             },
             "pattern": {
              "fillmode": "overlay",
              "size": 10,
              "solidity": 0.2
             }
            },
            "type": "barpolar"
           }
          ],
          "carpet": [
           {
            "aaxis": {
             "endlinecolor": "#2a3f5f",
             "gridcolor": "white",
             "linecolor": "white",
             "minorgridcolor": "white",
             "startlinecolor": "#2a3f5f"
            },
            "baxis": {
             "endlinecolor": "#2a3f5f",
             "gridcolor": "white",
             "linecolor": "white",
             "minorgridcolor": "white",
             "startlinecolor": "#2a3f5f"
            },
            "type": "carpet"
           }
          ],
          "choropleth": [
           {
            "colorbar": {
             "outlinewidth": 0,
             "ticks": ""
            },
            "type": "choropleth"
           }
          ],
          "contour": [
           {
            "colorbar": {
             "outlinewidth": 0,
             "ticks": ""
            },
            "colorscale": [
             [
              0,
              "#0d0887"
             ],
             [
              0.1111111111111111,
              "#46039f"
             ],
             [
              0.2222222222222222,
              "#7201a8"
             ],
             [
              0.3333333333333333,
              "#9c179e"
             ],
             [
              0.4444444444444444,
              "#bd3786"
             ],
             [
              0.5555555555555556,
              "#d8576b"
             ],
             [
              0.6666666666666666,
              "#ed7953"
             ],
             [
              0.7777777777777778,
              "#fb9f3a"
             ],
             [
              0.8888888888888888,
              "#fdca26"
             ],
             [
              1,
              "#f0f921"
             ]
            ],
            "type": "contour"
           }
          ],
          "contourcarpet": [
           {
            "colorbar": {
             "outlinewidth": 0,
             "ticks": ""
            },
            "type": "contourcarpet"
           }
          ],
          "heatmap": [
           {
            "colorbar": {
             "outlinewidth": 0,
             "ticks": ""
            },
            "colorscale": [
             [
              0,
              "#0d0887"
             ],
             [
              0.1111111111111111,
              "#46039f"
             ],
             [
              0.2222222222222222,
              "#7201a8"
             ],
             [
              0.3333333333333333,
              "#9c179e"
             ],
             [
              0.4444444444444444,
              "#bd3786"
             ],
             [
              0.5555555555555556,
              "#d8576b"
             ],
             [
              0.6666666666666666,
              "#ed7953"
             ],
             [
              0.7777777777777778,
              "#fb9f3a"
             ],
             [
              0.8888888888888888,
              "#fdca26"
             ],
             [
              1,
              "#f0f921"
             ]
            ],
            "type": "heatmap"
           }
          ],
          "heatmapgl": [
           {
            "colorbar": {
             "outlinewidth": 0,
             "ticks": ""
            },
            "colorscale": [
             [
              0,
              "#0d0887"
             ],
             [
              0.1111111111111111,
              "#46039f"
             ],
             [
              0.2222222222222222,
              "#7201a8"
             ],
             [
              0.3333333333333333,
              "#9c179e"
             ],
             [
              0.4444444444444444,
              "#bd3786"
             ],
             [
              0.5555555555555556,
              "#d8576b"
             ],
             [
              0.6666666666666666,
              "#ed7953"
             ],
             [
              0.7777777777777778,
              "#fb9f3a"
             ],
             [
              0.8888888888888888,
              "#fdca26"
             ],
             [
              1,
              "#f0f921"
             ]
            ],
            "type": "heatmapgl"
           }
          ],
          "histogram": [
           {
            "marker": {
             "pattern": {
              "fillmode": "overlay",
              "size": 10,
              "solidity": 0.2
             }
            },
            "type": "histogram"
           }
          ],
          "histogram2d": [
           {
            "colorbar": {
             "outlinewidth": 0,
             "ticks": ""
            },
            "colorscale": [
             [
              0,
              "#0d0887"
             ],
             [
              0.1111111111111111,
              "#46039f"
             ],
             [
              0.2222222222222222,
              "#7201a8"
             ],
             [
              0.3333333333333333,
              "#9c179e"
             ],
             [
              0.4444444444444444,
              "#bd3786"
             ],
             [
              0.5555555555555556,
              "#d8576b"
             ],
             [
              0.6666666666666666,
              "#ed7953"
             ],
             [
              0.7777777777777778,
              "#fb9f3a"
             ],
             [
              0.8888888888888888,
              "#fdca26"
             ],
             [
              1,
              "#f0f921"
             ]
            ],
            "type": "histogram2d"
           }
          ],
          "histogram2dcontour": [
           {
            "colorbar": {
             "outlinewidth": 0,
             "ticks": ""
            },
            "colorscale": [
             [
              0,
              "#0d0887"
             ],
             [
              0.1111111111111111,
              "#46039f"
             ],
             [
              0.2222222222222222,
              "#7201a8"
             ],
             [
              0.3333333333333333,
              "#9c179e"
             ],
             [
              0.4444444444444444,
              "#bd3786"
             ],
             [
              0.5555555555555556,
              "#d8576b"
             ],
             [
              0.6666666666666666,
              "#ed7953"
             ],
             [
              0.7777777777777778,
              "#fb9f3a"
             ],
             [
              0.8888888888888888,
              "#fdca26"
             ],
             [
              1,
              "#f0f921"
             ]
            ],
            "type": "histogram2dcontour"
           }
          ],
          "mesh3d": [
           {
            "colorbar": {
             "outlinewidth": 0,
             "ticks": ""
            },
            "type": "mesh3d"
           }
          ],
          "parcoords": [
           {
            "line": {
             "colorbar": {
              "outlinewidth": 0,
              "ticks": ""
             }
            },
            "type": "parcoords"
           }
          ],
          "pie": [
           {
            "automargin": true,
            "type": "pie"
           }
          ],
          "scatter": [
           {
            "fillpattern": {
             "fillmode": "overlay",
             "size": 10,
             "solidity": 0.2
            },
            "type": "scatter"
           }
          ],
          "scatter3d": [
           {
            "line": {
             "colorbar": {
              "outlinewidth": 0,
              "ticks": ""
             }
            },
            "marker": {
             "colorbar": {
              "outlinewidth": 0,
              "ticks": ""
             }
            },
            "type": "scatter3d"
           }
          ],
          "scattercarpet": [
           {
            "marker": {
             "colorbar": {
              "outlinewidth": 0,
              "ticks": ""
             }
            },
            "type": "scattercarpet"
           }
          ],
          "scattergeo": [
           {
            "marker": {
             "colorbar": {
              "outlinewidth": 0,
              "ticks": ""
             }
            },
            "type": "scattergeo"
           }
          ],
          "scattergl": [
           {
            "marker": {
             "colorbar": {
              "outlinewidth": 0,
              "ticks": ""
             }
            },
            "type": "scattergl"
           }
          ],
          "scattermapbox": [
           {
            "marker": {
             "colorbar": {
              "outlinewidth": 0,
              "ticks": ""
             }
            },
            "type": "scattermapbox"
           }
          ],
          "scatterpolar": [
           {
            "marker": {
             "colorbar": {
              "outlinewidth": 0,
              "ticks": ""
             }
            },
            "type": "scatterpolar"
           }
          ],
          "scatterpolargl": [
           {
            "marker": {
             "colorbar": {
              "outlinewidth": 0,
              "ticks": ""
             }
            },
            "type": "scatterpolargl"
           }
          ],
          "scatterternary": [
           {
            "marker": {
             "colorbar": {
              "outlinewidth": 0,
              "ticks": ""
             }
            },
            "type": "scatterternary"
           }
          ],
          "surface": [
           {
            "colorbar": {
             "outlinewidth": 0,
             "ticks": ""
            },
            "colorscale": [
             [
              0,
              "#0d0887"
             ],
             [
              0.1111111111111111,
              "#46039f"
             ],
             [
              0.2222222222222222,
              "#7201a8"
             ],
             [
              0.3333333333333333,
              "#9c179e"
             ],
             [
              0.4444444444444444,
              "#bd3786"
             ],
             [
              0.5555555555555556,
              "#d8576b"
             ],
             [
              0.6666666666666666,
              "#ed7953"
             ],
             [
              0.7777777777777778,
              "#fb9f3a"
             ],
             [
              0.8888888888888888,
              "#fdca26"
             ],
             [
              1,
              "#f0f921"
             ]
            ],
            "type": "surface"
           }
          ],
          "table": [
           {
            "cells": {
             "fill": {
              "color": "#EBF0F8"
             },
             "line": {
              "color": "white"
             }
            },
            "header": {
             "fill": {
              "color": "#C8D4E3"
             },
             "line": {
              "color": "white"
             }
            },
            "type": "table"
           }
          ]
         },
         "layout": {
          "annotationdefaults": {
           "arrowcolor": "#2a3f5f",
           "arrowhead": 0,
           "arrowwidth": 1
          },
          "autotypenumbers": "strict",
          "coloraxis": {
           "colorbar": {
            "outlinewidth": 0,
            "ticks": ""
           }
          },
          "colorscale": {
           "diverging": [
            [
             0,
             "#8e0152"
            ],
            [
             0.1,
             "#c51b7d"
            ],
            [
             0.2,
             "#de77ae"
            ],
            [
             0.3,
             "#f1b6da"
            ],
            [
             0.4,
             "#fde0ef"
            ],
            [
             0.5,
             "#f7f7f7"
            ],
            [
             0.6,
             "#e6f5d0"
            ],
            [
             0.7,
             "#b8e186"
            ],
            [
             0.8,
             "#7fbc41"
            ],
            [
             0.9,
             "#4d9221"
            ],
            [
             1,
             "#276419"
            ]
           ],
           "sequential": [
            [
             0,
             "#0d0887"
            ],
            [
             0.1111111111111111,
             "#46039f"
            ],
            [
             0.2222222222222222,
             "#7201a8"
            ],
            [
             0.3333333333333333,
             "#9c179e"
            ],
            [
             0.4444444444444444,
             "#bd3786"
            ],
            [
             0.5555555555555556,
             "#d8576b"
            ],
            [
             0.6666666666666666,
             "#ed7953"
            ],
            [
             0.7777777777777778,
             "#fb9f3a"
            ],
            [
             0.8888888888888888,
             "#fdca26"
            ],
            [
             1,
             "#f0f921"
            ]
           ],
           "sequentialminus": [
            [
             0,
             "#0d0887"
            ],
            [
             0.1111111111111111,
             "#46039f"
            ],
            [
             0.2222222222222222,
             "#7201a8"
            ],
            [
             0.3333333333333333,
             "#9c179e"
            ],
            [
             0.4444444444444444,
             "#bd3786"
            ],
            [
             0.5555555555555556,
             "#d8576b"
            ],
            [
             0.6666666666666666,
             "#ed7953"
            ],
            [
             0.7777777777777778,
             "#fb9f3a"
            ],
            [
             0.8888888888888888,
             "#fdca26"
            ],
            [
             1,
             "#f0f921"
            ]
           ]
          },
          "colorway": [
           "#636efa",
           "#EF553B",
           "#00cc96",
           "#ab63fa",
           "#FFA15A",
           "#19d3f3",
           "#FF6692",
           "#B6E880",
           "#FF97FF",
           "#FECB52"
          ],
          "font": {
           "color": "#2a3f5f"
          },
          "geo": {
           "bgcolor": "white",
           "lakecolor": "white",
           "landcolor": "#E5ECF6",
           "showlakes": true,
           "showland": true,
           "subunitcolor": "white"
          },
          "hoverlabel": {
           "align": "left"
          },
          "hovermode": "closest",
          "mapbox": {
           "style": "light"
          },
          "paper_bgcolor": "white",
          "plot_bgcolor": "#E5ECF6",
          "polar": {
           "angularaxis": {
            "gridcolor": "white",
            "linecolor": "white",
            "ticks": ""
           },
           "bgcolor": "#E5ECF6",
           "radialaxis": {
            "gridcolor": "white",
            "linecolor": "white",
            "ticks": ""
           }
          },
          "scene": {
           "xaxis": {
            "backgroundcolor": "#E5ECF6",
            "gridcolor": "white",
            "gridwidth": 2,
            "linecolor": "white",
            "showbackground": true,
            "ticks": "",
            "zerolinecolor": "white"
           },
           "yaxis": {
            "backgroundcolor": "#E5ECF6",
            "gridcolor": "white",
            "gridwidth": 2,
            "linecolor": "white",
            "showbackground": true,
            "ticks": "",
            "zerolinecolor": "white"
           },
           "zaxis": {
            "backgroundcolor": "#E5ECF6",
            "gridcolor": "white",
            "gridwidth": 2,
            "linecolor": "white",
            "showbackground": true,
            "ticks": "",
            "zerolinecolor": "white"
           }
          },
          "shapedefaults": {
           "line": {
            "color": "#2a3f5f"
           }
          },
          "ternary": {
           "aaxis": {
            "gridcolor": "white",
            "linecolor": "white",
            "ticks": ""
           },
           "baxis": {
            "gridcolor": "white",
            "linecolor": "white",
            "ticks": ""
           },
           "bgcolor": "#E5ECF6",
           "caxis": {
            "gridcolor": "white",
            "linecolor": "white",
            "ticks": ""
           }
          },
          "title": {
           "x": 0.05
          },
          "xaxis": {
           "automargin": true,
           "gridcolor": "white",
           "linecolor": "white",
           "ticks": "",
           "title": {
            "standoff": 15
           },
           "zerolinecolor": "white",
           "zerolinewidth": 2
          },
          "yaxis": {
           "automargin": true,
           "gridcolor": "white",
           "linecolor": "white",
           "ticks": "",
           "title": {
            "standoff": 15
           },
           "zerolinecolor": "white",
           "zerolinewidth": 2
          }
         }
        },
        "xaxis": {
         "anchor": "y",
         "categoryorder": "category ascending",
         "domain": [
          0,
          1
         ],
         "title": {
          "text": "発生場所"
         }
        },
        "yaxis": {
         "anchor": "x",
         "domain": [
          0,
          1
         ],
         "title": {
          "text": "件数"
         }
        }
       }
      }
     },
     "metadata": {},
     "output_type": "display_data"
    }
   ],
   "source": [
    "fig = px.bar(place,\n",
    "            x='発生場所',\n",
    "            y='件数'\n",
    "            )\n",
    "fig.update_xaxes(categoryorder='category ascending')\n",
    "fig.show()"
   ]
  },
  {
   "cell_type": "code",
   "execution_count": null,
   "metadata": {},
   "outputs": [],
   "source": []
  },
  {
   "cell_type": "code",
   "execution_count": null,
   "metadata": {},
   "outputs": [],
   "source": []
  },
  {
   "attachments": {},
   "cell_type": "markdown",
   "metadata": {
    "slideshow": {
     "slide_type": "slide"
    }
   },
   "source": [
    "## その他のチャート（上級編）\n",
    "\n",
    "複数の変数でチャートを作ると、より深い分析ができる。"
   ]
  },
  {
   "cell_type": "code",
   "execution_count": 23,
   "metadata": {
    "slideshow": {
     "slide_type": "slide"
    }
   },
   "outputs": [
    {
     "data": {
      "application/vnd.plotly.v1+json": {
       "config": {
        "plotlyServerURL": "https://plot.ly"
       },
       "data": [
        {
         "alignmentgroup": "True",
         "hovertemplate": "被害者の職業=その他<br>発生時（始期）=%{x}<br>count=%{y}<extra></extra>",
         "legendgroup": "その他",
         "marker": {
          "color": "rgb(76,114,176)",
          "line": {
           "width": 0
          },
          "pattern": {
           "shape": ""
          }
         },
         "name": "その他",
         "offsetgroup": "その他",
         "orientation": "v",
         "showlegend": true,
         "textposition": "auto",
         "type": "bar",
         "x": [
          "00",
          "13",
          "22",
          "08",
          "16",
          "08",
          "17",
          "23",
          "04",
          "不明",
          "不明",
          "09",
          "17",
          "11",
          "19",
          "10",
          "21",
          "21",
          "20",
          "08",
          "16",
          "07",
          "20",
          "13",
          "13",
          "13",
          "06",
          "20",
          "23",
          "17",
          "16",
          "00",
          "不明",
          "22",
          "05",
          "12",
          "22",
          "15",
          "16",
          "12",
          "19",
          "15",
          "17",
          "21",
          "21",
          "12",
          "20",
          "14",
          "20",
          "12",
          "15",
          "00",
          "19",
          "20",
          "04",
          "14",
          "06",
          "18",
          "19",
          "06",
          "07",
          "19",
          "09",
          "11",
          "08",
          "12",
          "18",
          "17",
          "07",
          "19",
          "12",
          "13",
          "21",
          "21",
          "16",
          "18",
          "12",
          "17",
          "15",
          "20",
          "07",
          "12",
          "01",
          "06",
          "19",
          "18",
          "16",
          "19",
          "18",
          "06",
          "08",
          "19",
          "23",
          "23",
          "10",
          "18",
          "14",
          "18",
          "09",
          "23",
          "08",
          "12",
          "18",
          "11",
          "17",
          "12",
          "16",
          "14",
          "11",
          "08",
          "08",
          "18",
          "19",
          "20",
          "12",
          "15",
          "14",
          "11",
          "11",
          "22",
          "11",
          "19",
          "18",
          "16",
          "13",
          "10",
          "12",
          "17",
          "20",
          "15",
          "12",
          "20",
          "08",
          "18",
          "12",
          "09",
          "19",
          "14",
          "20",
          "15",
          "12",
          "18",
          "16",
          "10",
          "11",
          "10",
          "16",
          "23",
          "16",
          "14",
          "16",
          "09",
          "19",
          "22",
          "12",
          "08",
          "09",
          "09",
          "13",
          "05",
          "06",
          "21",
          "00",
          "06",
          "12",
          "10",
          "19",
          "20",
          "07",
          "20",
          "10",
          "10",
          "09",
          "09",
          "09",
          "12",
          "20",
          "19",
          "18",
          "00",
          "14",
          "18",
          "10",
          "07",
          "18",
          "18",
          "09",
          "08",
          "08",
          "20",
          "15",
          "20",
          "19",
          "17",
          "19",
          "15",
          "10",
          "10",
          "17",
          "18",
          "18",
          "05",
          "06",
          "18",
          "17",
          "18",
          "17",
          "00",
          "12",
          "18",
          "06",
          "15",
          "20",
          "12",
          "16",
          "17",
          "22",
          "11",
          "17",
          "18",
          "08",
          "20",
          "13",
          "12",
          "13",
          "19",
          "17",
          "15",
          "16",
          "22",
          "00",
          "17",
          "12",
          "20",
          "07",
          "不明",
          "16",
          "20",
          "13",
          "18",
          "21",
          "08",
          "19",
          "14",
          "18",
          "20",
          "20",
          "19",
          "11",
          "18",
          "08",
          "16",
          "08",
          "19",
          "18",
          "18",
          "08"
         ],
         "xaxis": "x",
         "y": [
          1,
          1,
          1,
          1,
          1,
          1,
          1,
          1,
          1,
          1,
          1,
          1,
          1,
          1,
          1,
          1,
          1,
          1,
          1,
          1,
          1,
          1,
          1,
          1,
          1,
          1,
          1,
          1,
          1,
          1,
          1,
          1,
          1,
          1,
          1,
          1,
          1,
          1,
          1,
          1,
          1,
          1,
          1,
          1,
          1,
          1,
          1,
          1,
          1,
          1,
          1,
          1,
          1,
          1,
          1,
          1,
          1,
          1,
          1,
          1,
          1,
          1,
          1,
          1,
          1,
          1,
          1,
          1,
          1,
          1,
          1,
          1,
          1,
          1,
          1,
          1,
          1,
          1,
          1,
          1,
          1,
          1,
          1,
          1,
          1,
          1,
          1,
          1,
          1,
          1,
          1,
          1,
          1,
          1,
          1,
          1,
          1,
          1,
          1,
          1,
          1,
          1,
          1,
          1,
          1,
          1,
          1,
          1,
          1,
          1,
          1,
          1,
          1,
          1,
          1,
          1,
          1,
          1,
          1,
          1,
          1,
          1,
          1,
          1,
          1,
          1,
          1,
          1,
          1,
          1,
          1,
          1,
          1,
          1,
          1,
          1,
          1,
          1,
          1,
          1,
          1,
          1,
          1,
          1,
          1,
          1,
          1,
          1,
          1,
          1,
          1,
          1,
          1,
          1,
          1,
          1,
          1,
          1,
          1,
          1,
          1,
          1,
          1,
          1,
          1,
          1,
          1,
          1,
          1,
          1,
          1,
          1,
          1,
          1,
          1,
          1,
          1,
          1,
          1,
          1,
          1,
          1,
          1,
          1,
          1,
          1,
          1,
          1,
          1,
          1,
          1,
          1,
          1,
          1,
          1,
          1,
          1,
          1,
          1,
          1,
          1,
          1,
          1,
          1,
          1,
          1,
          1,
          1,
          1,
          1,
          1,
          1,
          1,
          1,
          1,
          1,
          1,
          1,
          1,
          1,
          1,
          1,
          1,
          1,
          1,
          1,
          1,
          1,
          1,
          1,
          1,
          1,
          1,
          1,
          1,
          1,
          1,
          1,
          1,
          1,
          1,
          1,
          1,
          1,
          1,
          1,
          1,
          1,
          1,
          1,
          1,
          1,
          1,
          1,
          1,
          1,
          1
         ],
         "yaxis": "y"
        },
        {
         "alignmentgroup": "True",
         "hovertemplate": "被害者の職業=中学生<br>発生時（始期）=%{x}<br>count=%{y}<extra></extra>",
         "legendgroup": "中学生",
         "marker": {
          "color": "rgb(221,132,82)",
          "line": {
           "width": 0
          },
          "pattern": {
           "shape": ""
          }
         },
         "name": "中学生",
         "offsetgroup": "中学生",
         "orientation": "v",
         "showlegend": true,
         "textposition": "auto",
         "type": "bar",
         "x": [
          "22",
          "18",
          "21",
          "19",
          "15",
          "13",
          "21",
          "15",
          "18",
          "14",
          "19",
          "02",
          "08",
          "13",
          "19",
          "11",
          "16",
          "13",
          "18",
          "10",
          "18",
          "06",
          "09",
          "20",
          "08",
          "11",
          "18",
          "21",
          "10",
          "18",
          "18",
          "21",
          "19",
          "13",
          "07",
          "16",
          "10",
          "17",
          "13",
          "06",
          "21",
          "14",
          "18",
          "08",
          "15",
          "20",
          "23",
          "19",
          "18",
          "18",
          "12"
         ],
         "xaxis": "x",
         "y": [
          1,
          1,
          1,
          1,
          1,
          1,
          1,
          1,
          1,
          1,
          1,
          1,
          1,
          1,
          1,
          1,
          1,
          1,
          1,
          1,
          1,
          1,
          1,
          1,
          1,
          1,
          1,
          1,
          1,
          1,
          1,
          1,
          1,
          1,
          1,
          1,
          1,
          1,
          1,
          1,
          1,
          1,
          1,
          1,
          1,
          1,
          1,
          1,
          1,
          1,
          1
         ],
         "yaxis": "y"
        },
        {
         "alignmentgroup": "True",
         "hovertemplate": "被害者の職業=小学生<br>発生時（始期）=%{x}<br>count=%{y}<extra></extra>",
         "legendgroup": "小学生",
         "marker": {
          "color": "rgb(85,168,104)",
          "line": {
           "width": 0
          },
          "pattern": {
           "shape": ""
          }
         },
         "name": "小学生",
         "offsetgroup": "小学生",
         "orientation": "v",
         "showlegend": true,
         "textposition": "auto",
         "type": "bar",
         "x": [
          "15",
          "17",
          "08",
          "19",
          "08",
          "19",
          "11",
          "14",
          "15",
          "16",
          "17",
          "13",
          "15",
          "14",
          "17",
          "08",
          "15",
          "17",
          "15",
          "21",
          "19",
          "11",
          "19",
          "16"
         ],
         "xaxis": "x",
         "y": [
          1,
          1,
          1,
          1,
          1,
          1,
          1,
          1,
          1,
          1,
          1,
          1,
          1,
          1,
          1,
          1,
          1,
          1,
          1,
          1,
          1,
          1,
          1,
          1
         ],
         "yaxis": "y"
        },
        {
         "alignmentgroup": "True",
         "hovertemplate": "被害者の職業=高校生<br>発生時（始期）=%{x}<br>count=%{y}<extra></extra>",
         "legendgroup": "高校生",
         "marker": {
          "color": "rgb(196,78,82)",
          "line": {
           "width": 0
          },
          "pattern": {
           "shape": ""
          }
         },
         "name": "高校生",
         "offsetgroup": "高校生",
         "orientation": "v",
         "showlegend": true,
         "textposition": "auto",
         "type": "bar",
         "x": [
          "21",
          "07",
          "20",
          "07",
          "07",
          "23",
          "08",
          "08",
          "06",
          "07",
          "17",
          "17",
          "15",
          "18",
          "18",
          "08",
          "07",
          "09",
          "16",
          "14",
          "15",
          "08",
          "07",
          "17",
          "07",
          "21",
          "19",
          "14",
          "14",
          "13",
          "18",
          "16",
          "11",
          "18",
          "13",
          "21",
          "11",
          "17",
          "16",
          "20",
          "13",
          "08",
          "13",
          "16",
          "11",
          "14",
          "00",
          "13",
          "13",
          "11",
          "16",
          "17",
          "17",
          "20",
          "17",
          "08",
          "13",
          "20",
          "12",
          "16",
          "19",
          "08",
          "19",
          "07",
          "12",
          "16",
          "08",
          "20",
          "16",
          "20",
          "07",
          "08",
          "17",
          "19",
          "08",
          "18",
          "16",
          "19",
          "19",
          "16",
          "20",
          "16",
          "21",
          "12",
          "21",
          "07",
          "17",
          "09",
          "10"
         ],
         "xaxis": "x",
         "y": [
          1,
          1,
          1,
          1,
          1,
          1,
          1,
          1,
          1,
          1,
          1,
          1,
          1,
          1,
          1,
          1,
          1,
          1,
          1,
          1,
          1,
          1,
          1,
          1,
          1,
          1,
          1,
          1,
          1,
          1,
          1,
          1,
          1,
          1,
          1,
          1,
          1,
          1,
          1,
          1,
          1,
          1,
          1,
          1,
          1,
          1,
          1,
          1,
          1,
          1,
          1,
          1,
          1,
          1,
          1,
          1,
          1,
          1,
          1,
          1,
          1,
          1,
          1,
          1,
          1,
          1,
          1,
          1,
          1,
          1,
          1,
          1,
          1,
          1,
          1,
          1,
          1,
          1,
          1,
          1,
          1,
          1,
          1,
          1,
          1,
          1,
          1,
          1,
          1
         ],
         "yaxis": "y"
        },
        {
         "alignmentgroup": "True",
         "hovertemplate": "被害者の職業=大学生<br>発生時（始期）=%{x}<br>count=%{y}<extra></extra>",
         "legendgroup": "大学生",
         "marker": {
          "color": "rgb(129,114,179)",
          "line": {
           "width": 0
          },
          "pattern": {
           "shape": ""
          }
         },
         "name": "大学生",
         "offsetgroup": "大学生",
         "orientation": "v",
         "showlegend": true,
         "textposition": "auto",
         "type": "bar",
         "x": [
          "14",
          "17",
          "10",
          "18",
          "16",
          "07",
          "22",
          "14",
          "19",
          "16",
          "09",
          "19",
          "07",
          "15",
          "10",
          "08",
          "16",
          "22",
          "08",
          "13",
          "07",
          "10",
          "09",
          "12",
          "00",
          "12",
          "15",
          "不明",
          "09",
          "19",
          "17",
          "11",
          "16",
          "10",
          "08",
          "22",
          "15",
          "10",
          "16",
          "23",
          "07",
          "13",
          "09",
          "14",
          "18",
          "08"
         ],
         "xaxis": "x",
         "y": [
          1,
          1,
          1,
          1,
          1,
          1,
          1,
          1,
          1,
          1,
          1,
          1,
          1,
          1,
          1,
          1,
          1,
          1,
          1,
          1,
          1,
          1,
          1,
          1,
          1,
          1,
          1,
          1,
          1,
          1,
          1,
          1,
          1,
          1,
          1,
          1,
          1,
          1,
          1,
          1,
          1,
          1,
          1,
          1,
          1,
          1
         ],
         "yaxis": "y"
        },
        {
         "alignmentgroup": "True",
         "hovertemplate": "被害者の職業=法人・団体、被害者なし<br>発生時（始期）=%{x}<br>count=%{y}<extra></extra>",
         "legendgroup": "法人・団体、被害者なし",
         "marker": {
          "color": "rgb(147,120,96)",
          "line": {
           "width": 0
          },
          "pattern": {
           "shape": ""
          }
         },
         "name": "法人・団体、被害者なし",
         "offsetgroup": "法人・団体、被害者なし",
         "orientation": "v",
         "showlegend": true,
         "textposition": "auto",
         "type": "bar",
         "x": [
          "20",
          "不明",
          "07",
          "20"
         ],
         "xaxis": "x",
         "y": [
          1,
          1,
          1,
          1
         ],
         "yaxis": "y"
        }
       ],
       "layout": {
        "barmode": "relative",
        "legend": {
         "title": {
          "text": "被害者の職業"
         },
         "tracegroupgap": 0
        },
        "margin": {
         "t": 60
        },
        "template": {
         "data": {
          "bar": [
           {
            "error_x": {
             "color": "rgb(36,36,36)"
            },
            "error_y": {
             "color": "rgb(36,36,36)"
            },
            "marker": {
             "line": {
              "color": "rgb(234,234,242)",
              "width": 0.5
             },
             "pattern": {
              "fillmode": "overlay",
              "size": 10,
              "solidity": 0.2
             }
            },
            "type": "bar"
           }
          ],
          "barpolar": [
           {
            "marker": {
             "line": {
              "color": "rgb(234,234,242)",
              "width": 0.5
             },
             "pattern": {
              "fillmode": "overlay",
              "size": 10,
              "solidity": 0.2
             }
            },
            "type": "barpolar"
           }
          ],
          "carpet": [
           {
            "aaxis": {
             "endlinecolor": "rgb(36,36,36)",
             "gridcolor": "white",
             "linecolor": "white",
             "minorgridcolor": "white",
             "startlinecolor": "rgb(36,36,36)"
            },
            "baxis": {
             "endlinecolor": "rgb(36,36,36)",
             "gridcolor": "white",
             "linecolor": "white",
             "minorgridcolor": "white",
             "startlinecolor": "rgb(36,36,36)"
            },
            "type": "carpet"
           }
          ],
          "choropleth": [
           {
            "colorbar": {
             "outlinewidth": 0,
             "tickcolor": "rgb(36,36,36)",
             "ticklen": 8,
             "ticks": "outside",
             "tickwidth": 2
            },
            "type": "choropleth"
           }
          ],
          "contour": [
           {
            "colorbar": {
             "outlinewidth": 0,
             "tickcolor": "rgb(36,36,36)",
             "ticklen": 8,
             "ticks": "outside",
             "tickwidth": 2
            },
            "colorscale": [
             [
              0,
              "rgb(2,4,25)"
             ],
             [
              0.06274509803921569,
              "rgb(24,15,41)"
             ],
             [
              0.12549019607843137,
              "rgb(47,23,57)"
             ],
             [
              0.18823529411764706,
              "rgb(71,28,72)"
             ],
             [
              0.25098039215686274,
              "rgb(97,30,82)"
             ],
             [
              0.3137254901960784,
              "rgb(123,30,89)"
             ],
             [
              0.3764705882352941,
              "rgb(150,27,91)"
             ],
             [
              0.4392156862745098,
              "rgb(177,22,88)"
             ],
             [
              0.5019607843137255,
              "rgb(203,26,79)"
             ],
             [
              0.5647058823529412,
              "rgb(223,47,67)"
             ],
             [
              0.6274509803921569,
              "rgb(236,76,61)"
             ],
             [
              0.6901960784313725,
              "rgb(242,107,73)"
             ],
             [
              0.7529411764705882,
              "rgb(244,135,95)"
             ],
             [
              0.8156862745098039,
              "rgb(245,162,122)"
             ],
             [
              0.8784313725490196,
              "rgb(246,188,153)"
             ],
             [
              0.9411764705882353,
              "rgb(247,212,187)"
             ],
             [
              1,
              "rgb(250,234,220)"
             ]
            ],
            "type": "contour"
           }
          ],
          "contourcarpet": [
           {
            "colorbar": {
             "outlinewidth": 0,
             "tickcolor": "rgb(36,36,36)",
             "ticklen": 8,
             "ticks": "outside",
             "tickwidth": 2
            },
            "type": "contourcarpet"
           }
          ],
          "heatmap": [
           {
            "colorbar": {
             "outlinewidth": 0,
             "tickcolor": "rgb(36,36,36)",
             "ticklen": 8,
             "ticks": "outside",
             "tickwidth": 2
            },
            "colorscale": [
             [
              0,
              "rgb(2,4,25)"
             ],
             [
              0.06274509803921569,
              "rgb(24,15,41)"
             ],
             [
              0.12549019607843137,
              "rgb(47,23,57)"
             ],
             [
              0.18823529411764706,
              "rgb(71,28,72)"
             ],
             [
              0.25098039215686274,
              "rgb(97,30,82)"
             ],
             [
              0.3137254901960784,
              "rgb(123,30,89)"
             ],
             [
              0.3764705882352941,
              "rgb(150,27,91)"
             ],
             [
              0.4392156862745098,
              "rgb(177,22,88)"
             ],
             [
              0.5019607843137255,
              "rgb(203,26,79)"
             ],
             [
              0.5647058823529412,
              "rgb(223,47,67)"
             ],
             [
              0.6274509803921569,
              "rgb(236,76,61)"
             ],
             [
              0.6901960784313725,
              "rgb(242,107,73)"
             ],
             [
              0.7529411764705882,
              "rgb(244,135,95)"
             ],
             [
              0.8156862745098039,
              "rgb(245,162,122)"
             ],
             [
              0.8784313725490196,
              "rgb(246,188,153)"
             ],
             [
              0.9411764705882353,
              "rgb(247,212,187)"
             ],
             [
              1,
              "rgb(250,234,220)"
             ]
            ],
            "type": "heatmap"
           }
          ],
          "heatmapgl": [
           {
            "colorbar": {
             "outlinewidth": 0,
             "tickcolor": "rgb(36,36,36)",
             "ticklen": 8,
             "ticks": "outside",
             "tickwidth": 2
            },
            "colorscale": [
             [
              0,
              "rgb(2,4,25)"
             ],
             [
              0.06274509803921569,
              "rgb(24,15,41)"
             ],
             [
              0.12549019607843137,
              "rgb(47,23,57)"
             ],
             [
              0.18823529411764706,
              "rgb(71,28,72)"
             ],
             [
              0.25098039215686274,
              "rgb(97,30,82)"
             ],
             [
              0.3137254901960784,
              "rgb(123,30,89)"
             ],
             [
              0.3764705882352941,
              "rgb(150,27,91)"
             ],
             [
              0.4392156862745098,
              "rgb(177,22,88)"
             ],
             [
              0.5019607843137255,
              "rgb(203,26,79)"
             ],
             [
              0.5647058823529412,
              "rgb(223,47,67)"
             ],
             [
              0.6274509803921569,
              "rgb(236,76,61)"
             ],
             [
              0.6901960784313725,
              "rgb(242,107,73)"
             ],
             [
              0.7529411764705882,
              "rgb(244,135,95)"
             ],
             [
              0.8156862745098039,
              "rgb(245,162,122)"
             ],
             [
              0.8784313725490196,
              "rgb(246,188,153)"
             ],
             [
              0.9411764705882353,
              "rgb(247,212,187)"
             ],
             [
              1,
              "rgb(250,234,220)"
             ]
            ],
            "type": "heatmapgl"
           }
          ],
          "histogram": [
           {
            "marker": {
             "pattern": {
              "fillmode": "overlay",
              "size": 10,
              "solidity": 0.2
             }
            },
            "type": "histogram"
           }
          ],
          "histogram2d": [
           {
            "colorbar": {
             "outlinewidth": 0,
             "tickcolor": "rgb(36,36,36)",
             "ticklen": 8,
             "ticks": "outside",
             "tickwidth": 2
            },
            "colorscale": [
             [
              0,
              "rgb(2,4,25)"
             ],
             [
              0.06274509803921569,
              "rgb(24,15,41)"
             ],
             [
              0.12549019607843137,
              "rgb(47,23,57)"
             ],
             [
              0.18823529411764706,
              "rgb(71,28,72)"
             ],
             [
              0.25098039215686274,
              "rgb(97,30,82)"
             ],
             [
              0.3137254901960784,
              "rgb(123,30,89)"
             ],
             [
              0.3764705882352941,
              "rgb(150,27,91)"
             ],
             [
              0.4392156862745098,
              "rgb(177,22,88)"
             ],
             [
              0.5019607843137255,
              "rgb(203,26,79)"
             ],
             [
              0.5647058823529412,
              "rgb(223,47,67)"
             ],
             [
              0.6274509803921569,
              "rgb(236,76,61)"
             ],
             [
              0.6901960784313725,
              "rgb(242,107,73)"
             ],
             [
              0.7529411764705882,
              "rgb(244,135,95)"
             ],
             [
              0.8156862745098039,
              "rgb(245,162,122)"
             ],
             [
              0.8784313725490196,
              "rgb(246,188,153)"
             ],
             [
              0.9411764705882353,
              "rgb(247,212,187)"
             ],
             [
              1,
              "rgb(250,234,220)"
             ]
            ],
            "type": "histogram2d"
           }
          ],
          "histogram2dcontour": [
           {
            "colorbar": {
             "outlinewidth": 0,
             "tickcolor": "rgb(36,36,36)",
             "ticklen": 8,
             "ticks": "outside",
             "tickwidth": 2
            },
            "colorscale": [
             [
              0,
              "rgb(2,4,25)"
             ],
             [
              0.06274509803921569,
              "rgb(24,15,41)"
             ],
             [
              0.12549019607843137,
              "rgb(47,23,57)"
             ],
             [
              0.18823529411764706,
              "rgb(71,28,72)"
             ],
             [
              0.25098039215686274,
              "rgb(97,30,82)"
             ],
             [
              0.3137254901960784,
              "rgb(123,30,89)"
             ],
             [
              0.3764705882352941,
              "rgb(150,27,91)"
             ],
             [
              0.4392156862745098,
              "rgb(177,22,88)"
             ],
             [
              0.5019607843137255,
              "rgb(203,26,79)"
             ],
             [
              0.5647058823529412,
              "rgb(223,47,67)"
             ],
             [
              0.6274509803921569,
              "rgb(236,76,61)"
             ],
             [
              0.6901960784313725,
              "rgb(242,107,73)"
             ],
             [
              0.7529411764705882,
              "rgb(244,135,95)"
             ],
             [
              0.8156862745098039,
              "rgb(245,162,122)"
             ],
             [
              0.8784313725490196,
              "rgb(246,188,153)"
             ],
             [
              0.9411764705882353,
              "rgb(247,212,187)"
             ],
             [
              1,
              "rgb(250,234,220)"
             ]
            ],
            "type": "histogram2dcontour"
           }
          ],
          "mesh3d": [
           {
            "colorbar": {
             "outlinewidth": 0,
             "tickcolor": "rgb(36,36,36)",
             "ticklen": 8,
             "ticks": "outside",
             "tickwidth": 2
            },
            "type": "mesh3d"
           }
          ],
          "parcoords": [
           {
            "line": {
             "colorbar": {
              "outlinewidth": 0,
              "tickcolor": "rgb(36,36,36)",
              "ticklen": 8,
              "ticks": "outside",
              "tickwidth": 2
             }
            },
            "type": "parcoords"
           }
          ],
          "pie": [
           {
            "automargin": true,
            "type": "pie"
           }
          ],
          "scatter": [
           {
            "fillpattern": {
             "fillmode": "overlay",
             "size": 10,
             "solidity": 0.2
            },
            "type": "scatter"
           }
          ],
          "scatter3d": [
           {
            "line": {
             "colorbar": {
              "outlinewidth": 0,
              "tickcolor": "rgb(36,36,36)",
              "ticklen": 8,
              "ticks": "outside",
              "tickwidth": 2
             }
            },
            "marker": {
             "colorbar": {
              "outlinewidth": 0,
              "tickcolor": "rgb(36,36,36)",
              "ticklen": 8,
              "ticks": "outside",
              "tickwidth": 2
             }
            },
            "type": "scatter3d"
           }
          ],
          "scattercarpet": [
           {
            "marker": {
             "colorbar": {
              "outlinewidth": 0,
              "tickcolor": "rgb(36,36,36)",
              "ticklen": 8,
              "ticks": "outside",
              "tickwidth": 2
             }
            },
            "type": "scattercarpet"
           }
          ],
          "scattergeo": [
           {
            "marker": {
             "colorbar": {
              "outlinewidth": 0,
              "tickcolor": "rgb(36,36,36)",
              "ticklen": 8,
              "ticks": "outside",
              "tickwidth": 2
             }
            },
            "type": "scattergeo"
           }
          ],
          "scattergl": [
           {
            "marker": {
             "colorbar": {
              "outlinewidth": 0,
              "tickcolor": "rgb(36,36,36)",
              "ticklen": 8,
              "ticks": "outside",
              "tickwidth": 2
             }
            },
            "type": "scattergl"
           }
          ],
          "scattermapbox": [
           {
            "marker": {
             "colorbar": {
              "outlinewidth": 0,
              "tickcolor": "rgb(36,36,36)",
              "ticklen": 8,
              "ticks": "outside",
              "tickwidth": 2
             }
            },
            "type": "scattermapbox"
           }
          ],
          "scatterpolar": [
           {
            "marker": {
             "colorbar": {
              "outlinewidth": 0,
              "tickcolor": "rgb(36,36,36)",
              "ticklen": 8,
              "ticks": "outside",
              "tickwidth": 2
             }
            },
            "type": "scatterpolar"
           }
          ],
          "scatterpolargl": [
           {
            "marker": {
             "colorbar": {
              "outlinewidth": 0,
              "tickcolor": "rgb(36,36,36)",
              "ticklen": 8,
              "ticks": "outside",
              "tickwidth": 2
             }
            },
            "type": "scatterpolargl"
           }
          ],
          "scatterternary": [
           {
            "marker": {
             "colorbar": {
              "outlinewidth": 0,
              "tickcolor": "rgb(36,36,36)",
              "ticklen": 8,
              "ticks": "outside",
              "tickwidth": 2
             }
            },
            "type": "scatterternary"
           }
          ],
          "surface": [
           {
            "colorbar": {
             "outlinewidth": 0,
             "tickcolor": "rgb(36,36,36)",
             "ticklen": 8,
             "ticks": "outside",
             "tickwidth": 2
            },
            "colorscale": [
             [
              0,
              "rgb(2,4,25)"
             ],
             [
              0.06274509803921569,
              "rgb(24,15,41)"
             ],
             [
              0.12549019607843137,
              "rgb(47,23,57)"
             ],
             [
              0.18823529411764706,
              "rgb(71,28,72)"
             ],
             [
              0.25098039215686274,
              "rgb(97,30,82)"
             ],
             [
              0.3137254901960784,
              "rgb(123,30,89)"
             ],
             [
              0.3764705882352941,
              "rgb(150,27,91)"
             ],
             [
              0.4392156862745098,
              "rgb(177,22,88)"
             ],
             [
              0.5019607843137255,
              "rgb(203,26,79)"
             ],
             [
              0.5647058823529412,
              "rgb(223,47,67)"
             ],
             [
              0.6274509803921569,
              "rgb(236,76,61)"
             ],
             [
              0.6901960784313725,
              "rgb(242,107,73)"
             ],
             [
              0.7529411764705882,
              "rgb(244,135,95)"
             ],
             [
              0.8156862745098039,
              "rgb(245,162,122)"
             ],
             [
              0.8784313725490196,
              "rgb(246,188,153)"
             ],
             [
              0.9411764705882353,
              "rgb(247,212,187)"
             ],
             [
              1,
              "rgb(250,234,220)"
             ]
            ],
            "type": "surface"
           }
          ],
          "table": [
           {
            "cells": {
             "fill": {
              "color": "rgb(231,231,240)"
             },
             "line": {
              "color": "white"
             }
            },
            "header": {
             "fill": {
              "color": "rgb(183,183,191)"
             },
             "line": {
              "color": "white"
             }
            },
            "type": "table"
           }
          ]
         },
         "layout": {
          "annotationdefaults": {
           "arrowcolor": "rgb(67,103,167)"
          },
          "autotypenumbers": "strict",
          "coloraxis": {
           "colorbar": {
            "outlinewidth": 0,
            "tickcolor": "rgb(36,36,36)",
            "ticklen": 8,
            "ticks": "outside",
            "tickwidth": 2
           }
          },
          "colorscale": {
           "sequential": [
            [
             0,
             "rgb(2,4,25)"
            ],
            [
             0.06274509803921569,
             "rgb(24,15,41)"
            ],
            [
             0.12549019607843137,
             "rgb(47,23,57)"
            ],
            [
             0.18823529411764706,
             "rgb(71,28,72)"
            ],
            [
             0.25098039215686274,
             "rgb(97,30,82)"
            ],
            [
             0.3137254901960784,
             "rgb(123,30,89)"
            ],
            [
             0.3764705882352941,
             "rgb(150,27,91)"
            ],
            [
             0.4392156862745098,
             "rgb(177,22,88)"
            ],
            [
             0.5019607843137255,
             "rgb(203,26,79)"
            ],
            [
             0.5647058823529412,
             "rgb(223,47,67)"
            ],
            [
             0.6274509803921569,
             "rgb(236,76,61)"
            ],
            [
             0.6901960784313725,
             "rgb(242,107,73)"
            ],
            [
             0.7529411764705882,
             "rgb(244,135,95)"
            ],
            [
             0.8156862745098039,
             "rgb(245,162,122)"
            ],
            [
             0.8784313725490196,
             "rgb(246,188,153)"
            ],
            [
             0.9411764705882353,
             "rgb(247,212,187)"
            ],
            [
             1,
             "rgb(250,234,220)"
            ]
           ],
           "sequentialminus": [
            [
             0,
             "rgb(2,4,25)"
            ],
            [
             0.06274509803921569,
             "rgb(24,15,41)"
            ],
            [
             0.12549019607843137,
             "rgb(47,23,57)"
            ],
            [
             0.18823529411764706,
             "rgb(71,28,72)"
            ],
            [
             0.25098039215686274,
             "rgb(97,30,82)"
            ],
            [
             0.3137254901960784,
             "rgb(123,30,89)"
            ],
            [
             0.3764705882352941,
             "rgb(150,27,91)"
            ],
            [
             0.4392156862745098,
             "rgb(177,22,88)"
            ],
            [
             0.5019607843137255,
             "rgb(203,26,79)"
            ],
            [
             0.5647058823529412,
             "rgb(223,47,67)"
            ],
            [
             0.6274509803921569,
             "rgb(236,76,61)"
            ],
            [
             0.6901960784313725,
             "rgb(242,107,73)"
            ],
            [
             0.7529411764705882,
             "rgb(244,135,95)"
            ],
            [
             0.8156862745098039,
             "rgb(245,162,122)"
            ],
            [
             0.8784313725490196,
             "rgb(246,188,153)"
            ],
            [
             0.9411764705882353,
             "rgb(247,212,187)"
            ],
            [
             1,
             "rgb(250,234,220)"
            ]
           ]
          },
          "colorway": [
           "rgb(76,114,176)",
           "rgb(221,132,82)",
           "rgb(85,168,104)",
           "rgb(196,78,82)",
           "rgb(129,114,179)",
           "rgb(147,120,96)",
           "rgb(218,139,195)",
           "rgb(140,140,140)",
           "rgb(204,185,116)",
           "rgb(100,181,205)"
          ],
          "font": {
           "color": "rgb(36,36,36)"
          },
          "geo": {
           "bgcolor": "white",
           "lakecolor": "white",
           "landcolor": "rgb(234,234,242)",
           "showlakes": true,
           "showland": true,
           "subunitcolor": "white"
          },
          "hoverlabel": {
           "align": "left"
          },
          "hovermode": "closest",
          "paper_bgcolor": "white",
          "plot_bgcolor": "rgb(234,234,242)",
          "polar": {
           "angularaxis": {
            "gridcolor": "white",
            "linecolor": "white",
            "showgrid": true,
            "ticks": ""
           },
           "bgcolor": "rgb(234,234,242)",
           "radialaxis": {
            "gridcolor": "white",
            "linecolor": "white",
            "showgrid": true,
            "ticks": ""
           }
          },
          "scene": {
           "xaxis": {
            "backgroundcolor": "rgb(234,234,242)",
            "gridcolor": "white",
            "gridwidth": 2,
            "linecolor": "white",
            "showbackground": true,
            "showgrid": true,
            "ticks": "",
            "zerolinecolor": "white"
           },
           "yaxis": {
            "backgroundcolor": "rgb(234,234,242)",
            "gridcolor": "white",
            "gridwidth": 2,
            "linecolor": "white",
            "showbackground": true,
            "showgrid": true,
            "ticks": "",
            "zerolinecolor": "white"
           },
           "zaxis": {
            "backgroundcolor": "rgb(234,234,242)",
            "gridcolor": "white",
            "gridwidth": 2,
            "linecolor": "white",
            "showbackground": true,
            "showgrid": true,
            "ticks": "",
            "zerolinecolor": "white"
           }
          },
          "shapedefaults": {
           "fillcolor": "rgb(67,103,167)",
           "line": {
            "width": 0
           },
           "opacity": 0.5
          },
          "ternary": {
           "aaxis": {
            "gridcolor": "white",
            "linecolor": "white",
            "showgrid": true,
            "ticks": ""
           },
           "baxis": {
            "gridcolor": "white",
            "linecolor": "white",
            "showgrid": true,
            "ticks": ""
           },
           "bgcolor": "rgb(234,234,242)",
           "caxis": {
            "gridcolor": "white",
            "linecolor": "white",
            "showgrid": true,
            "ticks": ""
           }
          },
          "xaxis": {
           "automargin": true,
           "gridcolor": "white",
           "linecolor": "white",
           "showgrid": true,
           "ticks": "",
           "title": {
            "standoff": 15
           },
           "zerolinecolor": "white"
          },
          "yaxis": {
           "automargin": true,
           "gridcolor": "white",
           "linecolor": "white",
           "showgrid": true,
           "ticks": "",
           "title": {
            "standoff": 15
           },
           "zerolinecolor": "white"
          }
         }
        },
        "xaxis": {
         "anchor": "y",
         "categoryorder": "category ascending",
         "domain": [
          0,
          1
         ],
         "title": {
          "text": "発生時（始期）"
         }
        },
        "yaxis": {
         "anchor": "x",
         "domain": [
          0,
          1
         ],
         "title": {
          "text": "count"
         }
        }
       }
      }
     },
     "metadata": {},
     "output_type": "display_data"
    }
   ],
   "source": [
    "fig = px.bar(kashiwa,\n",
    "            x='発生時（始期）',\n",
    "            color='被害者の職業',\n",
    "            template='seaborn')\n",
    "fig.update_traces(\n",
    "    marker_line_width=0\n",
    ")\n",
    "fig.update_xaxes(categoryorder='category ascending')\n",
    "fig.show()"
   ]
  },
  {
   "attachments": {},
   "cell_type": "markdown",
   "metadata": {
    "slideshow": {
     "slide_type": "slide"
    }
   },
   "source": [
    "↑上のチャートの凡例ののカテゴリーをダブルクリックするとどうなる？\n",
    "\n",
    "`barmode='group'`を足すと何がどのように変わる？"
   ]
  },
  {
   "cell_type": "code",
   "execution_count": 24,
   "metadata": {
    "slideshow": {
     "slide_type": "slide"
    }
   },
   "outputs": [
    {
     "data": {
      "application/vnd.plotly.v1+json": {
       "config": {
        "plotlyServerURL": "https://plot.ly"
       },
       "data": [
        {
         "alignmentgroup": "True",
         "hovertemplate": "被害者の職業=その他<br>発生時（始期）=%{x}<br>count=%{y}<extra></extra>",
         "legendgroup": "その他",
         "marker": {
          "color": "rgb(76,114,176)",
          "line": {
           "width": 0
          },
          "pattern": {
           "shape": ""
          }
         },
         "name": "その他",
         "offsetgroup": "その他",
         "orientation": "v",
         "showlegend": true,
         "textposition": "auto",
         "type": "bar",
         "x": [
          "00",
          "13",
          "22",
          "08",
          "16",
          "08",
          "17",
          "23",
          "04",
          "不明",
          "不明",
          "09",
          "17",
          "11",
          "19",
          "10",
          "21",
          "21",
          "20",
          "08",
          "16",
          "07",
          "20",
          "13",
          "13",
          "13",
          "06",
          "20",
          "23",
          "17",
          "16",
          "00",
          "不明",
          "22",
          "05",
          "12",
          "22",
          "15",
          "16",
          "12",
          "19",
          "15",
          "17",
          "21",
          "21",
          "12",
          "20",
          "14",
          "20",
          "12",
          "15",
          "00",
          "19",
          "20",
          "04",
          "14",
          "06",
          "18",
          "19",
          "06",
          "07",
          "19",
          "09",
          "11",
          "08",
          "12",
          "18",
          "17",
          "07",
          "19",
          "12",
          "13",
          "21",
          "21",
          "16",
          "18",
          "12",
          "17",
          "15",
          "20",
          "07",
          "12",
          "01",
          "06",
          "19",
          "18",
          "16",
          "19",
          "18",
          "06",
          "08",
          "19",
          "23",
          "23",
          "10",
          "18",
          "14",
          "18",
          "09",
          "23",
          "08",
          "12",
          "18",
          "11",
          "17",
          "12",
          "16",
          "14",
          "11",
          "08",
          "08",
          "18",
          "19",
          "20",
          "12",
          "15",
          "14",
          "11",
          "11",
          "22",
          "11",
          "19",
          "18",
          "16",
          "13",
          "10",
          "12",
          "17",
          "20",
          "15",
          "12",
          "20",
          "08",
          "18",
          "12",
          "09",
          "19",
          "14",
          "20",
          "15",
          "12",
          "18",
          "16",
          "10",
          "11",
          "10",
          "16",
          "23",
          "16",
          "14",
          "16",
          "09",
          "19",
          "22",
          "12",
          "08",
          "09",
          "09",
          "13",
          "05",
          "06",
          "21",
          "00",
          "06",
          "12",
          "10",
          "19",
          "20",
          "07",
          "20",
          "10",
          "10",
          "09",
          "09",
          "09",
          "12",
          "20",
          "19",
          "18",
          "00",
          "14",
          "18",
          "10",
          "07",
          "18",
          "18",
          "09",
          "08",
          "08",
          "20",
          "15",
          "20",
          "19",
          "17",
          "19",
          "15",
          "10",
          "10",
          "17",
          "18",
          "18",
          "05",
          "06",
          "18",
          "17",
          "18",
          "17",
          "00",
          "12",
          "18",
          "06",
          "15",
          "20",
          "12",
          "16",
          "17",
          "22",
          "11",
          "17",
          "18",
          "08",
          "20",
          "13",
          "12",
          "13",
          "19",
          "17",
          "15",
          "16",
          "22",
          "00",
          "17",
          "12",
          "20",
          "07",
          "不明",
          "16",
          "20",
          "13",
          "18",
          "21",
          "08",
          "19",
          "14",
          "18",
          "20",
          "20",
          "19",
          "11",
          "18",
          "08",
          "16",
          "08",
          "19",
          "18",
          "18",
          "08"
         ],
         "xaxis": "x",
         "y": [
          1,
          1,
          1,
          1,
          1,
          1,
          1,
          1,
          1,
          1,
          1,
          1,
          1,
          1,
          1,
          1,
          1,
          1,
          1,
          1,
          1,
          1,
          1,
          1,
          1,
          1,
          1,
          1,
          1,
          1,
          1,
          1,
          1,
          1,
          1,
          1,
          1,
          1,
          1,
          1,
          1,
          1,
          1,
          1,
          1,
          1,
          1,
          1,
          1,
          1,
          1,
          1,
          1,
          1,
          1,
          1,
          1,
          1,
          1,
          1,
          1,
          1,
          1,
          1,
          1,
          1,
          1,
          1,
          1,
          1,
          1,
          1,
          1,
          1,
          1,
          1,
          1,
          1,
          1,
          1,
          1,
          1,
          1,
          1,
          1,
          1,
          1,
          1,
          1,
          1,
          1,
          1,
          1,
          1,
          1,
          1,
          1,
          1,
          1,
          1,
          1,
          1,
          1,
          1,
          1,
          1,
          1,
          1,
          1,
          1,
          1,
          1,
          1,
          1,
          1,
          1,
          1,
          1,
          1,
          1,
          1,
          1,
          1,
          1,
          1,
          1,
          1,
          1,
          1,
          1,
          1,
          1,
          1,
          1,
          1,
          1,
          1,
          1,
          1,
          1,
          1,
          1,
          1,
          1,
          1,
          1,
          1,
          1,
          1,
          1,
          1,
          1,
          1,
          1,
          1,
          1,
          1,
          1,
          1,
          1,
          1,
          1,
          1,
          1,
          1,
          1,
          1,
          1,
          1,
          1,
          1,
          1,
          1,
          1,
          1,
          1,
          1,
          1,
          1,
          1,
          1,
          1,
          1,
          1,
          1,
          1,
          1,
          1,
          1,
          1,
          1,
          1,
          1,
          1,
          1,
          1,
          1,
          1,
          1,
          1,
          1,
          1,
          1,
          1,
          1,
          1,
          1,
          1,
          1,
          1,
          1,
          1,
          1,
          1,
          1,
          1,
          1,
          1,
          1,
          1,
          1,
          1,
          1,
          1,
          1,
          1,
          1,
          1,
          1,
          1,
          1,
          1,
          1,
          1,
          1,
          1,
          1,
          1,
          1,
          1,
          1,
          1,
          1,
          1,
          1,
          1,
          1,
          1,
          1,
          1,
          1,
          1,
          1,
          1,
          1,
          1,
          1
         ],
         "yaxis": "y"
        },
        {
         "alignmentgroup": "True",
         "hovertemplate": "被害者の職業=中学生<br>発生時（始期）=%{x}<br>count=%{y}<extra></extra>",
         "legendgroup": "中学生",
         "marker": {
          "color": "rgb(221,132,82)",
          "line": {
           "width": 0
          },
          "pattern": {
           "shape": ""
          }
         },
         "name": "中学生",
         "offsetgroup": "中学生",
         "orientation": "v",
         "showlegend": true,
         "textposition": "auto",
         "type": "bar",
         "x": [
          "22",
          "18",
          "21",
          "19",
          "15",
          "13",
          "21",
          "15",
          "18",
          "14",
          "19",
          "02",
          "08",
          "13",
          "19",
          "11",
          "16",
          "13",
          "18",
          "10",
          "18",
          "06",
          "09",
          "20",
          "08",
          "11",
          "18",
          "21",
          "10",
          "18",
          "18",
          "21",
          "19",
          "13",
          "07",
          "16",
          "10",
          "17",
          "13",
          "06",
          "21",
          "14",
          "18",
          "08",
          "15",
          "20",
          "23",
          "19",
          "18",
          "18",
          "12"
         ],
         "xaxis": "x",
         "y": [
          1,
          1,
          1,
          1,
          1,
          1,
          1,
          1,
          1,
          1,
          1,
          1,
          1,
          1,
          1,
          1,
          1,
          1,
          1,
          1,
          1,
          1,
          1,
          1,
          1,
          1,
          1,
          1,
          1,
          1,
          1,
          1,
          1,
          1,
          1,
          1,
          1,
          1,
          1,
          1,
          1,
          1,
          1,
          1,
          1,
          1,
          1,
          1,
          1,
          1,
          1
         ],
         "yaxis": "y"
        },
        {
         "alignmentgroup": "True",
         "hovertemplate": "被害者の職業=小学生<br>発生時（始期）=%{x}<br>count=%{y}<extra></extra>",
         "legendgroup": "小学生",
         "marker": {
          "color": "rgb(85,168,104)",
          "line": {
           "width": 0
          },
          "pattern": {
           "shape": ""
          }
         },
         "name": "小学生",
         "offsetgroup": "小学生",
         "orientation": "v",
         "showlegend": true,
         "textposition": "auto",
         "type": "bar",
         "x": [
          "15",
          "17",
          "08",
          "19",
          "08",
          "19",
          "11",
          "14",
          "15",
          "16",
          "17",
          "13",
          "15",
          "14",
          "17",
          "08",
          "15",
          "17",
          "15",
          "21",
          "19",
          "11",
          "19",
          "16"
         ],
         "xaxis": "x",
         "y": [
          1,
          1,
          1,
          1,
          1,
          1,
          1,
          1,
          1,
          1,
          1,
          1,
          1,
          1,
          1,
          1,
          1,
          1,
          1,
          1,
          1,
          1,
          1,
          1
         ],
         "yaxis": "y"
        },
        {
         "alignmentgroup": "True",
         "hovertemplate": "被害者の職業=高校生<br>発生時（始期）=%{x}<br>count=%{y}<extra></extra>",
         "legendgroup": "高校生",
         "marker": {
          "color": "rgb(196,78,82)",
          "line": {
           "width": 0
          },
          "pattern": {
           "shape": ""
          }
         },
         "name": "高校生",
         "offsetgroup": "高校生",
         "orientation": "v",
         "showlegend": true,
         "textposition": "auto",
         "type": "bar",
         "x": [
          "21",
          "07",
          "20",
          "07",
          "07",
          "23",
          "08",
          "08",
          "06",
          "07",
          "17",
          "17",
          "15",
          "18",
          "18",
          "08",
          "07",
          "09",
          "16",
          "14",
          "15",
          "08",
          "07",
          "17",
          "07",
          "21",
          "19",
          "14",
          "14",
          "13",
          "18",
          "16",
          "11",
          "18",
          "13",
          "21",
          "11",
          "17",
          "16",
          "20",
          "13",
          "08",
          "13",
          "16",
          "11",
          "14",
          "00",
          "13",
          "13",
          "11",
          "16",
          "17",
          "17",
          "20",
          "17",
          "08",
          "13",
          "20",
          "12",
          "16",
          "19",
          "08",
          "19",
          "07",
          "12",
          "16",
          "08",
          "20",
          "16",
          "20",
          "07",
          "08",
          "17",
          "19",
          "08",
          "18",
          "16",
          "19",
          "19",
          "16",
          "20",
          "16",
          "21",
          "12",
          "21",
          "07",
          "17",
          "09",
          "10"
         ],
         "xaxis": "x",
         "y": [
          1,
          1,
          1,
          1,
          1,
          1,
          1,
          1,
          1,
          1,
          1,
          1,
          1,
          1,
          1,
          1,
          1,
          1,
          1,
          1,
          1,
          1,
          1,
          1,
          1,
          1,
          1,
          1,
          1,
          1,
          1,
          1,
          1,
          1,
          1,
          1,
          1,
          1,
          1,
          1,
          1,
          1,
          1,
          1,
          1,
          1,
          1,
          1,
          1,
          1,
          1,
          1,
          1,
          1,
          1,
          1,
          1,
          1,
          1,
          1,
          1,
          1,
          1,
          1,
          1,
          1,
          1,
          1,
          1,
          1,
          1,
          1,
          1,
          1,
          1,
          1,
          1,
          1,
          1,
          1,
          1,
          1,
          1,
          1,
          1,
          1,
          1,
          1,
          1
         ],
         "yaxis": "y"
        },
        {
         "alignmentgroup": "True",
         "hovertemplate": "被害者の職業=大学生<br>発生時（始期）=%{x}<br>count=%{y}<extra></extra>",
         "legendgroup": "大学生",
         "marker": {
          "color": "rgb(129,114,179)",
          "line": {
           "width": 0
          },
          "pattern": {
           "shape": ""
          }
         },
         "name": "大学生",
         "offsetgroup": "大学生",
         "orientation": "v",
         "showlegend": true,
         "textposition": "auto",
         "type": "bar",
         "x": [
          "14",
          "17",
          "10",
          "18",
          "16",
          "07",
          "22",
          "14",
          "19",
          "16",
          "09",
          "19",
          "07",
          "15",
          "10",
          "08",
          "16",
          "22",
          "08",
          "13",
          "07",
          "10",
          "09",
          "12",
          "00",
          "12",
          "15",
          "不明",
          "09",
          "19",
          "17",
          "11",
          "16",
          "10",
          "08",
          "22",
          "15",
          "10",
          "16",
          "23",
          "07",
          "13",
          "09",
          "14",
          "18",
          "08"
         ],
         "xaxis": "x",
         "y": [
          1,
          1,
          1,
          1,
          1,
          1,
          1,
          1,
          1,
          1,
          1,
          1,
          1,
          1,
          1,
          1,
          1,
          1,
          1,
          1,
          1,
          1,
          1,
          1,
          1,
          1,
          1,
          1,
          1,
          1,
          1,
          1,
          1,
          1,
          1,
          1,
          1,
          1,
          1,
          1,
          1,
          1,
          1,
          1,
          1,
          1
         ],
         "yaxis": "y"
        },
        {
         "alignmentgroup": "True",
         "hovertemplate": "被害者の職業=法人・団体、被害者なし<br>発生時（始期）=%{x}<br>count=%{y}<extra></extra>",
         "legendgroup": "法人・団体、被害者なし",
         "marker": {
          "color": "rgb(147,120,96)",
          "line": {
           "width": 0
          },
          "pattern": {
           "shape": ""
          }
         },
         "name": "法人・団体、被害者なし",
         "offsetgroup": "法人・団体、被害者なし",
         "orientation": "v",
         "showlegend": true,
         "textposition": "auto",
         "type": "bar",
         "x": [
          "20",
          "不明",
          "07",
          "20"
         ],
         "xaxis": "x",
         "y": [
          1,
          1,
          1,
          1
         ],
         "yaxis": "y"
        }
       ],
       "layout": {
        "barmode": "group",
        "legend": {
         "title": {
          "text": "被害者の職業"
         },
         "tracegroupgap": 0
        },
        "margin": {
         "t": 60
        },
        "template": {
         "data": {
          "bar": [
           {
            "error_x": {
             "color": "rgb(36,36,36)"
            },
            "error_y": {
             "color": "rgb(36,36,36)"
            },
            "marker": {
             "line": {
              "color": "rgb(234,234,242)",
              "width": 0.5
             },
             "pattern": {
              "fillmode": "overlay",
              "size": 10,
              "solidity": 0.2
             }
            },
            "type": "bar"
           }
          ],
          "barpolar": [
           {
            "marker": {
             "line": {
              "color": "rgb(234,234,242)",
              "width": 0.5
             },
             "pattern": {
              "fillmode": "overlay",
              "size": 10,
              "solidity": 0.2
             }
            },
            "type": "barpolar"
           }
          ],
          "carpet": [
           {
            "aaxis": {
             "endlinecolor": "rgb(36,36,36)",
             "gridcolor": "white",
             "linecolor": "white",
             "minorgridcolor": "white",
             "startlinecolor": "rgb(36,36,36)"
            },
            "baxis": {
             "endlinecolor": "rgb(36,36,36)",
             "gridcolor": "white",
             "linecolor": "white",
             "minorgridcolor": "white",
             "startlinecolor": "rgb(36,36,36)"
            },
            "type": "carpet"
           }
          ],
          "choropleth": [
           {
            "colorbar": {
             "outlinewidth": 0,
             "tickcolor": "rgb(36,36,36)",
             "ticklen": 8,
             "ticks": "outside",
             "tickwidth": 2
            },
            "type": "choropleth"
           }
          ],
          "contour": [
           {
            "colorbar": {
             "outlinewidth": 0,
             "tickcolor": "rgb(36,36,36)",
             "ticklen": 8,
             "ticks": "outside",
             "tickwidth": 2
            },
            "colorscale": [
             [
              0,
              "rgb(2,4,25)"
             ],
             [
              0.06274509803921569,
              "rgb(24,15,41)"
             ],
             [
              0.12549019607843137,
              "rgb(47,23,57)"
             ],
             [
              0.18823529411764706,
              "rgb(71,28,72)"
             ],
             [
              0.25098039215686274,
              "rgb(97,30,82)"
             ],
             [
              0.3137254901960784,
              "rgb(123,30,89)"
             ],
             [
              0.3764705882352941,
              "rgb(150,27,91)"
             ],
             [
              0.4392156862745098,
              "rgb(177,22,88)"
             ],
             [
              0.5019607843137255,
              "rgb(203,26,79)"
             ],
             [
              0.5647058823529412,
              "rgb(223,47,67)"
             ],
             [
              0.6274509803921569,
              "rgb(236,76,61)"
             ],
             [
              0.6901960784313725,
              "rgb(242,107,73)"
             ],
             [
              0.7529411764705882,
              "rgb(244,135,95)"
             ],
             [
              0.8156862745098039,
              "rgb(245,162,122)"
             ],
             [
              0.8784313725490196,
              "rgb(246,188,153)"
             ],
             [
              0.9411764705882353,
              "rgb(247,212,187)"
             ],
             [
              1,
              "rgb(250,234,220)"
             ]
            ],
            "type": "contour"
           }
          ],
          "contourcarpet": [
           {
            "colorbar": {
             "outlinewidth": 0,
             "tickcolor": "rgb(36,36,36)",
             "ticklen": 8,
             "ticks": "outside",
             "tickwidth": 2
            },
            "type": "contourcarpet"
           }
          ],
          "heatmap": [
           {
            "colorbar": {
             "outlinewidth": 0,
             "tickcolor": "rgb(36,36,36)",
             "ticklen": 8,
             "ticks": "outside",
             "tickwidth": 2
            },
            "colorscale": [
             [
              0,
              "rgb(2,4,25)"
             ],
             [
              0.06274509803921569,
              "rgb(24,15,41)"
             ],
             [
              0.12549019607843137,
              "rgb(47,23,57)"
             ],
             [
              0.18823529411764706,
              "rgb(71,28,72)"
             ],
             [
              0.25098039215686274,
              "rgb(97,30,82)"
             ],
             [
              0.3137254901960784,
              "rgb(123,30,89)"
             ],
             [
              0.3764705882352941,
              "rgb(150,27,91)"
             ],
             [
              0.4392156862745098,
              "rgb(177,22,88)"
             ],
             [
              0.5019607843137255,
              "rgb(203,26,79)"
             ],
             [
              0.5647058823529412,
              "rgb(223,47,67)"
             ],
             [
              0.6274509803921569,
              "rgb(236,76,61)"
             ],
             [
              0.6901960784313725,
              "rgb(242,107,73)"
             ],
             [
              0.7529411764705882,
              "rgb(244,135,95)"
             ],
             [
              0.8156862745098039,
              "rgb(245,162,122)"
             ],
             [
              0.8784313725490196,
              "rgb(246,188,153)"
             ],
             [
              0.9411764705882353,
              "rgb(247,212,187)"
             ],
             [
              1,
              "rgb(250,234,220)"
             ]
            ],
            "type": "heatmap"
           }
          ],
          "heatmapgl": [
           {
            "colorbar": {
             "outlinewidth": 0,
             "tickcolor": "rgb(36,36,36)",
             "ticklen": 8,
             "ticks": "outside",
             "tickwidth": 2
            },
            "colorscale": [
             [
              0,
              "rgb(2,4,25)"
             ],
             [
              0.06274509803921569,
              "rgb(24,15,41)"
             ],
             [
              0.12549019607843137,
              "rgb(47,23,57)"
             ],
             [
              0.18823529411764706,
              "rgb(71,28,72)"
             ],
             [
              0.25098039215686274,
              "rgb(97,30,82)"
             ],
             [
              0.3137254901960784,
              "rgb(123,30,89)"
             ],
             [
              0.3764705882352941,
              "rgb(150,27,91)"
             ],
             [
              0.4392156862745098,
              "rgb(177,22,88)"
             ],
             [
              0.5019607843137255,
              "rgb(203,26,79)"
             ],
             [
              0.5647058823529412,
              "rgb(223,47,67)"
             ],
             [
              0.6274509803921569,
              "rgb(236,76,61)"
             ],
             [
              0.6901960784313725,
              "rgb(242,107,73)"
             ],
             [
              0.7529411764705882,
              "rgb(244,135,95)"
             ],
             [
              0.8156862745098039,
              "rgb(245,162,122)"
             ],
             [
              0.8784313725490196,
              "rgb(246,188,153)"
             ],
             [
              0.9411764705882353,
              "rgb(247,212,187)"
             ],
             [
              1,
              "rgb(250,234,220)"
             ]
            ],
            "type": "heatmapgl"
           }
          ],
          "histogram": [
           {
            "marker": {
             "pattern": {
              "fillmode": "overlay",
              "size": 10,
              "solidity": 0.2
             }
            },
            "type": "histogram"
           }
          ],
          "histogram2d": [
           {
            "colorbar": {
             "outlinewidth": 0,
             "tickcolor": "rgb(36,36,36)",
             "ticklen": 8,
             "ticks": "outside",
             "tickwidth": 2
            },
            "colorscale": [
             [
              0,
              "rgb(2,4,25)"
             ],
             [
              0.06274509803921569,
              "rgb(24,15,41)"
             ],
             [
              0.12549019607843137,
              "rgb(47,23,57)"
             ],
             [
              0.18823529411764706,
              "rgb(71,28,72)"
             ],
             [
              0.25098039215686274,
              "rgb(97,30,82)"
             ],
             [
              0.3137254901960784,
              "rgb(123,30,89)"
             ],
             [
              0.3764705882352941,
              "rgb(150,27,91)"
             ],
             [
              0.4392156862745098,
              "rgb(177,22,88)"
             ],
             [
              0.5019607843137255,
              "rgb(203,26,79)"
             ],
             [
              0.5647058823529412,
              "rgb(223,47,67)"
             ],
             [
              0.6274509803921569,
              "rgb(236,76,61)"
             ],
             [
              0.6901960784313725,
              "rgb(242,107,73)"
             ],
             [
              0.7529411764705882,
              "rgb(244,135,95)"
             ],
             [
              0.8156862745098039,
              "rgb(245,162,122)"
             ],
             [
              0.8784313725490196,
              "rgb(246,188,153)"
             ],
             [
              0.9411764705882353,
              "rgb(247,212,187)"
             ],
             [
              1,
              "rgb(250,234,220)"
             ]
            ],
            "type": "histogram2d"
           }
          ],
          "histogram2dcontour": [
           {
            "colorbar": {
             "outlinewidth": 0,
             "tickcolor": "rgb(36,36,36)",
             "ticklen": 8,
             "ticks": "outside",
             "tickwidth": 2
            },
            "colorscale": [
             [
              0,
              "rgb(2,4,25)"
             ],
             [
              0.06274509803921569,
              "rgb(24,15,41)"
             ],
             [
              0.12549019607843137,
              "rgb(47,23,57)"
             ],
             [
              0.18823529411764706,
              "rgb(71,28,72)"
             ],
             [
              0.25098039215686274,
              "rgb(97,30,82)"
             ],
             [
              0.3137254901960784,
              "rgb(123,30,89)"
             ],
             [
              0.3764705882352941,
              "rgb(150,27,91)"
             ],
             [
              0.4392156862745098,
              "rgb(177,22,88)"
             ],
             [
              0.5019607843137255,
              "rgb(203,26,79)"
             ],
             [
              0.5647058823529412,
              "rgb(223,47,67)"
             ],
             [
              0.6274509803921569,
              "rgb(236,76,61)"
             ],
             [
              0.6901960784313725,
              "rgb(242,107,73)"
             ],
             [
              0.7529411764705882,
              "rgb(244,135,95)"
             ],
             [
              0.8156862745098039,
              "rgb(245,162,122)"
             ],
             [
              0.8784313725490196,
              "rgb(246,188,153)"
             ],
             [
              0.9411764705882353,
              "rgb(247,212,187)"
             ],
             [
              1,
              "rgb(250,234,220)"
             ]
            ],
            "type": "histogram2dcontour"
           }
          ],
          "mesh3d": [
           {
            "colorbar": {
             "outlinewidth": 0,
             "tickcolor": "rgb(36,36,36)",
             "ticklen": 8,
             "ticks": "outside",
             "tickwidth": 2
            },
            "type": "mesh3d"
           }
          ],
          "parcoords": [
           {
            "line": {
             "colorbar": {
              "outlinewidth": 0,
              "tickcolor": "rgb(36,36,36)",
              "ticklen": 8,
              "ticks": "outside",
              "tickwidth": 2
             }
            },
            "type": "parcoords"
           }
          ],
          "pie": [
           {
            "automargin": true,
            "type": "pie"
           }
          ],
          "scatter": [
           {
            "fillpattern": {
             "fillmode": "overlay",
             "size": 10,
             "solidity": 0.2
            },
            "type": "scatter"
           }
          ],
          "scatter3d": [
           {
            "line": {
             "colorbar": {
              "outlinewidth": 0,
              "tickcolor": "rgb(36,36,36)",
              "ticklen": 8,
              "ticks": "outside",
              "tickwidth": 2
             }
            },
            "marker": {
             "colorbar": {
              "outlinewidth": 0,
              "tickcolor": "rgb(36,36,36)",
              "ticklen": 8,
              "ticks": "outside",
              "tickwidth": 2
             }
            },
            "type": "scatter3d"
           }
          ],
          "scattercarpet": [
           {
            "marker": {
             "colorbar": {
              "outlinewidth": 0,
              "tickcolor": "rgb(36,36,36)",
              "ticklen": 8,
              "ticks": "outside",
              "tickwidth": 2
             }
            },
            "type": "scattercarpet"
           }
          ],
          "scattergeo": [
           {
            "marker": {
             "colorbar": {
              "outlinewidth": 0,
              "tickcolor": "rgb(36,36,36)",
              "ticklen": 8,
              "ticks": "outside",
              "tickwidth": 2
             }
            },
            "type": "scattergeo"
           }
          ],
          "scattergl": [
           {
            "marker": {
             "colorbar": {
              "outlinewidth": 0,
              "tickcolor": "rgb(36,36,36)",
              "ticklen": 8,
              "ticks": "outside",
              "tickwidth": 2
             }
            },
            "type": "scattergl"
           }
          ],
          "scattermapbox": [
           {
            "marker": {
             "colorbar": {
              "outlinewidth": 0,
              "tickcolor": "rgb(36,36,36)",
              "ticklen": 8,
              "ticks": "outside",
              "tickwidth": 2
             }
            },
            "type": "scattermapbox"
           }
          ],
          "scatterpolar": [
           {
            "marker": {
             "colorbar": {
              "outlinewidth": 0,
              "tickcolor": "rgb(36,36,36)",
              "ticklen": 8,
              "ticks": "outside",
              "tickwidth": 2
             }
            },
            "type": "scatterpolar"
           }
          ],
          "scatterpolargl": [
           {
            "marker": {
             "colorbar": {
              "outlinewidth": 0,
              "tickcolor": "rgb(36,36,36)",
              "ticklen": 8,
              "ticks": "outside",
              "tickwidth": 2
             }
            },
            "type": "scatterpolargl"
           }
          ],
          "scatterternary": [
           {
            "marker": {
             "colorbar": {
              "outlinewidth": 0,
              "tickcolor": "rgb(36,36,36)",
              "ticklen": 8,
              "ticks": "outside",
              "tickwidth": 2
             }
            },
            "type": "scatterternary"
           }
          ],
          "surface": [
           {
            "colorbar": {
             "outlinewidth": 0,
             "tickcolor": "rgb(36,36,36)",
             "ticklen": 8,
             "ticks": "outside",
             "tickwidth": 2
            },
            "colorscale": [
             [
              0,
              "rgb(2,4,25)"
             ],
             [
              0.06274509803921569,
              "rgb(24,15,41)"
             ],
             [
              0.12549019607843137,
              "rgb(47,23,57)"
             ],
             [
              0.18823529411764706,
              "rgb(71,28,72)"
             ],
             [
              0.25098039215686274,
              "rgb(97,30,82)"
             ],
             [
              0.3137254901960784,
              "rgb(123,30,89)"
             ],
             [
              0.3764705882352941,
              "rgb(150,27,91)"
             ],
             [
              0.4392156862745098,
              "rgb(177,22,88)"
             ],
             [
              0.5019607843137255,
              "rgb(203,26,79)"
             ],
             [
              0.5647058823529412,
              "rgb(223,47,67)"
             ],
             [
              0.6274509803921569,
              "rgb(236,76,61)"
             ],
             [
              0.6901960784313725,
              "rgb(242,107,73)"
             ],
             [
              0.7529411764705882,
              "rgb(244,135,95)"
             ],
             [
              0.8156862745098039,
              "rgb(245,162,122)"
             ],
             [
              0.8784313725490196,
              "rgb(246,188,153)"
             ],
             [
              0.9411764705882353,
              "rgb(247,212,187)"
             ],
             [
              1,
              "rgb(250,234,220)"
             ]
            ],
            "type": "surface"
           }
          ],
          "table": [
           {
            "cells": {
             "fill": {
              "color": "rgb(231,231,240)"
             },
             "line": {
              "color": "white"
             }
            },
            "header": {
             "fill": {
              "color": "rgb(183,183,191)"
             },
             "line": {
              "color": "white"
             }
            },
            "type": "table"
           }
          ]
         },
         "layout": {
          "annotationdefaults": {
           "arrowcolor": "rgb(67,103,167)"
          },
          "autotypenumbers": "strict",
          "coloraxis": {
           "colorbar": {
            "outlinewidth": 0,
            "tickcolor": "rgb(36,36,36)",
            "ticklen": 8,
            "ticks": "outside",
            "tickwidth": 2
           }
          },
          "colorscale": {
           "sequential": [
            [
             0,
             "rgb(2,4,25)"
            ],
            [
             0.06274509803921569,
             "rgb(24,15,41)"
            ],
            [
             0.12549019607843137,
             "rgb(47,23,57)"
            ],
            [
             0.18823529411764706,
             "rgb(71,28,72)"
            ],
            [
             0.25098039215686274,
             "rgb(97,30,82)"
            ],
            [
             0.3137254901960784,
             "rgb(123,30,89)"
            ],
            [
             0.3764705882352941,
             "rgb(150,27,91)"
            ],
            [
             0.4392156862745098,
             "rgb(177,22,88)"
            ],
            [
             0.5019607843137255,
             "rgb(203,26,79)"
            ],
            [
             0.5647058823529412,
             "rgb(223,47,67)"
            ],
            [
             0.6274509803921569,
             "rgb(236,76,61)"
            ],
            [
             0.6901960784313725,
             "rgb(242,107,73)"
            ],
            [
             0.7529411764705882,
             "rgb(244,135,95)"
            ],
            [
             0.8156862745098039,
             "rgb(245,162,122)"
            ],
            [
             0.8784313725490196,
             "rgb(246,188,153)"
            ],
            [
             0.9411764705882353,
             "rgb(247,212,187)"
            ],
            [
             1,
             "rgb(250,234,220)"
            ]
           ],
           "sequentialminus": [
            [
             0,
             "rgb(2,4,25)"
            ],
            [
             0.06274509803921569,
             "rgb(24,15,41)"
            ],
            [
             0.12549019607843137,
             "rgb(47,23,57)"
            ],
            [
             0.18823529411764706,
             "rgb(71,28,72)"
            ],
            [
             0.25098039215686274,
             "rgb(97,30,82)"
            ],
            [
             0.3137254901960784,
             "rgb(123,30,89)"
            ],
            [
             0.3764705882352941,
             "rgb(150,27,91)"
            ],
            [
             0.4392156862745098,
             "rgb(177,22,88)"
            ],
            [
             0.5019607843137255,
             "rgb(203,26,79)"
            ],
            [
             0.5647058823529412,
             "rgb(223,47,67)"
            ],
            [
             0.6274509803921569,
             "rgb(236,76,61)"
            ],
            [
             0.6901960784313725,
             "rgb(242,107,73)"
            ],
            [
             0.7529411764705882,
             "rgb(244,135,95)"
            ],
            [
             0.8156862745098039,
             "rgb(245,162,122)"
            ],
            [
             0.8784313725490196,
             "rgb(246,188,153)"
            ],
            [
             0.9411764705882353,
             "rgb(247,212,187)"
            ],
            [
             1,
             "rgb(250,234,220)"
            ]
           ]
          },
          "colorway": [
           "rgb(76,114,176)",
           "rgb(221,132,82)",
           "rgb(85,168,104)",
           "rgb(196,78,82)",
           "rgb(129,114,179)",
           "rgb(147,120,96)",
           "rgb(218,139,195)",
           "rgb(140,140,140)",
           "rgb(204,185,116)",
           "rgb(100,181,205)"
          ],
          "font": {
           "color": "rgb(36,36,36)"
          },
          "geo": {
           "bgcolor": "white",
           "lakecolor": "white",
           "landcolor": "rgb(234,234,242)",
           "showlakes": true,
           "showland": true,
           "subunitcolor": "white"
          },
          "hoverlabel": {
           "align": "left"
          },
          "hovermode": "closest",
          "paper_bgcolor": "white",
          "plot_bgcolor": "rgb(234,234,242)",
          "polar": {
           "angularaxis": {
            "gridcolor": "white",
            "linecolor": "white",
            "showgrid": true,
            "ticks": ""
           },
           "bgcolor": "rgb(234,234,242)",
           "radialaxis": {
            "gridcolor": "white",
            "linecolor": "white",
            "showgrid": true,
            "ticks": ""
           }
          },
          "scene": {
           "xaxis": {
            "backgroundcolor": "rgb(234,234,242)",
            "gridcolor": "white",
            "gridwidth": 2,
            "linecolor": "white",
            "showbackground": true,
            "showgrid": true,
            "ticks": "",
            "zerolinecolor": "white"
           },
           "yaxis": {
            "backgroundcolor": "rgb(234,234,242)",
            "gridcolor": "white",
            "gridwidth": 2,
            "linecolor": "white",
            "showbackground": true,
            "showgrid": true,
            "ticks": "",
            "zerolinecolor": "white"
           },
           "zaxis": {
            "backgroundcolor": "rgb(234,234,242)",
            "gridcolor": "white",
            "gridwidth": 2,
            "linecolor": "white",
            "showbackground": true,
            "showgrid": true,
            "ticks": "",
            "zerolinecolor": "white"
           }
          },
          "shapedefaults": {
           "fillcolor": "rgb(67,103,167)",
           "line": {
            "width": 0
           },
           "opacity": 0.5
          },
          "ternary": {
           "aaxis": {
            "gridcolor": "white",
            "linecolor": "white",
            "showgrid": true,
            "ticks": ""
           },
           "baxis": {
            "gridcolor": "white",
            "linecolor": "white",
            "showgrid": true,
            "ticks": ""
           },
           "bgcolor": "rgb(234,234,242)",
           "caxis": {
            "gridcolor": "white",
            "linecolor": "white",
            "showgrid": true,
            "ticks": ""
           }
          },
          "xaxis": {
           "automargin": true,
           "gridcolor": "white",
           "linecolor": "white",
           "showgrid": true,
           "ticks": "",
           "title": {
            "standoff": 15
           },
           "zerolinecolor": "white"
          },
          "yaxis": {
           "automargin": true,
           "gridcolor": "white",
           "linecolor": "white",
           "showgrid": true,
           "ticks": "",
           "title": {
            "standoff": 15
           },
           "zerolinecolor": "white"
          }
         }
        },
        "xaxis": {
         "anchor": "y",
         "categoryorder": "category ascending",
         "domain": [
          0,
          1
         ],
         "title": {
          "text": "発生時（始期）"
         }
        },
        "yaxis": {
         "anchor": "x",
         "domain": [
          0,
          1
         ],
         "title": {
          "text": "count"
         }
        }
       }
      }
     },
     "metadata": {},
     "output_type": "display_data"
    }
   ],
   "source": [
    "fig = px.bar(kashiwa,\n",
    "            x='発生時（始期）',\n",
    "            color='被害者の職業',\n",
    "            barmode='group', # group the categories,\n",
    "            template='seaborn'\n",
    "            )\n",
    "fig.update_traces(\n",
    "    marker_line_width=0\n",
    ")\n",
    "fig.update_xaxes(categoryorder='category ascending')\n",
    "fig.show()"
   ]
  },
  {
   "attachments": {},
   "cell_type": "markdown",
   "metadata": {
    "slideshow": {
     "slide_type": "slide"
    }
   },
   "source": [
    "`facet_col=`を足すと複数のチャートを一気に表示できる。"
   ]
  },
  {
   "cell_type": "code",
   "execution_count": 25,
   "metadata": {},
   "outputs": [
    {
     "data": {
      "application/vnd.plotly.v1+json": {
       "config": {
        "plotlyServerURL": "https://plot.ly"
       },
       "data": [
        {
         "alignmentgroup": "True",
         "hovertemplate": "被害者の職業=その他<br>発生時（始期）=%{x}<br>count=%{y}<extra></extra>",
         "legendgroup": "",
         "marker": {
          "color": "rgb(76,114,176)",
          "line": {
           "width": 0
          },
          "pattern": {
           "shape": ""
          }
         },
         "name": "",
         "offsetgroup": "",
         "orientation": "v",
         "showlegend": false,
         "textposition": "auto",
         "type": "bar",
         "x": [
          "00",
          "13",
          "22",
          "08",
          "16",
          "08",
          "17",
          "23",
          "04",
          "不明",
          "不明",
          "09",
          "17",
          "11",
          "19",
          "10",
          "21",
          "21",
          "20",
          "08",
          "16",
          "07",
          "20",
          "13",
          "13",
          "13",
          "06",
          "20",
          "23",
          "17",
          "16",
          "00",
          "不明",
          "22",
          "05",
          "12",
          "22",
          "15",
          "16",
          "12",
          "19",
          "15",
          "17",
          "21",
          "21",
          "12",
          "20",
          "14",
          "20",
          "12",
          "15",
          "00",
          "19",
          "20",
          "04",
          "14",
          "06",
          "18",
          "19",
          "06",
          "07",
          "19",
          "09",
          "11",
          "08",
          "12",
          "18",
          "17",
          "07",
          "19",
          "12",
          "13",
          "21",
          "21",
          "16",
          "18",
          "12",
          "17",
          "15",
          "20",
          "07",
          "12",
          "01",
          "06",
          "19",
          "18",
          "16",
          "19",
          "18",
          "06",
          "08",
          "19",
          "23",
          "23",
          "10",
          "18",
          "14",
          "18",
          "09",
          "23",
          "08",
          "12",
          "18",
          "11",
          "17",
          "12",
          "16",
          "14",
          "11",
          "08",
          "08",
          "18",
          "19",
          "20",
          "12",
          "15",
          "14",
          "11",
          "11",
          "22",
          "11",
          "19",
          "18",
          "16",
          "13",
          "10",
          "12",
          "17",
          "20",
          "15",
          "12",
          "20",
          "08",
          "18",
          "12",
          "09",
          "19",
          "14",
          "20",
          "15",
          "12",
          "18",
          "16",
          "10",
          "11",
          "10",
          "16",
          "23",
          "16",
          "14",
          "16",
          "09",
          "19",
          "22",
          "12",
          "08",
          "09",
          "09",
          "13",
          "05",
          "06",
          "21",
          "00",
          "06",
          "12",
          "10",
          "19",
          "20",
          "07",
          "20",
          "10",
          "10",
          "09",
          "09",
          "09",
          "12",
          "20",
          "19",
          "18",
          "00",
          "14",
          "18",
          "10",
          "07",
          "18",
          "18",
          "09",
          "08",
          "08",
          "20",
          "15",
          "20",
          "19",
          "17",
          "19",
          "15",
          "10",
          "10",
          "17",
          "18",
          "18",
          "05",
          "06",
          "18",
          "17",
          "18",
          "17",
          "00",
          "12",
          "18",
          "06",
          "15",
          "20",
          "12",
          "16",
          "17",
          "22",
          "11",
          "17",
          "18",
          "08",
          "20",
          "13",
          "12",
          "13",
          "19",
          "17",
          "15",
          "16",
          "22",
          "00",
          "17",
          "12",
          "20",
          "07",
          "不明",
          "16",
          "20",
          "13",
          "18",
          "21",
          "08",
          "19",
          "14",
          "18",
          "20",
          "20",
          "19",
          "11",
          "18",
          "08",
          "16",
          "08",
          "19",
          "18",
          "18",
          "08"
         ],
         "xaxis": "x",
         "y": [
          1,
          1,
          1,
          1,
          1,
          1,
          1,
          1,
          1,
          1,
          1,
          1,
          1,
          1,
          1,
          1,
          1,
          1,
          1,
          1,
          1,
          1,
          1,
          1,
          1,
          1,
          1,
          1,
          1,
          1,
          1,
          1,
          1,
          1,
          1,
          1,
          1,
          1,
          1,
          1,
          1,
          1,
          1,
          1,
          1,
          1,
          1,
          1,
          1,
          1,
          1,
          1,
          1,
          1,
          1,
          1,
          1,
          1,
          1,
          1,
          1,
          1,
          1,
          1,
          1,
          1,
          1,
          1,
          1,
          1,
          1,
          1,
          1,
          1,
          1,
          1,
          1,
          1,
          1,
          1,
          1,
          1,
          1,
          1,
          1,
          1,
          1,
          1,
          1,
          1,
          1,
          1,
          1,
          1,
          1,
          1,
          1,
          1,
          1,
          1,
          1,
          1,
          1,
          1,
          1,
          1,
          1,
          1,
          1,
          1,
          1,
          1,
          1,
          1,
          1,
          1,
          1,
          1,
          1,
          1,
          1,
          1,
          1,
          1,
          1,
          1,
          1,
          1,
          1,
          1,
          1,
          1,
          1,
          1,
          1,
          1,
          1,
          1,
          1,
          1,
          1,
          1,
          1,
          1,
          1,
          1,
          1,
          1,
          1,
          1,
          1,
          1,
          1,
          1,
          1,
          1,
          1,
          1,
          1,
          1,
          1,
          1,
          1,
          1,
          1,
          1,
          1,
          1,
          1,
          1,
          1,
          1,
          1,
          1,
          1,
          1,
          1,
          1,
          1,
          1,
          1,
          1,
          1,
          1,
          1,
          1,
          1,
          1,
          1,
          1,
          1,
          1,
          1,
          1,
          1,
          1,
          1,
          1,
          1,
          1,
          1,
          1,
          1,
          1,
          1,
          1,
          1,
          1,
          1,
          1,
          1,
          1,
          1,
          1,
          1,
          1,
          1,
          1,
          1,
          1,
          1,
          1,
          1,
          1,
          1,
          1,
          1,
          1,
          1,
          1,
          1,
          1,
          1,
          1,
          1,
          1,
          1,
          1,
          1,
          1,
          1,
          1,
          1,
          1,
          1,
          1,
          1,
          1,
          1,
          1,
          1,
          1,
          1,
          1,
          1,
          1,
          1
         ],
         "yaxis": "y"
        },
        {
         "alignmentgroup": "True",
         "hovertemplate": "被害者の職業=中学生<br>発生時（始期）=%{x}<br>count=%{y}<extra></extra>",
         "legendgroup": "",
         "marker": {
          "color": "rgb(76,114,176)",
          "line": {
           "width": 0
          },
          "pattern": {
           "shape": ""
          }
         },
         "name": "",
         "offsetgroup": "",
         "orientation": "v",
         "showlegend": false,
         "textposition": "auto",
         "type": "bar",
         "x": [
          "22",
          "18",
          "21",
          "19",
          "15",
          "13",
          "21",
          "15",
          "18",
          "14",
          "19",
          "02",
          "08",
          "13",
          "19",
          "11",
          "16",
          "13",
          "18",
          "10",
          "18",
          "06",
          "09",
          "20",
          "08",
          "11",
          "18",
          "21",
          "10",
          "18",
          "18",
          "21",
          "19",
          "13",
          "07",
          "16",
          "10",
          "17",
          "13",
          "06",
          "21",
          "14",
          "18",
          "08",
          "15",
          "20",
          "23",
          "19",
          "18",
          "18",
          "12"
         ],
         "xaxis": "x2",
         "y": [
          1,
          1,
          1,
          1,
          1,
          1,
          1,
          1,
          1,
          1,
          1,
          1,
          1,
          1,
          1,
          1,
          1,
          1,
          1,
          1,
          1,
          1,
          1,
          1,
          1,
          1,
          1,
          1,
          1,
          1,
          1,
          1,
          1,
          1,
          1,
          1,
          1,
          1,
          1,
          1,
          1,
          1,
          1,
          1,
          1,
          1,
          1,
          1,
          1,
          1,
          1
         ],
         "yaxis": "y2"
        },
        {
         "alignmentgroup": "True",
         "hovertemplate": "被害者の職業=小学生<br>発生時（始期）=%{x}<br>count=%{y}<extra></extra>",
         "legendgroup": "",
         "marker": {
          "color": "rgb(76,114,176)",
          "line": {
           "width": 0
          },
          "pattern": {
           "shape": ""
          }
         },
         "name": "",
         "offsetgroup": "",
         "orientation": "v",
         "showlegend": false,
         "textposition": "auto",
         "type": "bar",
         "x": [
          "15",
          "17",
          "08",
          "19",
          "08",
          "19",
          "11",
          "14",
          "15",
          "16",
          "17",
          "13",
          "15",
          "14",
          "17",
          "08",
          "15",
          "17",
          "15",
          "21",
          "19",
          "11",
          "19",
          "16"
         ],
         "xaxis": "x3",
         "y": [
          1,
          1,
          1,
          1,
          1,
          1,
          1,
          1,
          1,
          1,
          1,
          1,
          1,
          1,
          1,
          1,
          1,
          1,
          1,
          1,
          1,
          1,
          1,
          1
         ],
         "yaxis": "y3"
        },
        {
         "alignmentgroup": "True",
         "hovertemplate": "被害者の職業=高校生<br>発生時（始期）=%{x}<br>count=%{y}<extra></extra>",
         "legendgroup": "",
         "marker": {
          "color": "rgb(76,114,176)",
          "line": {
           "width": 0
          },
          "pattern": {
           "shape": ""
          }
         },
         "name": "",
         "offsetgroup": "",
         "orientation": "v",
         "showlegend": false,
         "textposition": "auto",
         "type": "bar",
         "x": [
          "21",
          "07",
          "20",
          "07",
          "07",
          "23",
          "08",
          "08",
          "06",
          "07",
          "17",
          "17",
          "15",
          "18",
          "18",
          "08",
          "07",
          "09",
          "16",
          "14",
          "15",
          "08",
          "07",
          "17",
          "07",
          "21",
          "19",
          "14",
          "14",
          "13",
          "18",
          "16",
          "11",
          "18",
          "13",
          "21",
          "11",
          "17",
          "16",
          "20",
          "13",
          "08",
          "13",
          "16",
          "11",
          "14",
          "00",
          "13",
          "13",
          "11",
          "16",
          "17",
          "17",
          "20",
          "17",
          "08",
          "13",
          "20",
          "12",
          "16",
          "19",
          "08",
          "19",
          "07",
          "12",
          "16",
          "08",
          "20",
          "16",
          "20",
          "07",
          "08",
          "17",
          "19",
          "08",
          "18",
          "16",
          "19",
          "19",
          "16",
          "20",
          "16",
          "21",
          "12",
          "21",
          "07",
          "17",
          "09",
          "10"
         ],
         "xaxis": "x4",
         "y": [
          1,
          1,
          1,
          1,
          1,
          1,
          1,
          1,
          1,
          1,
          1,
          1,
          1,
          1,
          1,
          1,
          1,
          1,
          1,
          1,
          1,
          1,
          1,
          1,
          1,
          1,
          1,
          1,
          1,
          1,
          1,
          1,
          1,
          1,
          1,
          1,
          1,
          1,
          1,
          1,
          1,
          1,
          1,
          1,
          1,
          1,
          1,
          1,
          1,
          1,
          1,
          1,
          1,
          1,
          1,
          1,
          1,
          1,
          1,
          1,
          1,
          1,
          1,
          1,
          1,
          1,
          1,
          1,
          1,
          1,
          1,
          1,
          1,
          1,
          1,
          1,
          1,
          1,
          1,
          1,
          1,
          1,
          1,
          1,
          1,
          1,
          1,
          1,
          1
         ],
         "yaxis": "y4"
        },
        {
         "alignmentgroup": "True",
         "hovertemplate": "被害者の職業=大学生<br>発生時（始期）=%{x}<br>count=%{y}<extra></extra>",
         "legendgroup": "",
         "marker": {
          "color": "rgb(76,114,176)",
          "line": {
           "width": 0
          },
          "pattern": {
           "shape": ""
          }
         },
         "name": "",
         "offsetgroup": "",
         "orientation": "v",
         "showlegend": false,
         "textposition": "auto",
         "type": "bar",
         "x": [
          "14",
          "17",
          "10",
          "18",
          "16",
          "07",
          "22",
          "14",
          "19",
          "16",
          "09",
          "19",
          "07",
          "15",
          "10",
          "08",
          "16",
          "22",
          "08",
          "13",
          "07",
          "10",
          "09",
          "12",
          "00",
          "12",
          "15",
          "不明",
          "09",
          "19",
          "17",
          "11",
          "16",
          "10",
          "08",
          "22",
          "15",
          "10",
          "16",
          "23",
          "07",
          "13",
          "09",
          "14",
          "18",
          "08"
         ],
         "xaxis": "x5",
         "y": [
          1,
          1,
          1,
          1,
          1,
          1,
          1,
          1,
          1,
          1,
          1,
          1,
          1,
          1,
          1,
          1,
          1,
          1,
          1,
          1,
          1,
          1,
          1,
          1,
          1,
          1,
          1,
          1,
          1,
          1,
          1,
          1,
          1,
          1,
          1,
          1,
          1,
          1,
          1,
          1,
          1,
          1,
          1,
          1,
          1,
          1
         ],
         "yaxis": "y5"
        },
        {
         "alignmentgroup": "True",
         "hovertemplate": "被害者の職業=法人・団体、被害者なし<br>発生時（始期）=%{x}<br>count=%{y}<extra></extra>",
         "legendgroup": "",
         "marker": {
          "color": "rgb(76,114,176)",
          "line": {
           "width": 0
          },
          "pattern": {
           "shape": ""
          }
         },
         "name": "",
         "offsetgroup": "",
         "orientation": "v",
         "showlegend": false,
         "textposition": "auto",
         "type": "bar",
         "x": [
          "20",
          "不明",
          "07",
          "20"
         ],
         "xaxis": "x6",
         "y": [
          1,
          1,
          1,
          1
         ],
         "yaxis": "y6"
        }
       ],
       "layout": {
        "annotations": [
         {
          "font": {},
          "showarrow": false,
          "text": "被害者の職業=その他",
          "x": 0.075,
          "xanchor": "center",
          "xref": "paper",
          "y": 1,
          "yanchor": "bottom",
          "yref": "paper"
         },
         {
          "font": {},
          "showarrow": false,
          "text": "被害者の職業=中学生",
          "x": 0.24499999999999997,
          "xanchor": "center",
          "xref": "paper",
          "y": 1,
          "yanchor": "bottom",
          "yref": "paper"
         },
         {
          "font": {},
          "showarrow": false,
          "text": "被害者の職業=小学生",
          "x": 0.415,
          "xanchor": "center",
          "xref": "paper",
          "y": 1,
          "yanchor": "bottom",
          "yref": "paper"
         },
         {
          "font": {},
          "showarrow": false,
          "text": "被害者の職業=高校生",
          "x": 0.585,
          "xanchor": "center",
          "xref": "paper",
          "y": 1,
          "yanchor": "bottom",
          "yref": "paper"
         },
         {
          "font": {},
          "showarrow": false,
          "text": "被害者の職業=大学生",
          "x": 0.7549999999999999,
          "xanchor": "center",
          "xref": "paper",
          "y": 1,
          "yanchor": "bottom",
          "yref": "paper"
         },
         {
          "font": {},
          "showarrow": false,
          "text": "被害者の職業=法人・団体、被害者なし",
          "x": 0.925,
          "xanchor": "center",
          "xref": "paper",
          "y": 1,
          "yanchor": "bottom",
          "yref": "paper"
         }
        ],
        "barmode": "relative",
        "legend": {
         "tracegroupgap": 0
        },
        "margin": {
         "t": 60
        },
        "template": {
         "data": {
          "bar": [
           {
            "error_x": {
             "color": "rgb(36,36,36)"
            },
            "error_y": {
             "color": "rgb(36,36,36)"
            },
            "marker": {
             "line": {
              "color": "rgb(234,234,242)",
              "width": 0.5
             },
             "pattern": {
              "fillmode": "overlay",
              "size": 10,
              "solidity": 0.2
             }
            },
            "type": "bar"
           }
          ],
          "barpolar": [
           {
            "marker": {
             "line": {
              "color": "rgb(234,234,242)",
              "width": 0.5
             },
             "pattern": {
              "fillmode": "overlay",
              "size": 10,
              "solidity": 0.2
             }
            },
            "type": "barpolar"
           }
          ],
          "carpet": [
           {
            "aaxis": {
             "endlinecolor": "rgb(36,36,36)",
             "gridcolor": "white",
             "linecolor": "white",
             "minorgridcolor": "white",
             "startlinecolor": "rgb(36,36,36)"
            },
            "baxis": {
             "endlinecolor": "rgb(36,36,36)",
             "gridcolor": "white",
             "linecolor": "white",
             "minorgridcolor": "white",
             "startlinecolor": "rgb(36,36,36)"
            },
            "type": "carpet"
           }
          ],
          "choropleth": [
           {
            "colorbar": {
             "outlinewidth": 0,
             "tickcolor": "rgb(36,36,36)",
             "ticklen": 8,
             "ticks": "outside",
             "tickwidth": 2
            },
            "type": "choropleth"
           }
          ],
          "contour": [
           {
            "colorbar": {
             "outlinewidth": 0,
             "tickcolor": "rgb(36,36,36)",
             "ticklen": 8,
             "ticks": "outside",
             "tickwidth": 2
            },
            "colorscale": [
             [
              0,
              "rgb(2,4,25)"
             ],
             [
              0.06274509803921569,
              "rgb(24,15,41)"
             ],
             [
              0.12549019607843137,
              "rgb(47,23,57)"
             ],
             [
              0.18823529411764706,
              "rgb(71,28,72)"
             ],
             [
              0.25098039215686274,
              "rgb(97,30,82)"
             ],
             [
              0.3137254901960784,
              "rgb(123,30,89)"
             ],
             [
              0.3764705882352941,
              "rgb(150,27,91)"
             ],
             [
              0.4392156862745098,
              "rgb(177,22,88)"
             ],
             [
              0.5019607843137255,
              "rgb(203,26,79)"
             ],
             [
              0.5647058823529412,
              "rgb(223,47,67)"
             ],
             [
              0.6274509803921569,
              "rgb(236,76,61)"
             ],
             [
              0.6901960784313725,
              "rgb(242,107,73)"
             ],
             [
              0.7529411764705882,
              "rgb(244,135,95)"
             ],
             [
              0.8156862745098039,
              "rgb(245,162,122)"
             ],
             [
              0.8784313725490196,
              "rgb(246,188,153)"
             ],
             [
              0.9411764705882353,
              "rgb(247,212,187)"
             ],
             [
              1,
              "rgb(250,234,220)"
             ]
            ],
            "type": "contour"
           }
          ],
          "contourcarpet": [
           {
            "colorbar": {
             "outlinewidth": 0,
             "tickcolor": "rgb(36,36,36)",
             "ticklen": 8,
             "ticks": "outside",
             "tickwidth": 2
            },
            "type": "contourcarpet"
           }
          ],
          "heatmap": [
           {
            "colorbar": {
             "outlinewidth": 0,
             "tickcolor": "rgb(36,36,36)",
             "ticklen": 8,
             "ticks": "outside",
             "tickwidth": 2
            },
            "colorscale": [
             [
              0,
              "rgb(2,4,25)"
             ],
             [
              0.06274509803921569,
              "rgb(24,15,41)"
             ],
             [
              0.12549019607843137,
              "rgb(47,23,57)"
             ],
             [
              0.18823529411764706,
              "rgb(71,28,72)"
             ],
             [
              0.25098039215686274,
              "rgb(97,30,82)"
             ],
             [
              0.3137254901960784,
              "rgb(123,30,89)"
             ],
             [
              0.3764705882352941,
              "rgb(150,27,91)"
             ],
             [
              0.4392156862745098,
              "rgb(177,22,88)"
             ],
             [
              0.5019607843137255,
              "rgb(203,26,79)"
             ],
             [
              0.5647058823529412,
              "rgb(223,47,67)"
             ],
             [
              0.6274509803921569,
              "rgb(236,76,61)"
             ],
             [
              0.6901960784313725,
              "rgb(242,107,73)"
             ],
             [
              0.7529411764705882,
              "rgb(244,135,95)"
             ],
             [
              0.8156862745098039,
              "rgb(245,162,122)"
             ],
             [
              0.8784313725490196,
              "rgb(246,188,153)"
             ],
             [
              0.9411764705882353,
              "rgb(247,212,187)"
             ],
             [
              1,
              "rgb(250,234,220)"
             ]
            ],
            "type": "heatmap"
           }
          ],
          "heatmapgl": [
           {
            "colorbar": {
             "outlinewidth": 0,
             "tickcolor": "rgb(36,36,36)",
             "ticklen": 8,
             "ticks": "outside",
             "tickwidth": 2
            },
            "colorscale": [
             [
              0,
              "rgb(2,4,25)"
             ],
             [
              0.06274509803921569,
              "rgb(24,15,41)"
             ],
             [
              0.12549019607843137,
              "rgb(47,23,57)"
             ],
             [
              0.18823529411764706,
              "rgb(71,28,72)"
             ],
             [
              0.25098039215686274,
              "rgb(97,30,82)"
             ],
             [
              0.3137254901960784,
              "rgb(123,30,89)"
             ],
             [
              0.3764705882352941,
              "rgb(150,27,91)"
             ],
             [
              0.4392156862745098,
              "rgb(177,22,88)"
             ],
             [
              0.5019607843137255,
              "rgb(203,26,79)"
             ],
             [
              0.5647058823529412,
              "rgb(223,47,67)"
             ],
             [
              0.6274509803921569,
              "rgb(236,76,61)"
             ],
             [
              0.6901960784313725,
              "rgb(242,107,73)"
             ],
             [
              0.7529411764705882,
              "rgb(244,135,95)"
             ],
             [
              0.8156862745098039,
              "rgb(245,162,122)"
             ],
             [
              0.8784313725490196,
              "rgb(246,188,153)"
             ],
             [
              0.9411764705882353,
              "rgb(247,212,187)"
             ],
             [
              1,
              "rgb(250,234,220)"
             ]
            ],
            "type": "heatmapgl"
           }
          ],
          "histogram": [
           {
            "marker": {
             "pattern": {
              "fillmode": "overlay",
              "size": 10,
              "solidity": 0.2
             }
            },
            "type": "histogram"
           }
          ],
          "histogram2d": [
           {
            "colorbar": {
             "outlinewidth": 0,
             "tickcolor": "rgb(36,36,36)",
             "ticklen": 8,
             "ticks": "outside",
             "tickwidth": 2
            },
            "colorscale": [
             [
              0,
              "rgb(2,4,25)"
             ],
             [
              0.06274509803921569,
              "rgb(24,15,41)"
             ],
             [
              0.12549019607843137,
              "rgb(47,23,57)"
             ],
             [
              0.18823529411764706,
              "rgb(71,28,72)"
             ],
             [
              0.25098039215686274,
              "rgb(97,30,82)"
             ],
             [
              0.3137254901960784,
              "rgb(123,30,89)"
             ],
             [
              0.3764705882352941,
              "rgb(150,27,91)"
             ],
             [
              0.4392156862745098,
              "rgb(177,22,88)"
             ],
             [
              0.5019607843137255,
              "rgb(203,26,79)"
             ],
             [
              0.5647058823529412,
              "rgb(223,47,67)"
             ],
             [
              0.6274509803921569,
              "rgb(236,76,61)"
             ],
             [
              0.6901960784313725,
              "rgb(242,107,73)"
             ],
             [
              0.7529411764705882,
              "rgb(244,135,95)"
             ],
             [
              0.8156862745098039,
              "rgb(245,162,122)"
             ],
             [
              0.8784313725490196,
              "rgb(246,188,153)"
             ],
             [
              0.9411764705882353,
              "rgb(247,212,187)"
             ],
             [
              1,
              "rgb(250,234,220)"
             ]
            ],
            "type": "histogram2d"
           }
          ],
          "histogram2dcontour": [
           {
            "colorbar": {
             "outlinewidth": 0,
             "tickcolor": "rgb(36,36,36)",
             "ticklen": 8,
             "ticks": "outside",
             "tickwidth": 2
            },
            "colorscale": [
             [
              0,
              "rgb(2,4,25)"
             ],
             [
              0.06274509803921569,
              "rgb(24,15,41)"
             ],
             [
              0.12549019607843137,
              "rgb(47,23,57)"
             ],
             [
              0.18823529411764706,
              "rgb(71,28,72)"
             ],
             [
              0.25098039215686274,
              "rgb(97,30,82)"
             ],
             [
              0.3137254901960784,
              "rgb(123,30,89)"
             ],
             [
              0.3764705882352941,
              "rgb(150,27,91)"
             ],
             [
              0.4392156862745098,
              "rgb(177,22,88)"
             ],
             [
              0.5019607843137255,
              "rgb(203,26,79)"
             ],
             [
              0.5647058823529412,
              "rgb(223,47,67)"
             ],
             [
              0.6274509803921569,
              "rgb(236,76,61)"
             ],
             [
              0.6901960784313725,
              "rgb(242,107,73)"
             ],
             [
              0.7529411764705882,
              "rgb(244,135,95)"
             ],
             [
              0.8156862745098039,
              "rgb(245,162,122)"
             ],
             [
              0.8784313725490196,
              "rgb(246,188,153)"
             ],
             [
              0.9411764705882353,
              "rgb(247,212,187)"
             ],
             [
              1,
              "rgb(250,234,220)"
             ]
            ],
            "type": "histogram2dcontour"
           }
          ],
          "mesh3d": [
           {
            "colorbar": {
             "outlinewidth": 0,
             "tickcolor": "rgb(36,36,36)",
             "ticklen": 8,
             "ticks": "outside",
             "tickwidth": 2
            },
            "type": "mesh3d"
           }
          ],
          "parcoords": [
           {
            "line": {
             "colorbar": {
              "outlinewidth": 0,
              "tickcolor": "rgb(36,36,36)",
              "ticklen": 8,
              "ticks": "outside",
              "tickwidth": 2
             }
            },
            "type": "parcoords"
           }
          ],
          "pie": [
           {
            "automargin": true,
            "type": "pie"
           }
          ],
          "scatter": [
           {
            "fillpattern": {
             "fillmode": "overlay",
             "size": 10,
             "solidity": 0.2
            },
            "type": "scatter"
           }
          ],
          "scatter3d": [
           {
            "line": {
             "colorbar": {
              "outlinewidth": 0,
              "tickcolor": "rgb(36,36,36)",
              "ticklen": 8,
              "ticks": "outside",
              "tickwidth": 2
             }
            },
            "marker": {
             "colorbar": {
              "outlinewidth": 0,
              "tickcolor": "rgb(36,36,36)",
              "ticklen": 8,
              "ticks": "outside",
              "tickwidth": 2
             }
            },
            "type": "scatter3d"
           }
          ],
          "scattercarpet": [
           {
            "marker": {
             "colorbar": {
              "outlinewidth": 0,
              "tickcolor": "rgb(36,36,36)",
              "ticklen": 8,
              "ticks": "outside",
              "tickwidth": 2
             }
            },
            "type": "scattercarpet"
           }
          ],
          "scattergeo": [
           {
            "marker": {
             "colorbar": {
              "outlinewidth": 0,
              "tickcolor": "rgb(36,36,36)",
              "ticklen": 8,
              "ticks": "outside",
              "tickwidth": 2
             }
            },
            "type": "scattergeo"
           }
          ],
          "scattergl": [
           {
            "marker": {
             "colorbar": {
              "outlinewidth": 0,
              "tickcolor": "rgb(36,36,36)",
              "ticklen": 8,
              "ticks": "outside",
              "tickwidth": 2
             }
            },
            "type": "scattergl"
           }
          ],
          "scattermapbox": [
           {
            "marker": {
             "colorbar": {
              "outlinewidth": 0,
              "tickcolor": "rgb(36,36,36)",
              "ticklen": 8,
              "ticks": "outside",
              "tickwidth": 2
             }
            },
            "type": "scattermapbox"
           }
          ],
          "scatterpolar": [
           {
            "marker": {
             "colorbar": {
              "outlinewidth": 0,
              "tickcolor": "rgb(36,36,36)",
              "ticklen": 8,
              "ticks": "outside",
              "tickwidth": 2
             }
            },
            "type": "scatterpolar"
           }
          ],
          "scatterpolargl": [
           {
            "marker": {
             "colorbar": {
              "outlinewidth": 0,
              "tickcolor": "rgb(36,36,36)",
              "ticklen": 8,
              "ticks": "outside",
              "tickwidth": 2
             }
            },
            "type": "scatterpolargl"
           }
          ],
          "scatterternary": [
           {
            "marker": {
             "colorbar": {
              "outlinewidth": 0,
              "tickcolor": "rgb(36,36,36)",
              "ticklen": 8,
              "ticks": "outside",
              "tickwidth": 2
             }
            },
            "type": "scatterternary"
           }
          ],
          "surface": [
           {
            "colorbar": {
             "outlinewidth": 0,
             "tickcolor": "rgb(36,36,36)",
             "ticklen": 8,
             "ticks": "outside",
             "tickwidth": 2
            },
            "colorscale": [
             [
              0,
              "rgb(2,4,25)"
             ],
             [
              0.06274509803921569,
              "rgb(24,15,41)"
             ],
             [
              0.12549019607843137,
              "rgb(47,23,57)"
             ],
             [
              0.18823529411764706,
              "rgb(71,28,72)"
             ],
             [
              0.25098039215686274,
              "rgb(97,30,82)"
             ],
             [
              0.3137254901960784,
              "rgb(123,30,89)"
             ],
             [
              0.3764705882352941,
              "rgb(150,27,91)"
             ],
             [
              0.4392156862745098,
              "rgb(177,22,88)"
             ],
             [
              0.5019607843137255,
              "rgb(203,26,79)"
             ],
             [
              0.5647058823529412,
              "rgb(223,47,67)"
             ],
             [
              0.6274509803921569,
              "rgb(236,76,61)"
             ],
             [
              0.6901960784313725,
              "rgb(242,107,73)"
             ],
             [
              0.7529411764705882,
              "rgb(244,135,95)"
             ],
             [
              0.8156862745098039,
              "rgb(245,162,122)"
             ],
             [
              0.8784313725490196,
              "rgb(246,188,153)"
             ],
             [
              0.9411764705882353,
              "rgb(247,212,187)"
             ],
             [
              1,
              "rgb(250,234,220)"
             ]
            ],
            "type": "surface"
           }
          ],
          "table": [
           {
            "cells": {
             "fill": {
              "color": "rgb(231,231,240)"
             },
             "line": {
              "color": "white"
             }
            },
            "header": {
             "fill": {
              "color": "rgb(183,183,191)"
             },
             "line": {
              "color": "white"
             }
            },
            "type": "table"
           }
          ]
         },
         "layout": {
          "annotationdefaults": {
           "arrowcolor": "rgb(67,103,167)"
          },
          "autotypenumbers": "strict",
          "coloraxis": {
           "colorbar": {
            "outlinewidth": 0,
            "tickcolor": "rgb(36,36,36)",
            "ticklen": 8,
            "ticks": "outside",
            "tickwidth": 2
           }
          },
          "colorscale": {
           "sequential": [
            [
             0,
             "rgb(2,4,25)"
            ],
            [
             0.06274509803921569,
             "rgb(24,15,41)"
            ],
            [
             0.12549019607843137,
             "rgb(47,23,57)"
            ],
            [
             0.18823529411764706,
             "rgb(71,28,72)"
            ],
            [
             0.25098039215686274,
             "rgb(97,30,82)"
            ],
            [
             0.3137254901960784,
             "rgb(123,30,89)"
            ],
            [
             0.3764705882352941,
             "rgb(150,27,91)"
            ],
            [
             0.4392156862745098,
             "rgb(177,22,88)"
            ],
            [
             0.5019607843137255,
             "rgb(203,26,79)"
            ],
            [
             0.5647058823529412,
             "rgb(223,47,67)"
            ],
            [
             0.6274509803921569,
             "rgb(236,76,61)"
            ],
            [
             0.6901960784313725,
             "rgb(242,107,73)"
            ],
            [
             0.7529411764705882,
             "rgb(244,135,95)"
            ],
            [
             0.8156862745098039,
             "rgb(245,162,122)"
            ],
            [
             0.8784313725490196,
             "rgb(246,188,153)"
            ],
            [
             0.9411764705882353,
             "rgb(247,212,187)"
            ],
            [
             1,
             "rgb(250,234,220)"
            ]
           ],
           "sequentialminus": [
            [
             0,
             "rgb(2,4,25)"
            ],
            [
             0.06274509803921569,
             "rgb(24,15,41)"
            ],
            [
             0.12549019607843137,
             "rgb(47,23,57)"
            ],
            [
             0.18823529411764706,
             "rgb(71,28,72)"
            ],
            [
             0.25098039215686274,
             "rgb(97,30,82)"
            ],
            [
             0.3137254901960784,
             "rgb(123,30,89)"
            ],
            [
             0.3764705882352941,
             "rgb(150,27,91)"
            ],
            [
             0.4392156862745098,
             "rgb(177,22,88)"
            ],
            [
             0.5019607843137255,
             "rgb(203,26,79)"
            ],
            [
             0.5647058823529412,
             "rgb(223,47,67)"
            ],
            [
             0.6274509803921569,
             "rgb(236,76,61)"
            ],
            [
             0.6901960784313725,
             "rgb(242,107,73)"
            ],
            [
             0.7529411764705882,
             "rgb(244,135,95)"
            ],
            [
             0.8156862745098039,
             "rgb(245,162,122)"
            ],
            [
             0.8784313725490196,
             "rgb(246,188,153)"
            ],
            [
             0.9411764705882353,
             "rgb(247,212,187)"
            ],
            [
             1,
             "rgb(250,234,220)"
            ]
           ]
          },
          "colorway": [
           "rgb(76,114,176)",
           "rgb(221,132,82)",
           "rgb(85,168,104)",
           "rgb(196,78,82)",
           "rgb(129,114,179)",
           "rgb(147,120,96)",
           "rgb(218,139,195)",
           "rgb(140,140,140)",
           "rgb(204,185,116)",
           "rgb(100,181,205)"
          ],
          "font": {
           "color": "rgb(36,36,36)"
          },
          "geo": {
           "bgcolor": "white",
           "lakecolor": "white",
           "landcolor": "rgb(234,234,242)",
           "showlakes": true,
           "showland": true,
           "subunitcolor": "white"
          },
          "hoverlabel": {
           "align": "left"
          },
          "hovermode": "closest",
          "paper_bgcolor": "white",
          "plot_bgcolor": "rgb(234,234,242)",
          "polar": {
           "angularaxis": {
            "gridcolor": "white",
            "linecolor": "white",
            "showgrid": true,
            "ticks": ""
           },
           "bgcolor": "rgb(234,234,242)",
           "radialaxis": {
            "gridcolor": "white",
            "linecolor": "white",
            "showgrid": true,
            "ticks": ""
           }
          },
          "scene": {
           "xaxis": {
            "backgroundcolor": "rgb(234,234,242)",
            "gridcolor": "white",
            "gridwidth": 2,
            "linecolor": "white",
            "showbackground": true,
            "showgrid": true,
            "ticks": "",
            "zerolinecolor": "white"
           },
           "yaxis": {
            "backgroundcolor": "rgb(234,234,242)",
            "gridcolor": "white",
            "gridwidth": 2,
            "linecolor": "white",
            "showbackground": true,
            "showgrid": true,
            "ticks": "",
            "zerolinecolor": "white"
           },
           "zaxis": {
            "backgroundcolor": "rgb(234,234,242)",
            "gridcolor": "white",
            "gridwidth": 2,
            "linecolor": "white",
            "showbackground": true,
            "showgrid": true,
            "ticks": "",
            "zerolinecolor": "white"
           }
          },
          "shapedefaults": {
           "fillcolor": "rgb(67,103,167)",
           "line": {
            "width": 0
           },
           "opacity": 0.5
          },
          "ternary": {
           "aaxis": {
            "gridcolor": "white",
            "linecolor": "white",
            "showgrid": true,
            "ticks": ""
           },
           "baxis": {
            "gridcolor": "white",
            "linecolor": "white",
            "showgrid": true,
            "ticks": ""
           },
           "bgcolor": "rgb(234,234,242)",
           "caxis": {
            "gridcolor": "white",
            "linecolor": "white",
            "showgrid": true,
            "ticks": ""
           }
          },
          "xaxis": {
           "automargin": true,
           "gridcolor": "white",
           "linecolor": "white",
           "showgrid": true,
           "ticks": "",
           "title": {
            "standoff": 15
           },
           "zerolinecolor": "white"
          },
          "yaxis": {
           "automargin": true,
           "gridcolor": "white",
           "linecolor": "white",
           "showgrid": true,
           "ticks": "",
           "title": {
            "standoff": 15
           },
           "zerolinecolor": "white"
          }
         }
        },
        "xaxis": {
         "anchor": "y",
         "categoryorder": "category ascending",
         "domain": [
          0,
          0.15
         ],
         "title": {
          "text": "発生時（始期）"
         }
        },
        "xaxis2": {
         "anchor": "y2",
         "categoryorder": "category ascending",
         "domain": [
          0.16999999999999998,
          0.31999999999999995
         ],
         "matches": "x",
         "title": {
          "text": "発生時（始期）"
         }
        },
        "xaxis3": {
         "anchor": "y3",
         "categoryorder": "category ascending",
         "domain": [
          0.33999999999999997,
          0.49
         ],
         "matches": "x",
         "title": {
          "text": "発生時（始期）"
         }
        },
        "xaxis4": {
         "anchor": "y4",
         "categoryorder": "category ascending",
         "domain": [
          0.51,
          0.66
         ],
         "matches": "x",
         "title": {
          "text": "発生時（始期）"
         }
        },
        "xaxis5": {
         "anchor": "y5",
         "categoryorder": "category ascending",
         "domain": [
          0.6799999999999999,
          0.83
         ],
         "matches": "x",
         "title": {
          "text": "発生時（始期）"
         }
        },
        "xaxis6": {
         "anchor": "y6",
         "categoryorder": "category ascending",
         "domain": [
          0.85,
          1
         ],
         "matches": "x",
         "title": {
          "text": "発生時（始期）"
         }
        },
        "yaxis": {
         "anchor": "x",
         "domain": [
          0,
          1
         ],
         "title": {
          "text": "count"
         }
        },
        "yaxis2": {
         "anchor": "x2",
         "domain": [
          0,
          1
         ],
         "matches": "y",
         "showticklabels": false
        },
        "yaxis3": {
         "anchor": "x3",
         "domain": [
          0,
          1
         ],
         "matches": "y",
         "showticklabels": false
        },
        "yaxis4": {
         "anchor": "x4",
         "domain": [
          0,
          1
         ],
         "matches": "y",
         "showticklabels": false
        },
        "yaxis5": {
         "anchor": "x5",
         "domain": [
          0,
          1
         ],
         "matches": "y",
         "showticklabels": false
        },
        "yaxis6": {
         "anchor": "x6",
         "domain": [
          0,
          1
         ],
         "matches": "y",
         "showticklabels": false
        }
       }
      }
     },
     "metadata": {},
     "output_type": "display_data"
    }
   ],
   "source": [
    "fig = px.bar(kashiwa,\n",
    "            x='発生時（始期）',\n",
    "            facet_col='被害者の職業',\n",
    "            template='seaborn')\n",
    "fig.update_traces(\n",
    "    marker_line_width=0\n",
    ")\n",
    "fig.update_xaxes(categoryorder='category ascending')\n",
    "fig.show()"
   ]
  },
  {
   "attachments": {},
   "cell_type": "markdown",
   "metadata": {
    "slideshow": {
     "slide_type": "slide"
    }
   },
   "source": [
    "# Geocoding\n",
    "\n",
    "<img src=\"https://raw.githubusercontent.com/yohman/23-1-Reitaku-GIS/main/Weeks/Week08/images/Geocoding_01.png\" width=400>\n",
    "\n",
    "住所だけではマップイングできません。座標が必要です。なので、住所から座標を特定するプロセスが必要である。このプロセスを<h1>【ジオコーティング】</h1>という。\n"
   ]
  },
  {
   "attachments": {},
   "cell_type": "markdown",
   "metadata": {
    "slideshow": {
     "slide_type": "slide"
    }
   },
   "source": [
    "ジオコーティングと言えば、色んな方法があります。現在、日本で無料でジオコーティングサービスを提供しているのが国土地理院のジオコーティングAPI。\n",
    "\n",
    "試してみよう。このようにURLをブラウザーで記入するだけで座標が返ってくるサービスである。国土地理院さん、とても便利なサービス、ありがとうございます！\n",
    "\n",
    "https://msearch.gsi.go.jp/address-search/AddressSearch?q=麗澤大学"
   ]
  },
  {
   "attachments": {},
   "cell_type": "markdown",
   "metadata": {
    "slideshow": {
     "slide_type": "slide"
    }
   },
   "source": [
    "では、このプロセスに従って、アドレスから座標を出力する Python 関数を作成します。"
   ]
  },
  {
   "cell_type": "code",
   "execution_count": 27,
   "metadata": {},
   "outputs": [],
   "source": [
    "# 関数を作成\n",
    "def geocode(address):\n",
    "\n",
    "    # ジオコーティングURL\n",
    "    url = \"https://msearch.gsi.go.jp/address-search/AddressSearch?q=\"\n",
    "\n",
    "    # try/exceptでエラーをキャッチ\n",
    "    # 成功の場合\n",
    "    try:\n",
    "        s_quote = urllib.parse.quote(address)\n",
    "        response = requests.get(url + s_quote)\n",
    "        if len(response.json())>0:\n",
    "            return response.json()[0][\"geometry\"][\"coordinates\"] \n",
    "        else:\n",
    "            return False\n",
    "        \n",
    "    # 失敗の場合\n",
    "    except:\n",
    "        return False"
   ]
  },
  {
   "attachments": {},
   "cell_type": "markdown",
   "metadata": {
    "slideshow": {
     "slide_type": "slide"
    }
   },
   "source": [
    "関数の使い方は簡単！"
   ]
  },
  {
   "cell_type": "code",
   "execution_count": 31,
   "metadata": {},
   "outputs": [
    {
     "data": {
      "text/plain": [
       "[132.525558, 34.371666]"
      ]
     },
     "execution_count": 31,
     "metadata": {},
     "output_type": "execute_result"
    }
   ],
   "source": [
    "geocode('安芸幸崎駅')"
   ]
  },
  {
   "attachments": {},
   "cell_type": "markdown",
   "metadata": {
    "slideshow": {
     "slide_type": "slide"
    }
   },
   "source": [
    "## データフレームの準備\n",
    "\n",
    "`kashiwa`のデータフレームの各行の住所をジオコーティングする前に`住所`と座標（`lat`,`lon`）のフィールドを作りましょう。"
   ]
  },
  {
   "cell_type": "code",
   "execution_count": 32,
   "metadata": {},
   "outputs": [],
   "source": [
    "# 空の住所フィールドを作成\n",
    "kashiwa['住所'] = ''"
   ]
  },
  {
   "cell_type": "code",
   "execution_count": 33,
   "metadata": {},
   "outputs": [],
   "source": [
    "# 空だがfloatとしてフィールドを作成\n",
    "kashiwa['lat'] = pd.Series(dtype=float)\n",
    "kashiwa['lon'] = pd.Series(dtype=float)"
   ]
  },
  {
   "attachments": {},
   "cell_type": "markdown",
   "metadata": {
    "slideshow": {
     "slide_type": "slide"
    }
   },
   "source": [
    "<img src=\"https://raw.githubusercontent.com/yohman/23-1-Reitaku-GIS/main/Weeks/Week08/images/concat.png\" width=600>\n",
    "\n",
    "↑で作った住所フィールドに次の 3 つのフィールドを連結します。\n",
    "\n",
    "1. 都道府県（発生地）\n",
    "1. 市区町村（発生地）\n",
    "1. 町丁目（発生地）"
   ]
  },
  {
   "cell_type": "code",
   "execution_count": 34,
   "metadata": {},
   "outputs": [],
   "source": [
    "# 住所フィールドを作成\n",
    "kashiwa['住所'] = kashiwa['都道府県（発生地）']+kashiwa['市区町村（発生地）']+kashiwa['町丁目（発生地）']"
   ]
  },
  {
   "cell_type": "code",
   "execution_count": 35,
   "metadata": {
    "slideshow": {
     "slide_type": "slide"
    }
   },
   "outputs": [
    {
     "data": {
      "text/html": [
       "<div>\n",
       "<style scoped>\n",
       "    .dataframe tbody tr th:only-of-type {\n",
       "        vertical-align: middle;\n",
       "    }\n",
       "\n",
       "    .dataframe tbody tr th {\n",
       "        vertical-align: top;\n",
       "    }\n",
       "\n",
       "    .dataframe thead th {\n",
       "        text-align: right;\n",
       "    }\n",
       "</style>\n",
       "<table border=\"1\" class=\"dataframe\">\n",
       "  <thead>\n",
       "    <tr style=\"text-align: right;\">\n",
       "      <th></th>\n",
       "      <th>罪名</th>\n",
       "      <th>手口</th>\n",
       "      <th>管轄警察署（発生地）</th>\n",
       "      <th>管轄交番・駐在所（発生地）</th>\n",
       "      <th>市区町村コード（発生地）</th>\n",
       "      <th>都道府県（発生地）</th>\n",
       "      <th>市区町村（発生地）</th>\n",
       "      <th>町丁目（発生地）</th>\n",
       "      <th>発生年月日（始期）</th>\n",
       "      <th>発生時（始期）</th>\n",
       "      <th>発生場所</th>\n",
       "      <th>発生場所の詳細</th>\n",
       "      <th>被害者の年齢</th>\n",
       "      <th>被害者の職業</th>\n",
       "      <th>施錠関係</th>\n",
       "      <th>住所</th>\n",
       "      <th>lat</th>\n",
       "      <th>lon</th>\n",
       "    </tr>\n",
       "  </thead>\n",
       "  <tbody>\n",
       "    <tr>\n",
       "      <th>3142</th>\n",
       "      <td>窃盗</td>\n",
       "      <td>自転車盗</td>\n",
       "      <td>柏</td>\n",
       "      <td>柏駅前交番</td>\n",
       "      <td>122173</td>\n",
       "      <td>千葉県</td>\n",
       "      <td>柏市</td>\n",
       "      <td>柏６丁目</td>\n",
       "      <td>2022-10-12</td>\n",
       "      <td>19</td>\n",
       "      <td>４階建て以上共同住宅</td>\n",
       "      <td>駐車（輪）場</td>\n",
       "      <td>30歳代</td>\n",
       "      <td>その他</td>\n",
       "      <td>施錠した</td>\n",
       "      <td>千葉県柏市柏６丁目</td>\n",
       "      <td>NaN</td>\n",
       "      <td>NaN</td>\n",
       "    </tr>\n",
       "    <tr>\n",
       "      <th>2848</th>\n",
       "      <td>窃盗</td>\n",
       "      <td>自転車盗</td>\n",
       "      <td>柏</td>\n",
       "      <td>南増尾交番</td>\n",
       "      <td>122173</td>\n",
       "      <td>千葉県</td>\n",
       "      <td>柏市</td>\n",
       "      <td>南増尾</td>\n",
       "      <td>2022-06-10</td>\n",
       "      <td>15</td>\n",
       "      <td>その他</td>\n",
       "      <td>駐車（輪）場</td>\n",
       "      <td>10歳代</td>\n",
       "      <td>中学生</td>\n",
       "      <td>施錠せず</td>\n",
       "      <td>千葉県柏市南増尾</td>\n",
       "      <td>NaN</td>\n",
       "      <td>NaN</td>\n",
       "    </tr>\n",
       "    <tr>\n",
       "      <th>3161</th>\n",
       "      <td>窃盗</td>\n",
       "      <td>自転車盗</td>\n",
       "      <td>柏</td>\n",
       "      <td>柏駅前交番</td>\n",
       "      <td>122173</td>\n",
       "      <td>千葉県</td>\n",
       "      <td>柏市</td>\n",
       "      <td>富里２丁目</td>\n",
       "      <td>2022-06-20</td>\n",
       "      <td>15</td>\n",
       "      <td>その他の住宅（３階建て以下共同住宅等）</td>\n",
       "      <td>駐車（輪）場</td>\n",
       "      <td>40歳代</td>\n",
       "      <td>その他</td>\n",
       "      <td>施錠せず</td>\n",
       "      <td>千葉県柏市富里２丁目</td>\n",
       "      <td>NaN</td>\n",
       "      <td>NaN</td>\n",
       "    </tr>\n",
       "  </tbody>\n",
       "</table>\n",
       "</div>"
      ],
      "text/plain": [
       "      罪名    手口 管轄警察署（発生地） 管轄交番・駐在所（発生地）  市区町村コード（発生地） 都道府県（発生地） 市区町村（発生地）   \n",
       "3142  窃盗  自転車盗          柏         柏駅前交番        122173       千葉県        柏市  \\\n",
       "2848  窃盗  自転車盗          柏         南増尾交番        122173       千葉県        柏市   \n",
       "3161  窃盗  自転車盗          柏         柏駅前交番        122173       千葉県        柏市   \n",
       "\n",
       "     町丁目（発生地）   発生年月日（始期） 発生時（始期）                 発生場所 発生場所の詳細 被害者の年齢 被害者の職業   \n",
       "3142     柏６丁目  2022-10-12      19           ４階建て以上共同住宅  駐車（輪）場   30歳代    その他  \\\n",
       "2848      南増尾  2022-06-10      15                  その他  駐車（輪）場   10歳代    中学生   \n",
       "3161    富里２丁目  2022-06-20      15  その他の住宅（３階建て以下共同住宅等）  駐車（輪）場   40歳代    その他   \n",
       "\n",
       "      施錠関係          住所  lat  lon  \n",
       "3142  施錠した   千葉県柏市柏６丁目  NaN  NaN  \n",
       "2848  施錠せず    千葉県柏市南増尾  NaN  NaN  \n",
       "3161  施錠せず  千葉県柏市富里２丁目  NaN  NaN  "
      ]
     },
     "execution_count": 35,
     "metadata": {},
     "output_type": "execute_result"
    }
   ],
   "source": [
    "# random sampleで上手く行ったかどうかをチェック\n",
    "kashiwa.sample(3)"
   ]
  },
  {
   "attachments": {},
   "cell_type": "markdown",
   "metadata": {
    "slideshow": {
     "slide_type": "slide"
    }
   },
   "source": [
    "これで準備は整えました。`kashiwa` のデータフレームを for loop に入れて住所を一つずつジオコーティングしよう。\n",
    "\n",
    "この作業は数分かかるので注意。千件以上のデータフレームはなるべく避けよう。"
   ]
  },
  {
   "cell_type": "code",
   "execution_count": 36,
   "metadata": {},
   "outputs": [
    {
     "name": "stdout",
     "output_type": "stream",
     "text": [
      "千葉県柏市今谷上町 139.956406 35.841019\n",
      "千葉県柏市今谷上町 139.956406 35.841019\n",
      "千葉県柏市今谷上町 139.956406 35.841019\n",
      "千葉県柏市今谷上町 139.956406 35.841019\n",
      "千葉県柏市今谷上町 139.956406 35.841019\n",
      "千葉県柏市酒井根 139.957825 35.81815\n",
      "千葉県柏市酒井根３丁目 139.965973 35.818859\n",
      "千葉県柏市酒井根４丁目 139.960007 35.820488\n",
      "千葉県柏市酒井根５丁目 139.961349 35.824585\n",
      "千葉県柏市酒井根５丁目 139.961349 35.824585\n",
      "千葉県柏市逆井 139.982468 35.815441\n",
      "千葉県柏市中新宿３丁目 139.946884 35.83292\n",
      "千葉県柏市西山２丁目 139.95401 35.82056\n",
      "千葉県柏市光ケ丘１丁目 139.957794 35.833195\n",
      "千葉県柏市光ケ丘１丁目 139.957794 35.833195\n",
      "千葉県柏市光ケ丘団地 139.957809 35.829479\n",
      "千葉県柏市東中新宿１丁目 139.960556 35.833984\n",
      "千葉県柏市東中新宿１丁目 139.960556 35.833984\n",
      "千葉県柏市東中新宿１丁目 139.960556 35.833984\n",
      "千葉県柏市柏 139.986511 35.864445\n",
      "千葉県柏市柏 139.986511 35.864445\n",
      "千葉県柏市柏 139.986511 35.864445\n",
      "千葉県柏市柏下 139.983795 35.870007\n",
      "千葉県柏市柏堀之内新田 139.983582 35.875332\n",
      "千葉県柏市北柏２丁目 139.989914 35.872643\n",
      "千葉県柏市北柏２丁目 139.989914 35.872643\n",
      "千葉県柏市北柏２丁目 139.989914 35.872643\n",
      "千葉県柏市北柏３丁目 139.987793 35.872192\n",
      "千葉県柏市北柏３丁目 139.987793 35.872192\n",
      "千葉県柏市北柏４丁目 139.986893 35.870586\n",
      "千葉県柏市北柏４丁目 139.986893 35.870586\n",
      "千葉県柏市北柏５丁目 139.990295 35.868679\n",
      "千葉県柏市宿連寺 139.985229 35.887501\n",
      "千葉県柏市宿連寺 139.985229 35.887501\n",
      "千葉県柏市根戸 139.98645 35.88113\n",
      "千葉県柏市根戸 139.98645 35.88113\n",
      "千葉県柏市根戸 139.98645 35.88113\n",
      "千葉県柏市根戸 139.98645 35.88113\n",
      "千葉県柏市根戸 139.98645 35.88113\n",
      "千葉県柏市根戸 139.98645 35.88113\n",
      "千葉県柏市根戸 139.98645 35.88113\n",
      "千葉県柏市根戸 139.98645 35.88113\n",
      "千葉県柏市根戸 139.98645 35.88113\n",
      "千葉県柏市根戸 139.98645 35.88113\n",
      "千葉県柏市根戸 139.98645 35.88113\n",
      "千葉県柏市根戸 139.98645 35.88113\n",
      "千葉県柏市根戸 139.98645 35.88113\n",
      "千葉県柏市根戸 139.98645 35.88113\n",
      "千葉県柏市根戸 139.98645 35.88113\n",
      "千葉県柏市根戸 139.98645 35.88113\n",
      "千葉県柏市根戸 139.98645 35.88113\n",
      "千葉県柏市根戸 139.98645 35.88113\n",
      "千葉県柏市根戸 139.98645 35.88113\n",
      "千葉県柏市根戸 139.98645 35.88113\n",
      "千葉県柏市加賀１丁目 139.970932 35.832733\n",
      "千葉県柏市逆井 139.982468 35.815441\n",
      "千葉県柏市逆井 139.982468 35.815441\n",
      "千葉県柏市逆井 139.982468 35.815441\n",
      "千葉県柏市逆井 139.982468 35.815441\n",
      "千葉県柏市逆井 139.982468 35.815441\n",
      "千葉県柏市逆井 139.982468 35.815441\n",
      "千葉県柏市逆井 139.982468 35.815441\n",
      "千葉県柏市逆井 139.982468 35.815441\n",
      "千葉県柏市逆井１丁目 139.983444 35.822018\n",
      "千葉県柏市逆井１丁目 139.983444 35.822018\n",
      "千葉県柏市逆井１丁目 139.983444 35.822018\n",
      "千葉県柏市逆井２丁目 139.979614 35.824383\n",
      "千葉県柏市逆井２丁目 139.979614 35.824383\n",
      "千葉県柏市逆井２丁目 139.979614 35.824383\n",
      "千葉県柏市逆井２丁目 139.979614 35.824383\n",
      "千葉県柏市逆井２丁目 139.979614 35.824383\n",
      "千葉県柏市逆井２丁目 139.979614 35.824383\n",
      "千葉県柏市南増尾 139.974075 35.816387\n",
      "千葉県柏市南増尾 139.974075 35.816387\n",
      "千葉県柏市南増尾 139.974075 35.816387\n",
      "千葉県柏市南増尾１丁目 139.971741 35.818909\n",
      "千葉県柏市南増尾２丁目 139.96759 35.817165\n",
      "千葉県柏市南増尾３丁目 139.97052 35.814602\n",
      "千葉県柏市南増尾３丁目 139.97052 35.814602\n",
      "千葉県柏市南増尾３丁目 139.97052 35.814602\n",
      "千葉県柏市南増尾３丁目 139.97052 35.814602\n",
      "千葉県柏市南増尾３丁目 139.97052 35.814602\n",
      "千葉県柏市南増尾４丁目 139.966034 35.813236\n",
      "千葉県柏市南増尾５丁目 139.966537 35.809929\n",
      "千葉県柏市南増尾６丁目 139.963562 35.811157\n",
      "千葉県柏市南増尾８丁目 139.959 35.810768\n",
      "千葉県柏市増尾台１丁目 139.976883 35.827206\n",
      "千葉県柏市増尾台１丁目 139.976883 35.827206\n",
      "千葉県柏市逆井藤ノ台 139.98671 35.822952\n",
      "千葉県柏市逆井藤ノ台 139.98671 35.822952\n",
      "千葉県柏市逆井藤ノ台 139.98671 35.822952\n",
      "千葉県柏市南逆井１丁目 139.970367 35.807571\n",
      "千葉県柏市青葉台２丁目 139.957855 35.813534\n",
      "千葉県柏市青葉台２丁目 139.957855 35.813534\n",
      "千葉県柏市新逆井１丁目 139.972183 35.812092\n",
      "千葉県柏市新逆井２丁目 139.970627 35.809525\n",
      "千葉県柏市新逆井２丁目 139.970627 35.809525\n",
      "千葉県柏市新逆井２丁目 139.970627 35.809525\n",
      "千葉県柏市大井 140.00441 35.850155\n",
      "千葉県柏市逆井２丁目 139.979614 35.824383\n",
      "千葉県柏市新富町１丁目 139.955795 35.85088\n",
      "千葉県柏市豊四季 139.949814 35.859928\n",
      "千葉県柏市豊四季 139.949814 35.859928\n",
      "千葉県柏市豊四季 139.949814 35.859928\n",
      "千葉県柏市豊四季 139.949814 35.859928\n",
      "千葉県柏市豊四季 139.949814 35.859928\n",
      "千葉県柏市豊四季 139.949814 35.859928\n",
      "千葉県柏市豊四季 139.949814 35.859928\n",
      "千葉県柏市豊四季 139.949814 35.859928\n",
      "千葉県柏市南柏１丁目 139.953476 35.845783\n",
      "千葉県柏市南柏１丁目 139.953476 35.845783\n",
      "千葉県柏市南柏１丁目 139.953476 35.845783\n",
      "千葉県柏市南柏１丁目 139.953476 35.845783\n",
      "千葉県柏市南柏１丁目 139.953476 35.845783\n",
      "千葉県柏市南柏１丁目 139.953476 35.845783\n",
      "千葉県柏市南柏１丁目 139.953476 35.845783\n",
      "千葉県柏市南柏２丁目 139.955032 35.847271\n",
      "千葉県柏市南柏２丁目 139.955032 35.847271\n",
      "千葉県柏市南柏２丁目 139.955032 35.847271\n",
      "千葉県柏市南柏２丁目 139.955032 35.847271\n",
      "千葉県柏市豊町２丁目 139.960251 35.851013\n",
      "千葉県柏市豊町２丁目 139.960251 35.851013\n",
      "千葉県柏市豊町２丁目 139.960251 35.851013\n",
      "千葉県柏市南柏中央 139.954956 35.844471\n",
      "千葉県柏市南柏中央 139.954956 35.844471\n",
      "千葉県柏市南柏中央 139.954956 35.844471\n",
      "千葉県柏市南柏中央 139.954956 35.844471\n",
      "千葉県柏市南柏中央 139.954956 35.844471\n",
      "千葉県柏市南柏中央 139.954956 35.844471\n",
      "千葉県柏市南柏中央 139.954956 35.844471\n",
      "千葉県柏市南柏中央 139.954956 35.844471\n",
      "千葉県柏市南柏中央 139.954956 35.844471\n",
      "千葉県柏市南柏中央 139.954956 35.844471\n",
      "千葉県柏市南柏中央 139.954956 35.844471\n",
      "千葉県柏市南柏中央 139.954956 35.844471\n",
      "千葉県柏市南柏中央 139.954956 35.844471\n",
      "千葉県柏市南柏中央 139.954956 35.844471\n",
      "千葉県柏市南柏中央 139.954956 35.844471\n",
      "千葉県柏市加賀３丁目 139.97319 35.830082\n",
      "千葉県柏市加賀３丁目 139.97319 35.830082\n",
      "千葉県柏市加賀３丁目 139.97319 35.830082\n",
      "千葉県柏市加賀３丁目 139.97319 35.830082\n",
      "千葉県柏市逆井２丁目 139.979614 35.824383\n",
      "千葉県柏市増尾１丁目 139.974945 35.832466\n",
      "千葉県柏市増尾２丁目 139.978226 35.831703\n",
      "千葉県柏市増尾４丁目 139.983551 35.835472\n",
      "千葉県柏市増尾８丁目 139.986633 35.829124\n",
      "千葉県柏市増尾台３丁目 139.974731 35.824703\n",
      "千葉県柏市増尾台３丁目 139.974731 35.824703\n",
      "千葉県柏市増尾台４丁目 139.973206 35.821732\n",
      "千葉県柏市増尾台４丁目 139.973206 35.821732\n",
      "千葉県柏市大井 140.00441 35.850155\n",
      "千葉県柏市大井 140.00441 35.850155\n",
      "千葉県柏市大島田 140.012802 35.835773\n",
      "千葉県柏市大島田 140.012802 35.835773\n",
      "千葉県柏市大島田１丁目 140.011703 35.833759\n",
      "千葉県柏市大島田１丁目 140.011703 35.833759\n",
      "千葉県柏市大島田１丁目 140.011703 35.833759\n",
      "千葉県柏市大島田１丁目 140.011703 35.833759\n",
      "千葉県柏市大島田１丁目 140.011703 35.833759\n",
      "千葉県柏市大島田１丁目 140.011703 35.833759\n",
      "千葉県柏市大島田１丁目 140.011703 35.833759\n",
      "千葉県柏市大島田１丁目 140.011703 35.833759\n",
      "千葉県柏市大島田１丁目 140.011703 35.833759\n",
      "千葉県柏市大島田１丁目 140.011703 35.833759\n",
      "千葉県柏市大島田１丁目 140.011703 35.833759\n",
      "千葉県柏市大津ケ丘１丁目 140.003662 35.84325\n",
      "千葉県柏市大津ケ丘２丁目 139.999237 35.841068\n",
      "千葉県柏市大津ケ丘２丁目 139.999237 35.841068\n",
      "千葉県柏市大津ケ丘２丁目 139.999237 35.841068\n",
      "千葉県柏市大津ケ丘３丁目 139.995621 35.840942\n",
      "千葉県柏市大津ケ丘３丁目 139.995621 35.840942\n",
      "千葉県柏市大津ケ丘４丁目 140.002502 35.837143\n",
      "千葉県柏市大津ケ丘４丁目 140.002502 35.837143\n",
      "千葉県柏市大津ケ丘４丁目 140.002502 35.837143\n",
      "千葉県柏市大津ケ丘４丁目 140.002502 35.837143\n",
      "千葉県柏市五條谷 140.016342 35.848038\n",
      "千葉県柏市塚崎 139.996063 35.834927\n",
      "千葉県柏市手賀の杜３丁目 140.026993 35.846394\n",
      "千葉県柏市布施 139.992828 35.891518\n",
      "千葉県柏市つくしが丘４丁目 139.968262 35.835949\n",
      "千葉県柏市つくしが丘５丁目 139.96756 35.83136\n",
      "千葉県柏市常盤台 139.967072 35.84692\n",
      "千葉県柏市豊住３丁目 139.963547 35.838268\n",
      "千葉県柏市豊住３丁目 139.963547 35.838268\n",
      "千葉県柏市豊住３丁目 139.963547 35.838268\n",
      "千葉県柏市豊住４丁目 139.965775 35.842236\n",
      "千葉県柏市豊住５丁目 139.966721 35.840786\n",
      "千葉県柏市豊住５丁目 139.966721 35.840786\n",
      "千葉県柏市名戸ケ谷 139.981064 35.843285\n",
      "千葉県柏市名戸ケ谷１丁目 139.976089 35.845604\n",
      "千葉県柏市新柏１丁目 139.968597 35.839211\n",
      "千葉県柏市新柏３丁目 139.972061 35.841667\n",
      "千葉県柏市明原３丁目 139.963196 35.867088\n",
      "千葉県柏市明原３丁目 139.963196 35.867088\n",
      "千葉県柏市明原３丁目 139.963196 35.867088\n",
      "千葉県柏市明原３丁目 139.963196 35.867088\n",
      "千葉県柏市明原３丁目 139.963196 35.867088\n",
      "千葉県柏市明原４丁目 139.962662 35.864574\n",
      "千葉県柏市明原４丁目 139.962662 35.864574\n",
      "千葉県柏市あけぼの１丁目 139.971985 35.865929\n",
      "千葉県柏市あけぼの２丁目 139.974197 35.868034\n",
      "千葉県柏市あけぼの２丁目 139.974197 35.868034\n",
      "千葉県柏市あけぼの３丁目 139.971756 35.869129\n",
      "千葉県柏市あけぼの３丁目 139.971756 35.869129\n",
      "千葉県柏市あけぼの４丁目 139.968948 35.866798\n",
      "千葉県柏市あけぼの４丁目 139.968948 35.866798\n",
      "千葉県柏市あけぼの４丁目 139.968948 35.866798\n",
      "千葉県柏市あけぼの５丁目 139.967926 35.869289\n",
      "千葉県柏市旭町１丁目 139.968491 35.861916\n",
      "千葉県柏市旭町１丁目 139.968491 35.861916\n",
      "千葉県柏市旭町１丁目 139.968491 35.861916\n",
      "千葉県柏市旭町１丁目 139.968491 35.861916\n",
      "千葉県柏市旭町１丁目 139.968491 35.861916\n",
      "千葉県柏市旭町１丁目 139.968491 35.861916\n",
      "千葉県柏市旭町１丁目 139.968491 35.861916\n",
      "千葉県柏市旭町１丁目 139.968491 35.861916\n",
      "千葉県柏市旭町１丁目 139.968491 35.861916\n",
      "千葉県柏市旭町４丁目 139.962036 35.858974\n",
      "千葉県柏市旭町４丁目 139.962036 35.858974\n",
      "千葉県柏市旭町４丁目 139.962036 35.858974\n",
      "千葉県柏市旭町４丁目 139.962036 35.858974\n",
      "千葉県柏市旭町４丁目 139.962036 35.858974\n",
      "千葉県柏市旭町５丁目 139.962128 35.85675\n",
      "千葉県柏市旭町６丁目 139.958267 35.857044\n",
      "千葉県柏市旭町６丁目 139.958267 35.857044\n",
      "千葉県柏市篠籠田 139.943359 35.868122\n",
      "千葉県柏市末広町 139.970398 35.862904\n",
      "千葉県柏市末広町 139.970398 35.862904\n",
      "千葉県柏市末広町 139.970398 35.862904\n",
      "千葉県柏市末広町 139.970398 35.862904\n",
      "千葉県柏市末広町 139.970398 35.862904\n",
      "千葉県柏市末広町 139.970398 35.862904\n",
      "千葉県柏市末広町 139.970398 35.862904\n",
      "千葉県柏市末広町 139.970398 35.862904\n",
      "千葉県柏市末広町 139.970398 35.862904\n",
      "千葉県柏市末広町 139.970398 35.862904\n",
      "千葉県柏市富里３丁目 139.962891 35.854397\n",
      "千葉県柏市富里３丁目 139.962891 35.854397\n",
      "千葉県柏市富里３丁目 139.962891 35.854397\n",
      "千葉県柏市富里３丁目 139.962891 35.854397\n",
      "千葉県柏市富里３丁目 139.962891 35.854397\n",
      "千葉県柏市富里３丁目 139.962891 35.854397\n",
      "千葉県柏市豊四季台１丁目 139.957932 35.866894\n",
      "千葉県柏市豊四季台１丁目 139.957932 35.866894\n",
      "千葉県柏市豊四季台１丁目 139.957932 35.866894\n",
      "千葉県柏市豊四季台１丁目 139.957932 35.866894\n",
      "千葉県柏市豊四季台３丁目 139.959137 35.862438\n",
      "千葉県柏市豊四季台４丁目 139.956039 35.863903\n",
      "千葉県柏市豊四季台４丁目 139.956039 35.863903\n",
      "千葉県柏市西町 139.957932 35.869198\n",
      "千葉県柏市十余二 139.959305 35.882629\n",
      "千葉県柏市十余二 139.959305 35.882629\n",
      "千葉県柏市根戸 139.98645 35.88113\n",
      "千葉県柏市松ケ崎 139.975952 35.879082\n",
      "千葉県柏市松ケ崎 139.975952 35.879082\n",
      "千葉県柏市松ケ崎 139.975952 35.879082\n",
      "千葉県柏市松ケ崎 139.975952 35.879082\n",
      "千葉県柏市松ケ崎 139.975952 35.879082\n",
      "千葉県柏市松ケ崎 139.975952 35.879082\n",
      "千葉県柏市松ケ崎 139.975952 35.879082\n",
      "千葉県柏市松ケ崎 139.975952 35.879082\n",
      "千葉県柏市松葉町１丁目 139.980759 35.886456\n",
      "千葉県柏市松葉町１丁目 139.980759 35.886456\n",
      "千葉県柏市松葉町３丁目 139.970963 35.886009\n",
      "千葉県柏市松葉町３丁目 139.970963 35.886009\n",
      "千葉県柏市松葉町４丁目 139.971802 35.889114\n",
      "千葉県柏市松葉町４丁目 139.971802 35.889114\n",
      "千葉県柏市松葉町４丁目 139.971802 35.889114\n",
      "千葉県柏市松葉町５丁目 139.966446 35.889473\n",
      "千葉県柏市松葉町５丁目 139.966446 35.889473\n",
      "千葉県柏市松葉町６丁目 139.968033 35.891541\n",
      "千葉県柏市大山台１丁目 139.967804 35.880825\n",
      "千葉県柏市大山台１丁目 139.967804 35.880825\n",
      "千葉県柏市大山台１丁目 139.967804 35.880825\n",
      "千葉県柏市大山台１丁目 139.967804 35.880825\n",
      "千葉県柏市大山台２丁目 139.969193 35.88258\n",
      "千葉県柏市大山台２丁目 139.969193 35.88258\n",
      "千葉県柏市大山台２丁目 139.969193 35.88258\n",
      "千葉県柏市大山台２丁目 139.969193 35.88258\n",
      "千葉県柏市大山台２丁目 139.969193 35.88258\n",
      "千葉県柏市大山台２丁目 139.969193 35.88258\n",
      "千葉県柏市大山台２丁目 139.969193 35.88258\n",
      "千葉県柏市正連寺 139.950058 35.902401\n",
      "千葉県柏市正連寺 139.950058 35.902401\n",
      "千葉県柏市若柴 139.953995 35.891659\n",
      "千葉県柏市若柴 139.953995 35.891659\n",
      "千葉県柏市若柴 139.953995 35.891659\n",
      "千葉県柏市若柴 139.953995 35.891659\n",
      "千葉県柏市若柴 139.953995 35.891659\n",
      "千葉県柏市若柴 139.953995 35.891659\n",
      "千葉県柏市若柴 139.953995 35.891659\n",
      "千葉県柏市若柴 139.953995 35.891659\n",
      "千葉県柏市若柴 139.953995 35.891659\n",
      "千葉県柏市若柴 139.953995 35.891659\n",
      "千葉県柏市若柴 139.953995 35.891659\n",
      "千葉県柏市若柴 139.953995 35.891659\n",
      "千葉県柏市若柴 139.953995 35.891659\n",
      "千葉県柏市若柴 139.953995 35.891659\n",
      "千葉県柏市若柴 139.953995 35.891659\n",
      "千葉県柏市若柴 139.953995 35.891659\n",
      "千葉県柏市若柴 139.953995 35.891659\n",
      "千葉県柏市若柴 139.953995 35.891659\n",
      "千葉県柏市若柴 139.953995 35.891659\n",
      "千葉県柏市若柴 139.953995 35.891659\n",
      "千葉県柏市若柴 139.953995 35.891659\n",
      "千葉県柏市若柴 139.953995 35.891659\n",
      "千葉県柏市柏の葉４丁目 139.937088 35.896427\n",
      "千葉県柏市柏の葉６丁目 139.944931 35.896942\n",
      "千葉県柏市東１丁目 139.97847 35.857388\n",
      "千葉県柏市東上町 139.977722 35.859604\n",
      "千葉県柏市東上町 139.977722 35.859604\n",
      "千葉県柏市泉町 139.967957 35.856449\n",
      "千葉県柏市泉町 139.967957 35.856449\n",
      "千葉県柏市泉町 139.967957 35.856449\n",
      "千葉県柏市泉町 139.967957 35.856449\n",
      "千葉県柏市柏 139.986511 35.864445\n",
      "千葉県柏市柏 139.986511 35.864445\n",
      "千葉県柏市柏 139.986511 35.864445\n",
      "千葉県柏市柏 139.986511 35.864445\n",
      "千葉県柏市柏 139.986511 35.864445\n",
      "千葉県柏市柏 139.986511 35.864445\n",
      "千葉県柏市柏１丁目 139.97142 35.861809\n",
      "千葉県柏市柏１丁目 139.97142 35.861809\n",
      "千葉県柏市柏１丁目 139.97142 35.861809\n",
      "千葉県柏市柏１丁目 139.97142 35.861809\n",
      "千葉県柏市柏１丁目 139.97142 35.861809\n",
      "千葉県柏市柏１丁目 139.97142 35.861809\n",
      "千葉県柏市柏１丁目 139.97142 35.861809\n",
      "千葉県柏市柏１丁目 139.97142 35.861809\n",
      "千葉県柏市柏１丁目 139.97142 35.861809\n",
      "千葉県柏市柏１丁目 139.97142 35.861809\n",
      "千葉県柏市柏１丁目 139.97142 35.861809\n",
      "千葉県柏市柏１丁目 139.97142 35.861809\n",
      "千葉県柏市柏２丁目 139.973999 35.861694\n",
      "千葉県柏市柏２丁目 139.973999 35.861694\n",
      "千葉県柏市柏２丁目 139.973999 35.861694\n",
      "千葉県柏市柏２丁目 139.973999 35.861694\n",
      "千葉県柏市柏２丁目 139.973999 35.861694\n",
      "千葉県柏市柏２丁目 139.973999 35.861694\n",
      "千葉県柏市柏３丁目 139.975159 35.860302\n",
      "千葉県柏市柏３丁目 139.975159 35.860302\n",
      "千葉県柏市柏３丁目 139.975159 35.860302\n",
      "千葉県柏市柏３丁目 139.975159 35.860302\n",
      "千葉県柏市柏３丁目 139.975159 35.860302\n",
      "千葉県柏市柏３丁目 139.975159 35.860302\n",
      "千葉県柏市柏３丁目 139.975159 35.860302\n",
      "千葉県柏市柏３丁目 139.975159 35.860302\n",
      "千葉県柏市柏４丁目 139.974228 35.863529\n",
      "千葉県柏市柏４丁目 139.974228 35.863529\n",
      "千葉県柏市柏４丁目 139.974228 35.863529\n",
      "千葉県柏市柏４丁目 139.974228 35.863529\n",
      "千葉県柏市柏４丁目 139.974228 35.863529\n",
      "千葉県柏市柏５丁目 139.97612 35.866447\n",
      "千葉県柏市柏５丁目 139.97612 35.866447\n",
      "千葉県柏市柏５丁目 139.97612 35.866447\n",
      "千葉県柏市柏５丁目 139.97612 35.866447\n",
      "千葉県柏市柏５丁目 139.97612 35.866447\n",
      "千葉県柏市柏５丁目 139.97612 35.866447\n",
      "千葉県柏市柏５丁目 139.97612 35.866447\n",
      "千葉県柏市柏５丁目 139.97612 35.866447\n",
      "千葉県柏市柏５丁目 139.97612 35.866447\n",
      "千葉県柏市柏５丁目 139.97612 35.866447\n",
      "千葉県柏市柏６丁目 139.977219 35.864346\n",
      "千葉県柏市柏６丁目 139.977219 35.864346\n",
      "千葉県柏市柏６丁目 139.977219 35.864346\n",
      "千葉県柏市柏６丁目 139.977219 35.864346\n",
      "千葉県柏市柏７丁目 139.97995 35.862926\n",
      "千葉県柏市桜台 139.981522 35.860554\n",
      "千葉県柏市桜台 139.981522 35.860554\n",
      "千葉県柏市末広町 139.970398 35.862904\n",
      "千葉県柏市中央１丁目 139.972931 35.857903\n",
      "千葉県柏市中央２丁目 139.972137 35.855583\n",
      "千葉県柏市中央２丁目 139.972137 35.855583\n",
      "千葉県柏市中央２丁目 139.972137 35.855583\n",
      "千葉県柏市中央２丁目 139.972137 35.855583\n",
      "千葉県柏市中央町 139.970566 35.859303\n",
      "千葉県柏市中央町 139.970566 35.859303\n",
      "千葉県柏市中央町 139.970566 35.859303\n",
      "千葉県柏市中央町 139.970566 35.859303\n",
      "千葉県柏市中央町 139.970566 35.859303\n",
      "千葉県柏市中央町 139.970566 35.859303\n",
      "千葉県柏市中央町 139.970566 35.859303\n",
      "千葉県柏市中央町 139.970566 35.859303\n",
      "千葉県柏市中央町 139.970566 35.859303\n",
      "千葉県柏市富里２丁目 139.96521 35.853264\n",
      "千葉県柏市富里２丁目 139.96521 35.853264\n",
      "千葉県柏市北柏台 139.992081 35.876255\n",
      "千葉県柏市岩井 140.034134 35.84705\n",
      "千葉県柏市東台本町 139.983749 35.858639\n",
      "千葉県柏市永楽台１丁目 139.968948 35.844578\n",
      "千葉県柏市柏 139.986511 35.864445\n",
      "千葉県柏市柏 139.986511 35.864445\n",
      "千葉県柏市柏 139.986511 35.864445\n",
      "千葉県柏市柏 139.986511 35.864445\n",
      "千葉県柏市柏３丁目 139.975159 35.860302\n",
      "千葉県柏市関場町 139.983734 35.850071\n",
      "千葉県柏市関場町 139.983734 35.850071\n",
      "千葉県柏市千代田１丁目 139.976288 35.856525\n",
      "千葉県柏市千代田２丁目 139.975143 35.853741\n",
      "千葉県柏市千代田２丁目 139.975143 35.853741\n",
      "千葉県柏市千代田２丁目 139.975143 35.853741\n",
      "千葉県柏市千代田３丁目 139.977646 35.853451\n",
      "千葉県柏市つくしが丘５丁目 139.96756 35.83136\n",
      "千葉県柏市戸張 139.993591 35.856003\n",
      "千葉県柏市戸張 139.993591 35.856003\n",
      "千葉県柏市戸張 139.993591 35.856003\n",
      "千葉県柏市戸張 139.993591 35.856003\n",
      "千葉県柏市若柴 139.953995 35.891659\n",
      "千葉県柏市若葉町 139.971054 35.85392\n",
      "千葉県柏市若葉町 139.971054 35.85392\n",
      "千葉県柏市若葉町 139.971054 35.85392\n",
      "千葉県柏市若葉町 139.971054 35.85392\n",
      "千葉県柏市東柏１丁目 139.987534 35.851498\n",
      "千葉県柏市東柏２丁目 139.987366 35.849293\n",
      "千葉県柏市船戸 139.952377 35.915867\n",
      "千葉県柏市船戸山高野 139.939484 35.923737\n",
      "千葉県柏市船戸山高野 139.939484 35.923737\n",
      "千葉県柏市大室 139.961746 35.911968\n",
      "千葉県柏市大室 139.961746 35.911968\n",
      "千葉県柏市大室 139.961746 35.911968\n",
      "千葉県柏市大室 139.961746 35.911968\n",
      "千葉県柏市大室 139.961746 35.911968\n",
      "千葉県柏市大室 139.961746 35.911968\n",
      "千葉県柏市大室 139.961746 35.911968\n",
      "千葉県柏市大室 139.961746 35.911968\n",
      "千葉県柏市小青田 139.956726 35.916023\n",
      "千葉県柏市小青田 139.956726 35.916023\n",
      "千葉県柏市小青田 139.956726 35.916023\n",
      "千葉県柏市小青田５丁目 139.959076 35.915054\n",
      "千葉県柏市小青田５丁目 139.959076 35.915054\n",
      "千葉県柏市小青田５丁目 139.959076 35.915054\n",
      "千葉県柏市小青田５丁目 139.959076 35.915054\n",
      "千葉県柏市花野井 139.974243 35.896736\n",
      "千葉県柏市花野井 139.974243 35.896736\n",
      "千葉県柏市花野井 139.974243 35.896736\n",
      "千葉県柏市花野井 139.974243 35.896736\n",
      "千葉県柏市篠籠田 139.943359 35.868122\n",
      "千葉県柏市豊四季 139.949814 35.859928\n",
      "千葉県柏市豊四季 139.949814 35.859928\n",
      "千葉県柏市豊四季 139.949814 35.859928\n",
      "千葉県柏市豊四季 139.949814 35.859928\n",
      "千葉県柏市豊四季 139.949814 35.859928\n",
      "千葉県柏市豊四季 139.949814 35.859928\n",
      "千葉県柏市豊四季 139.949814 35.859928\n",
      "千葉県柏市豊四季 139.949814 35.859928\n",
      "千葉県柏市豊平町 139.957123 35.854702\n",
      "千葉県柏市高南台１丁目 139.996078 35.804619\n",
      "千葉県柏市高南台２丁目 139.991287 35.802979\n",
      "千葉県柏市高南台３丁目 139.993011 35.805519\n",
      "千葉県柏市しいの木台３丁目 139.980179 35.801025\n",
      "千葉県柏市しいの木台４丁目 139.977814 35.80201\n",
      "千葉県柏市しいの木台４丁目 139.977814 35.80201\n",
      "千葉県柏市高柳 139.99794 35.8078\n",
      "千葉県柏市高柳 139.99794 35.8078\n",
      "千葉県柏市高柳 139.99794 35.8078\n",
      "千葉県柏市高柳 139.99794 35.8078\n",
      "千葉県柏市高柳 139.99794 35.8078\n",
      "千葉県柏市高柳 139.99794 35.8078\n",
      "千葉県柏市高柳 139.99794 35.8078\n",
      "千葉県柏市高柳 139.99794 35.8078\n",
      "千葉県柏市高柳 139.99794 35.8078\n",
      "千葉県柏市高柳 139.99794 35.8078\n",
      "千葉県柏市高柳 139.99794 35.8078\n",
      "千葉県柏市高柳１丁目 139.99794 35.8078\n",
      "千葉県柏市高柳１丁目 139.99794 35.8078\n",
      "千葉県柏市高柳１丁目 139.99794 35.8078\n",
      "千葉県柏市高柳１丁目 139.99794 35.8078\n",
      "千葉県柏市高柳１丁目 139.99794 35.8078\n",
      "千葉県柏市高柳２丁目 139.996445 35.809856\n",
      "千葉県柏市高田 139.949219 35.877697\n"
     ]
    }
   ],
   "source": [
    "# kashiwaデータフレームをループ\n",
    "for i,row in kashiwa.iterrows():\n",
    "\n",
    "    # ジオコーティング成功\n",
    "    if geocode(row['住所']) != False:\n",
    "        # 座標を変数に\n",
    "        lon = geocode(row['住所'])[0]\n",
    "        lat = geocode(row['住所'])[1]\n",
    "\n",
    "        # データフレームに値をインプット        \n",
    "        kashiwa.loc[i,'lon'] = lon\n",
    "        kashiwa.loc[i,'lat'] = lat\n",
    "\n",
    "        # 結果をprint\n",
    "        print(row['住所'],lon,lat)\n",
    "    \n",
    "    # ジオコーティング失敗\n",
    "    else:\n",
    "        print(row['住所'],'ジオコーティング失敗')\n",
    "        continue"
   ]
  },
  {
   "cell_type": "code",
   "execution_count": 37,
   "metadata": {
    "slideshow": {
     "slide_type": "slide"
    }
   },
   "outputs": [
    {
     "data": {
      "text/html": [
       "<div>\n",
       "<style scoped>\n",
       "    .dataframe tbody tr th:only-of-type {\n",
       "        vertical-align: middle;\n",
       "    }\n",
       "\n",
       "    .dataframe tbody tr th {\n",
       "        vertical-align: top;\n",
       "    }\n",
       "\n",
       "    .dataframe thead th {\n",
       "        text-align: right;\n",
       "    }\n",
       "</style>\n",
       "<table border=\"1\" class=\"dataframe\">\n",
       "  <thead>\n",
       "    <tr style=\"text-align: right;\">\n",
       "      <th></th>\n",
       "      <th>罪名</th>\n",
       "      <th>手口</th>\n",
       "      <th>管轄警察署（発生地）</th>\n",
       "      <th>管轄交番・駐在所（発生地）</th>\n",
       "      <th>市区町村コード（発生地）</th>\n",
       "      <th>都道府県（発生地）</th>\n",
       "      <th>市区町村（発生地）</th>\n",
       "      <th>町丁目（発生地）</th>\n",
       "      <th>発生年月日（始期）</th>\n",
       "      <th>発生時（始期）</th>\n",
       "      <th>発生場所</th>\n",
       "      <th>発生場所の詳細</th>\n",
       "      <th>被害者の年齢</th>\n",
       "      <th>被害者の職業</th>\n",
       "      <th>施錠関係</th>\n",
       "      <th>住所</th>\n",
       "      <th>lat</th>\n",
       "      <th>lon</th>\n",
       "    </tr>\n",
       "  </thead>\n",
       "  <tbody>\n",
       "    <tr>\n",
       "      <th>2896</th>\n",
       "      <td>窃盗</td>\n",
       "      <td>自転車盗</td>\n",
       "      <td>柏</td>\n",
       "      <td>南柏駅前交番</td>\n",
       "      <td>122173</td>\n",
       "      <td>千葉県</td>\n",
       "      <td>柏市</td>\n",
       "      <td>豊町２丁目</td>\n",
       "      <td>2022-06-07</td>\n",
       "      <td>15</td>\n",
       "      <td>その他</td>\n",
       "      <td>駐車（輪）場</td>\n",
       "      <td>10歳代</td>\n",
       "      <td>高校生</td>\n",
       "      <td>施錠せず</td>\n",
       "      <td>千葉県柏市豊町２丁目</td>\n",
       "      <td>35.851013</td>\n",
       "      <td>139.960251</td>\n",
       "    </tr>\n",
       "    <tr>\n",
       "      <th>2869</th>\n",
       "      <td>窃盗</td>\n",
       "      <td>自転車盗</td>\n",
       "      <td>柏</td>\n",
       "      <td>南増尾交番</td>\n",
       "      <td>122173</td>\n",
       "      <td>千葉県</td>\n",
       "      <td>柏市</td>\n",
       "      <td>青葉台２丁目</td>\n",
       "      <td>2022-09-22</td>\n",
       "      <td>19</td>\n",
       "      <td>その他</td>\n",
       "      <td>駐車（輪）場</td>\n",
       "      <td>10歳代</td>\n",
       "      <td>中学生</td>\n",
       "      <td>施錠せず</td>\n",
       "      <td>千葉県柏市青葉台２丁目</td>\n",
       "      <td>35.813534</td>\n",
       "      <td>139.957855</td>\n",
       "    </tr>\n",
       "    <tr>\n",
       "      <th>3090</th>\n",
       "      <td>窃盗</td>\n",
       "      <td>自転車盗</td>\n",
       "      <td>柏</td>\n",
       "      <td>柏駅前交番</td>\n",
       "      <td>122173</td>\n",
       "      <td>千葉県</td>\n",
       "      <td>柏市</td>\n",
       "      <td>泉町</td>\n",
       "      <td>2022-09-29</td>\n",
       "      <td>21</td>\n",
       "      <td>駐車（輪）場</td>\n",
       "      <td>駐車（輪）場</td>\n",
       "      <td>10歳代</td>\n",
       "      <td>中学生</td>\n",
       "      <td>施錠せず</td>\n",
       "      <td>千葉県柏市泉町</td>\n",
       "      <td>35.856449</td>\n",
       "      <td>139.967957</td>\n",
       "    </tr>\n",
       "    <tr>\n",
       "      <th>2825</th>\n",
       "      <td>窃盗</td>\n",
       "      <td>自転車盗</td>\n",
       "      <td>柏</td>\n",
       "      <td>北柏駅前交番</td>\n",
       "      <td>122173</td>\n",
       "      <td>千葉県</td>\n",
       "      <td>柏市</td>\n",
       "      <td>根戸</td>\n",
       "      <td>2022-11-06</td>\n",
       "      <td>17</td>\n",
       "      <td>その他</td>\n",
       "      <td>駐車（輪）場</td>\n",
       "      <td>20歳代</td>\n",
       "      <td>その他</td>\n",
       "      <td>施錠した</td>\n",
       "      <td>千葉県柏市根戸</td>\n",
       "      <td>35.881130</td>\n",
       "      <td>139.986450</td>\n",
       "    </tr>\n",
       "    <tr>\n",
       "      <th>2907</th>\n",
       "      <td>窃盗</td>\n",
       "      <td>自転車盗</td>\n",
       "      <td>柏</td>\n",
       "      <td>南柏駅前交番</td>\n",
       "      <td>122173</td>\n",
       "      <td>千葉県</td>\n",
       "      <td>柏市</td>\n",
       "      <td>南柏中央</td>\n",
       "      <td>2022-08-26</td>\n",
       "      <td>11</td>\n",
       "      <td>その他</td>\n",
       "      <td>駐車（輪）場</td>\n",
       "      <td>10歳代</td>\n",
       "      <td>その他</td>\n",
       "      <td>施錠せず</td>\n",
       "      <td>千葉県柏市南柏中央</td>\n",
       "      <td>35.844471</td>\n",
       "      <td>139.954956</td>\n",
       "    </tr>\n",
       "  </tbody>\n",
       "</table>\n",
       "</div>"
      ],
      "text/plain": [
       "      罪名    手口 管轄警察署（発生地） 管轄交番・駐在所（発生地）  市区町村コード（発生地） 都道府県（発生地） 市区町村（発生地）   \n",
       "2896  窃盗  自転車盗          柏        南柏駅前交番        122173       千葉県        柏市  \\\n",
       "2869  窃盗  自転車盗          柏         南増尾交番        122173       千葉県        柏市   \n",
       "3090  窃盗  自転車盗          柏         柏駅前交番        122173       千葉県        柏市   \n",
       "2825  窃盗  自転車盗          柏        北柏駅前交番        122173       千葉県        柏市   \n",
       "2907  窃盗  自転車盗          柏        南柏駅前交番        122173       千葉県        柏市   \n",
       "\n",
       "     町丁目（発生地）   発生年月日（始期） 発生時（始期）    発生場所 発生場所の詳細 被害者の年齢 被害者の職業  施錠関係   \n",
       "2896    豊町２丁目  2022-06-07      15     その他  駐車（輪）場   10歳代    高校生  施錠せず  \\\n",
       "2869   青葉台２丁目  2022-09-22      19     その他  駐車（輪）場   10歳代    中学生  施錠せず   \n",
       "3090       泉町  2022-09-29      21  駐車（輪）場  駐車（輪）場   10歳代    中学生  施錠せず   \n",
       "2825       根戸  2022-11-06      17     その他  駐車（輪）場   20歳代    その他  施錠した   \n",
       "2907     南柏中央  2022-08-26      11     その他  駐車（輪）場   10歳代    その他  施錠せず   \n",
       "\n",
       "               住所        lat         lon  \n",
       "2896   千葉県柏市豊町２丁目  35.851013  139.960251  \n",
       "2869  千葉県柏市青葉台２丁目  35.813534  139.957855  \n",
       "3090      千葉県柏市泉町  35.856449  139.967957  \n",
       "2825      千葉県柏市根戸  35.881130  139.986450  \n",
       "2907    千葉県柏市南柏中央  35.844471  139.954956  "
      ]
     },
     "execution_count": 37,
     "metadata": {},
     "output_type": "execute_result"
    }
   ],
   "source": [
    "# check your output\n",
    "kashiwa.sample(5)"
   ]
  },
  {
   "attachments": {},
   "cell_type": "markdown",
   "metadata": {
    "slideshow": {
     "slide_type": "slide"
    }
   },
   "source": [
    "## Let's map it!\n",
    "\n",
    "待ってました、いよいよマップタイム！"
   ]
  },
  {
   "cell_type": "code",
   "execution_count": 38,
   "metadata": {
    "slideshow": {
     "slide_type": "fragment"
    }
   },
   "outputs": [],
   "source": [
    "# 全データの中央座標\n",
    "center_lat = kashiwa.lat.mean()\n",
    "center_lon = kashiwa.lon.mean()"
   ]
  },
  {
   "cell_type": "code",
   "execution_count": 39,
   "metadata": {
    "slideshow": {
     "slide_type": "slide"
    }
   },
   "outputs": [
    {
     "data": {
      "text/html": [
       "<div style=\"width:100%;\"><div style=\"position:relative;width:100%;height:0;padding-bottom:60%;\"><span style=\"color:#565656\">Make this Notebook Trusted to load map: File -> Trust Notebook</span><iframe srcdoc=\"&lt;!DOCTYPE html&gt;\n",
       "&lt;html&gt;\n",
       "&lt;head&gt;\n",
       "    \n",
       "    &lt;meta http-equiv=&quot;content-type&quot; content=&quot;text/html; charset=UTF-8&quot; /&gt;\n",
       "    \n",
       "        &lt;script&gt;\n",
       "            L_NO_TOUCH = false;\n",
       "            L_DISABLE_3D = false;\n",
       "        &lt;/script&gt;\n",
       "    \n",
       "    &lt;style&gt;html, body {width: 100%;height: 100%;margin: 0;padding: 0;}&lt;/style&gt;\n",
       "    &lt;style&gt;#map {position:absolute;top:0;bottom:0;right:0;left:0;}&lt;/style&gt;\n",
       "    &lt;script src=&quot;https://cdn.jsdelivr.net/npm/leaflet@1.9.3/dist/leaflet.js&quot;&gt;&lt;/script&gt;\n",
       "    &lt;script src=&quot;https://code.jquery.com/jquery-1.12.4.min.js&quot;&gt;&lt;/script&gt;\n",
       "    &lt;script src=&quot;https://cdn.jsdelivr.net/npm/bootstrap@5.2.2/dist/js/bootstrap.bundle.min.js&quot;&gt;&lt;/script&gt;\n",
       "    &lt;script src=&quot;https://cdnjs.cloudflare.com/ajax/libs/Leaflet.awesome-markers/2.0.2/leaflet.awesome-markers.js&quot;&gt;&lt;/script&gt;\n",
       "    &lt;link rel=&quot;stylesheet&quot; href=&quot;https://cdn.jsdelivr.net/npm/leaflet@1.9.3/dist/leaflet.css&quot;/&gt;\n",
       "    &lt;link rel=&quot;stylesheet&quot; href=&quot;https://cdn.jsdelivr.net/npm/bootstrap@5.2.2/dist/css/bootstrap.min.css&quot;/&gt;\n",
       "    &lt;link rel=&quot;stylesheet&quot; href=&quot;https://netdna.bootstrapcdn.com/bootstrap/3.0.0/css/bootstrap.min.css&quot;/&gt;\n",
       "    &lt;link rel=&quot;stylesheet&quot; href=&quot;https://cdn.jsdelivr.net/npm/@fortawesome/fontawesome-free@6.2.0/css/all.min.css&quot;/&gt;\n",
       "    &lt;link rel=&quot;stylesheet&quot; href=&quot;https://cdnjs.cloudflare.com/ajax/libs/Leaflet.awesome-markers/2.0.2/leaflet.awesome-markers.css&quot;/&gt;\n",
       "    &lt;link rel=&quot;stylesheet&quot; href=&quot;https://cdn.jsdelivr.net/gh/python-visualization/folium/folium/templates/leaflet.awesome.rotate.min.css&quot;/&gt;\n",
       "    \n",
       "            &lt;meta name=&quot;viewport&quot; content=&quot;width=device-width,\n",
       "                initial-scale=1.0, maximum-scale=1.0, user-scalable=no&quot; /&gt;\n",
       "            &lt;style&gt;\n",
       "                #map_ae39842b289684e33a9546feba923f6b {\n",
       "                    position: relative;\n",
       "                    width: 100.0%;\n",
       "                    height: 100.0%;\n",
       "                    left: 0.0%;\n",
       "                    top: 0.0%;\n",
       "                }\n",
       "                .leaflet-container { font-size: 1rem; }\n",
       "            &lt;/style&gt;\n",
       "        \n",
       "    &lt;script src=&quot;https://cdnjs.cloudflare.com/ajax/libs/leaflet.markercluster/1.1.0/leaflet.markercluster.js&quot;&gt;&lt;/script&gt;\n",
       "    &lt;link rel=&quot;stylesheet&quot; href=&quot;https://cdnjs.cloudflare.com/ajax/libs/leaflet.markercluster/1.1.0/MarkerCluster.css&quot;/&gt;\n",
       "    &lt;link rel=&quot;stylesheet&quot; href=&quot;https://cdnjs.cloudflare.com/ajax/libs/leaflet.markercluster/1.1.0/MarkerCluster.Default.css&quot;/&gt;\n",
       "&lt;/head&gt;\n",
       "&lt;body&gt;\n",
       "    \n",
       "    \n",
       "            &lt;div class=&quot;folium-map&quot; id=&quot;map_ae39842b289684e33a9546feba923f6b&quot; &gt;&lt;/div&gt;\n",
       "        \n",
       "&lt;/body&gt;\n",
       "&lt;script&gt;\n",
       "    \n",
       "    \n",
       "            var map_ae39842b289684e33a9546feba923f6b = L.map(\n",
       "                &quot;map_ae39842b289684e33a9546feba923f6b&quot;,\n",
       "                {\n",
       "                    center: [35.8561031762208, 139.9728003906582],\n",
       "                    crs: L.CRS.EPSG3857,\n",
       "                    zoom: 12,\n",
       "                    zoomControl: true,\n",
       "                    preferCanvas: false,\n",
       "                }\n",
       "            );\n",
       "\n",
       "            \n",
       "\n",
       "        \n",
       "    \n",
       "            var tile_layer_53a0e6f1304449477447663dc0fec743 = L.tileLayer(\n",
       "                &quot;https://{s}.tile.openstreetmap.org/{z}/{x}/{y}.png&quot;,\n",
       "                {&quot;attribution&quot;: &quot;Data by \\u0026copy; \\u003ca target=\\&quot;_blank\\&quot; href=\\&quot;http://openstreetmap.org\\&quot;\\u003eOpenStreetMap\\u003c/a\\u003e, under \\u003ca target=\\&quot;_blank\\&quot; href=\\&quot;http://www.openstreetmap.org/copyright\\&quot;\\u003eODbL\\u003c/a\\u003e.&quot;, &quot;detectRetina&quot;: false, &quot;maxNativeZoom&quot;: 18, &quot;maxZoom&quot;: 18, &quot;minZoom&quot;: 0, &quot;noWrap&quot;: false, &quot;opacity&quot;: 1, &quot;subdomains&quot;: &quot;abc&quot;, &quot;tms&quot;: false}\n",
       "            ).addTo(map_ae39842b289684e33a9546feba923f6b);\n",
       "        \n",
       "    \n",
       "            var marker_cluster_3b3250dace59432a581fd95f93448708 = L.markerClusterGroup(\n",
       "                {}\n",
       "            );\n",
       "            map_ae39842b289684e33a9546feba923f6b.addLayer(marker_cluster_3b3250dace59432a581fd95f93448708);\n",
       "        \n",
       "    \n",
       "            var marker_933956c88c611c4471e9100ef1e1116e = L.marker(\n",
       "                [35.841019, 139.956406],\n",
       "                {}\n",
       "            ).addTo(marker_cluster_3b3250dace59432a581fd95f93448708);\n",
       "        \n",
       "    \n",
       "            marker_933956c88c611c4471e9100ef1e1116e.bindTooltip(\n",
       "                `&lt;div&gt;\n",
       "                     30歳代\n",
       "                 &lt;/div&gt;`,\n",
       "                {&quot;sticky&quot;: true}\n",
       "            );\n",
       "        \n",
       "    \n",
       "            var marker_8445c51fa8fd2288eb92fd03ddbf3fe5 = L.marker(\n",
       "                [35.841019, 139.956406],\n",
       "                {}\n",
       "            ).addTo(marker_cluster_3b3250dace59432a581fd95f93448708);\n",
       "        \n",
       "    \n",
       "            marker_8445c51fa8fd2288eb92fd03ddbf3fe5.bindTooltip(\n",
       "                `&lt;div&gt;\n",
       "                     60-64歳\n",
       "                 &lt;/div&gt;`,\n",
       "                {&quot;sticky&quot;: true}\n",
       "            );\n",
       "        \n",
       "    \n",
       "            var marker_d6a09c9a9a47d76f5bac7b22cfbdc4ec = L.marker(\n",
       "                [35.841019, 139.956406],\n",
       "                {}\n",
       "            ).addTo(marker_cluster_3b3250dace59432a581fd95f93448708);\n",
       "        \n",
       "    \n",
       "            marker_d6a09c9a9a47d76f5bac7b22cfbdc4ec.bindTooltip(\n",
       "                `&lt;div&gt;\n",
       "                     20歳代\n",
       "                 &lt;/div&gt;`,\n",
       "                {&quot;sticky&quot;: true}\n",
       "            );\n",
       "        \n",
       "    \n",
       "            var marker_f774e2a7099b64f20251768ee1af3e26 = L.marker(\n",
       "                [35.841019, 139.956406],\n",
       "                {}\n",
       "            ).addTo(marker_cluster_3b3250dace59432a581fd95f93448708);\n",
       "        \n",
       "    \n",
       "            marker_f774e2a7099b64f20251768ee1af3e26.bindTooltip(\n",
       "                `&lt;div&gt;\n",
       "                     10歳代\n",
       "                 &lt;/div&gt;`,\n",
       "                {&quot;sticky&quot;: true}\n",
       "            );\n",
       "        \n",
       "    \n",
       "            var marker_f2fadc084345e523b632c921de3d11b0 = L.marker(\n",
       "                [35.841019, 139.956406],\n",
       "                {}\n",
       "            ).addTo(marker_cluster_3b3250dace59432a581fd95f93448708);\n",
       "        \n",
       "    \n",
       "            marker_f2fadc084345e523b632c921de3d11b0.bindTooltip(\n",
       "                `&lt;div&gt;\n",
       "                     10歳未満\n",
       "                 &lt;/div&gt;`,\n",
       "                {&quot;sticky&quot;: true}\n",
       "            );\n",
       "        \n",
       "    \n",
       "            var marker_7172f9cb19b443bf1f518d35174968f1 = L.marker(\n",
       "                [35.81815, 139.957825],\n",
       "                {}\n",
       "            ).addTo(marker_cluster_3b3250dace59432a581fd95f93448708);\n",
       "        \n",
       "    \n",
       "            marker_7172f9cb19b443bf1f518d35174968f1.bindTooltip(\n",
       "                `&lt;div&gt;\n",
       "                     40歳代\n",
       "                 &lt;/div&gt;`,\n",
       "                {&quot;sticky&quot;: true}\n",
       "            );\n",
       "        \n",
       "    \n",
       "            var marker_f8ae61b3f4681736da3ea212229ef6b7 = L.marker(\n",
       "                [35.818859, 139.965973],\n",
       "                {}\n",
       "            ).addTo(marker_cluster_3b3250dace59432a581fd95f93448708);\n",
       "        \n",
       "    \n",
       "            marker_f8ae61b3f4681736da3ea212229ef6b7.bindTooltip(\n",
       "                `&lt;div&gt;\n",
       "                     10歳代\n",
       "                 &lt;/div&gt;`,\n",
       "                {&quot;sticky&quot;: true}\n",
       "            );\n",
       "        \n",
       "    \n",
       "            var marker_fa51a65df153061795e0aae4938dd048 = L.marker(\n",
       "                [35.820488, 139.960007],\n",
       "                {}\n",
       "            ).addTo(marker_cluster_3b3250dace59432a581fd95f93448708);\n",
       "        \n",
       "    \n",
       "            marker_fa51a65df153061795e0aae4938dd048.bindTooltip(\n",
       "                `&lt;div&gt;\n",
       "                     70歳以上\n",
       "                 &lt;/div&gt;`,\n",
       "                {&quot;sticky&quot;: true}\n",
       "            );\n",
       "        \n",
       "    \n",
       "            var marker_ee88ec2fdd6c4bddfc7799ea72ede6b5 = L.marker(\n",
       "                [35.824585, 139.961349],\n",
       "                {}\n",
       "            ).addTo(marker_cluster_3b3250dace59432a581fd95f93448708);\n",
       "        \n",
       "    \n",
       "            marker_ee88ec2fdd6c4bddfc7799ea72ede6b5.bindTooltip(\n",
       "                `&lt;div&gt;\n",
       "                     30歳代\n",
       "                 &lt;/div&gt;`,\n",
       "                {&quot;sticky&quot;: true}\n",
       "            );\n",
       "        \n",
       "    \n",
       "            var marker_3034ec39c7e0bc96b3a7a3e94f6069b2 = L.marker(\n",
       "                [35.824585, 139.961349],\n",
       "                {}\n",
       "            ).addTo(marker_cluster_3b3250dace59432a581fd95f93448708);\n",
       "        \n",
       "    \n",
       "            marker_3034ec39c7e0bc96b3a7a3e94f6069b2.bindTooltip(\n",
       "                `&lt;div&gt;\n",
       "                     10歳未満\n",
       "                 &lt;/div&gt;`,\n",
       "                {&quot;sticky&quot;: true}\n",
       "            );\n",
       "        \n",
       "    \n",
       "            var marker_bd3a2fd7308c90823430a0a9409423d7 = L.marker(\n",
       "                [35.815441, 139.982468],\n",
       "                {}\n",
       "            ).addTo(marker_cluster_3b3250dace59432a581fd95f93448708);\n",
       "        \n",
       "    \n",
       "            marker_bd3a2fd7308c90823430a0a9409423d7.bindTooltip(\n",
       "                `&lt;div&gt;\n",
       "                     10歳代\n",
       "                 &lt;/div&gt;`,\n",
       "                {&quot;sticky&quot;: true}\n",
       "            );\n",
       "        \n",
       "    \n",
       "            var marker_72349390ba32b4c1def6de85297c06e2 = L.marker(\n",
       "                [35.83292, 139.946884],\n",
       "                {}\n",
       "            ).addTo(marker_cluster_3b3250dace59432a581fd95f93448708);\n",
       "        \n",
       "    \n",
       "            marker_72349390ba32b4c1def6de85297c06e2.bindTooltip(\n",
       "                `&lt;div&gt;\n",
       "                     10歳代\n",
       "                 &lt;/div&gt;`,\n",
       "                {&quot;sticky&quot;: true}\n",
       "            );\n",
       "        \n",
       "    \n",
       "            var marker_69d49b2c42be5967fbbe20f21a042005 = L.marker(\n",
       "                [35.82056, 139.95401],\n",
       "                {}\n",
       "            ).addTo(marker_cluster_3b3250dace59432a581fd95f93448708);\n",
       "        \n",
       "    \n",
       "            marker_69d49b2c42be5967fbbe20f21a042005.bindTooltip(\n",
       "                `&lt;div&gt;\n",
       "                     10歳代\n",
       "                 &lt;/div&gt;`,\n",
       "                {&quot;sticky&quot;: true}\n",
       "            );\n",
       "        \n",
       "    \n",
       "            var marker_10d74799578a9b65d56b3cc9459191c5 = L.marker(\n",
       "                [35.833195, 139.957794],\n",
       "                {}\n",
       "            ).addTo(marker_cluster_3b3250dace59432a581fd95f93448708);\n",
       "        \n",
       "    \n",
       "            marker_10d74799578a9b65d56b3cc9459191c5.bindTooltip(\n",
       "                `&lt;div&gt;\n",
       "                     30歳代\n",
       "                 &lt;/div&gt;`,\n",
       "                {&quot;sticky&quot;: true}\n",
       "            );\n",
       "        \n",
       "    \n",
       "            var marker_3f2aa8183922d54660c72bdb936ebc43 = L.marker(\n",
       "                [35.833195, 139.957794],\n",
       "                {}\n",
       "            ).addTo(marker_cluster_3b3250dace59432a581fd95f93448708);\n",
       "        \n",
       "    \n",
       "            marker_3f2aa8183922d54660c72bdb936ebc43.bindTooltip(\n",
       "                `&lt;div&gt;\n",
       "                     30歳代\n",
       "                 &lt;/div&gt;`,\n",
       "                {&quot;sticky&quot;: true}\n",
       "            );\n",
       "        \n",
       "    \n",
       "            var marker_046517b33b26f5bc94f5578eda5f605f = L.marker(\n",
       "                [35.829479, 139.957809],\n",
       "                {}\n",
       "            ).addTo(marker_cluster_3b3250dace59432a581fd95f93448708);\n",
       "        \n",
       "    \n",
       "            marker_046517b33b26f5bc94f5578eda5f605f.bindTooltip(\n",
       "                `&lt;div&gt;\n",
       "                     10歳代\n",
       "                 &lt;/div&gt;`,\n",
       "                {&quot;sticky&quot;: true}\n",
       "            );\n",
       "        \n",
       "    \n",
       "            var marker_d77c26fd0b7f5059406dc8f3924c4ef0 = L.marker(\n",
       "                [35.833984, 139.960556],\n",
       "                {}\n",
       "            ).addTo(marker_cluster_3b3250dace59432a581fd95f93448708);\n",
       "        \n",
       "    \n",
       "            marker_d77c26fd0b7f5059406dc8f3924c4ef0.bindTooltip(\n",
       "                `&lt;div&gt;\n",
       "                     10歳代\n",
       "                 &lt;/div&gt;`,\n",
       "                {&quot;sticky&quot;: true}\n",
       "            );\n",
       "        \n",
       "    \n",
       "            var marker_82cd469dd30f61c44c85b91a903beb01 = L.marker(\n",
       "                [35.833984, 139.960556],\n",
       "                {}\n",
       "            ).addTo(marker_cluster_3b3250dace59432a581fd95f93448708);\n",
       "        \n",
       "    \n",
       "            marker_82cd469dd30f61c44c85b91a903beb01.bindTooltip(\n",
       "                `&lt;div&gt;\n",
       "                     10歳未満\n",
       "                 &lt;/div&gt;`,\n",
       "                {&quot;sticky&quot;: true}\n",
       "            );\n",
       "        \n",
       "    \n",
       "            var marker_cd8ddfd3ad2415d955e69d2ecd21e214 = L.marker(\n",
       "                [35.833984, 139.960556],\n",
       "                {}\n",
       "            ).addTo(marker_cluster_3b3250dace59432a581fd95f93448708);\n",
       "        \n",
       "    \n",
       "            marker_cd8ddfd3ad2415d955e69d2ecd21e214.bindTooltip(\n",
       "                `&lt;div&gt;\n",
       "                     10歳代\n",
       "                 &lt;/div&gt;`,\n",
       "                {&quot;sticky&quot;: true}\n",
       "            );\n",
       "        \n",
       "    \n",
       "            var marker_447ea7df6aa26929580896fa22a24085 = L.marker(\n",
       "                [35.864445, 139.986511],\n",
       "                {}\n",
       "            ).addTo(marker_cluster_3b3250dace59432a581fd95f93448708);\n",
       "        \n",
       "    \n",
       "            marker_447ea7df6aa26929580896fa22a24085.bindTooltip(\n",
       "                `&lt;div&gt;\n",
       "                     50歳代\n",
       "                 &lt;/div&gt;`,\n",
       "                {&quot;sticky&quot;: true}\n",
       "            );\n",
       "        \n",
       "    \n",
       "            var marker_a61380c3c85ed1c47335b4fe30ec8148 = L.marker(\n",
       "                [35.864445, 139.986511],\n",
       "                {}\n",
       "            ).addTo(marker_cluster_3b3250dace59432a581fd95f93448708);\n",
       "        \n",
       "    \n",
       "            marker_a61380c3c85ed1c47335b4fe30ec8148.bindTooltip(\n",
       "                `&lt;div&gt;\n",
       "                     30歳代\n",
       "                 &lt;/div&gt;`,\n",
       "                {&quot;sticky&quot;: true}\n",
       "            );\n",
       "        \n",
       "    \n",
       "            var marker_90bd784025843e0a129d117a08cba1a4 = L.marker(\n",
       "                [35.864445, 139.986511],\n",
       "                {}\n",
       "            ).addTo(marker_cluster_3b3250dace59432a581fd95f93448708);\n",
       "        \n",
       "    \n",
       "            marker_90bd784025843e0a129d117a08cba1a4.bindTooltip(\n",
       "                `&lt;div&gt;\n",
       "                     40歳代\n",
       "                 &lt;/div&gt;`,\n",
       "                {&quot;sticky&quot;: true}\n",
       "            );\n",
       "        \n",
       "    \n",
       "            var marker_2f71e2256322476ad4a139d1a74d3e20 = L.marker(\n",
       "                [35.870007, 139.983795],\n",
       "                {}\n",
       "            ).addTo(marker_cluster_3b3250dace59432a581fd95f93448708);\n",
       "        \n",
       "    \n",
       "            marker_2f71e2256322476ad4a139d1a74d3e20.bindTooltip(\n",
       "                `&lt;div&gt;\n",
       "                     65-69歳\n",
       "                 &lt;/div&gt;`,\n",
       "                {&quot;sticky&quot;: true}\n",
       "            );\n",
       "        \n",
       "    \n",
       "            var marker_05f14bafce1f7e64e01cf0257d470ac2 = L.marker(\n",
       "                [35.875332, 139.983582],\n",
       "                {}\n",
       "            ).addTo(marker_cluster_3b3250dace59432a581fd95f93448708);\n",
       "        \n",
       "    \n",
       "            marker_05f14bafce1f7e64e01cf0257d470ac2.bindTooltip(\n",
       "                `&lt;div&gt;\n",
       "                     20歳代\n",
       "                 &lt;/div&gt;`,\n",
       "                {&quot;sticky&quot;: true}\n",
       "            );\n",
       "        \n",
       "    \n",
       "            var marker_e2d3d142dc28287355e4e9a94ca3412b = L.marker(\n",
       "                [35.872643, 139.989914],\n",
       "                {}\n",
       "            ).addTo(marker_cluster_3b3250dace59432a581fd95f93448708);\n",
       "        \n",
       "    \n",
       "            marker_e2d3d142dc28287355e4e9a94ca3412b.bindTooltip(\n",
       "                `&lt;div&gt;\n",
       "                     60-64歳\n",
       "                 &lt;/div&gt;`,\n",
       "                {&quot;sticky&quot;: true}\n",
       "            );\n",
       "        \n",
       "    \n",
       "            var marker_a835a555cb018e02f9ec87883b4f0a2a = L.marker(\n",
       "                [35.872643, 139.989914],\n",
       "                {}\n",
       "            ).addTo(marker_cluster_3b3250dace59432a581fd95f93448708);\n",
       "        \n",
       "    \n",
       "            marker_a835a555cb018e02f9ec87883b4f0a2a.bindTooltip(\n",
       "                `&lt;div&gt;\n",
       "                     20歳代\n",
       "                 &lt;/div&gt;`,\n",
       "                {&quot;sticky&quot;: true}\n",
       "            );\n",
       "        \n",
       "    \n",
       "            var marker_89c635dff356302ecf28b62c00e3cac1 = L.marker(\n",
       "                [35.872643, 139.989914],\n",
       "                {}\n",
       "            ).addTo(marker_cluster_3b3250dace59432a581fd95f93448708);\n",
       "        \n",
       "    \n",
       "            marker_89c635dff356302ecf28b62c00e3cac1.bindTooltip(\n",
       "                `&lt;div&gt;\n",
       "                     30歳代\n",
       "                 &lt;/div&gt;`,\n",
       "                {&quot;sticky&quot;: true}\n",
       "            );\n",
       "        \n",
       "    \n",
       "            var marker_be215d92ae255826c8cde0df63db2d2c = L.marker(\n",
       "                [35.872192, 139.987793],\n",
       "                {}\n",
       "            ).addTo(marker_cluster_3b3250dace59432a581fd95f93448708);\n",
       "        \n",
       "    \n",
       "            marker_be215d92ae255826c8cde0df63db2d2c.bindTooltip(\n",
       "                `&lt;div&gt;\n",
       "                     10歳代\n",
       "                 &lt;/div&gt;`,\n",
       "                {&quot;sticky&quot;: true}\n",
       "            );\n",
       "        \n",
       "    \n",
       "            var marker_2b1425383d6906650e0b12a67964457b = L.marker(\n",
       "                [35.872192, 139.987793],\n",
       "                {}\n",
       "            ).addTo(marker_cluster_3b3250dace59432a581fd95f93448708);\n",
       "        \n",
       "    \n",
       "            marker_2b1425383d6906650e0b12a67964457b.bindTooltip(\n",
       "                `&lt;div&gt;\n",
       "                     40歳代\n",
       "                 &lt;/div&gt;`,\n",
       "                {&quot;sticky&quot;: true}\n",
       "            );\n",
       "        \n",
       "    \n",
       "            var marker_93c1c0afc4649bc87db567b475d7bfa5 = L.marker(\n",
       "                [35.870586, 139.986893],\n",
       "                {}\n",
       "            ).addTo(marker_cluster_3b3250dace59432a581fd95f93448708);\n",
       "        \n",
       "    \n",
       "            marker_93c1c0afc4649bc87db567b475d7bfa5.bindTooltip(\n",
       "                `&lt;div&gt;\n",
       "                     20歳代\n",
       "                 &lt;/div&gt;`,\n",
       "                {&quot;sticky&quot;: true}\n",
       "            );\n",
       "        \n",
       "    \n",
       "            var marker_adcc7092d4a360862be06630c9d6a6d2 = L.marker(\n",
       "                [35.870586, 139.986893],\n",
       "                {}\n",
       "            ).addTo(marker_cluster_3b3250dace59432a581fd95f93448708);\n",
       "        \n",
       "    \n",
       "            marker_adcc7092d4a360862be06630c9d6a6d2.bindTooltip(\n",
       "                `&lt;div&gt;\n",
       "                     20歳代\n",
       "                 &lt;/div&gt;`,\n",
       "                {&quot;sticky&quot;: true}\n",
       "            );\n",
       "        \n",
       "    \n",
       "            var marker_64daee120d7789b2f93158c8952cdb56 = L.marker(\n",
       "                [35.868679, 139.990295],\n",
       "                {}\n",
       "            ).addTo(marker_cluster_3b3250dace59432a581fd95f93448708);\n",
       "        \n",
       "    \n",
       "            marker_64daee120d7789b2f93158c8952cdb56.bindTooltip(\n",
       "                `&lt;div&gt;\n",
       "                     30歳代\n",
       "                 &lt;/div&gt;`,\n",
       "                {&quot;sticky&quot;: true}\n",
       "            );\n",
       "        \n",
       "    \n",
       "            var marker_b6e87b476092e9c03b21f2ca9e02e305 = L.marker(\n",
       "                [35.887501, 139.985229],\n",
       "                {}\n",
       "            ).addTo(marker_cluster_3b3250dace59432a581fd95f93448708);\n",
       "        \n",
       "    \n",
       "            marker_b6e87b476092e9c03b21f2ca9e02e305.bindTooltip(\n",
       "                `&lt;div&gt;\n",
       "                     10歳未満\n",
       "                 &lt;/div&gt;`,\n",
       "                {&quot;sticky&quot;: true}\n",
       "            );\n",
       "        \n",
       "    \n",
       "            var marker_3225e664f697c9c411f8ffb2a0d42011 = L.marker(\n",
       "                [35.887501, 139.985229],\n",
       "                {}\n",
       "            ).addTo(marker_cluster_3b3250dace59432a581fd95f93448708);\n",
       "        \n",
       "    \n",
       "            marker_3225e664f697c9c411f8ffb2a0d42011.bindTooltip(\n",
       "                `&lt;div&gt;\n",
       "                     10歳代\n",
       "                 &lt;/div&gt;`,\n",
       "                {&quot;sticky&quot;: true}\n",
       "            );\n",
       "        \n",
       "    \n",
       "            var marker_65f3a577b9faaf963a934fda6f1ebac8 = L.marker(\n",
       "                [35.88113, 139.98645],\n",
       "                {}\n",
       "            ).addTo(marker_cluster_3b3250dace59432a581fd95f93448708);\n",
       "        \n",
       "    \n",
       "            marker_65f3a577b9faaf963a934fda6f1ebac8.bindTooltip(\n",
       "                `&lt;div&gt;\n",
       "                     20歳代\n",
       "                 &lt;/div&gt;`,\n",
       "                {&quot;sticky&quot;: true}\n",
       "            );\n",
       "        \n",
       "    \n",
       "            var marker_f75c664c5b998592a3d9606c7a20af02 = L.marker(\n",
       "                [35.88113, 139.98645],\n",
       "                {}\n",
       "            ).addTo(marker_cluster_3b3250dace59432a581fd95f93448708);\n",
       "        \n",
       "    \n",
       "            marker_f75c664c5b998592a3d9606c7a20af02.bindTooltip(\n",
       "                `&lt;div&gt;\n",
       "                     50歳代\n",
       "                 &lt;/div&gt;`,\n",
       "                {&quot;sticky&quot;: true}\n",
       "            );\n",
       "        \n",
       "    \n",
       "            var marker_7d033fe8da7f71e90c86f17394575cbf = L.marker(\n",
       "                [35.88113, 139.98645],\n",
       "                {}\n",
       "            ).addTo(marker_cluster_3b3250dace59432a581fd95f93448708);\n",
       "        \n",
       "    \n",
       "            marker_7d033fe8da7f71e90c86f17394575cbf.bindTooltip(\n",
       "                `&lt;div&gt;\n",
       "                     40歳代\n",
       "                 &lt;/div&gt;`,\n",
       "                {&quot;sticky&quot;: true}\n",
       "            );\n",
       "        \n",
       "    \n",
       "            var marker_f69fa3a0570b98341db61dd3d9d58293 = L.marker(\n",
       "                [35.88113, 139.98645],\n",
       "                {}\n",
       "            ).addTo(marker_cluster_3b3250dace59432a581fd95f93448708);\n",
       "        \n",
       "    \n",
       "            marker_f69fa3a0570b98341db61dd3d9d58293.bindTooltip(\n",
       "                `&lt;div&gt;\n",
       "                     40歳代\n",
       "                 &lt;/div&gt;`,\n",
       "                {&quot;sticky&quot;: true}\n",
       "            );\n",
       "        \n",
       "    \n",
       "            var marker_e87d36db72eb3a840ce73bfdc715a218 = L.marker(\n",
       "                [35.88113, 139.98645],\n",
       "                {}\n",
       "            ).addTo(marker_cluster_3b3250dace59432a581fd95f93448708);\n",
       "        \n",
       "    \n",
       "            marker_e87d36db72eb3a840ce73bfdc715a218.bindTooltip(\n",
       "                `&lt;div&gt;\n",
       "                     60-64歳\n",
       "                 &lt;/div&gt;`,\n",
       "                {&quot;sticky&quot;: true}\n",
       "            );\n",
       "        \n",
       "    \n",
       "            var marker_8c8bb48a67cf14449feb51b88f9e2850 = L.marker(\n",
       "                [35.88113, 139.98645],\n",
       "                {}\n",
       "            ).addTo(marker_cluster_3b3250dace59432a581fd95f93448708);\n",
       "        \n",
       "    \n",
       "            marker_8c8bb48a67cf14449feb51b88f9e2850.bindTooltip(\n",
       "                `&lt;div&gt;\n",
       "                     10歳代\n",
       "                 &lt;/div&gt;`,\n",
       "                {&quot;sticky&quot;: true}\n",
       "            );\n",
       "        \n",
       "    \n",
       "            var marker_5289e476f7172d6d2a329f0de627883f = L.marker(\n",
       "                [35.88113, 139.98645],\n",
       "                {}\n",
       "            ).addTo(marker_cluster_3b3250dace59432a581fd95f93448708);\n",
       "        \n",
       "    \n",
       "            marker_5289e476f7172d6d2a329f0de627883f.bindTooltip(\n",
       "                `&lt;div&gt;\n",
       "                     10歳代\n",
       "                 &lt;/div&gt;`,\n",
       "                {&quot;sticky&quot;: true}\n",
       "            );\n",
       "        \n",
       "    \n",
       "            var marker_7037e02a92e2cf423a948591a2049dd0 = L.marker(\n",
       "                [35.88113, 139.98645],\n",
       "                {}\n",
       "            ).addTo(marker_cluster_3b3250dace59432a581fd95f93448708);\n",
       "        \n",
       "    \n",
       "            marker_7037e02a92e2cf423a948591a2049dd0.bindTooltip(\n",
       "                `&lt;div&gt;\n",
       "                     10歳代\n",
       "                 &lt;/div&gt;`,\n",
       "                {&quot;sticky&quot;: true}\n",
       "            );\n",
       "        \n",
       "    \n",
       "            var marker_94b4efb24e1e102fc0f9c5fabc16e615 = L.marker(\n",
       "                [35.88113, 139.98645],\n",
       "                {}\n",
       "            ).addTo(marker_cluster_3b3250dace59432a581fd95f93448708);\n",
       "        \n",
       "    \n",
       "            marker_94b4efb24e1e102fc0f9c5fabc16e615.bindTooltip(\n",
       "                `&lt;div&gt;\n",
       "                     40歳代\n",
       "                 &lt;/div&gt;`,\n",
       "                {&quot;sticky&quot;: true}\n",
       "            );\n",
       "        \n",
       "    \n",
       "            var marker_1a2eba5847752dec35b355afd261045d = L.marker(\n",
       "                [35.88113, 139.98645],\n",
       "                {}\n",
       "            ).addTo(marker_cluster_3b3250dace59432a581fd95f93448708);\n",
       "        \n",
       "    \n",
       "            marker_1a2eba5847752dec35b355afd261045d.bindTooltip(\n",
       "                `&lt;div&gt;\n",
       "                     20歳代\n",
       "                 &lt;/div&gt;`,\n",
       "                {&quot;sticky&quot;: true}\n",
       "            );\n",
       "        \n",
       "    \n",
       "            var marker_fd1858cb754f1d5384c7c151a1eab558 = L.marker(\n",
       "                [35.88113, 139.98645],\n",
       "                {}\n",
       "            ).addTo(marker_cluster_3b3250dace59432a581fd95f93448708);\n",
       "        \n",
       "    \n",
       "            marker_fd1858cb754f1d5384c7c151a1eab558.bindTooltip(\n",
       "                `&lt;div&gt;\n",
       "                     10歳未満\n",
       "                 &lt;/div&gt;`,\n",
       "                {&quot;sticky&quot;: true}\n",
       "            );\n",
       "        \n",
       "    \n",
       "            var marker_a94eceab4ed0d88926e4cdd25c610fa5 = L.marker(\n",
       "                [35.88113, 139.98645],\n",
       "                {}\n",
       "            ).addTo(marker_cluster_3b3250dace59432a581fd95f93448708);\n",
       "        \n",
       "    \n",
       "            marker_a94eceab4ed0d88926e4cdd25c610fa5.bindTooltip(\n",
       "                `&lt;div&gt;\n",
       "                     40歳代\n",
       "                 &lt;/div&gt;`,\n",
       "                {&quot;sticky&quot;: true}\n",
       "            );\n",
       "        \n",
       "    \n",
       "            var marker_12ba891141a553d7de8363c89b9f2e24 = L.marker(\n",
       "                [35.88113, 139.98645],\n",
       "                {}\n",
       "            ).addTo(marker_cluster_3b3250dace59432a581fd95f93448708);\n",
       "        \n",
       "    \n",
       "            marker_12ba891141a553d7de8363c89b9f2e24.bindTooltip(\n",
       "                `&lt;div&gt;\n",
       "                     10歳代\n",
       "                 &lt;/div&gt;`,\n",
       "                {&quot;sticky&quot;: true}\n",
       "            );\n",
       "        \n",
       "    \n",
       "            var marker_921c357805ccb71e08cdc3f58292f5f1 = L.marker(\n",
       "                [35.88113, 139.98645],\n",
       "                {}\n",
       "            ).addTo(marker_cluster_3b3250dace59432a581fd95f93448708);\n",
       "        \n",
       "    \n",
       "            marker_921c357805ccb71e08cdc3f58292f5f1.bindTooltip(\n",
       "                `&lt;div&gt;\n",
       "                     20歳代\n",
       "                 &lt;/div&gt;`,\n",
       "                {&quot;sticky&quot;: true}\n",
       "            );\n",
       "        \n",
       "    \n",
       "            var marker_de6a64504e2f37e788354a099549f606 = L.marker(\n",
       "                [35.88113, 139.98645],\n",
       "                {}\n",
       "            ).addTo(marker_cluster_3b3250dace59432a581fd95f93448708);\n",
       "        \n",
       "    \n",
       "            marker_de6a64504e2f37e788354a099549f606.bindTooltip(\n",
       "                `&lt;div&gt;\n",
       "                     10歳代\n",
       "                 &lt;/div&gt;`,\n",
       "                {&quot;sticky&quot;: true}\n",
       "            );\n",
       "        \n",
       "    \n",
       "            var marker_d0e5c912074b1b4a2df12502848eff13 = L.marker(\n",
       "                [35.88113, 139.98645],\n",
       "                {}\n",
       "            ).addTo(marker_cluster_3b3250dace59432a581fd95f93448708);\n",
       "        \n",
       "    \n",
       "            marker_d0e5c912074b1b4a2df12502848eff13.bindTooltip(\n",
       "                `&lt;div&gt;\n",
       "                     20歳代\n",
       "                 &lt;/div&gt;`,\n",
       "                {&quot;sticky&quot;: true}\n",
       "            );\n",
       "        \n",
       "    \n",
       "            var marker_503a5253233293bee36e13094c6b09d7 = L.marker(\n",
       "                [35.88113, 139.98645],\n",
       "                {}\n",
       "            ).addTo(marker_cluster_3b3250dace59432a581fd95f93448708);\n",
       "        \n",
       "    \n",
       "            marker_503a5253233293bee36e13094c6b09d7.bindTooltip(\n",
       "                `&lt;div&gt;\n",
       "                     20歳代\n",
       "                 &lt;/div&gt;`,\n",
       "                {&quot;sticky&quot;: true}\n",
       "            );\n",
       "        \n",
       "    \n",
       "            var marker_cf382e06a770878a26e48c78944d7411 = L.marker(\n",
       "                [35.88113, 139.98645],\n",
       "                {}\n",
       "            ).addTo(marker_cluster_3b3250dace59432a581fd95f93448708);\n",
       "        \n",
       "    \n",
       "            marker_cf382e06a770878a26e48c78944d7411.bindTooltip(\n",
       "                `&lt;div&gt;\n",
       "                     20歳代\n",
       "                 &lt;/div&gt;`,\n",
       "                {&quot;sticky&quot;: true}\n",
       "            );\n",
       "        \n",
       "    \n",
       "            var marker_2ee211687b06d1e45d1fc88676376004 = L.marker(\n",
       "                [35.88113, 139.98645],\n",
       "                {}\n",
       "            ).addTo(marker_cluster_3b3250dace59432a581fd95f93448708);\n",
       "        \n",
       "    \n",
       "            marker_2ee211687b06d1e45d1fc88676376004.bindTooltip(\n",
       "                `&lt;div&gt;\n",
       "                     20歳代\n",
       "                 &lt;/div&gt;`,\n",
       "                {&quot;sticky&quot;: true}\n",
       "            );\n",
       "        \n",
       "    \n",
       "            var marker_878e5d443dc8dd416d6bdb16ec75130d = L.marker(\n",
       "                [35.88113, 139.98645],\n",
       "                {}\n",
       "            ).addTo(marker_cluster_3b3250dace59432a581fd95f93448708);\n",
       "        \n",
       "    \n",
       "            marker_878e5d443dc8dd416d6bdb16ec75130d.bindTooltip(\n",
       "                `&lt;div&gt;\n",
       "                     20歳代\n",
       "                 &lt;/div&gt;`,\n",
       "                {&quot;sticky&quot;: true}\n",
       "            );\n",
       "        \n",
       "    \n",
       "            var marker_05f08579f3c930064157d437adc5bb83 = L.marker(\n",
       "                [35.832733, 139.970932],\n",
       "                {}\n",
       "            ).addTo(marker_cluster_3b3250dace59432a581fd95f93448708);\n",
       "        \n",
       "    \n",
       "            marker_05f08579f3c930064157d437adc5bb83.bindTooltip(\n",
       "                `&lt;div&gt;\n",
       "                     20歳代\n",
       "                 &lt;/div&gt;`,\n",
       "                {&quot;sticky&quot;: true}\n",
       "            );\n",
       "        \n",
       "    \n",
       "            var marker_22e240dca2a3fd7df8765ca6d29b6f64 = L.marker(\n",
       "                [35.815441, 139.982468],\n",
       "                {}\n",
       "            ).addTo(marker_cluster_3b3250dace59432a581fd95f93448708);\n",
       "        \n",
       "    \n",
       "            marker_22e240dca2a3fd7df8765ca6d29b6f64.bindTooltip(\n",
       "                `&lt;div&gt;\n",
       "                     10歳代\n",
       "                 &lt;/div&gt;`,\n",
       "                {&quot;sticky&quot;: true}\n",
       "            );\n",
       "        \n",
       "    \n",
       "            var marker_0879d188e480d560345f54700228e0ae = L.marker(\n",
       "                [35.815441, 139.982468],\n",
       "                {}\n",
       "            ).addTo(marker_cluster_3b3250dace59432a581fd95f93448708);\n",
       "        \n",
       "    \n",
       "            marker_0879d188e480d560345f54700228e0ae.bindTooltip(\n",
       "                `&lt;div&gt;\n",
       "                     10歳代\n",
       "                 &lt;/div&gt;`,\n",
       "                {&quot;sticky&quot;: true}\n",
       "            );\n",
       "        \n",
       "    \n",
       "            var marker_84164d920585d019cb710c87bec2ac26 = L.marker(\n",
       "                [35.815441, 139.982468],\n",
       "                {}\n",
       "            ).addTo(marker_cluster_3b3250dace59432a581fd95f93448708);\n",
       "        \n",
       "    \n",
       "            marker_84164d920585d019cb710c87bec2ac26.bindTooltip(\n",
       "                `&lt;div&gt;\n",
       "                     10歳代\n",
       "                 &lt;/div&gt;`,\n",
       "                {&quot;sticky&quot;: true}\n",
       "            );\n",
       "        \n",
       "    \n",
       "            var marker_d916e505c82aebd1ab4419d575d1bd56 = L.marker(\n",
       "                [35.815441, 139.982468],\n",
       "                {}\n",
       "            ).addTo(marker_cluster_3b3250dace59432a581fd95f93448708);\n",
       "        \n",
       "    \n",
       "            marker_d916e505c82aebd1ab4419d575d1bd56.bindTooltip(\n",
       "                `&lt;div&gt;\n",
       "                     10歳代\n",
       "                 &lt;/div&gt;`,\n",
       "                {&quot;sticky&quot;: true}\n",
       "            );\n",
       "        \n",
       "    \n",
       "            var marker_2963d373b79136fc6726e0c70069fa84 = L.marker(\n",
       "                [35.815441, 139.982468],\n",
       "                {}\n",
       "            ).addTo(marker_cluster_3b3250dace59432a581fd95f93448708);\n",
       "        \n",
       "    \n",
       "            marker_2963d373b79136fc6726e0c70069fa84.bindTooltip(\n",
       "                `&lt;div&gt;\n",
       "                     20歳代\n",
       "                 &lt;/div&gt;`,\n",
       "                {&quot;sticky&quot;: true}\n",
       "            );\n",
       "        \n",
       "    \n",
       "            var marker_75a15c4ac51e8b66461598f3f1bfe263 = L.marker(\n",
       "                [35.815441, 139.982468],\n",
       "                {}\n",
       "            ).addTo(marker_cluster_3b3250dace59432a581fd95f93448708);\n",
       "        \n",
       "    \n",
       "            marker_75a15c4ac51e8b66461598f3f1bfe263.bindTooltip(\n",
       "                `&lt;div&gt;\n",
       "                     20歳代\n",
       "                 &lt;/div&gt;`,\n",
       "                {&quot;sticky&quot;: true}\n",
       "            );\n",
       "        \n",
       "    \n",
       "            var marker_e84e35c9f6982cd4d5b2f5b025514ef9 = L.marker(\n",
       "                [35.815441, 139.982468],\n",
       "                {}\n",
       "            ).addTo(marker_cluster_3b3250dace59432a581fd95f93448708);\n",
       "        \n",
       "    \n",
       "            marker_e84e35c9f6982cd4d5b2f5b025514ef9.bindTooltip(\n",
       "                `&lt;div&gt;\n",
       "                     70歳以上\n",
       "                 &lt;/div&gt;`,\n",
       "                {&quot;sticky&quot;: true}\n",
       "            );\n",
       "        \n",
       "    \n",
       "            var marker_0ae72fdea66611c8219ace6c6cb15521 = L.marker(\n",
       "                [35.815441, 139.982468],\n",
       "                {}\n",
       "            ).addTo(marker_cluster_3b3250dace59432a581fd95f93448708);\n",
       "        \n",
       "    \n",
       "            marker_0ae72fdea66611c8219ace6c6cb15521.bindTooltip(\n",
       "                `&lt;div&gt;\n",
       "                     20歳代\n",
       "                 &lt;/div&gt;`,\n",
       "                {&quot;sticky&quot;: true}\n",
       "            );\n",
       "        \n",
       "    \n",
       "            var marker_c4ff164b79e5d51a0712c585b2ff105f = L.marker(\n",
       "                [35.822018, 139.983444],\n",
       "                {}\n",
       "            ).addTo(marker_cluster_3b3250dace59432a581fd95f93448708);\n",
       "        \n",
       "    \n",
       "            marker_c4ff164b79e5d51a0712c585b2ff105f.bindTooltip(\n",
       "                `&lt;div&gt;\n",
       "                     10歳代\n",
       "                 &lt;/div&gt;`,\n",
       "                {&quot;sticky&quot;: true}\n",
       "            );\n",
       "        \n",
       "    \n",
       "            var marker_9283d2e5b9acb5032ed662509ae1a470 = L.marker(\n",
       "                [35.822018, 139.983444],\n",
       "                {}\n",
       "            ).addTo(marker_cluster_3b3250dace59432a581fd95f93448708);\n",
       "        \n",
       "    \n",
       "            marker_9283d2e5b9acb5032ed662509ae1a470.bindTooltip(\n",
       "                `&lt;div&gt;\n",
       "                     10歳代\n",
       "                 &lt;/div&gt;`,\n",
       "                {&quot;sticky&quot;: true}\n",
       "            );\n",
       "        \n",
       "    \n",
       "            var marker_299a2df34b769e0f97a3d16b8cd0ce7f = L.marker(\n",
       "                [35.822018, 139.983444],\n",
       "                {}\n",
       "            ).addTo(marker_cluster_3b3250dace59432a581fd95f93448708);\n",
       "        \n",
       "    \n",
       "            marker_299a2df34b769e0f97a3d16b8cd0ce7f.bindTooltip(\n",
       "                `&lt;div&gt;\n",
       "                     20歳代\n",
       "                 &lt;/div&gt;`,\n",
       "                {&quot;sticky&quot;: true}\n",
       "            );\n",
       "        \n",
       "    \n",
       "            var marker_41510e1e0d29f31bc0180bf110f3b492 = L.marker(\n",
       "                [35.824383, 139.979614],\n",
       "                {}\n",
       "            ).addTo(marker_cluster_3b3250dace59432a581fd95f93448708);\n",
       "        \n",
       "    \n",
       "            marker_41510e1e0d29f31bc0180bf110f3b492.bindTooltip(\n",
       "                `&lt;div&gt;\n",
       "                     10歳代\n",
       "                 &lt;/div&gt;`,\n",
       "                {&quot;sticky&quot;: true}\n",
       "            );\n",
       "        \n",
       "    \n",
       "            var marker_9bf9a1204dbd1c34d565156530471fc3 = L.marker(\n",
       "                [35.824383, 139.979614],\n",
       "                {}\n",
       "            ).addTo(marker_cluster_3b3250dace59432a581fd95f93448708);\n",
       "        \n",
       "    \n",
       "            marker_9bf9a1204dbd1c34d565156530471fc3.bindTooltip(\n",
       "                `&lt;div&gt;\n",
       "                     10歳代\n",
       "                 &lt;/div&gt;`,\n",
       "                {&quot;sticky&quot;: true}\n",
       "            );\n",
       "        \n",
       "    \n",
       "            var marker_58af6ad1511a8f9b5fef3c941969ec8d = L.marker(\n",
       "                [35.824383, 139.979614],\n",
       "                {}\n",
       "            ).addTo(marker_cluster_3b3250dace59432a581fd95f93448708);\n",
       "        \n",
       "    \n",
       "            marker_58af6ad1511a8f9b5fef3c941969ec8d.bindTooltip(\n",
       "                `&lt;div&gt;\n",
       "                     10歳代\n",
       "                 &lt;/div&gt;`,\n",
       "                {&quot;sticky&quot;: true}\n",
       "            );\n",
       "        \n",
       "    \n",
       "            var marker_10d03e313570afc3b93a72f0d1b9bca3 = L.marker(\n",
       "                [35.824383, 139.979614],\n",
       "                {}\n",
       "            ).addTo(marker_cluster_3b3250dace59432a581fd95f93448708);\n",
       "        \n",
       "    \n",
       "            marker_10d03e313570afc3b93a72f0d1b9bca3.bindTooltip(\n",
       "                `&lt;div&gt;\n",
       "                     20歳代\n",
       "                 &lt;/div&gt;`,\n",
       "                {&quot;sticky&quot;: true}\n",
       "            );\n",
       "        \n",
       "    \n",
       "            var marker_0369f3929bae601ade4ce22b9c396fea = L.marker(\n",
       "                [35.824383, 139.979614],\n",
       "                {}\n",
       "            ).addTo(marker_cluster_3b3250dace59432a581fd95f93448708);\n",
       "        \n",
       "    \n",
       "            marker_0369f3929bae601ade4ce22b9c396fea.bindTooltip(\n",
       "                `&lt;div&gt;\n",
       "                     30歳代\n",
       "                 &lt;/div&gt;`,\n",
       "                {&quot;sticky&quot;: true}\n",
       "            );\n",
       "        \n",
       "    \n",
       "            var marker_eeb692026549ccbff1301f4d62dbf25d = L.marker(\n",
       "                [35.824383, 139.979614],\n",
       "                {}\n",
       "            ).addTo(marker_cluster_3b3250dace59432a581fd95f93448708);\n",
       "        \n",
       "    \n",
       "            marker_eeb692026549ccbff1301f4d62dbf25d.bindTooltip(\n",
       "                `&lt;div&gt;\n",
       "                     10歳代\n",
       "                 &lt;/div&gt;`,\n",
       "                {&quot;sticky&quot;: true}\n",
       "            );\n",
       "        \n",
       "    \n",
       "            var marker_6d0aa0807e5bf0fd12810029e5cb7eb7 = L.marker(\n",
       "                [35.816387, 139.974075],\n",
       "                {}\n",
       "            ).addTo(marker_cluster_3b3250dace59432a581fd95f93448708);\n",
       "        \n",
       "    \n",
       "            marker_6d0aa0807e5bf0fd12810029e5cb7eb7.bindTooltip(\n",
       "                `&lt;div&gt;\n",
       "                     10歳代\n",
       "                 &lt;/div&gt;`,\n",
       "                {&quot;sticky&quot;: true}\n",
       "            );\n",
       "        \n",
       "    \n",
       "            var marker_383d26f212eefbceb8c788064393262f = L.marker(\n",
       "                [35.816387, 139.974075],\n",
       "                {}\n",
       "            ).addTo(marker_cluster_3b3250dace59432a581fd95f93448708);\n",
       "        \n",
       "    \n",
       "            marker_383d26f212eefbceb8c788064393262f.bindTooltip(\n",
       "                `&lt;div&gt;\n",
       "                     10歳代\n",
       "                 &lt;/div&gt;`,\n",
       "                {&quot;sticky&quot;: true}\n",
       "            );\n",
       "        \n",
       "    \n",
       "            var marker_6ae8c1c131435e6de11e8e4fe2bca4d1 = L.marker(\n",
       "                [35.816387, 139.974075],\n",
       "                {}\n",
       "            ).addTo(marker_cluster_3b3250dace59432a581fd95f93448708);\n",
       "        \n",
       "    \n",
       "            marker_6ae8c1c131435e6de11e8e4fe2bca4d1.bindTooltip(\n",
       "                `&lt;div&gt;\n",
       "                     10歳代\n",
       "                 &lt;/div&gt;`,\n",
       "                {&quot;sticky&quot;: true}\n",
       "            );\n",
       "        \n",
       "    \n",
       "            var marker_5e5b6aaa27742572d07ed93f4406f3c9 = L.marker(\n",
       "                [35.818909, 139.971741],\n",
       "                {}\n",
       "            ).addTo(marker_cluster_3b3250dace59432a581fd95f93448708);\n",
       "        \n",
       "    \n",
       "            marker_5e5b6aaa27742572d07ed93f4406f3c9.bindTooltip(\n",
       "                `&lt;div&gt;\n",
       "                     40歳代\n",
       "                 &lt;/div&gt;`,\n",
       "                {&quot;sticky&quot;: true}\n",
       "            );\n",
       "        \n",
       "    \n",
       "            var marker_00dd136a2be9cca50a0e7c6bb1162c68 = L.marker(\n",
       "                [35.817165, 139.96759],\n",
       "                {}\n",
       "            ).addTo(marker_cluster_3b3250dace59432a581fd95f93448708);\n",
       "        \n",
       "    \n",
       "            marker_00dd136a2be9cca50a0e7c6bb1162c68.bindTooltip(\n",
       "                `&lt;div&gt;\n",
       "                     10歳代\n",
       "                 &lt;/div&gt;`,\n",
       "                {&quot;sticky&quot;: true}\n",
       "            );\n",
       "        \n",
       "    \n",
       "            var marker_e6773318a443690aedb2e03aee3e8dcc = L.marker(\n",
       "                [35.814602, 139.97052],\n",
       "                {}\n",
       "            ).addTo(marker_cluster_3b3250dace59432a581fd95f93448708);\n",
       "        \n",
       "    \n",
       "            marker_e6773318a443690aedb2e03aee3e8dcc.bindTooltip(\n",
       "                `&lt;div&gt;\n",
       "                     70歳以上\n",
       "                 &lt;/div&gt;`,\n",
       "                {&quot;sticky&quot;: true}\n",
       "            );\n",
       "        \n",
       "    \n",
       "            var marker_8dc688671fb9c272f81b4df55a0360e3 = L.marker(\n",
       "                [35.814602, 139.97052],\n",
       "                {}\n",
       "            ).addTo(marker_cluster_3b3250dace59432a581fd95f93448708);\n",
       "        \n",
       "    \n",
       "            marker_8dc688671fb9c272f81b4df55a0360e3.bindTooltip(\n",
       "                `&lt;div&gt;\n",
       "                     50歳代\n",
       "                 &lt;/div&gt;`,\n",
       "                {&quot;sticky&quot;: true}\n",
       "            );\n",
       "        \n",
       "    \n",
       "            var marker_5827892181d5e63f31665b2d23ef7a2b = L.marker(\n",
       "                [35.814602, 139.97052],\n",
       "                {}\n",
       "            ).addTo(marker_cluster_3b3250dace59432a581fd95f93448708);\n",
       "        \n",
       "    \n",
       "            marker_5827892181d5e63f31665b2d23ef7a2b.bindTooltip(\n",
       "                `&lt;div&gt;\n",
       "                     30歳代\n",
       "                 &lt;/div&gt;`,\n",
       "                {&quot;sticky&quot;: true}\n",
       "            );\n",
       "        \n",
       "    \n",
       "            var marker_cde63fd984a38560ec5417140a50f340 = L.marker(\n",
       "                [35.814602, 139.97052],\n",
       "                {}\n",
       "            ).addTo(marker_cluster_3b3250dace59432a581fd95f93448708);\n",
       "        \n",
       "    \n",
       "            marker_cde63fd984a38560ec5417140a50f340.bindTooltip(\n",
       "                `&lt;div&gt;\n",
       "                     10歳代\n",
       "                 &lt;/div&gt;`,\n",
       "                {&quot;sticky&quot;: true}\n",
       "            );\n",
       "        \n",
       "    \n",
       "            var marker_48f236a6b4b616ac9e655bd8c83b356e = L.marker(\n",
       "                [35.814602, 139.97052],\n",
       "                {}\n",
       "            ).addTo(marker_cluster_3b3250dace59432a581fd95f93448708);\n",
       "        \n",
       "    \n",
       "            marker_48f236a6b4b616ac9e655bd8c83b356e.bindTooltip(\n",
       "                `&lt;div&gt;\n",
       "                     20歳代\n",
       "                 &lt;/div&gt;`,\n",
       "                {&quot;sticky&quot;: true}\n",
       "            );\n",
       "        \n",
       "    \n",
       "            var marker_12e7c6b0c696684b46f957c5a5a8763a = L.marker(\n",
       "                [35.813236, 139.966034],\n",
       "                {}\n",
       "            ).addTo(marker_cluster_3b3250dace59432a581fd95f93448708);\n",
       "        \n",
       "    \n",
       "            marker_12e7c6b0c696684b46f957c5a5a8763a.bindTooltip(\n",
       "                `&lt;div&gt;\n",
       "                     10歳代\n",
       "                 &lt;/div&gt;`,\n",
       "                {&quot;sticky&quot;: true}\n",
       "            );\n",
       "        \n",
       "    \n",
       "            var marker_b1619fcc189571da77e21983f74de4ae = L.marker(\n",
       "                [35.809929, 139.966537],\n",
       "                {}\n",
       "            ).addTo(marker_cluster_3b3250dace59432a581fd95f93448708);\n",
       "        \n",
       "    \n",
       "            marker_b1619fcc189571da77e21983f74de4ae.bindTooltip(\n",
       "                `&lt;div&gt;\n",
       "                     70歳以上\n",
       "                 &lt;/div&gt;`,\n",
       "                {&quot;sticky&quot;: true}\n",
       "            );\n",
       "        \n",
       "    \n",
       "            var marker_1a13df30a070a46aa9d8b36921cf5f0a = L.marker(\n",
       "                [35.811157, 139.963562],\n",
       "                {}\n",
       "            ).addTo(marker_cluster_3b3250dace59432a581fd95f93448708);\n",
       "        \n",
       "    \n",
       "            marker_1a13df30a070a46aa9d8b36921cf5f0a.bindTooltip(\n",
       "                `&lt;div&gt;\n",
       "                     40歳代\n",
       "                 &lt;/div&gt;`,\n",
       "                {&quot;sticky&quot;: true}\n",
       "            );\n",
       "        \n",
       "    \n",
       "            var marker_dfc135dcd6d19b5aeee5fd3028d6ec29 = L.marker(\n",
       "                [35.810768, 139.959],\n",
       "                {}\n",
       "            ).addTo(marker_cluster_3b3250dace59432a581fd95f93448708);\n",
       "        \n",
       "    \n",
       "            marker_dfc135dcd6d19b5aeee5fd3028d6ec29.bindTooltip(\n",
       "                `&lt;div&gt;\n",
       "                     10歳代\n",
       "                 &lt;/div&gt;`,\n",
       "                {&quot;sticky&quot;: true}\n",
       "            );\n",
       "        \n",
       "    \n",
       "            var marker_37889aee0f13a1f6e630cedf614137dc = L.marker(\n",
       "                [35.827206, 139.976883],\n",
       "                {}\n",
       "            ).addTo(marker_cluster_3b3250dace59432a581fd95f93448708);\n",
       "        \n",
       "    \n",
       "            marker_37889aee0f13a1f6e630cedf614137dc.bindTooltip(\n",
       "                `&lt;div&gt;\n",
       "                     30歳代\n",
       "                 &lt;/div&gt;`,\n",
       "                {&quot;sticky&quot;: true}\n",
       "            );\n",
       "        \n",
       "    \n",
       "            var marker_7b253bf7975c8e7a6b2f87a717170690 = L.marker(\n",
       "                [35.827206, 139.976883],\n",
       "                {}\n",
       "            ).addTo(marker_cluster_3b3250dace59432a581fd95f93448708);\n",
       "        \n",
       "    \n",
       "            marker_7b253bf7975c8e7a6b2f87a717170690.bindTooltip(\n",
       "                `&lt;div&gt;\n",
       "                     50歳代\n",
       "                 &lt;/div&gt;`,\n",
       "                {&quot;sticky&quot;: true}\n",
       "            );\n",
       "        \n",
       "    \n",
       "            var marker_ec3111b3ac8fe72468a042ea57244f31 = L.marker(\n",
       "                [35.822952, 139.98671],\n",
       "                {}\n",
       "            ).addTo(marker_cluster_3b3250dace59432a581fd95f93448708);\n",
       "        \n",
       "    \n",
       "            marker_ec3111b3ac8fe72468a042ea57244f31.bindTooltip(\n",
       "                `&lt;div&gt;\n",
       "                     10歳代\n",
       "                 &lt;/div&gt;`,\n",
       "                {&quot;sticky&quot;: true}\n",
       "            );\n",
       "        \n",
       "    \n",
       "            var marker_1bebc1440f9ffa2c9f25708523c8d5c9 = L.marker(\n",
       "                [35.822952, 139.98671],\n",
       "                {}\n",
       "            ).addTo(marker_cluster_3b3250dace59432a581fd95f93448708);\n",
       "        \n",
       "    \n",
       "            marker_1bebc1440f9ffa2c9f25708523c8d5c9.bindTooltip(\n",
       "                `&lt;div&gt;\n",
       "                     10歳代\n",
       "                 &lt;/div&gt;`,\n",
       "                {&quot;sticky&quot;: true}\n",
       "            );\n",
       "        \n",
       "    \n",
       "            var marker_600acaa1da322bbdb1e777c5d79fd9e5 = L.marker(\n",
       "                [35.822952, 139.98671],\n",
       "                {}\n",
       "            ).addTo(marker_cluster_3b3250dace59432a581fd95f93448708);\n",
       "        \n",
       "    \n",
       "            marker_600acaa1da322bbdb1e777c5d79fd9e5.bindTooltip(\n",
       "                `&lt;div&gt;\n",
       "                     10歳代\n",
       "                 &lt;/div&gt;`,\n",
       "                {&quot;sticky&quot;: true}\n",
       "            );\n",
       "        \n",
       "    \n",
       "            var marker_7197d96f65fae2bb0e9e36b4228f8f57 = L.marker(\n",
       "                [35.807571, 139.970367],\n",
       "                {}\n",
       "            ).addTo(marker_cluster_3b3250dace59432a581fd95f93448708);\n",
       "        \n",
       "    \n",
       "            marker_7197d96f65fae2bb0e9e36b4228f8f57.bindTooltip(\n",
       "                `&lt;div&gt;\n",
       "                     10歳未満\n",
       "                 &lt;/div&gt;`,\n",
       "                {&quot;sticky&quot;: true}\n",
       "            );\n",
       "        \n",
       "    \n",
       "            var marker_fecd4d4fa2e33dad154b54bb907d19c4 = L.marker(\n",
       "                [35.813534, 139.957855],\n",
       "                {}\n",
       "            ).addTo(marker_cluster_3b3250dace59432a581fd95f93448708);\n",
       "        \n",
       "    \n",
       "            marker_fecd4d4fa2e33dad154b54bb907d19c4.bindTooltip(\n",
       "                `&lt;div&gt;\n",
       "                     10歳代\n",
       "                 &lt;/div&gt;`,\n",
       "                {&quot;sticky&quot;: true}\n",
       "            );\n",
       "        \n",
       "    \n",
       "            var marker_0cc5b7448f46d9add3648b04a081159f = L.marker(\n",
       "                [35.813534, 139.957855],\n",
       "                {}\n",
       "            ).addTo(marker_cluster_3b3250dace59432a581fd95f93448708);\n",
       "        \n",
       "    \n",
       "            marker_0cc5b7448f46d9add3648b04a081159f.bindTooltip(\n",
       "                `&lt;div&gt;\n",
       "                     10歳代\n",
       "                 &lt;/div&gt;`,\n",
       "                {&quot;sticky&quot;: true}\n",
       "            );\n",
       "        \n",
       "    \n",
       "            var marker_971b900d38de134b5cd6437efdff46e4 = L.marker(\n",
       "                [35.812092, 139.972183],\n",
       "                {}\n",
       "            ).addTo(marker_cluster_3b3250dace59432a581fd95f93448708);\n",
       "        \n",
       "    \n",
       "            marker_971b900d38de134b5cd6437efdff46e4.bindTooltip(\n",
       "                `&lt;div&gt;\n",
       "                     70歳以上\n",
       "                 &lt;/div&gt;`,\n",
       "                {&quot;sticky&quot;: true}\n",
       "            );\n",
       "        \n",
       "    \n",
       "            var marker_09313db0ab108273ff77e67f8a35af36 = L.marker(\n",
       "                [35.809525, 139.970627],\n",
       "                {}\n",
       "            ).addTo(marker_cluster_3b3250dace59432a581fd95f93448708);\n",
       "        \n",
       "    \n",
       "            marker_09313db0ab108273ff77e67f8a35af36.bindTooltip(\n",
       "                `&lt;div&gt;\n",
       "                     10歳代\n",
       "                 &lt;/div&gt;`,\n",
       "                {&quot;sticky&quot;: true}\n",
       "            );\n",
       "        \n",
       "    \n",
       "            var marker_e6c3b891aaa27832701e1e594802dddd = L.marker(\n",
       "                [35.809525, 139.970627],\n",
       "                {}\n",
       "            ).addTo(marker_cluster_3b3250dace59432a581fd95f93448708);\n",
       "        \n",
       "    \n",
       "            marker_e6c3b891aaa27832701e1e594802dddd.bindTooltip(\n",
       "                `&lt;div&gt;\n",
       "                     10歳未満\n",
       "                 &lt;/div&gt;`,\n",
       "                {&quot;sticky&quot;: true}\n",
       "            );\n",
       "        \n",
       "    \n",
       "            var marker_d5669de87ac2dc2f976930bcf84ee083 = L.marker(\n",
       "                [35.809525, 139.970627],\n",
       "                {}\n",
       "            ).addTo(marker_cluster_3b3250dace59432a581fd95f93448708);\n",
       "        \n",
       "    \n",
       "            marker_d5669de87ac2dc2f976930bcf84ee083.bindTooltip(\n",
       "                `&lt;div&gt;\n",
       "                     20歳代\n",
       "                 &lt;/div&gt;`,\n",
       "                {&quot;sticky&quot;: true}\n",
       "            );\n",
       "        \n",
       "    \n",
       "            var marker_212dc8356a9e1e861babfe60fd21a0b2 = L.marker(\n",
       "                [35.850155, 140.00441],\n",
       "                {}\n",
       "            ).addTo(marker_cluster_3b3250dace59432a581fd95f93448708);\n",
       "        \n",
       "    \n",
       "            marker_212dc8356a9e1e861babfe60fd21a0b2.bindTooltip(\n",
       "                `&lt;div&gt;\n",
       "                     10歳代\n",
       "                 &lt;/div&gt;`,\n",
       "                {&quot;sticky&quot;: true}\n",
       "            );\n",
       "        \n",
       "    \n",
       "            var marker_de19499000d2d73bfe31b2fc220de9ce = L.marker(\n",
       "                [35.824383, 139.979614],\n",
       "                {}\n",
       "            ).addTo(marker_cluster_3b3250dace59432a581fd95f93448708);\n",
       "        \n",
       "    \n",
       "            marker_de19499000d2d73bfe31b2fc220de9ce.bindTooltip(\n",
       "                `&lt;div&gt;\n",
       "                     10歳代\n",
       "                 &lt;/div&gt;`,\n",
       "                {&quot;sticky&quot;: true}\n",
       "            );\n",
       "        \n",
       "    \n",
       "            var marker_2cd728545d6fbb19af2a5447ae3990a4 = L.marker(\n",
       "                [35.85088, 139.955795],\n",
       "                {}\n",
       "            ).addTo(marker_cluster_3b3250dace59432a581fd95f93448708);\n",
       "        \n",
       "    \n",
       "            marker_2cd728545d6fbb19af2a5447ae3990a4.bindTooltip(\n",
       "                `&lt;div&gt;\n",
       "                     10歳代\n",
       "                 &lt;/div&gt;`,\n",
       "                {&quot;sticky&quot;: true}\n",
       "            );\n",
       "        \n",
       "    \n",
       "            var marker_9569578dc79475617d8d9cdb10171bce = L.marker(\n",
       "                [35.859928, 139.949814],\n",
       "                {}\n",
       "            ).addTo(marker_cluster_3b3250dace59432a581fd95f93448708);\n",
       "        \n",
       "    \n",
       "            marker_9569578dc79475617d8d9cdb10171bce.bindTooltip(\n",
       "                `&lt;div&gt;\n",
       "                     10歳代\n",
       "                 &lt;/div&gt;`,\n",
       "                {&quot;sticky&quot;: true}\n",
       "            );\n",
       "        \n",
       "    \n",
       "            var marker_27e3c6b4fc57d7616c69bd175ddd188d = L.marker(\n",
       "                [35.859928, 139.949814],\n",
       "                {}\n",
       "            ).addTo(marker_cluster_3b3250dace59432a581fd95f93448708);\n",
       "        \n",
       "    \n",
       "            marker_27e3c6b4fc57d7616c69bd175ddd188d.bindTooltip(\n",
       "                `&lt;div&gt;\n",
       "                     30歳代\n",
       "                 &lt;/div&gt;`,\n",
       "                {&quot;sticky&quot;: true}\n",
       "            );\n",
       "        \n",
       "    \n",
       "            var marker_91bed7b4ecbe2e4fb1f6f2a8320f3d51 = L.marker(\n",
       "                [35.859928, 139.949814],\n",
       "                {}\n",
       "            ).addTo(marker_cluster_3b3250dace59432a581fd95f93448708);\n",
       "        \n",
       "    \n",
       "            marker_91bed7b4ecbe2e4fb1f6f2a8320f3d51.bindTooltip(\n",
       "                `&lt;div&gt;\n",
       "                     30歳代\n",
       "                 &lt;/div&gt;`,\n",
       "                {&quot;sticky&quot;: true}\n",
       "            );\n",
       "        \n",
       "    \n",
       "            var marker_6e789be03f2f1586f04951ef51ddb07b = L.marker(\n",
       "                [35.859928, 139.949814],\n",
       "                {}\n",
       "            ).addTo(marker_cluster_3b3250dace59432a581fd95f93448708);\n",
       "        \n",
       "    \n",
       "            marker_6e789be03f2f1586f04951ef51ddb07b.bindTooltip(\n",
       "                `&lt;div&gt;\n",
       "                     30歳代\n",
       "                 &lt;/div&gt;`,\n",
       "                {&quot;sticky&quot;: true}\n",
       "            );\n",
       "        \n",
       "    \n",
       "            var marker_b53ef7a4121ec02845d2e3d1f0410de8 = L.marker(\n",
       "                [35.859928, 139.949814],\n",
       "                {}\n",
       "            ).addTo(marker_cluster_3b3250dace59432a581fd95f93448708);\n",
       "        \n",
       "    \n",
       "            marker_b53ef7a4121ec02845d2e3d1f0410de8.bindTooltip(\n",
       "                `&lt;div&gt;\n",
       "                     30歳代\n",
       "                 &lt;/div&gt;`,\n",
       "                {&quot;sticky&quot;: true}\n",
       "            );\n",
       "        \n",
       "    \n",
       "            var marker_bbb9e43ec77f7e6f4438806d158cc9e1 = L.marker(\n",
       "                [35.859928, 139.949814],\n",
       "                {}\n",
       "            ).addTo(marker_cluster_3b3250dace59432a581fd95f93448708);\n",
       "        \n",
       "    \n",
       "            marker_bbb9e43ec77f7e6f4438806d158cc9e1.bindTooltip(\n",
       "                `&lt;div&gt;\n",
       "                     10歳代\n",
       "                 &lt;/div&gt;`,\n",
       "                {&quot;sticky&quot;: true}\n",
       "            );\n",
       "        \n",
       "    \n",
       "            var marker_75206993afad7b0d6af7ef8a32916e51 = L.marker(\n",
       "                [35.859928, 139.949814],\n",
       "                {}\n",
       "            ).addTo(marker_cluster_3b3250dace59432a581fd95f93448708);\n",
       "        \n",
       "    \n",
       "            marker_75206993afad7b0d6af7ef8a32916e51.bindTooltip(\n",
       "                `&lt;div&gt;\n",
       "                     20歳代\n",
       "                 &lt;/div&gt;`,\n",
       "                {&quot;sticky&quot;: true}\n",
       "            );\n",
       "        \n",
       "    \n",
       "            var marker_faf8773d3bec793b89c3147eceac459c = L.marker(\n",
       "                [35.859928, 139.949814],\n",
       "                {}\n",
       "            ).addTo(marker_cluster_3b3250dace59432a581fd95f93448708);\n",
       "        \n",
       "    \n",
       "            marker_faf8773d3bec793b89c3147eceac459c.bindTooltip(\n",
       "                `&lt;div&gt;\n",
       "                     10歳代\n",
       "                 &lt;/div&gt;`,\n",
       "                {&quot;sticky&quot;: true}\n",
       "            );\n",
       "        \n",
       "    \n",
       "            var marker_481a29a850c496e0616f84fef3bf9d1e = L.marker(\n",
       "                [35.845783, 139.953476],\n",
       "                {}\n",
       "            ).addTo(marker_cluster_3b3250dace59432a581fd95f93448708);\n",
       "        \n",
       "    \n",
       "            marker_481a29a850c496e0616f84fef3bf9d1e.bindTooltip(\n",
       "                `&lt;div&gt;\n",
       "                     30歳代\n",
       "                 &lt;/div&gt;`,\n",
       "                {&quot;sticky&quot;: true}\n",
       "            );\n",
       "        \n",
       "    \n",
       "            var marker_20cb1bd968efff1931ff5c01d5cf6f66 = L.marker(\n",
       "                [35.845783, 139.953476],\n",
       "                {}\n",
       "            ).addTo(marker_cluster_3b3250dace59432a581fd95f93448708);\n",
       "        \n",
       "    \n",
       "            marker_20cb1bd968efff1931ff5c01d5cf6f66.bindTooltip(\n",
       "                `&lt;div&gt;\n",
       "                     10歳代\n",
       "                 &lt;/div&gt;`,\n",
       "                {&quot;sticky&quot;: true}\n",
       "            );\n",
       "        \n",
       "    \n",
       "            var marker_0fe6ab3c74941ca0bf2dd8d896895951 = L.marker(\n",
       "                [35.845783, 139.953476],\n",
       "                {}\n",
       "            ).addTo(marker_cluster_3b3250dace59432a581fd95f93448708);\n",
       "        \n",
       "    \n",
       "            marker_0fe6ab3c74941ca0bf2dd8d896895951.bindTooltip(\n",
       "                `&lt;div&gt;\n",
       "                     20歳代\n",
       "                 &lt;/div&gt;`,\n",
       "                {&quot;sticky&quot;: true}\n",
       "            );\n",
       "        \n",
       "    \n",
       "            var marker_0123d6fb06a20f39af631ac82994600b = L.marker(\n",
       "                [35.845783, 139.953476],\n",
       "                {}\n",
       "            ).addTo(marker_cluster_3b3250dace59432a581fd95f93448708);\n",
       "        \n",
       "    \n",
       "            marker_0123d6fb06a20f39af631ac82994600b.bindTooltip(\n",
       "                `&lt;div&gt;\n",
       "                     10歳代\n",
       "                 &lt;/div&gt;`,\n",
       "                {&quot;sticky&quot;: true}\n",
       "            );\n",
       "        \n",
       "    \n",
       "            var marker_346e80c0f2aa4e342544fba97b4647a2 = L.marker(\n",
       "                [35.845783, 139.953476],\n",
       "                {}\n",
       "            ).addTo(marker_cluster_3b3250dace59432a581fd95f93448708);\n",
       "        \n",
       "    \n",
       "            marker_346e80c0f2aa4e342544fba97b4647a2.bindTooltip(\n",
       "                `&lt;div&gt;\n",
       "                     30歳代\n",
       "                 &lt;/div&gt;`,\n",
       "                {&quot;sticky&quot;: true}\n",
       "            );\n",
       "        \n",
       "    \n",
       "            var marker_7d51d5b5837452f4ac269c3adc764731 = L.marker(\n",
       "                [35.845783, 139.953476],\n",
       "                {}\n",
       "            ).addTo(marker_cluster_3b3250dace59432a581fd95f93448708);\n",
       "        \n",
       "    \n",
       "            marker_7d51d5b5837452f4ac269c3adc764731.bindTooltip(\n",
       "                `&lt;div&gt;\n",
       "                     50歳代\n",
       "                 &lt;/div&gt;`,\n",
       "                {&quot;sticky&quot;: true}\n",
       "            );\n",
       "        \n",
       "    \n",
       "            var marker_9f2dee0d8425507601eea7051d00c299 = L.marker(\n",
       "                [35.845783, 139.953476],\n",
       "                {}\n",
       "            ).addTo(marker_cluster_3b3250dace59432a581fd95f93448708);\n",
       "        \n",
       "    \n",
       "            marker_9f2dee0d8425507601eea7051d00c299.bindTooltip(\n",
       "                `&lt;div&gt;\n",
       "                     20歳代\n",
       "                 &lt;/div&gt;`,\n",
       "                {&quot;sticky&quot;: true}\n",
       "            );\n",
       "        \n",
       "    \n",
       "            var marker_89e06cff8bc7d39ae050e8fe2d623346 = L.marker(\n",
       "                [35.847271, 139.955032],\n",
       "                {}\n",
       "            ).addTo(marker_cluster_3b3250dace59432a581fd95f93448708);\n",
       "        \n",
       "    \n",
       "            marker_89e06cff8bc7d39ae050e8fe2d623346.bindTooltip(\n",
       "                `&lt;div&gt;\n",
       "                     20歳代\n",
       "                 &lt;/div&gt;`,\n",
       "                {&quot;sticky&quot;: true}\n",
       "            );\n",
       "        \n",
       "    \n",
       "            var marker_9f27ae5a6e07d2cbc38566f0784c4603 = L.marker(\n",
       "                [35.847271, 139.955032],\n",
       "                {}\n",
       "            ).addTo(marker_cluster_3b3250dace59432a581fd95f93448708);\n",
       "        \n",
       "    \n",
       "            marker_9f27ae5a6e07d2cbc38566f0784c4603.bindTooltip(\n",
       "                `&lt;div&gt;\n",
       "                     10歳代\n",
       "                 &lt;/div&gt;`,\n",
       "                {&quot;sticky&quot;: true}\n",
       "            );\n",
       "        \n",
       "    \n",
       "            var marker_d431eeff59126f51fb5417ea38cc8b13 = L.marker(\n",
       "                [35.847271, 139.955032],\n",
       "                {}\n",
       "            ).addTo(marker_cluster_3b3250dace59432a581fd95f93448708);\n",
       "        \n",
       "    \n",
       "            marker_d431eeff59126f51fb5417ea38cc8b13.bindTooltip(\n",
       "                `&lt;div&gt;\n",
       "                     10歳代\n",
       "                 &lt;/div&gt;`,\n",
       "                {&quot;sticky&quot;: true}\n",
       "            );\n",
       "        \n",
       "    \n",
       "            var marker_24a182dce1130738c03f657fa183cb3b = L.marker(\n",
       "                [35.847271, 139.955032],\n",
       "                {}\n",
       "            ).addTo(marker_cluster_3b3250dace59432a581fd95f93448708);\n",
       "        \n",
       "    \n",
       "            marker_24a182dce1130738c03f657fa183cb3b.bindTooltip(\n",
       "                `&lt;div&gt;\n",
       "                     10歳代\n",
       "                 &lt;/div&gt;`,\n",
       "                {&quot;sticky&quot;: true}\n",
       "            );\n",
       "        \n",
       "    \n",
       "            var marker_ee6e7f2de4db05ca9b8f32cb065cd406 = L.marker(\n",
       "                [35.851013, 139.960251],\n",
       "                {}\n",
       "            ).addTo(marker_cluster_3b3250dace59432a581fd95f93448708);\n",
       "        \n",
       "    \n",
       "            marker_ee6e7f2de4db05ca9b8f32cb065cd406.bindTooltip(\n",
       "                `&lt;div&gt;\n",
       "                     10歳代\n",
       "                 &lt;/div&gt;`,\n",
       "                {&quot;sticky&quot;: true}\n",
       "            );\n",
       "        \n",
       "    \n",
       "            var marker_9444353a5de3467615ce77d609940151 = L.marker(\n",
       "                [35.851013, 139.960251],\n",
       "                {}\n",
       "            ).addTo(marker_cluster_3b3250dace59432a581fd95f93448708);\n",
       "        \n",
       "    \n",
       "            marker_9444353a5de3467615ce77d609940151.bindTooltip(\n",
       "                `&lt;div&gt;\n",
       "                     10歳代\n",
       "                 &lt;/div&gt;`,\n",
       "                {&quot;sticky&quot;: true}\n",
       "            );\n",
       "        \n",
       "    \n",
       "            var marker_2ce612766a9cfaf9071a86affc739191 = L.marker(\n",
       "                [35.851013, 139.960251],\n",
       "                {}\n",
       "            ).addTo(marker_cluster_3b3250dace59432a581fd95f93448708);\n",
       "        \n",
       "    \n",
       "            marker_2ce612766a9cfaf9071a86affc739191.bindTooltip(\n",
       "                `&lt;div&gt;\n",
       "                     20歳代\n",
       "                 &lt;/div&gt;`,\n",
       "                {&quot;sticky&quot;: true}\n",
       "            );\n",
       "        \n",
       "    \n",
       "            var marker_b6c2f2efda33765da75c309224916589 = L.marker(\n",
       "                [35.844471, 139.954956],\n",
       "                {}\n",
       "            ).addTo(marker_cluster_3b3250dace59432a581fd95f93448708);\n",
       "        \n",
       "    \n",
       "            marker_b6c2f2efda33765da75c309224916589.bindTooltip(\n",
       "                `&lt;div&gt;\n",
       "                     20歳代\n",
       "                 &lt;/div&gt;`,\n",
       "                {&quot;sticky&quot;: true}\n",
       "            );\n",
       "        \n",
       "    \n",
       "            var marker_50f88b7a64f3873a7ee2062f55a3095a = L.marker(\n",
       "                [35.844471, 139.954956],\n",
       "                {}\n",
       "            ).addTo(marker_cluster_3b3250dace59432a581fd95f93448708);\n",
       "        \n",
       "    \n",
       "            marker_50f88b7a64f3873a7ee2062f55a3095a.bindTooltip(\n",
       "                `&lt;div&gt;\n",
       "                     10歳代\n",
       "                 &lt;/div&gt;`,\n",
       "                {&quot;sticky&quot;: true}\n",
       "            );\n",
       "        \n",
       "    \n",
       "            var marker_6d3b0c72a65959b9b029997b5e405dd8 = L.marker(\n",
       "                [35.844471, 139.954956],\n",
       "                {}\n",
       "            ).addTo(marker_cluster_3b3250dace59432a581fd95f93448708);\n",
       "        \n",
       "    \n",
       "            marker_6d3b0c72a65959b9b029997b5e405dd8.bindTooltip(\n",
       "                `&lt;div&gt;\n",
       "                     10歳代\n",
       "                 &lt;/div&gt;`,\n",
       "                {&quot;sticky&quot;: true}\n",
       "            );\n",
       "        \n",
       "    \n",
       "            var marker_84538843c87cd201a0f56f27a2e7e4fe = L.marker(\n",
       "                [35.844471, 139.954956],\n",
       "                {}\n",
       "            ).addTo(marker_cluster_3b3250dace59432a581fd95f93448708);\n",
       "        \n",
       "    \n",
       "            marker_84538843c87cd201a0f56f27a2e7e4fe.bindTooltip(\n",
       "                `&lt;div&gt;\n",
       "                     10歳代\n",
       "                 &lt;/div&gt;`,\n",
       "                {&quot;sticky&quot;: true}\n",
       "            );\n",
       "        \n",
       "    \n",
       "            var marker_dc9ce1a17ade4496f0479b3ee85fead3 = L.marker(\n",
       "                [35.844471, 139.954956],\n",
       "                {}\n",
       "            ).addTo(marker_cluster_3b3250dace59432a581fd95f93448708);\n",
       "        \n",
       "    \n",
       "            marker_dc9ce1a17ade4496f0479b3ee85fead3.bindTooltip(\n",
       "                `&lt;div&gt;\n",
       "                     10歳代\n",
       "                 &lt;/div&gt;`,\n",
       "                {&quot;sticky&quot;: true}\n",
       "            );\n",
       "        \n",
       "    \n",
       "            var marker_8ed4c086ae74246f6e6b37c44a42a935 = L.marker(\n",
       "                [35.844471, 139.954956],\n",
       "                {}\n",
       "            ).addTo(marker_cluster_3b3250dace59432a581fd95f93448708);\n",
       "        \n",
       "    \n",
       "            marker_8ed4c086ae74246f6e6b37c44a42a935.bindTooltip(\n",
       "                `&lt;div&gt;\n",
       "                     10歳代\n",
       "                 &lt;/div&gt;`,\n",
       "                {&quot;sticky&quot;: true}\n",
       "            );\n",
       "        \n",
       "    \n",
       "            var marker_38cb9673daa433d1109d22c41a396e39 = L.marker(\n",
       "                [35.844471, 139.954956],\n",
       "                {}\n",
       "            ).addTo(marker_cluster_3b3250dace59432a581fd95f93448708);\n",
       "        \n",
       "    \n",
       "            marker_38cb9673daa433d1109d22c41a396e39.bindTooltip(\n",
       "                `&lt;div&gt;\n",
       "                     30歳代\n",
       "                 &lt;/div&gt;`,\n",
       "                {&quot;sticky&quot;: true}\n",
       "            );\n",
       "        \n",
       "    \n",
       "            var marker_0b6ae8cebeee2110c2cd0c13740c5670 = L.marker(\n",
       "                [35.844471, 139.954956],\n",
       "                {}\n",
       "            ).addTo(marker_cluster_3b3250dace59432a581fd95f93448708);\n",
       "        \n",
       "    \n",
       "            marker_0b6ae8cebeee2110c2cd0c13740c5670.bindTooltip(\n",
       "                `&lt;div&gt;\n",
       "                     20歳代\n",
       "                 &lt;/div&gt;`,\n",
       "                {&quot;sticky&quot;: true}\n",
       "            );\n",
       "        \n",
       "    \n",
       "            var marker_804626a958cd1fd1b471b907a2a58803 = L.marker(\n",
       "                [35.844471, 139.954956],\n",
       "                {}\n",
       "            ).addTo(marker_cluster_3b3250dace59432a581fd95f93448708);\n",
       "        \n",
       "    \n",
       "            marker_804626a958cd1fd1b471b907a2a58803.bindTooltip(\n",
       "                `&lt;div&gt;\n",
       "                     10歳代\n",
       "                 &lt;/div&gt;`,\n",
       "                {&quot;sticky&quot;: true}\n",
       "            );\n",
       "        \n",
       "    \n",
       "            var marker_de0b4f3c70fa3a370772d52600697174 = L.marker(\n",
       "                [35.844471, 139.954956],\n",
       "                {}\n",
       "            ).addTo(marker_cluster_3b3250dace59432a581fd95f93448708);\n",
       "        \n",
       "    \n",
       "            marker_de0b4f3c70fa3a370772d52600697174.bindTooltip(\n",
       "                `&lt;div&gt;\n",
       "                     10歳代\n",
       "                 &lt;/div&gt;`,\n",
       "                {&quot;sticky&quot;: true}\n",
       "            );\n",
       "        \n",
       "    \n",
       "            var marker_af307796b2c9396a550a061cd990379b = L.marker(\n",
       "                [35.844471, 139.954956],\n",
       "                {}\n",
       "            ).addTo(marker_cluster_3b3250dace59432a581fd95f93448708);\n",
       "        \n",
       "    \n",
       "            marker_af307796b2c9396a550a061cd990379b.bindTooltip(\n",
       "                `&lt;div&gt;\n",
       "                     10歳代\n",
       "                 &lt;/div&gt;`,\n",
       "                {&quot;sticky&quot;: true}\n",
       "            );\n",
       "        \n",
       "    \n",
       "            var marker_6b65419fcfb6d8ce9ec2bc1ceb207dc7 = L.marker(\n",
       "                [35.844471, 139.954956],\n",
       "                {}\n",
       "            ).addTo(marker_cluster_3b3250dace59432a581fd95f93448708);\n",
       "        \n",
       "    \n",
       "            marker_6b65419fcfb6d8ce9ec2bc1ceb207dc7.bindTooltip(\n",
       "                `&lt;div&gt;\n",
       "                     20歳代\n",
       "                 &lt;/div&gt;`,\n",
       "                {&quot;sticky&quot;: true}\n",
       "            );\n",
       "        \n",
       "    \n",
       "            var marker_0dc14fce776f8e7319a2a836ee991ba9 = L.marker(\n",
       "                [35.844471, 139.954956],\n",
       "                {}\n",
       "            ).addTo(marker_cluster_3b3250dace59432a581fd95f93448708);\n",
       "        \n",
       "    \n",
       "            marker_0dc14fce776f8e7319a2a836ee991ba9.bindTooltip(\n",
       "                `&lt;div&gt;\n",
       "                     20歳代\n",
       "                 &lt;/div&gt;`,\n",
       "                {&quot;sticky&quot;: true}\n",
       "            );\n",
       "        \n",
       "    \n",
       "            var marker_d1f1e270bf0fc4c2f22670a174d74a62 = L.marker(\n",
       "                [35.844471, 139.954956],\n",
       "                {}\n",
       "            ).addTo(marker_cluster_3b3250dace59432a581fd95f93448708);\n",
       "        \n",
       "    \n",
       "            marker_d1f1e270bf0fc4c2f22670a174d74a62.bindTooltip(\n",
       "                `&lt;div&gt;\n",
       "                     40歳代\n",
       "                 &lt;/div&gt;`,\n",
       "                {&quot;sticky&quot;: true}\n",
       "            );\n",
       "        \n",
       "    \n",
       "            var marker_9c4175f27f12141c8d7d81588bb2bb70 = L.marker(\n",
       "                [35.844471, 139.954956],\n",
       "                {}\n",
       "            ).addTo(marker_cluster_3b3250dace59432a581fd95f93448708);\n",
       "        \n",
       "    \n",
       "            marker_9c4175f27f12141c8d7d81588bb2bb70.bindTooltip(\n",
       "                `&lt;div&gt;\n",
       "                     30歳代\n",
       "                 &lt;/div&gt;`,\n",
       "                {&quot;sticky&quot;: true}\n",
       "            );\n",
       "        \n",
       "    \n",
       "            var marker_b08be2c1032e284f2dee4b4b5722d379 = L.marker(\n",
       "                [35.830082, 139.97319],\n",
       "                {}\n",
       "            ).addTo(marker_cluster_3b3250dace59432a581fd95f93448708);\n",
       "        \n",
       "    \n",
       "            marker_b08be2c1032e284f2dee4b4b5722d379.bindTooltip(\n",
       "                `&lt;div&gt;\n",
       "                     10歳代\n",
       "                 &lt;/div&gt;`,\n",
       "                {&quot;sticky&quot;: true}\n",
       "            );\n",
       "        \n",
       "    \n",
       "            var marker_517548e65c176afcdfe1aee7542e291f = L.marker(\n",
       "                [35.830082, 139.97319],\n",
       "                {}\n",
       "            ).addTo(marker_cluster_3b3250dace59432a581fd95f93448708);\n",
       "        \n",
       "    \n",
       "            marker_517548e65c176afcdfe1aee7542e291f.bindTooltip(\n",
       "                `&lt;div&gt;\n",
       "                     10歳代\n",
       "                 &lt;/div&gt;`,\n",
       "                {&quot;sticky&quot;: true}\n",
       "            );\n",
       "        \n",
       "    \n",
       "            var marker_ce1738f09d2330e719a37e951d3c920b = L.marker(\n",
       "                [35.830082, 139.97319],\n",
       "                {}\n",
       "            ).addTo(marker_cluster_3b3250dace59432a581fd95f93448708);\n",
       "        \n",
       "    \n",
       "            marker_ce1738f09d2330e719a37e951d3c920b.bindTooltip(\n",
       "                `&lt;div&gt;\n",
       "                     70歳以上\n",
       "                 &lt;/div&gt;`,\n",
       "                {&quot;sticky&quot;: true}\n",
       "            );\n",
       "        \n",
       "    \n",
       "            var marker_b77445b5f0a5fdeaa1b1484d055b8ecb = L.marker(\n",
       "                [35.830082, 139.97319],\n",
       "                {}\n",
       "            ).addTo(marker_cluster_3b3250dace59432a581fd95f93448708);\n",
       "        \n",
       "    \n",
       "            marker_b77445b5f0a5fdeaa1b1484d055b8ecb.bindTooltip(\n",
       "                `&lt;div&gt;\n",
       "                     20歳代\n",
       "                 &lt;/div&gt;`,\n",
       "                {&quot;sticky&quot;: true}\n",
       "            );\n",
       "        \n",
       "    \n",
       "            var marker_b46cb80edccca157061fe907b4cbdddb = L.marker(\n",
       "                [35.824383, 139.979614],\n",
       "                {}\n",
       "            ).addTo(marker_cluster_3b3250dace59432a581fd95f93448708);\n",
       "        \n",
       "    \n",
       "            marker_b46cb80edccca157061fe907b4cbdddb.bindTooltip(\n",
       "                `&lt;div&gt;\n",
       "                     10歳未満\n",
       "                 &lt;/div&gt;`,\n",
       "                {&quot;sticky&quot;: true}\n",
       "            );\n",
       "        \n",
       "    \n",
       "            var marker_9d7ad59ac7bf6507ba59d17e0f68e213 = L.marker(\n",
       "                [35.832466, 139.974945],\n",
       "                {}\n",
       "            ).addTo(marker_cluster_3b3250dace59432a581fd95f93448708);\n",
       "        \n",
       "    \n",
       "            marker_9d7ad59ac7bf6507ba59d17e0f68e213.bindTooltip(\n",
       "                `&lt;div&gt;\n",
       "                     30歳代\n",
       "                 &lt;/div&gt;`,\n",
       "                {&quot;sticky&quot;: true}\n",
       "            );\n",
       "        \n",
       "    \n",
       "            var marker_d23dcd24e1a5a854c256b8c37153ad7d = L.marker(\n",
       "                [35.831703, 139.978226],\n",
       "                {}\n",
       "            ).addTo(marker_cluster_3b3250dace59432a581fd95f93448708);\n",
       "        \n",
       "    \n",
       "            marker_d23dcd24e1a5a854c256b8c37153ad7d.bindTooltip(\n",
       "                `&lt;div&gt;\n",
       "                     10歳代\n",
       "                 &lt;/div&gt;`,\n",
       "                {&quot;sticky&quot;: true}\n",
       "            );\n",
       "        \n",
       "    \n",
       "            var marker_d1d1bf68ebc45f2e168dabe1c9a88e9f = L.marker(\n",
       "                [35.835472, 139.983551],\n",
       "                {}\n",
       "            ).addTo(marker_cluster_3b3250dace59432a581fd95f93448708);\n",
       "        \n",
       "    \n",
       "            marker_d1d1bf68ebc45f2e168dabe1c9a88e9f.bindTooltip(\n",
       "                `&lt;div&gt;\n",
       "                     30歳代\n",
       "                 &lt;/div&gt;`,\n",
       "                {&quot;sticky&quot;: true}\n",
       "            );\n",
       "        \n",
       "    \n",
       "            var marker_2dcaf1a4908dc332a992aa9713368687 = L.marker(\n",
       "                [35.829124, 139.986633],\n",
       "                {}\n",
       "            ).addTo(marker_cluster_3b3250dace59432a581fd95f93448708);\n",
       "        \n",
       "    \n",
       "            marker_2dcaf1a4908dc332a992aa9713368687.bindTooltip(\n",
       "                `&lt;div&gt;\n",
       "                     10歳代\n",
       "                 &lt;/div&gt;`,\n",
       "                {&quot;sticky&quot;: true}\n",
       "            );\n",
       "        \n",
       "    \n",
       "            var marker_606e10aa5c16e832667093f6e2e0c600 = L.marker(\n",
       "                [35.824703, 139.974731],\n",
       "                {}\n",
       "            ).addTo(marker_cluster_3b3250dace59432a581fd95f93448708);\n",
       "        \n",
       "    \n",
       "            marker_606e10aa5c16e832667093f6e2e0c600.bindTooltip(\n",
       "                `&lt;div&gt;\n",
       "                     60-64歳\n",
       "                 &lt;/div&gt;`,\n",
       "                {&quot;sticky&quot;: true}\n",
       "            );\n",
       "        \n",
       "    \n",
       "            var marker_52777d3255a7f551e5e00943afa7cb24 = L.marker(\n",
       "                [35.824703, 139.974731],\n",
       "                {}\n",
       "            ).addTo(marker_cluster_3b3250dace59432a581fd95f93448708);\n",
       "        \n",
       "    \n",
       "            marker_52777d3255a7f551e5e00943afa7cb24.bindTooltip(\n",
       "                `&lt;div&gt;\n",
       "                     20歳代\n",
       "                 &lt;/div&gt;`,\n",
       "                {&quot;sticky&quot;: true}\n",
       "            );\n",
       "        \n",
       "    \n",
       "            var marker_32772ab3defd3a18b8109716a364409f = L.marker(\n",
       "                [35.821732, 139.973206],\n",
       "                {}\n",
       "            ).addTo(marker_cluster_3b3250dace59432a581fd95f93448708);\n",
       "        \n",
       "    \n",
       "            marker_32772ab3defd3a18b8109716a364409f.bindTooltip(\n",
       "                `&lt;div&gt;\n",
       "                     10歳代\n",
       "                 &lt;/div&gt;`,\n",
       "                {&quot;sticky&quot;: true}\n",
       "            );\n",
       "        \n",
       "    \n",
       "            var marker_96bff2709a10e87f533678f9c4bf37bd = L.marker(\n",
       "                [35.821732, 139.973206],\n",
       "                {}\n",
       "            ).addTo(marker_cluster_3b3250dace59432a581fd95f93448708);\n",
       "        \n",
       "    \n",
       "            marker_96bff2709a10e87f533678f9c4bf37bd.bindTooltip(\n",
       "                `&lt;div&gt;\n",
       "                     10歳代\n",
       "                 &lt;/div&gt;`,\n",
       "                {&quot;sticky&quot;: true}\n",
       "            );\n",
       "        \n",
       "    \n",
       "            var marker_382205e31fe352f4d597a2df7788ffe1 = L.marker(\n",
       "                [35.850155, 140.00441],\n",
       "                {}\n",
       "            ).addTo(marker_cluster_3b3250dace59432a581fd95f93448708);\n",
       "        \n",
       "    \n",
       "            marker_382205e31fe352f4d597a2df7788ffe1.bindTooltip(\n",
       "                `&lt;div&gt;\n",
       "                     10歳代\n",
       "                 &lt;/div&gt;`,\n",
       "                {&quot;sticky&quot;: true}\n",
       "            );\n",
       "        \n",
       "    \n",
       "            var marker_8a6f9a8a5c2ea231c2fd65372b448556 = L.marker(\n",
       "                [35.850155, 140.00441],\n",
       "                {}\n",
       "            ).addTo(marker_cluster_3b3250dace59432a581fd95f93448708);\n",
       "        \n",
       "    \n",
       "            marker_8a6f9a8a5c2ea231c2fd65372b448556.bindTooltip(\n",
       "                `&lt;div&gt;\n",
       "                     30歳代\n",
       "                 &lt;/div&gt;`,\n",
       "                {&quot;sticky&quot;: true}\n",
       "            );\n",
       "        \n",
       "    \n",
       "            var marker_db718af320c84ff3053dd4cf60ce2946 = L.marker(\n",
       "                [35.835773, 140.012802],\n",
       "                {}\n",
       "            ).addTo(marker_cluster_3b3250dace59432a581fd95f93448708);\n",
       "        \n",
       "    \n",
       "            marker_db718af320c84ff3053dd4cf60ce2946.bindTooltip(\n",
       "                `&lt;div&gt;\n",
       "                     10歳代\n",
       "                 &lt;/div&gt;`,\n",
       "                {&quot;sticky&quot;: true}\n",
       "            );\n",
       "        \n",
       "    \n",
       "            var marker_b0edfb3b6df5216be633b427cea36fd6 = L.marker(\n",
       "                [35.835773, 140.012802],\n",
       "                {}\n",
       "            ).addTo(marker_cluster_3b3250dace59432a581fd95f93448708);\n",
       "        \n",
       "    \n",
       "            marker_b0edfb3b6df5216be633b427cea36fd6.bindTooltip(\n",
       "                `&lt;div&gt;\n",
       "                     20歳代\n",
       "                 &lt;/div&gt;`,\n",
       "                {&quot;sticky&quot;: true}\n",
       "            );\n",
       "        \n",
       "    \n",
       "            var marker_11c9d6d4c227a7db9137b98f7dfc189a = L.marker(\n",
       "                [35.833759, 140.011703],\n",
       "                {}\n",
       "            ).addTo(marker_cluster_3b3250dace59432a581fd95f93448708);\n",
       "        \n",
       "    \n",
       "            marker_11c9d6d4c227a7db9137b98f7dfc189a.bindTooltip(\n",
       "                `&lt;div&gt;\n",
       "                     10歳代\n",
       "                 &lt;/div&gt;`,\n",
       "                {&quot;sticky&quot;: true}\n",
       "            );\n",
       "        \n",
       "    \n",
       "            var marker_ae428e0e1647ce81761da05047bcb1af = L.marker(\n",
       "                [35.833759, 140.011703],\n",
       "                {}\n",
       "            ).addTo(marker_cluster_3b3250dace59432a581fd95f93448708);\n",
       "        \n",
       "    \n",
       "            marker_ae428e0e1647ce81761da05047bcb1af.bindTooltip(\n",
       "                `&lt;div&gt;\n",
       "                     10歳代\n",
       "                 &lt;/div&gt;`,\n",
       "                {&quot;sticky&quot;: true}\n",
       "            );\n",
       "        \n",
       "    \n",
       "            var marker_a3f139f5ff2c0011366ed32a6db3f267 = L.marker(\n",
       "                [35.833759, 140.011703],\n",
       "                {}\n",
       "            ).addTo(marker_cluster_3b3250dace59432a581fd95f93448708);\n",
       "        \n",
       "    \n",
       "            marker_a3f139f5ff2c0011366ed32a6db3f267.bindTooltip(\n",
       "                `&lt;div&gt;\n",
       "                     20歳代\n",
       "                 &lt;/div&gt;`,\n",
       "                {&quot;sticky&quot;: true}\n",
       "            );\n",
       "        \n",
       "    \n",
       "            var marker_5acfeeb8b6e75d9522a98f8574727653 = L.marker(\n",
       "                [35.833759, 140.011703],\n",
       "                {}\n",
       "            ).addTo(marker_cluster_3b3250dace59432a581fd95f93448708);\n",
       "        \n",
       "    \n",
       "            marker_5acfeeb8b6e75d9522a98f8574727653.bindTooltip(\n",
       "                `&lt;div&gt;\n",
       "                     20歳代\n",
       "                 &lt;/div&gt;`,\n",
       "                {&quot;sticky&quot;: true}\n",
       "            );\n",
       "        \n",
       "    \n",
       "            var marker_2320e5ab355ae2fa1c6fbb03c13a3e3e = L.marker(\n",
       "                [35.833759, 140.011703],\n",
       "                {}\n",
       "            ).addTo(marker_cluster_3b3250dace59432a581fd95f93448708);\n",
       "        \n",
       "    \n",
       "            marker_2320e5ab355ae2fa1c6fbb03c13a3e3e.bindTooltip(\n",
       "                `&lt;div&gt;\n",
       "                     10歳代\n",
       "                 &lt;/div&gt;`,\n",
       "                {&quot;sticky&quot;: true}\n",
       "            );\n",
       "        \n",
       "    \n",
       "            var marker_2ffb5e2691718a0caaa5c08d1002c6ad = L.marker(\n",
       "                [35.833759, 140.011703],\n",
       "                {}\n",
       "            ).addTo(marker_cluster_3b3250dace59432a581fd95f93448708);\n",
       "        \n",
       "    \n",
       "            marker_2ffb5e2691718a0caaa5c08d1002c6ad.bindTooltip(\n",
       "                `&lt;div&gt;\n",
       "                     10歳代\n",
       "                 &lt;/div&gt;`,\n",
       "                {&quot;sticky&quot;: true}\n",
       "            );\n",
       "        \n",
       "    \n",
       "            var marker_299efabb1cc155830ae3554b0267abf5 = L.marker(\n",
       "                [35.833759, 140.011703],\n",
       "                {}\n",
       "            ).addTo(marker_cluster_3b3250dace59432a581fd95f93448708);\n",
       "        \n",
       "    \n",
       "            marker_299efabb1cc155830ae3554b0267abf5.bindTooltip(\n",
       "                `&lt;div&gt;\n",
       "                     10歳代\n",
       "                 &lt;/div&gt;`,\n",
       "                {&quot;sticky&quot;: true}\n",
       "            );\n",
       "        \n",
       "    \n",
       "            var marker_34e8485ce52c5b717cf5ed61cc0f6dbc = L.marker(\n",
       "                [35.833759, 140.011703],\n",
       "                {}\n",
       "            ).addTo(marker_cluster_3b3250dace59432a581fd95f93448708);\n",
       "        \n",
       "    \n",
       "            marker_34e8485ce52c5b717cf5ed61cc0f6dbc.bindTooltip(\n",
       "                `&lt;div&gt;\n",
       "                     10歳代\n",
       "                 &lt;/div&gt;`,\n",
       "                {&quot;sticky&quot;: true}\n",
       "            );\n",
       "        \n",
       "    \n",
       "            var marker_cfae8d54ba7ba9fe448b688c12d45d1c = L.marker(\n",
       "                [35.833759, 140.011703],\n",
       "                {}\n",
       "            ).addTo(marker_cluster_3b3250dace59432a581fd95f93448708);\n",
       "        \n",
       "    \n",
       "            marker_cfae8d54ba7ba9fe448b688c12d45d1c.bindTooltip(\n",
       "                `&lt;div&gt;\n",
       "                     10歳代\n",
       "                 &lt;/div&gt;`,\n",
       "                {&quot;sticky&quot;: true}\n",
       "            );\n",
       "        \n",
       "    \n",
       "            var marker_776d246980ce23faf413e7b25164d30c = L.marker(\n",
       "                [35.833759, 140.011703],\n",
       "                {}\n",
       "            ).addTo(marker_cluster_3b3250dace59432a581fd95f93448708);\n",
       "        \n",
       "    \n",
       "            marker_776d246980ce23faf413e7b25164d30c.bindTooltip(\n",
       "                `&lt;div&gt;\n",
       "                     10歳代\n",
       "                 &lt;/div&gt;`,\n",
       "                {&quot;sticky&quot;: true}\n",
       "            );\n",
       "        \n",
       "    \n",
       "            var marker_7c1a93c82aaa997beded76c441e121fc = L.marker(\n",
       "                [35.833759, 140.011703],\n",
       "                {}\n",
       "            ).addTo(marker_cluster_3b3250dace59432a581fd95f93448708);\n",
       "        \n",
       "    \n",
       "            marker_7c1a93c82aaa997beded76c441e121fc.bindTooltip(\n",
       "                `&lt;div&gt;\n",
       "                     10歳代\n",
       "                 &lt;/div&gt;`,\n",
       "                {&quot;sticky&quot;: true}\n",
       "            );\n",
       "        \n",
       "    \n",
       "            var marker_959dcb378276c3aff3b72525ee4125cd = L.marker(\n",
       "                [35.84325, 140.003662],\n",
       "                {}\n",
       "            ).addTo(marker_cluster_3b3250dace59432a581fd95f93448708);\n",
       "        \n",
       "    \n",
       "            marker_959dcb378276c3aff3b72525ee4125cd.bindTooltip(\n",
       "                `&lt;div&gt;\n",
       "                     法人・団体、被害者なし\n",
       "                 &lt;/div&gt;`,\n",
       "                {&quot;sticky&quot;: true}\n",
       "            );\n",
       "        \n",
       "    \n",
       "            var marker_15c9ebbcc9fbffc72e137c92704b70b9 = L.marker(\n",
       "                [35.841068, 139.999237],\n",
       "                {}\n",
       "            ).addTo(marker_cluster_3b3250dace59432a581fd95f93448708);\n",
       "        \n",
       "    \n",
       "            marker_15c9ebbcc9fbffc72e137c92704b70b9.bindTooltip(\n",
       "                `&lt;div&gt;\n",
       "                     40歳代\n",
       "                 &lt;/div&gt;`,\n",
       "                {&quot;sticky&quot;: true}\n",
       "            );\n",
       "        \n",
       "    \n",
       "            var marker_ba875ad9e75805a726e880e46d63a936 = L.marker(\n",
       "                [35.841068, 139.999237],\n",
       "                {}\n",
       "            ).addTo(marker_cluster_3b3250dace59432a581fd95f93448708);\n",
       "        \n",
       "    \n",
       "            marker_ba875ad9e75805a726e880e46d63a936.bindTooltip(\n",
       "                `&lt;div&gt;\n",
       "                     10歳代\n",
       "                 &lt;/div&gt;`,\n",
       "                {&quot;sticky&quot;: true}\n",
       "            );\n",
       "        \n",
       "    \n",
       "            var marker_bf2f52ab08e8f2a62db1ce4057da4616 = L.marker(\n",
       "                [35.841068, 139.999237],\n",
       "                {}\n",
       "            ).addTo(marker_cluster_3b3250dace59432a581fd95f93448708);\n",
       "        \n",
       "    \n",
       "            marker_bf2f52ab08e8f2a62db1ce4057da4616.bindTooltip(\n",
       "                `&lt;div&gt;\n",
       "                     10歳代\n",
       "                 &lt;/div&gt;`,\n",
       "                {&quot;sticky&quot;: true}\n",
       "            );\n",
       "        \n",
       "    \n",
       "            var marker_d2ca2f072045470dad48fb38d792e8c4 = L.marker(\n",
       "                [35.840942, 139.995621],\n",
       "                {}\n",
       "            ).addTo(marker_cluster_3b3250dace59432a581fd95f93448708);\n",
       "        \n",
       "    \n",
       "            marker_d2ca2f072045470dad48fb38d792e8c4.bindTooltip(\n",
       "                `&lt;div&gt;\n",
       "                     10歳代\n",
       "                 &lt;/div&gt;`,\n",
       "                {&quot;sticky&quot;: true}\n",
       "            );\n",
       "        \n",
       "    \n",
       "            var marker_54f30ef107cd218c85f6541d622a38a9 = L.marker(\n",
       "                [35.840942, 139.995621],\n",
       "                {}\n",
       "            ).addTo(marker_cluster_3b3250dace59432a581fd95f93448708);\n",
       "        \n",
       "    \n",
       "            marker_54f30ef107cd218c85f6541d622a38a9.bindTooltip(\n",
       "                `&lt;div&gt;\n",
       "                     10歳代\n",
       "                 &lt;/div&gt;`,\n",
       "                {&quot;sticky&quot;: true}\n",
       "            );\n",
       "        \n",
       "    \n",
       "            var marker_597df060f1196bffcd7a906af79f126c = L.marker(\n",
       "                [35.837143, 140.002502],\n",
       "                {}\n",
       "            ).addTo(marker_cluster_3b3250dace59432a581fd95f93448708);\n",
       "        \n",
       "    \n",
       "            marker_597df060f1196bffcd7a906af79f126c.bindTooltip(\n",
       "                `&lt;div&gt;\n",
       "                     50歳代\n",
       "                 &lt;/div&gt;`,\n",
       "                {&quot;sticky&quot;: true}\n",
       "            );\n",
       "        \n",
       "    \n",
       "            var marker_86b45453c47091cabffcc0e4e113d324 = L.marker(\n",
       "                [35.837143, 140.002502],\n",
       "                {}\n",
       "            ).addTo(marker_cluster_3b3250dace59432a581fd95f93448708);\n",
       "        \n",
       "    \n",
       "            marker_86b45453c47091cabffcc0e4e113d324.bindTooltip(\n",
       "                `&lt;div&gt;\n",
       "                     20歳代\n",
       "                 &lt;/div&gt;`,\n",
       "                {&quot;sticky&quot;: true}\n",
       "            );\n",
       "        \n",
       "    \n",
       "            var marker_665baa71d71b12236b81cf891cc8a1c8 = L.marker(\n",
       "                [35.837143, 140.002502],\n",
       "                {}\n",
       "            ).addTo(marker_cluster_3b3250dace59432a581fd95f93448708);\n",
       "        \n",
       "    \n",
       "            marker_665baa71d71b12236b81cf891cc8a1c8.bindTooltip(\n",
       "                `&lt;div&gt;\n",
       "                     10歳代\n",
       "                 &lt;/div&gt;`,\n",
       "                {&quot;sticky&quot;: true}\n",
       "            );\n",
       "        \n",
       "    \n",
       "            var marker_4757a487ff0d0d2562874304d14ea90a = L.marker(\n",
       "                [35.837143, 140.002502],\n",
       "                {}\n",
       "            ).addTo(marker_cluster_3b3250dace59432a581fd95f93448708);\n",
       "        \n",
       "    \n",
       "            marker_4757a487ff0d0d2562874304d14ea90a.bindTooltip(\n",
       "                `&lt;div&gt;\n",
       "                     20歳代\n",
       "                 &lt;/div&gt;`,\n",
       "                {&quot;sticky&quot;: true}\n",
       "            );\n",
       "        \n",
       "    \n",
       "            var marker_6f4653a78d1f4d0f28d108f16261d883 = L.marker(\n",
       "                [35.848038, 140.016342],\n",
       "                {}\n",
       "            ).addTo(marker_cluster_3b3250dace59432a581fd95f93448708);\n",
       "        \n",
       "    \n",
       "            marker_6f4653a78d1f4d0f28d108f16261d883.bindTooltip(\n",
       "                `&lt;div&gt;\n",
       "                     40歳代\n",
       "                 &lt;/div&gt;`,\n",
       "                {&quot;sticky&quot;: true}\n",
       "            );\n",
       "        \n",
       "    \n",
       "            var marker_7a9dede090b50f2ca43481885a79c437 = L.marker(\n",
       "                [35.834927, 139.996063],\n",
       "                {}\n",
       "            ).addTo(marker_cluster_3b3250dace59432a581fd95f93448708);\n",
       "        \n",
       "    \n",
       "            marker_7a9dede090b50f2ca43481885a79c437.bindTooltip(\n",
       "                `&lt;div&gt;\n",
       "                     10歳代\n",
       "                 &lt;/div&gt;`,\n",
       "                {&quot;sticky&quot;: true}\n",
       "            );\n",
       "        \n",
       "    \n",
       "            var marker_77eb615618c945053a1327a8d472e6c2 = L.marker(\n",
       "                [35.846394, 140.026993],\n",
       "                {}\n",
       "            ).addTo(marker_cluster_3b3250dace59432a581fd95f93448708);\n",
       "        \n",
       "    \n",
       "            marker_77eb615618c945053a1327a8d472e6c2.bindTooltip(\n",
       "                `&lt;div&gt;\n",
       "                     10歳代\n",
       "                 &lt;/div&gt;`,\n",
       "                {&quot;sticky&quot;: true}\n",
       "            );\n",
       "        \n",
       "    \n",
       "            var marker_c8d60a9d754d091bbc65601af676ab4b = L.marker(\n",
       "                [35.891518, 139.992828],\n",
       "                {}\n",
       "            ).addTo(marker_cluster_3b3250dace59432a581fd95f93448708);\n",
       "        \n",
       "    \n",
       "            marker_c8d60a9d754d091bbc65601af676ab4b.bindTooltip(\n",
       "                `&lt;div&gt;\n",
       "                     30歳代\n",
       "                 &lt;/div&gt;`,\n",
       "                {&quot;sticky&quot;: true}\n",
       "            );\n",
       "        \n",
       "    \n",
       "            var marker_85c1552133f19c80eb221af3e21b1774 = L.marker(\n",
       "                [35.835949, 139.968262],\n",
       "                {}\n",
       "            ).addTo(marker_cluster_3b3250dace59432a581fd95f93448708);\n",
       "        \n",
       "    \n",
       "            marker_85c1552133f19c80eb221af3e21b1774.bindTooltip(\n",
       "                `&lt;div&gt;\n",
       "                     10歳代\n",
       "                 &lt;/div&gt;`,\n",
       "                {&quot;sticky&quot;: true}\n",
       "            );\n",
       "        \n",
       "    \n",
       "            var marker_57855538c21b844aaae71ef32a420852 = L.marker(\n",
       "                [35.83136, 139.96756],\n",
       "                {}\n",
       "            ).addTo(marker_cluster_3b3250dace59432a581fd95f93448708);\n",
       "        \n",
       "    \n",
       "            marker_57855538c21b844aaae71ef32a420852.bindTooltip(\n",
       "                `&lt;div&gt;\n",
       "                     20歳代\n",
       "                 &lt;/div&gt;`,\n",
       "                {&quot;sticky&quot;: true}\n",
       "            );\n",
       "        \n",
       "    \n",
       "            var marker_249b0fd68dbdb3ebd6938fe981268745 = L.marker(\n",
       "                [35.84692, 139.967072],\n",
       "                {}\n",
       "            ).addTo(marker_cluster_3b3250dace59432a581fd95f93448708);\n",
       "        \n",
       "    \n",
       "            marker_249b0fd68dbdb3ebd6938fe981268745.bindTooltip(\n",
       "                `&lt;div&gt;\n",
       "                     30歳代\n",
       "                 &lt;/div&gt;`,\n",
       "                {&quot;sticky&quot;: true}\n",
       "            );\n",
       "        \n",
       "    \n",
       "            var marker_84443a83bed646a7eec0d266bf4cb99b = L.marker(\n",
       "                [35.838268, 139.963547],\n",
       "                {}\n",
       "            ).addTo(marker_cluster_3b3250dace59432a581fd95f93448708);\n",
       "        \n",
       "    \n",
       "            marker_84443a83bed646a7eec0d266bf4cb99b.bindTooltip(\n",
       "                `&lt;div&gt;\n",
       "                     10歳未満\n",
       "                 &lt;/div&gt;`,\n",
       "                {&quot;sticky&quot;: true}\n",
       "            );\n",
       "        \n",
       "    \n",
       "            var marker_5ccdd9c28beacd76f4674871b7c71ad2 = L.marker(\n",
       "                [35.838268, 139.963547],\n",
       "                {}\n",
       "            ).addTo(marker_cluster_3b3250dace59432a581fd95f93448708);\n",
       "        \n",
       "    \n",
       "            marker_5ccdd9c28beacd76f4674871b7c71ad2.bindTooltip(\n",
       "                `&lt;div&gt;\n",
       "                     40歳代\n",
       "                 &lt;/div&gt;`,\n",
       "                {&quot;sticky&quot;: true}\n",
       "            );\n",
       "        \n",
       "    \n",
       "            var marker_2ae0a14a5d8e115405b092fe874e5764 = L.marker(\n",
       "                [35.838268, 139.963547],\n",
       "                {}\n",
       "            ).addTo(marker_cluster_3b3250dace59432a581fd95f93448708);\n",
       "        \n",
       "    \n",
       "            marker_2ae0a14a5d8e115405b092fe874e5764.bindTooltip(\n",
       "                `&lt;div&gt;\n",
       "                     10歳未満\n",
       "                 &lt;/div&gt;`,\n",
       "                {&quot;sticky&quot;: true}\n",
       "            );\n",
       "        \n",
       "    \n",
       "            var marker_dba515e2a4324dd86628261829a5a7cf = L.marker(\n",
       "                [35.842236, 139.965775],\n",
       "                {}\n",
       "            ).addTo(marker_cluster_3b3250dace59432a581fd95f93448708);\n",
       "        \n",
       "    \n",
       "            marker_dba515e2a4324dd86628261829a5a7cf.bindTooltip(\n",
       "                `&lt;div&gt;\n",
       "                     70歳以上\n",
       "                 &lt;/div&gt;`,\n",
       "                {&quot;sticky&quot;: true}\n",
       "            );\n",
       "        \n",
       "    \n",
       "            var marker_c42a32ef7fb55f48e5b2c880bb69d089 = L.marker(\n",
       "                [35.840786, 139.966721],\n",
       "                {}\n",
       "            ).addTo(marker_cluster_3b3250dace59432a581fd95f93448708);\n",
       "        \n",
       "    \n",
       "            marker_c42a32ef7fb55f48e5b2c880bb69d089.bindTooltip(\n",
       "                `&lt;div&gt;\n",
       "                     40歳代\n",
       "                 &lt;/div&gt;`,\n",
       "                {&quot;sticky&quot;: true}\n",
       "            );\n",
       "        \n",
       "    \n",
       "            var marker_7810ca7fd2be7a31e6686182b44a321c = L.marker(\n",
       "                [35.840786, 139.966721],\n",
       "                {}\n",
       "            ).addTo(marker_cluster_3b3250dace59432a581fd95f93448708);\n",
       "        \n",
       "    \n",
       "            marker_7810ca7fd2be7a31e6686182b44a321c.bindTooltip(\n",
       "                `&lt;div&gt;\n",
       "                     40歳代\n",
       "                 &lt;/div&gt;`,\n",
       "                {&quot;sticky&quot;: true}\n",
       "            );\n",
       "        \n",
       "    \n",
       "            var marker_6368683bcd51ac2c32fcd1ddd58d9686 = L.marker(\n",
       "                [35.843285, 139.981064],\n",
       "                {}\n",
       "            ).addTo(marker_cluster_3b3250dace59432a581fd95f93448708);\n",
       "        \n",
       "    \n",
       "            marker_6368683bcd51ac2c32fcd1ddd58d9686.bindTooltip(\n",
       "                `&lt;div&gt;\n",
       "                     20歳代\n",
       "                 &lt;/div&gt;`,\n",
       "                {&quot;sticky&quot;: true}\n",
       "            );\n",
       "        \n",
       "    \n",
       "            var marker_139c93474570ffcf6e7c6c9683726251 = L.marker(\n",
       "                [35.845604, 139.976089],\n",
       "                {}\n",
       "            ).addTo(marker_cluster_3b3250dace59432a581fd95f93448708);\n",
       "        \n",
       "    \n",
       "            marker_139c93474570ffcf6e7c6c9683726251.bindTooltip(\n",
       "                `&lt;div&gt;\n",
       "                     20歳代\n",
       "                 &lt;/div&gt;`,\n",
       "                {&quot;sticky&quot;: true}\n",
       "            );\n",
       "        \n",
       "    \n",
       "            var marker_caadd5da722376dca2d3cfa84f5eb944 = L.marker(\n",
       "                [35.839211, 139.968597],\n",
       "                {}\n",
       "            ).addTo(marker_cluster_3b3250dace59432a581fd95f93448708);\n",
       "        \n",
       "    \n",
       "            marker_caadd5da722376dca2d3cfa84f5eb944.bindTooltip(\n",
       "                `&lt;div&gt;\n",
       "                     30歳代\n",
       "                 &lt;/div&gt;`,\n",
       "                {&quot;sticky&quot;: true}\n",
       "            );\n",
       "        \n",
       "    \n",
       "            var marker_d1b36aecd7014ac0cfb61c4f49eb984b = L.marker(\n",
       "                [35.841667, 139.972061],\n",
       "                {}\n",
       "            ).addTo(marker_cluster_3b3250dace59432a581fd95f93448708);\n",
       "        \n",
       "    \n",
       "            marker_d1b36aecd7014ac0cfb61c4f49eb984b.bindTooltip(\n",
       "                `&lt;div&gt;\n",
       "                     20歳代\n",
       "                 &lt;/div&gt;`,\n",
       "                {&quot;sticky&quot;: true}\n",
       "            );\n",
       "        \n",
       "    \n",
       "            var marker_3157619c1078b13467917f7e35b059f6 = L.marker(\n",
       "                [35.867088, 139.963196],\n",
       "                {}\n",
       "            ).addTo(marker_cluster_3b3250dace59432a581fd95f93448708);\n",
       "        \n",
       "    \n",
       "            marker_3157619c1078b13467917f7e35b059f6.bindTooltip(\n",
       "                `&lt;div&gt;\n",
       "                     10歳代\n",
       "                 &lt;/div&gt;`,\n",
       "                {&quot;sticky&quot;: true}\n",
       "            );\n",
       "        \n",
       "    \n",
       "            var marker_4f3a24f172f2dec02b024ee23138b0c3 = L.marker(\n",
       "                [35.867088, 139.963196],\n",
       "                {}\n",
       "            ).addTo(marker_cluster_3b3250dace59432a581fd95f93448708);\n",
       "        \n",
       "    \n",
       "            marker_4f3a24f172f2dec02b024ee23138b0c3.bindTooltip(\n",
       "                `&lt;div&gt;\n",
       "                     10歳代\n",
       "                 &lt;/div&gt;`,\n",
       "                {&quot;sticky&quot;: true}\n",
       "            );\n",
       "        \n",
       "    \n",
       "            var marker_191a964a81938904ccaaa5f3f710b43c = L.marker(\n",
       "                [35.867088, 139.963196],\n",
       "                {}\n",
       "            ).addTo(marker_cluster_3b3250dace59432a581fd95f93448708);\n",
       "        \n",
       "    \n",
       "            marker_191a964a81938904ccaaa5f3f710b43c.bindTooltip(\n",
       "                `&lt;div&gt;\n",
       "                     10歳代\n",
       "                 &lt;/div&gt;`,\n",
       "                {&quot;sticky&quot;: true}\n",
       "            );\n",
       "        \n",
       "    \n",
       "            var marker_812ced146d9e352458a369397749b675 = L.marker(\n",
       "                [35.867088, 139.963196],\n",
       "                {}\n",
       "            ).addTo(marker_cluster_3b3250dace59432a581fd95f93448708);\n",
       "        \n",
       "    \n",
       "            marker_812ced146d9e352458a369397749b675.bindTooltip(\n",
       "                `&lt;div&gt;\n",
       "                     10歳代\n",
       "                 &lt;/div&gt;`,\n",
       "                {&quot;sticky&quot;: true}\n",
       "            );\n",
       "        \n",
       "    \n",
       "            var marker_c41969490e861761fa8571967609e7ac = L.marker(\n",
       "                [35.867088, 139.963196],\n",
       "                {}\n",
       "            ).addTo(marker_cluster_3b3250dace59432a581fd95f93448708);\n",
       "        \n",
       "    \n",
       "            marker_c41969490e861761fa8571967609e7ac.bindTooltip(\n",
       "                `&lt;div&gt;\n",
       "                     10歳代\n",
       "                 &lt;/div&gt;`,\n",
       "                {&quot;sticky&quot;: true}\n",
       "            );\n",
       "        \n",
       "    \n",
       "            var marker_ec188f8fb1dec738c070a9de1c9a4121 = L.marker(\n",
       "                [35.864574, 139.962662],\n",
       "                {}\n",
       "            ).addTo(marker_cluster_3b3250dace59432a581fd95f93448708);\n",
       "        \n",
       "    \n",
       "            marker_ec188f8fb1dec738c070a9de1c9a4121.bindTooltip(\n",
       "                `&lt;div&gt;\n",
       "                     20歳代\n",
       "                 &lt;/div&gt;`,\n",
       "                {&quot;sticky&quot;: true}\n",
       "            );\n",
       "        \n",
       "    \n",
       "            var marker_c12d70ecf64362660124a1b847a8afb5 = L.marker(\n",
       "                [35.864574, 139.962662],\n",
       "                {}\n",
       "            ).addTo(marker_cluster_3b3250dace59432a581fd95f93448708);\n",
       "        \n",
       "    \n",
       "            marker_c12d70ecf64362660124a1b847a8afb5.bindTooltip(\n",
       "                `&lt;div&gt;\n",
       "                     20歳代\n",
       "                 &lt;/div&gt;`,\n",
       "                {&quot;sticky&quot;: true}\n",
       "            );\n",
       "        \n",
       "    \n",
       "            var marker_8e4c9b60917cfa429745bc00f87924e1 = L.marker(\n",
       "                [35.865929, 139.971985],\n",
       "                {}\n",
       "            ).addTo(marker_cluster_3b3250dace59432a581fd95f93448708);\n",
       "        \n",
       "    \n",
       "            marker_8e4c9b60917cfa429745bc00f87924e1.bindTooltip(\n",
       "                `&lt;div&gt;\n",
       "                     65-69歳\n",
       "                 &lt;/div&gt;`,\n",
       "                {&quot;sticky&quot;: true}\n",
       "            );\n",
       "        \n",
       "    \n",
       "            var marker_27868709235634017b542f261f2180be = L.marker(\n",
       "                [35.868034, 139.974197],\n",
       "                {}\n",
       "            ).addTo(marker_cluster_3b3250dace59432a581fd95f93448708);\n",
       "        \n",
       "    \n",
       "            marker_27868709235634017b542f261f2180be.bindTooltip(\n",
       "                `&lt;div&gt;\n",
       "                     30歳代\n",
       "                 &lt;/div&gt;`,\n",
       "                {&quot;sticky&quot;: true}\n",
       "            );\n",
       "        \n",
       "    \n",
       "            var marker_2c6ad29191f0001523e9eac24997782d = L.marker(\n",
       "                [35.868034, 139.974197],\n",
       "                {}\n",
       "            ).addTo(marker_cluster_3b3250dace59432a581fd95f93448708);\n",
       "        \n",
       "    \n",
       "            marker_2c6ad29191f0001523e9eac24997782d.bindTooltip(\n",
       "                `&lt;div&gt;\n",
       "                     20歳代\n",
       "                 &lt;/div&gt;`,\n",
       "                {&quot;sticky&quot;: true}\n",
       "            );\n",
       "        \n",
       "    \n",
       "            var marker_1e27f54043b51f9c14ec7fc89c41f079 = L.marker(\n",
       "                [35.869129, 139.971756],\n",
       "                {}\n",
       "            ).addTo(marker_cluster_3b3250dace59432a581fd95f93448708);\n",
       "        \n",
       "    \n",
       "            marker_1e27f54043b51f9c14ec7fc89c41f079.bindTooltip(\n",
       "                `&lt;div&gt;\n",
       "                     20歳代\n",
       "                 &lt;/div&gt;`,\n",
       "                {&quot;sticky&quot;: true}\n",
       "            );\n",
       "        \n",
       "    \n",
       "            var marker_d7afc712ed57c34132b7462e3d72a16e = L.marker(\n",
       "                [35.869129, 139.971756],\n",
       "                {}\n",
       "            ).addTo(marker_cluster_3b3250dace59432a581fd95f93448708);\n",
       "        \n",
       "    \n",
       "            marker_d7afc712ed57c34132b7462e3d72a16e.bindTooltip(\n",
       "                `&lt;div&gt;\n",
       "                     30歳代\n",
       "                 &lt;/div&gt;`,\n",
       "                {&quot;sticky&quot;: true}\n",
       "            );\n",
       "        \n",
       "    \n",
       "            var marker_0500636aceffc7e4b1d25ff9df58a798 = L.marker(\n",
       "                [35.866798, 139.968948],\n",
       "                {}\n",
       "            ).addTo(marker_cluster_3b3250dace59432a581fd95f93448708);\n",
       "        \n",
       "    \n",
       "            marker_0500636aceffc7e4b1d25ff9df58a798.bindTooltip(\n",
       "                `&lt;div&gt;\n",
       "                     20歳代\n",
       "                 &lt;/div&gt;`,\n",
       "                {&quot;sticky&quot;: true}\n",
       "            );\n",
       "        \n",
       "    \n",
       "            var marker_fc6acfed0bb4f3de1f3c7dc96dc720d6 = L.marker(\n",
       "                [35.866798, 139.968948],\n",
       "                {}\n",
       "            ).addTo(marker_cluster_3b3250dace59432a581fd95f93448708);\n",
       "        \n",
       "    \n",
       "            marker_fc6acfed0bb4f3de1f3c7dc96dc720d6.bindTooltip(\n",
       "                `&lt;div&gt;\n",
       "                     20歳代\n",
       "                 &lt;/div&gt;`,\n",
       "                {&quot;sticky&quot;: true}\n",
       "            );\n",
       "        \n",
       "    \n",
       "            var marker_41b3fb6628dda4c94c753616e40861fe = L.marker(\n",
       "                [35.866798, 139.968948],\n",
       "                {}\n",
       "            ).addTo(marker_cluster_3b3250dace59432a581fd95f93448708);\n",
       "        \n",
       "    \n",
       "            marker_41b3fb6628dda4c94c753616e40861fe.bindTooltip(\n",
       "                `&lt;div&gt;\n",
       "                     30歳代\n",
       "                 &lt;/div&gt;`,\n",
       "                {&quot;sticky&quot;: true}\n",
       "            );\n",
       "        \n",
       "    \n",
       "            var marker_622a07df69151ecf3b03644d8514aa6f = L.marker(\n",
       "                [35.869289, 139.967926],\n",
       "                {}\n",
       "            ).addTo(marker_cluster_3b3250dace59432a581fd95f93448708);\n",
       "        \n",
       "    \n",
       "            marker_622a07df69151ecf3b03644d8514aa6f.bindTooltip(\n",
       "                `&lt;div&gt;\n",
       "                     50歳代\n",
       "                 &lt;/div&gt;`,\n",
       "                {&quot;sticky&quot;: true}\n",
       "            );\n",
       "        \n",
       "    \n",
       "            var marker_a9c6d82cf659e0cde43819ede5907c9a = L.marker(\n",
       "                [35.861916, 139.968491],\n",
       "                {}\n",
       "            ).addTo(marker_cluster_3b3250dace59432a581fd95f93448708);\n",
       "        \n",
       "    \n",
       "            marker_a9c6d82cf659e0cde43819ede5907c9a.bindTooltip(\n",
       "                `&lt;div&gt;\n",
       "                     50歳代\n",
       "                 &lt;/div&gt;`,\n",
       "                {&quot;sticky&quot;: true}\n",
       "            );\n",
       "        \n",
       "    \n",
       "            var marker_77f8b662f23f1113aea9e759592c281e = L.marker(\n",
       "                [35.861916, 139.968491],\n",
       "                {}\n",
       "            ).addTo(marker_cluster_3b3250dace59432a581fd95f93448708);\n",
       "        \n",
       "    \n",
       "            marker_77f8b662f23f1113aea9e759592c281e.bindTooltip(\n",
       "                `&lt;div&gt;\n",
       "                     20歳代\n",
       "                 &lt;/div&gt;`,\n",
       "                {&quot;sticky&quot;: true}\n",
       "            );\n",
       "        \n",
       "    \n",
       "            var marker_458ae22b4a389247cebcb8d675a5cf90 = L.marker(\n",
       "                [35.861916, 139.968491],\n",
       "                {}\n",
       "            ).addTo(marker_cluster_3b3250dace59432a581fd95f93448708);\n",
       "        \n",
       "    \n",
       "            marker_458ae22b4a389247cebcb8d675a5cf90.bindTooltip(\n",
       "                `&lt;div&gt;\n",
       "                     10歳代\n",
       "                 &lt;/div&gt;`,\n",
       "                {&quot;sticky&quot;: true}\n",
       "            );\n",
       "        \n",
       "    \n",
       "            var marker_22766bf1906b98b5c107122e8b6a6d39 = L.marker(\n",
       "                [35.861916, 139.968491],\n",
       "                {}\n",
       "            ).addTo(marker_cluster_3b3250dace59432a581fd95f93448708);\n",
       "        \n",
       "    \n",
       "            marker_22766bf1906b98b5c107122e8b6a6d39.bindTooltip(\n",
       "                `&lt;div&gt;\n",
       "                     30歳代\n",
       "                 &lt;/div&gt;`,\n",
       "                {&quot;sticky&quot;: true}\n",
       "            );\n",
       "        \n",
       "    \n",
       "            var marker_54ad345a0de903420f807d7bed3a2ef5 = L.marker(\n",
       "                [35.861916, 139.968491],\n",
       "                {}\n",
       "            ).addTo(marker_cluster_3b3250dace59432a581fd95f93448708);\n",
       "        \n",
       "    \n",
       "            marker_54ad345a0de903420f807d7bed3a2ef5.bindTooltip(\n",
       "                `&lt;div&gt;\n",
       "                     20歳代\n",
       "                 &lt;/div&gt;`,\n",
       "                {&quot;sticky&quot;: true}\n",
       "            );\n",
       "        \n",
       "    \n",
       "            var marker_fca6c27789230dc418f0f8d2e2946aeb = L.marker(\n",
       "                [35.861916, 139.968491],\n",
       "                {}\n",
       "            ).addTo(marker_cluster_3b3250dace59432a581fd95f93448708);\n",
       "        \n",
       "    \n",
       "            marker_fca6c27789230dc418f0f8d2e2946aeb.bindTooltip(\n",
       "                `&lt;div&gt;\n",
       "                     30歳代\n",
       "                 &lt;/div&gt;`,\n",
       "                {&quot;sticky&quot;: true}\n",
       "            );\n",
       "        \n",
       "    \n",
       "            var marker_7e3c884cafd8427741bd4e7ef8301544 = L.marker(\n",
       "                [35.861916, 139.968491],\n",
       "                {}\n",
       "            ).addTo(marker_cluster_3b3250dace59432a581fd95f93448708);\n",
       "        \n",
       "    \n",
       "            marker_7e3c884cafd8427741bd4e7ef8301544.bindTooltip(\n",
       "                `&lt;div&gt;\n",
       "                     50歳代\n",
       "                 &lt;/div&gt;`,\n",
       "                {&quot;sticky&quot;: true}\n",
       "            );\n",
       "        \n",
       "    \n",
       "            var marker_f3bec395cdae51c4a19a8baec8ceb319 = L.marker(\n",
       "                [35.861916, 139.968491],\n",
       "                {}\n",
       "            ).addTo(marker_cluster_3b3250dace59432a581fd95f93448708);\n",
       "        \n",
       "    \n",
       "            marker_f3bec395cdae51c4a19a8baec8ceb319.bindTooltip(\n",
       "                `&lt;div&gt;\n",
       "                     30歳代\n",
       "                 &lt;/div&gt;`,\n",
       "                {&quot;sticky&quot;: true}\n",
       "            );\n",
       "        \n",
       "    \n",
       "            var marker_b5f0726f1fbde0ea63e38a6d9138778d = L.marker(\n",
       "                [35.861916, 139.968491],\n",
       "                {}\n",
       "            ).addTo(marker_cluster_3b3250dace59432a581fd95f93448708);\n",
       "        \n",
       "    \n",
       "            marker_b5f0726f1fbde0ea63e38a6d9138778d.bindTooltip(\n",
       "                `&lt;div&gt;\n",
       "                     10歳代\n",
       "                 &lt;/div&gt;`,\n",
       "                {&quot;sticky&quot;: true}\n",
       "            );\n",
       "        \n",
       "    \n",
       "            var marker_f1810002b4f564e2a27c689cd4dcacb8 = L.marker(\n",
       "                [35.858974, 139.962036],\n",
       "                {}\n",
       "            ).addTo(marker_cluster_3b3250dace59432a581fd95f93448708);\n",
       "        \n",
       "    \n",
       "            marker_f1810002b4f564e2a27c689cd4dcacb8.bindTooltip(\n",
       "                `&lt;div&gt;\n",
       "                     10歳代\n",
       "                 &lt;/div&gt;`,\n",
       "                {&quot;sticky&quot;: true}\n",
       "            );\n",
       "        \n",
       "    \n",
       "            var marker_220badb45b3d84ac3a5f103c022f0fe7 = L.marker(\n",
       "                [35.858974, 139.962036],\n",
       "                {}\n",
       "            ).addTo(marker_cluster_3b3250dace59432a581fd95f93448708);\n",
       "        \n",
       "    \n",
       "            marker_220badb45b3d84ac3a5f103c022f0fe7.bindTooltip(\n",
       "                `&lt;div&gt;\n",
       "                     20歳代\n",
       "                 &lt;/div&gt;`,\n",
       "                {&quot;sticky&quot;: true}\n",
       "            );\n",
       "        \n",
       "    \n",
       "            var marker_73c08fdc2316423d47cd7c226f8ab717 = L.marker(\n",
       "                [35.858974, 139.962036],\n",
       "                {}\n",
       "            ).addTo(marker_cluster_3b3250dace59432a581fd95f93448708);\n",
       "        \n",
       "    \n",
       "            marker_73c08fdc2316423d47cd7c226f8ab717.bindTooltip(\n",
       "                `&lt;div&gt;\n",
       "                     30歳代\n",
       "                 &lt;/div&gt;`,\n",
       "                {&quot;sticky&quot;: true}\n",
       "            );\n",
       "        \n",
       "    \n",
       "            var marker_894c84ef2af6b7b80567d7cfd11c97ca = L.marker(\n",
       "                [35.858974, 139.962036],\n",
       "                {}\n",
       "            ).addTo(marker_cluster_3b3250dace59432a581fd95f93448708);\n",
       "        \n",
       "    \n",
       "            marker_894c84ef2af6b7b80567d7cfd11c97ca.bindTooltip(\n",
       "                `&lt;div&gt;\n",
       "                     20歳代\n",
       "                 &lt;/div&gt;`,\n",
       "                {&quot;sticky&quot;: true}\n",
       "            );\n",
       "        \n",
       "    \n",
       "            var marker_2537d9ee01bfdba34b0fa3b60ceef56f = L.marker(\n",
       "                [35.858974, 139.962036],\n",
       "                {}\n",
       "            ).addTo(marker_cluster_3b3250dace59432a581fd95f93448708);\n",
       "        \n",
       "    \n",
       "            marker_2537d9ee01bfdba34b0fa3b60ceef56f.bindTooltip(\n",
       "                `&lt;div&gt;\n",
       "                     20歳代\n",
       "                 &lt;/div&gt;`,\n",
       "                {&quot;sticky&quot;: true}\n",
       "            );\n",
       "        \n",
       "    \n",
       "            var marker_100c84c782a3c7012e7e8a6eb5eb9cc0 = L.marker(\n",
       "                [35.85675, 139.962128],\n",
       "                {}\n",
       "            ).addTo(marker_cluster_3b3250dace59432a581fd95f93448708);\n",
       "        \n",
       "    \n",
       "            marker_100c84c782a3c7012e7e8a6eb5eb9cc0.bindTooltip(\n",
       "                `&lt;div&gt;\n",
       "                     30歳代\n",
       "                 &lt;/div&gt;`,\n",
       "                {&quot;sticky&quot;: true}\n",
       "            );\n",
       "        \n",
       "    \n",
       "            var marker_bffc3d09e72e68738111d4a989cbafbd = L.marker(\n",
       "                [35.857044, 139.958267],\n",
       "                {}\n",
       "            ).addTo(marker_cluster_3b3250dace59432a581fd95f93448708);\n",
       "        \n",
       "    \n",
       "            marker_bffc3d09e72e68738111d4a989cbafbd.bindTooltip(\n",
       "                `&lt;div&gt;\n",
       "                     70歳以上\n",
       "                 &lt;/div&gt;`,\n",
       "                {&quot;sticky&quot;: true}\n",
       "            );\n",
       "        \n",
       "    \n",
       "            var marker_5155beb83b1d633236ba862bbd4ba16f = L.marker(\n",
       "                [35.857044, 139.958267],\n",
       "                {}\n",
       "            ).addTo(marker_cluster_3b3250dace59432a581fd95f93448708);\n",
       "        \n",
       "    \n",
       "            marker_5155beb83b1d633236ba862bbd4ba16f.bindTooltip(\n",
       "                `&lt;div&gt;\n",
       "                     10歳代\n",
       "                 &lt;/div&gt;`,\n",
       "                {&quot;sticky&quot;: true}\n",
       "            );\n",
       "        \n",
       "    \n",
       "            var marker_769273e0bed11ccdababe1dc05b15296 = L.marker(\n",
       "                [35.868122, 139.943359],\n",
       "                {}\n",
       "            ).addTo(marker_cluster_3b3250dace59432a581fd95f93448708);\n",
       "        \n",
       "    \n",
       "            marker_769273e0bed11ccdababe1dc05b15296.bindTooltip(\n",
       "                `&lt;div&gt;\n",
       "                     10歳代\n",
       "                 &lt;/div&gt;`,\n",
       "                {&quot;sticky&quot;: true}\n",
       "            );\n",
       "        \n",
       "    \n",
       "            var marker_b00d2f4f4333bfdec630d59d3fc5ac6d = L.marker(\n",
       "                [35.862904, 139.970398],\n",
       "                {}\n",
       "            ).addTo(marker_cluster_3b3250dace59432a581fd95f93448708);\n",
       "        \n",
       "    \n",
       "            marker_b00d2f4f4333bfdec630d59d3fc5ac6d.bindTooltip(\n",
       "                `&lt;div&gt;\n",
       "                     40歳代\n",
       "                 &lt;/div&gt;`,\n",
       "                {&quot;sticky&quot;: true}\n",
       "            );\n",
       "        \n",
       "    \n",
       "            var marker_1ff801a405babd6d26bc580aecdc14d9 = L.marker(\n",
       "                [35.862904, 139.970398],\n",
       "                {}\n",
       "            ).addTo(marker_cluster_3b3250dace59432a581fd95f93448708);\n",
       "        \n",
       "    \n",
       "            marker_1ff801a405babd6d26bc580aecdc14d9.bindTooltip(\n",
       "                `&lt;div&gt;\n",
       "                     10歳代\n",
       "                 &lt;/div&gt;`,\n",
       "                {&quot;sticky&quot;: true}\n",
       "            );\n",
       "        \n",
       "    \n",
       "            var marker_5cb56ad592d426afadeac2ad649b7706 = L.marker(\n",
       "                [35.862904, 139.970398],\n",
       "                {}\n",
       "            ).addTo(marker_cluster_3b3250dace59432a581fd95f93448708);\n",
       "        \n",
       "    \n",
       "            marker_5cb56ad592d426afadeac2ad649b7706.bindTooltip(\n",
       "                `&lt;div&gt;\n",
       "                     40歳代\n",
       "                 &lt;/div&gt;`,\n",
       "                {&quot;sticky&quot;: true}\n",
       "            );\n",
       "        \n",
       "    \n",
       "            var marker_89d8b3a1b6b26e839ca3fd86caa3d10e = L.marker(\n",
       "                [35.862904, 139.970398],\n",
       "                {}\n",
       "            ).addTo(marker_cluster_3b3250dace59432a581fd95f93448708);\n",
       "        \n",
       "    \n",
       "            marker_89d8b3a1b6b26e839ca3fd86caa3d10e.bindTooltip(\n",
       "                `&lt;div&gt;\n",
       "                     10歳代\n",
       "                 &lt;/div&gt;`,\n",
       "                {&quot;sticky&quot;: true}\n",
       "            );\n",
       "        \n",
       "    \n",
       "            var marker_03146452a1f5585f05bf4c92af9c917e = L.marker(\n",
       "                [35.862904, 139.970398],\n",
       "                {}\n",
       "            ).addTo(marker_cluster_3b3250dace59432a581fd95f93448708);\n",
       "        \n",
       "    \n",
       "            marker_03146452a1f5585f05bf4c92af9c917e.bindTooltip(\n",
       "                `&lt;div&gt;\n",
       "                     20歳代\n",
       "                 &lt;/div&gt;`,\n",
       "                {&quot;sticky&quot;: true}\n",
       "            );\n",
       "        \n",
       "    \n",
       "            var marker_67ec5f8c6a5c36a3f2ef922043669508 = L.marker(\n",
       "                [35.862904, 139.970398],\n",
       "                {}\n",
       "            ).addTo(marker_cluster_3b3250dace59432a581fd95f93448708);\n",
       "        \n",
       "    \n",
       "            marker_67ec5f8c6a5c36a3f2ef922043669508.bindTooltip(\n",
       "                `&lt;div&gt;\n",
       "                     65-69歳\n",
       "                 &lt;/div&gt;`,\n",
       "                {&quot;sticky&quot;: true}\n",
       "            );\n",
       "        \n",
       "    \n",
       "            var marker_367b2a67f0d3e1490a463f57aa986576 = L.marker(\n",
       "                [35.862904, 139.970398],\n",
       "                {}\n",
       "            ).addTo(marker_cluster_3b3250dace59432a581fd95f93448708);\n",
       "        \n",
       "    \n",
       "            marker_367b2a67f0d3e1490a463f57aa986576.bindTooltip(\n",
       "                `&lt;div&gt;\n",
       "                     10歳未満\n",
       "                 &lt;/div&gt;`,\n",
       "                {&quot;sticky&quot;: true}\n",
       "            );\n",
       "        \n",
       "    \n",
       "            var marker_e156e79eb2c51eb0a85eb4947c02c12f = L.marker(\n",
       "                [35.862904, 139.970398],\n",
       "                {}\n",
       "            ).addTo(marker_cluster_3b3250dace59432a581fd95f93448708);\n",
       "        \n",
       "    \n",
       "            marker_e156e79eb2c51eb0a85eb4947c02c12f.bindTooltip(\n",
       "                `&lt;div&gt;\n",
       "                     10歳代\n",
       "                 &lt;/div&gt;`,\n",
       "                {&quot;sticky&quot;: true}\n",
       "            );\n",
       "        \n",
       "    \n",
       "            var marker_f94ebb77e5996e92f1643b3e233eee54 = L.marker(\n",
       "                [35.862904, 139.970398],\n",
       "                {}\n",
       "            ).addTo(marker_cluster_3b3250dace59432a581fd95f93448708);\n",
       "        \n",
       "    \n",
       "            marker_f94ebb77e5996e92f1643b3e233eee54.bindTooltip(\n",
       "                `&lt;div&gt;\n",
       "                     20歳代\n",
       "                 &lt;/div&gt;`,\n",
       "                {&quot;sticky&quot;: true}\n",
       "            );\n",
       "        \n",
       "    \n",
       "            var marker_b6a10fe5d008d5d06e595f07ce59e48f = L.marker(\n",
       "                [35.862904, 139.970398],\n",
       "                {}\n",
       "            ).addTo(marker_cluster_3b3250dace59432a581fd95f93448708);\n",
       "        \n",
       "    \n",
       "            marker_b6a10fe5d008d5d06e595f07ce59e48f.bindTooltip(\n",
       "                `&lt;div&gt;\n",
       "                     20歳代\n",
       "                 &lt;/div&gt;`,\n",
       "                {&quot;sticky&quot;: true}\n",
       "            );\n",
       "        \n",
       "    \n",
       "            var marker_ef6c81cb953c0833525cabe4cc0bf184 = L.marker(\n",
       "                [35.854397, 139.962891],\n",
       "                {}\n",
       "            ).addTo(marker_cluster_3b3250dace59432a581fd95f93448708);\n",
       "        \n",
       "    \n",
       "            marker_ef6c81cb953c0833525cabe4cc0bf184.bindTooltip(\n",
       "                `&lt;div&gt;\n",
       "                     20歳代\n",
       "                 &lt;/div&gt;`,\n",
       "                {&quot;sticky&quot;: true}\n",
       "            );\n",
       "        \n",
       "    \n",
       "            var marker_ddefdb0a35997a59141cffe90ca79ff0 = L.marker(\n",
       "                [35.854397, 139.962891],\n",
       "                {}\n",
       "            ).addTo(marker_cluster_3b3250dace59432a581fd95f93448708);\n",
       "        \n",
       "    \n",
       "            marker_ddefdb0a35997a59141cffe90ca79ff0.bindTooltip(\n",
       "                `&lt;div&gt;\n",
       "                     10歳代\n",
       "                 &lt;/div&gt;`,\n",
       "                {&quot;sticky&quot;: true}\n",
       "            );\n",
       "        \n",
       "    \n",
       "            var marker_1d40fe5f24178628ad7d12979066c7f7 = L.marker(\n",
       "                [35.854397, 139.962891],\n",
       "                {}\n",
       "            ).addTo(marker_cluster_3b3250dace59432a581fd95f93448708);\n",
       "        \n",
       "    \n",
       "            marker_1d40fe5f24178628ad7d12979066c7f7.bindTooltip(\n",
       "                `&lt;div&gt;\n",
       "                     20歳代\n",
       "                 &lt;/div&gt;`,\n",
       "                {&quot;sticky&quot;: true}\n",
       "            );\n",
       "        \n",
       "    \n",
       "            var marker_a841e2ff6e88096b8977e42214c64a7e = L.marker(\n",
       "                [35.854397, 139.962891],\n",
       "                {}\n",
       "            ).addTo(marker_cluster_3b3250dace59432a581fd95f93448708);\n",
       "        \n",
       "    \n",
       "            marker_a841e2ff6e88096b8977e42214c64a7e.bindTooltip(\n",
       "                `&lt;div&gt;\n",
       "                     20歳代\n",
       "                 &lt;/div&gt;`,\n",
       "                {&quot;sticky&quot;: true}\n",
       "            );\n",
       "        \n",
       "    \n",
       "            var marker_ba6ae1e3051e21c7b14ace06be94d1b4 = L.marker(\n",
       "                [35.854397, 139.962891],\n",
       "                {}\n",
       "            ).addTo(marker_cluster_3b3250dace59432a581fd95f93448708);\n",
       "        \n",
       "    \n",
       "            marker_ba6ae1e3051e21c7b14ace06be94d1b4.bindTooltip(\n",
       "                `&lt;div&gt;\n",
       "                     20歳代\n",
       "                 &lt;/div&gt;`,\n",
       "                {&quot;sticky&quot;: true}\n",
       "            );\n",
       "        \n",
       "    \n",
       "            var marker_b18c6c3344b908580e992ec82c50796f = L.marker(\n",
       "                [35.854397, 139.962891],\n",
       "                {}\n",
       "            ).addTo(marker_cluster_3b3250dace59432a581fd95f93448708);\n",
       "        \n",
       "    \n",
       "            marker_b18c6c3344b908580e992ec82c50796f.bindTooltip(\n",
       "                `&lt;div&gt;\n",
       "                     20歳代\n",
       "                 &lt;/div&gt;`,\n",
       "                {&quot;sticky&quot;: true}\n",
       "            );\n",
       "        \n",
       "    \n",
       "            var marker_a9e825d0a98232a3629cfbb4d6962965 = L.marker(\n",
       "                [35.866894, 139.957932],\n",
       "                {}\n",
       "            ).addTo(marker_cluster_3b3250dace59432a581fd95f93448708);\n",
       "        \n",
       "    \n",
       "            marker_a9e825d0a98232a3629cfbb4d6962965.bindTooltip(\n",
       "                `&lt;div&gt;\n",
       "                     10歳代\n",
       "                 &lt;/div&gt;`,\n",
       "                {&quot;sticky&quot;: true}\n",
       "            );\n",
       "        \n",
       "    \n",
       "            var marker_7d25161b3bbcb9c77ad4ffaddc45d927 = L.marker(\n",
       "                [35.866894, 139.957932],\n",
       "                {}\n",
       "            ).addTo(marker_cluster_3b3250dace59432a581fd95f93448708);\n",
       "        \n",
       "    \n",
       "            marker_7d25161b3bbcb9c77ad4ffaddc45d927.bindTooltip(\n",
       "                `&lt;div&gt;\n",
       "                     40歳代\n",
       "                 &lt;/div&gt;`,\n",
       "                {&quot;sticky&quot;: true}\n",
       "            );\n",
       "        \n",
       "    \n",
       "            var marker_3c0ef02f2436ae2edf2a6695631d9301 = L.marker(\n",
       "                [35.866894, 139.957932],\n",
       "                {}\n",
       "            ).addTo(marker_cluster_3b3250dace59432a581fd95f93448708);\n",
       "        \n",
       "    \n",
       "            marker_3c0ef02f2436ae2edf2a6695631d9301.bindTooltip(\n",
       "                `&lt;div&gt;\n",
       "                     20歳代\n",
       "                 &lt;/div&gt;`,\n",
       "                {&quot;sticky&quot;: true}\n",
       "            );\n",
       "        \n",
       "    \n",
       "            var marker_71368dadd3887d17dd656fa954b2dd04 = L.marker(\n",
       "                [35.866894, 139.957932],\n",
       "                {}\n",
       "            ).addTo(marker_cluster_3b3250dace59432a581fd95f93448708);\n",
       "        \n",
       "    \n",
       "            marker_71368dadd3887d17dd656fa954b2dd04.bindTooltip(\n",
       "                `&lt;div&gt;\n",
       "                     40歳代\n",
       "                 &lt;/div&gt;`,\n",
       "                {&quot;sticky&quot;: true}\n",
       "            );\n",
       "        \n",
       "    \n",
       "            var marker_787c0b2f2604a5e0b190192d4467034d = L.marker(\n",
       "                [35.862438, 139.959137],\n",
       "                {}\n",
       "            ).addTo(marker_cluster_3b3250dace59432a581fd95f93448708);\n",
       "        \n",
       "    \n",
       "            marker_787c0b2f2604a5e0b190192d4467034d.bindTooltip(\n",
       "                `&lt;div&gt;\n",
       "                     70歳以上\n",
       "                 &lt;/div&gt;`,\n",
       "                {&quot;sticky&quot;: true}\n",
       "            );\n",
       "        \n",
       "    \n",
       "            var marker_204805d8be5addf161eee2f1c3de1239 = L.marker(\n",
       "                [35.863903, 139.956039],\n",
       "                {}\n",
       "            ).addTo(marker_cluster_3b3250dace59432a581fd95f93448708);\n",
       "        \n",
       "    \n",
       "            marker_204805d8be5addf161eee2f1c3de1239.bindTooltip(\n",
       "                `&lt;div&gt;\n",
       "                     40歳代\n",
       "                 &lt;/div&gt;`,\n",
       "                {&quot;sticky&quot;: true}\n",
       "            );\n",
       "        \n",
       "    \n",
       "            var marker_b01874a49d350cebfdbfaf95204425c9 = L.marker(\n",
       "                [35.863903, 139.956039],\n",
       "                {}\n",
       "            ).addTo(marker_cluster_3b3250dace59432a581fd95f93448708);\n",
       "        \n",
       "    \n",
       "            marker_b01874a49d350cebfdbfaf95204425c9.bindTooltip(\n",
       "                `&lt;div&gt;\n",
       "                     10歳代\n",
       "                 &lt;/div&gt;`,\n",
       "                {&quot;sticky&quot;: true}\n",
       "            );\n",
       "        \n",
       "    \n",
       "            var marker_2207d6372a60bd883b5414b8fdeeabcb = L.marker(\n",
       "                [35.869198, 139.957932],\n",
       "                {}\n",
       "            ).addTo(marker_cluster_3b3250dace59432a581fd95f93448708);\n",
       "        \n",
       "    \n",
       "            marker_2207d6372a60bd883b5414b8fdeeabcb.bindTooltip(\n",
       "                `&lt;div&gt;\n",
       "                     10歳代\n",
       "                 &lt;/div&gt;`,\n",
       "                {&quot;sticky&quot;: true}\n",
       "            );\n",
       "        \n",
       "    \n",
       "            var marker_099d94b611d92c2d5d8fe7139a936ffc = L.marker(\n",
       "                [35.882629, 139.959305],\n",
       "                {}\n",
       "            ).addTo(marker_cluster_3b3250dace59432a581fd95f93448708);\n",
       "        \n",
       "    \n",
       "            marker_099d94b611d92c2d5d8fe7139a936ffc.bindTooltip(\n",
       "                `&lt;div&gt;\n",
       "                     70歳以上\n",
       "                 &lt;/div&gt;`,\n",
       "                {&quot;sticky&quot;: true}\n",
       "            );\n",
       "        \n",
       "    \n",
       "            var marker_e8e056e68adfc47bcff4f6e71ca65b3c = L.marker(\n",
       "                [35.882629, 139.959305],\n",
       "                {}\n",
       "            ).addTo(marker_cluster_3b3250dace59432a581fd95f93448708);\n",
       "        \n",
       "    \n",
       "            marker_e8e056e68adfc47bcff4f6e71ca65b3c.bindTooltip(\n",
       "                `&lt;div&gt;\n",
       "                     10歳代\n",
       "                 &lt;/div&gt;`,\n",
       "                {&quot;sticky&quot;: true}\n",
       "            );\n",
       "        \n",
       "    \n",
       "            var marker_534f5e6c15fb89053f768897c06686a1 = L.marker(\n",
       "                [35.88113, 139.98645],\n",
       "                {}\n",
       "            ).addTo(marker_cluster_3b3250dace59432a581fd95f93448708);\n",
       "        \n",
       "    \n",
       "            marker_534f5e6c15fb89053f768897c06686a1.bindTooltip(\n",
       "                `&lt;div&gt;\n",
       "                     20歳代\n",
       "                 &lt;/div&gt;`,\n",
       "                {&quot;sticky&quot;: true}\n",
       "            );\n",
       "        \n",
       "    \n",
       "            var marker_71d3981960cdede6a903c04c2431d6bc = L.marker(\n",
       "                [35.879082, 139.975952],\n",
       "                {}\n",
       "            ).addTo(marker_cluster_3b3250dace59432a581fd95f93448708);\n",
       "        \n",
       "    \n",
       "            marker_71d3981960cdede6a903c04c2431d6bc.bindTooltip(\n",
       "                `&lt;div&gt;\n",
       "                     20歳代\n",
       "                 &lt;/div&gt;`,\n",
       "                {&quot;sticky&quot;: true}\n",
       "            );\n",
       "        \n",
       "    \n",
       "            var marker_d30cc5e63cb6c756cc9ac7e6f1fa8fcf = L.marker(\n",
       "                [35.879082, 139.975952],\n",
       "                {}\n",
       "            ).addTo(marker_cluster_3b3250dace59432a581fd95f93448708);\n",
       "        \n",
       "    \n",
       "            marker_d30cc5e63cb6c756cc9ac7e6f1fa8fcf.bindTooltip(\n",
       "                `&lt;div&gt;\n",
       "                     10歳代\n",
       "                 &lt;/div&gt;`,\n",
       "                {&quot;sticky&quot;: true}\n",
       "            );\n",
       "        \n",
       "    \n",
       "            var marker_e6b344eced2af14fffc4d7f5ffaebf5e = L.marker(\n",
       "                [35.879082, 139.975952],\n",
       "                {}\n",
       "            ).addTo(marker_cluster_3b3250dace59432a581fd95f93448708);\n",
       "        \n",
       "    \n",
       "            marker_e6b344eced2af14fffc4d7f5ffaebf5e.bindTooltip(\n",
       "                `&lt;div&gt;\n",
       "                     20歳代\n",
       "                 &lt;/div&gt;`,\n",
       "                {&quot;sticky&quot;: true}\n",
       "            );\n",
       "        \n",
       "    \n",
       "            var marker_a44f9d8693e54ce65c009e976a38997d = L.marker(\n",
       "                [35.879082, 139.975952],\n",
       "                {}\n",
       "            ).addTo(marker_cluster_3b3250dace59432a581fd95f93448708);\n",
       "        \n",
       "    \n",
       "            marker_a44f9d8693e54ce65c009e976a38997d.bindTooltip(\n",
       "                `&lt;div&gt;\n",
       "                     20歳代\n",
       "                 &lt;/div&gt;`,\n",
       "                {&quot;sticky&quot;: true}\n",
       "            );\n",
       "        \n",
       "    \n",
       "            var marker_781547cde5daa5837ab107a44870fc59 = L.marker(\n",
       "                [35.879082, 139.975952],\n",
       "                {}\n",
       "            ).addTo(marker_cluster_3b3250dace59432a581fd95f93448708);\n",
       "        \n",
       "    \n",
       "            marker_781547cde5daa5837ab107a44870fc59.bindTooltip(\n",
       "                `&lt;div&gt;\n",
       "                     40歳代\n",
       "                 &lt;/div&gt;`,\n",
       "                {&quot;sticky&quot;: true}\n",
       "            );\n",
       "        \n",
       "    \n",
       "            var marker_ffbc3bfee90f1b7af00553e743b73b67 = L.marker(\n",
       "                [35.879082, 139.975952],\n",
       "                {}\n",
       "            ).addTo(marker_cluster_3b3250dace59432a581fd95f93448708);\n",
       "        \n",
       "    \n",
       "            marker_ffbc3bfee90f1b7af00553e743b73b67.bindTooltip(\n",
       "                `&lt;div&gt;\n",
       "                     10歳代\n",
       "                 &lt;/div&gt;`,\n",
       "                {&quot;sticky&quot;: true}\n",
       "            );\n",
       "        \n",
       "    \n",
       "            var marker_acbb836c0b47f8632ee9401ebe732631 = L.marker(\n",
       "                [35.879082, 139.975952],\n",
       "                {}\n",
       "            ).addTo(marker_cluster_3b3250dace59432a581fd95f93448708);\n",
       "        \n",
       "    \n",
       "            marker_acbb836c0b47f8632ee9401ebe732631.bindTooltip(\n",
       "                `&lt;div&gt;\n",
       "                     30歳代\n",
       "                 &lt;/div&gt;`,\n",
       "                {&quot;sticky&quot;: true}\n",
       "            );\n",
       "        \n",
       "    \n",
       "            var marker_f24d5af3d8ed3b58c709ba1ef3234bf0 = L.marker(\n",
       "                [35.879082, 139.975952],\n",
       "                {}\n",
       "            ).addTo(marker_cluster_3b3250dace59432a581fd95f93448708);\n",
       "        \n",
       "    \n",
       "            marker_f24d5af3d8ed3b58c709ba1ef3234bf0.bindTooltip(\n",
       "                `&lt;div&gt;\n",
       "                     30歳代\n",
       "                 &lt;/div&gt;`,\n",
       "                {&quot;sticky&quot;: true}\n",
       "            );\n",
       "        \n",
       "    \n",
       "            var marker_48286c46b2b204fa922a100fbdb1fd8f = L.marker(\n",
       "                [35.886456, 139.980759],\n",
       "                {}\n",
       "            ).addTo(marker_cluster_3b3250dace59432a581fd95f93448708);\n",
       "        \n",
       "    \n",
       "            marker_48286c46b2b204fa922a100fbdb1fd8f.bindTooltip(\n",
       "                `&lt;div&gt;\n",
       "                     20歳代\n",
       "                 &lt;/div&gt;`,\n",
       "                {&quot;sticky&quot;: true}\n",
       "            );\n",
       "        \n",
       "    \n",
       "            var marker_996081e35a042908d88a355899a746f5 = L.marker(\n",
       "                [35.886456, 139.980759],\n",
       "                {}\n",
       "            ).addTo(marker_cluster_3b3250dace59432a581fd95f93448708);\n",
       "        \n",
       "    \n",
       "            marker_996081e35a042908d88a355899a746f5.bindTooltip(\n",
       "                `&lt;div&gt;\n",
       "                     10歳代\n",
       "                 &lt;/div&gt;`,\n",
       "                {&quot;sticky&quot;: true}\n",
       "            );\n",
       "        \n",
       "    \n",
       "            var marker_a3d1668640a677b07b2e2d7985a329c2 = L.marker(\n",
       "                [35.886009, 139.970963],\n",
       "                {}\n",
       "            ).addTo(marker_cluster_3b3250dace59432a581fd95f93448708);\n",
       "        \n",
       "    \n",
       "            marker_a3d1668640a677b07b2e2d7985a329c2.bindTooltip(\n",
       "                `&lt;div&gt;\n",
       "                     10歳未満\n",
       "                 &lt;/div&gt;`,\n",
       "                {&quot;sticky&quot;: true}\n",
       "            );\n",
       "        \n",
       "    \n",
       "            var marker_063f1b045fa6eaa59b70f0dc39c6b658 = L.marker(\n",
       "                [35.886009, 139.970963],\n",
       "                {}\n",
       "            ).addTo(marker_cluster_3b3250dace59432a581fd95f93448708);\n",
       "        \n",
       "    \n",
       "            marker_063f1b045fa6eaa59b70f0dc39c6b658.bindTooltip(\n",
       "                `&lt;div&gt;\n",
       "                     10歳代\n",
       "                 &lt;/div&gt;`,\n",
       "                {&quot;sticky&quot;: true}\n",
       "            );\n",
       "        \n",
       "    \n",
       "            var marker_ffb1e108aee207fbad27fef76b987e16 = L.marker(\n",
       "                [35.889114, 139.971802],\n",
       "                {}\n",
       "            ).addTo(marker_cluster_3b3250dace59432a581fd95f93448708);\n",
       "        \n",
       "    \n",
       "            marker_ffb1e108aee207fbad27fef76b987e16.bindTooltip(\n",
       "                `&lt;div&gt;\n",
       "                     70歳以上\n",
       "                 &lt;/div&gt;`,\n",
       "                {&quot;sticky&quot;: true}\n",
       "            );\n",
       "        \n",
       "    \n",
       "            var marker_178e351be274f6cc028fd1f95a09dc60 = L.marker(\n",
       "                [35.889114, 139.971802],\n",
       "                {}\n",
       "            ).addTo(marker_cluster_3b3250dace59432a581fd95f93448708);\n",
       "        \n",
       "    \n",
       "            marker_178e351be274f6cc028fd1f95a09dc60.bindTooltip(\n",
       "                `&lt;div&gt;\n",
       "                     65-69歳\n",
       "                 &lt;/div&gt;`,\n",
       "                {&quot;sticky&quot;: true}\n",
       "            );\n",
       "        \n",
       "    \n",
       "            var marker_56f30ad50a92127ed3f6fbd9f725593e = L.marker(\n",
       "                [35.889114, 139.971802],\n",
       "                {}\n",
       "            ).addTo(marker_cluster_3b3250dace59432a581fd95f93448708);\n",
       "        \n",
       "    \n",
       "            marker_56f30ad50a92127ed3f6fbd9f725593e.bindTooltip(\n",
       "                `&lt;div&gt;\n",
       "                     70歳以上\n",
       "                 &lt;/div&gt;`,\n",
       "                {&quot;sticky&quot;: true}\n",
       "            );\n",
       "        \n",
       "    \n",
       "            var marker_6c437bce8b6926dbbb5567cb2c2febf4 = L.marker(\n",
       "                [35.889473, 139.966446],\n",
       "                {}\n",
       "            ).addTo(marker_cluster_3b3250dace59432a581fd95f93448708);\n",
       "        \n",
       "    \n",
       "            marker_6c437bce8b6926dbbb5567cb2c2febf4.bindTooltip(\n",
       "                `&lt;div&gt;\n",
       "                     40歳代\n",
       "                 &lt;/div&gt;`,\n",
       "                {&quot;sticky&quot;: true}\n",
       "            );\n",
       "        \n",
       "    \n",
       "            var marker_60bf7f8c395715f2bd2ead2de04ddf22 = L.marker(\n",
       "                [35.889473, 139.966446],\n",
       "                {}\n",
       "            ).addTo(marker_cluster_3b3250dace59432a581fd95f93448708);\n",
       "        \n",
       "    \n",
       "            marker_60bf7f8c395715f2bd2ead2de04ddf22.bindTooltip(\n",
       "                `&lt;div&gt;\n",
       "                     70歳以上\n",
       "                 &lt;/div&gt;`,\n",
       "                {&quot;sticky&quot;: true}\n",
       "            );\n",
       "        \n",
       "    \n",
       "            var marker_9223582ff7d953efa5ca77ec9217bccf = L.marker(\n",
       "                [35.891541, 139.968033],\n",
       "                {}\n",
       "            ).addTo(marker_cluster_3b3250dace59432a581fd95f93448708);\n",
       "        \n",
       "    \n",
       "            marker_9223582ff7d953efa5ca77ec9217bccf.bindTooltip(\n",
       "                `&lt;div&gt;\n",
       "                     50歳代\n",
       "                 &lt;/div&gt;`,\n",
       "                {&quot;sticky&quot;: true}\n",
       "            );\n",
       "        \n",
       "    \n",
       "            var marker_67c52b8c034ca3060b361d1e45cd9d0a = L.marker(\n",
       "                [35.880825, 139.967804],\n",
       "                {}\n",
       "            ).addTo(marker_cluster_3b3250dace59432a581fd95f93448708);\n",
       "        \n",
       "    \n",
       "            marker_67c52b8c034ca3060b361d1e45cd9d0a.bindTooltip(\n",
       "                `&lt;div&gt;\n",
       "                     40歳代\n",
       "                 &lt;/div&gt;`,\n",
       "                {&quot;sticky&quot;: true}\n",
       "            );\n",
       "        \n",
       "    \n",
       "            var marker_7952f2a4e19a2b3ded0a9dd00077e7c2 = L.marker(\n",
       "                [35.880825, 139.967804],\n",
       "                {}\n",
       "            ).addTo(marker_cluster_3b3250dace59432a581fd95f93448708);\n",
       "        \n",
       "    \n",
       "            marker_7952f2a4e19a2b3ded0a9dd00077e7c2.bindTooltip(\n",
       "                `&lt;div&gt;\n",
       "                     20歳代\n",
       "                 &lt;/div&gt;`,\n",
       "                {&quot;sticky&quot;: true}\n",
       "            );\n",
       "        \n",
       "    \n",
       "            var marker_a5dacd148b582aab168a981cc5009240 = L.marker(\n",
       "                [35.880825, 139.967804],\n",
       "                {}\n",
       "            ).addTo(marker_cluster_3b3250dace59432a581fd95f93448708);\n",
       "        \n",
       "    \n",
       "            marker_a5dacd148b582aab168a981cc5009240.bindTooltip(\n",
       "                `&lt;div&gt;\n",
       "                     10歳代\n",
       "                 &lt;/div&gt;`,\n",
       "                {&quot;sticky&quot;: true}\n",
       "            );\n",
       "        \n",
       "    \n",
       "            var marker_cc922cf0f6610ad57fdffdc628f03967 = L.marker(\n",
       "                [35.880825, 139.967804],\n",
       "                {}\n",
       "            ).addTo(marker_cluster_3b3250dace59432a581fd95f93448708);\n",
       "        \n",
       "    \n",
       "            marker_cc922cf0f6610ad57fdffdc628f03967.bindTooltip(\n",
       "                `&lt;div&gt;\n",
       "                     10歳代\n",
       "                 &lt;/div&gt;`,\n",
       "                {&quot;sticky&quot;: true}\n",
       "            );\n",
       "        \n",
       "    \n",
       "            var marker_f8759b676e99d79df630fed7d72350cf = L.marker(\n",
       "                [35.88258, 139.969193],\n",
       "                {}\n",
       "            ).addTo(marker_cluster_3b3250dace59432a581fd95f93448708);\n",
       "        \n",
       "    \n",
       "            marker_f8759b676e99d79df630fed7d72350cf.bindTooltip(\n",
       "                `&lt;div&gt;\n",
       "                     40歳代\n",
       "                 &lt;/div&gt;`,\n",
       "                {&quot;sticky&quot;: true}\n",
       "            );\n",
       "        \n",
       "    \n",
       "            var marker_ad5b9cd3afa6f6d5bf3fd1fee2c8696a = L.marker(\n",
       "                [35.88258, 139.969193],\n",
       "                {}\n",
       "            ).addTo(marker_cluster_3b3250dace59432a581fd95f93448708);\n",
       "        \n",
       "    \n",
       "            marker_ad5b9cd3afa6f6d5bf3fd1fee2c8696a.bindTooltip(\n",
       "                `&lt;div&gt;\n",
       "                     10歳代\n",
       "                 &lt;/div&gt;`,\n",
       "                {&quot;sticky&quot;: true}\n",
       "            );\n",
       "        \n",
       "    \n",
       "            var marker_3cbd82203b382653bdc85a78ec7f0813 = L.marker(\n",
       "                [35.88258, 139.969193],\n",
       "                {}\n",
       "            ).addTo(marker_cluster_3b3250dace59432a581fd95f93448708);\n",
       "        \n",
       "    \n",
       "            marker_3cbd82203b382653bdc85a78ec7f0813.bindTooltip(\n",
       "                `&lt;div&gt;\n",
       "                     20歳代\n",
       "                 &lt;/div&gt;`,\n",
       "                {&quot;sticky&quot;: true}\n",
       "            );\n",
       "        \n",
       "    \n",
       "            var marker_273c1420dd35f18c972841ca2696d726 = L.marker(\n",
       "                [35.88258, 139.969193],\n",
       "                {}\n",
       "            ).addTo(marker_cluster_3b3250dace59432a581fd95f93448708);\n",
       "        \n",
       "    \n",
       "            marker_273c1420dd35f18c972841ca2696d726.bindTooltip(\n",
       "                `&lt;div&gt;\n",
       "                     10歳代\n",
       "                 &lt;/div&gt;`,\n",
       "                {&quot;sticky&quot;: true}\n",
       "            );\n",
       "        \n",
       "    \n",
       "            var marker_cc9ab3bf755201776944e578319f6d22 = L.marker(\n",
       "                [35.88258, 139.969193],\n",
       "                {}\n",
       "            ).addTo(marker_cluster_3b3250dace59432a581fd95f93448708);\n",
       "        \n",
       "    \n",
       "            marker_cc9ab3bf755201776944e578319f6d22.bindTooltip(\n",
       "                `&lt;div&gt;\n",
       "                     10歳代\n",
       "                 &lt;/div&gt;`,\n",
       "                {&quot;sticky&quot;: true}\n",
       "            );\n",
       "        \n",
       "    \n",
       "            var marker_97b789f6c5c59cdf4821132a8a774e47 = L.marker(\n",
       "                [35.88258, 139.969193],\n",
       "                {}\n",
       "            ).addTo(marker_cluster_3b3250dace59432a581fd95f93448708);\n",
       "        \n",
       "    \n",
       "            marker_97b789f6c5c59cdf4821132a8a774e47.bindTooltip(\n",
       "                `&lt;div&gt;\n",
       "                     30歳代\n",
       "                 &lt;/div&gt;`,\n",
       "                {&quot;sticky&quot;: true}\n",
       "            );\n",
       "        \n",
       "    \n",
       "            var marker_947cc271780e3d16e8da297467c16344 = L.marker(\n",
       "                [35.88258, 139.969193],\n",
       "                {}\n",
       "            ).addTo(marker_cluster_3b3250dace59432a581fd95f93448708);\n",
       "        \n",
       "    \n",
       "            marker_947cc271780e3d16e8da297467c16344.bindTooltip(\n",
       "                `&lt;div&gt;\n",
       "                     法人・団体、被害者なし\n",
       "                 &lt;/div&gt;`,\n",
       "                {&quot;sticky&quot;: true}\n",
       "            );\n",
       "        \n",
       "    \n",
       "            var marker_52bcc9a03795456cbe51ec607e8ec8ab = L.marker(\n",
       "                [35.902401, 139.950058],\n",
       "                {}\n",
       "            ).addTo(marker_cluster_3b3250dace59432a581fd95f93448708);\n",
       "        \n",
       "    \n",
       "            marker_52bcc9a03795456cbe51ec607e8ec8ab.bindTooltip(\n",
       "                `&lt;div&gt;\n",
       "                     20歳代\n",
       "                 &lt;/div&gt;`,\n",
       "                {&quot;sticky&quot;: true}\n",
       "            );\n",
       "        \n",
       "    \n",
       "            var marker_284c0d28cf1586dad4b5652db08cd6b9 = L.marker(\n",
       "                [35.902401, 139.950058],\n",
       "                {}\n",
       "            ).addTo(marker_cluster_3b3250dace59432a581fd95f93448708);\n",
       "        \n",
       "    \n",
       "            marker_284c0d28cf1586dad4b5652db08cd6b9.bindTooltip(\n",
       "                `&lt;div&gt;\n",
       "                     30歳代\n",
       "                 &lt;/div&gt;`,\n",
       "                {&quot;sticky&quot;: true}\n",
       "            );\n",
       "        \n",
       "    \n",
       "            var marker_a80c7cfc02dc0299306a70bcddecbdf7 = L.marker(\n",
       "                [35.891659, 139.953995],\n",
       "                {}\n",
       "            ).addTo(marker_cluster_3b3250dace59432a581fd95f93448708);\n",
       "        \n",
       "    \n",
       "            marker_a80c7cfc02dc0299306a70bcddecbdf7.bindTooltip(\n",
       "                `&lt;div&gt;\n",
       "                     10歳代\n",
       "                 &lt;/div&gt;`,\n",
       "                {&quot;sticky&quot;: true}\n",
       "            );\n",
       "        \n",
       "    \n",
       "            var marker_b97f41e670716776a21d1c178e66cf48 = L.marker(\n",
       "                [35.891659, 139.953995],\n",
       "                {}\n",
       "            ).addTo(marker_cluster_3b3250dace59432a581fd95f93448708);\n",
       "        \n",
       "    \n",
       "            marker_b97f41e670716776a21d1c178e66cf48.bindTooltip(\n",
       "                `&lt;div&gt;\n",
       "                     10歳代\n",
       "                 &lt;/div&gt;`,\n",
       "                {&quot;sticky&quot;: true}\n",
       "            );\n",
       "        \n",
       "    \n",
       "            var marker_d22d460374494d31be7733398ea9445d = L.marker(\n",
       "                [35.891659, 139.953995],\n",
       "                {}\n",
       "            ).addTo(marker_cluster_3b3250dace59432a581fd95f93448708);\n",
       "        \n",
       "    \n",
       "            marker_d22d460374494d31be7733398ea9445d.bindTooltip(\n",
       "                `&lt;div&gt;\n",
       "                     10歳代\n",
       "                 &lt;/div&gt;`,\n",
       "                {&quot;sticky&quot;: true}\n",
       "            );\n",
       "        \n",
       "    \n",
       "            var marker_a5e728d07a8524620d072647a36bb111 = L.marker(\n",
       "                [35.891659, 139.953995],\n",
       "                {}\n",
       "            ).addTo(marker_cluster_3b3250dace59432a581fd95f93448708);\n",
       "        \n",
       "    \n",
       "            marker_a5e728d07a8524620d072647a36bb111.bindTooltip(\n",
       "                `&lt;div&gt;\n",
       "                     10歳代\n",
       "                 &lt;/div&gt;`,\n",
       "                {&quot;sticky&quot;: true}\n",
       "            );\n",
       "        \n",
       "    \n",
       "            var marker_583c4656b10a6271454ee7d1d97d46ff = L.marker(\n",
       "                [35.891659, 139.953995],\n",
       "                {}\n",
       "            ).addTo(marker_cluster_3b3250dace59432a581fd95f93448708);\n",
       "        \n",
       "    \n",
       "            marker_583c4656b10a6271454ee7d1d97d46ff.bindTooltip(\n",
       "                `&lt;div&gt;\n",
       "                     20歳代\n",
       "                 &lt;/div&gt;`,\n",
       "                {&quot;sticky&quot;: true}\n",
       "            );\n",
       "        \n",
       "    \n",
       "            var marker_1f73551110981f4f80167c0435d5f0fe = L.marker(\n",
       "                [35.891659, 139.953995],\n",
       "                {}\n",
       "            ).addTo(marker_cluster_3b3250dace59432a581fd95f93448708);\n",
       "        \n",
       "    \n",
       "            marker_1f73551110981f4f80167c0435d5f0fe.bindTooltip(\n",
       "                `&lt;div&gt;\n",
       "                     10歳代\n",
       "                 &lt;/div&gt;`,\n",
       "                {&quot;sticky&quot;: true}\n",
       "            );\n",
       "        \n",
       "    \n",
       "            var marker_075b84d1114e3ee06e7adb7d8057607b = L.marker(\n",
       "                [35.891659, 139.953995],\n",
       "                {}\n",
       "            ).addTo(marker_cluster_3b3250dace59432a581fd95f93448708);\n",
       "        \n",
       "    \n",
       "            marker_075b84d1114e3ee06e7adb7d8057607b.bindTooltip(\n",
       "                `&lt;div&gt;\n",
       "                     20歳代\n",
       "                 &lt;/div&gt;`,\n",
       "                {&quot;sticky&quot;: true}\n",
       "            );\n",
       "        \n",
       "    \n",
       "            var marker_10f409c571498efd79778c4b7fe6d984 = L.marker(\n",
       "                [35.891659, 139.953995],\n",
       "                {}\n",
       "            ).addTo(marker_cluster_3b3250dace59432a581fd95f93448708);\n",
       "        \n",
       "    \n",
       "            marker_10f409c571498efd79778c4b7fe6d984.bindTooltip(\n",
       "                `&lt;div&gt;\n",
       "                     40歳代\n",
       "                 &lt;/div&gt;`,\n",
       "                {&quot;sticky&quot;: true}\n",
       "            );\n",
       "        \n",
       "    \n",
       "            var marker_961a6eb8d2135d3db2a2b5b8147a7500 = L.marker(\n",
       "                [35.891659, 139.953995],\n",
       "                {}\n",
       "            ).addTo(marker_cluster_3b3250dace59432a581fd95f93448708);\n",
       "        \n",
       "    \n",
       "            marker_961a6eb8d2135d3db2a2b5b8147a7500.bindTooltip(\n",
       "                `&lt;div&gt;\n",
       "                     10歳代\n",
       "                 &lt;/div&gt;`,\n",
       "                {&quot;sticky&quot;: true}\n",
       "            );\n",
       "        \n",
       "    \n",
       "            var marker_de851110c3a640ea40ee2baee85d684f = L.marker(\n",
       "                [35.891659, 139.953995],\n",
       "                {}\n",
       "            ).addTo(marker_cluster_3b3250dace59432a581fd95f93448708);\n",
       "        \n",
       "    \n",
       "            marker_de851110c3a640ea40ee2baee85d684f.bindTooltip(\n",
       "                `&lt;div&gt;\n",
       "                     10歳代\n",
       "                 &lt;/div&gt;`,\n",
       "                {&quot;sticky&quot;: true}\n",
       "            );\n",
       "        \n",
       "    \n",
       "            var marker_e41af55b6e760083c4ee5b460d906b13 = L.marker(\n",
       "                [35.891659, 139.953995],\n",
       "                {}\n",
       "            ).addTo(marker_cluster_3b3250dace59432a581fd95f93448708);\n",
       "        \n",
       "    \n",
       "            marker_e41af55b6e760083c4ee5b460d906b13.bindTooltip(\n",
       "                `&lt;div&gt;\n",
       "                     30歳代\n",
       "                 &lt;/div&gt;`,\n",
       "                {&quot;sticky&quot;: true}\n",
       "            );\n",
       "        \n",
       "    \n",
       "            var marker_3a4891c2ec73c0c41ac38bcb2463c566 = L.marker(\n",
       "                [35.891659, 139.953995],\n",
       "                {}\n",
       "            ).addTo(marker_cluster_3b3250dace59432a581fd95f93448708);\n",
       "        \n",
       "    \n",
       "            marker_3a4891c2ec73c0c41ac38bcb2463c566.bindTooltip(\n",
       "                `&lt;div&gt;\n",
       "                     20歳代\n",
       "                 &lt;/div&gt;`,\n",
       "                {&quot;sticky&quot;: true}\n",
       "            );\n",
       "        \n",
       "    \n",
       "            var marker_1fd6512819e40b1e2480012706694e06 = L.marker(\n",
       "                [35.891659, 139.953995],\n",
       "                {}\n",
       "            ).addTo(marker_cluster_3b3250dace59432a581fd95f93448708);\n",
       "        \n",
       "    \n",
       "            marker_1fd6512819e40b1e2480012706694e06.bindTooltip(\n",
       "                `&lt;div&gt;\n",
       "                     10歳代\n",
       "                 &lt;/div&gt;`,\n",
       "                {&quot;sticky&quot;: true}\n",
       "            );\n",
       "        \n",
       "    \n",
       "            var marker_b078f2fd319a29bc9e75b6105585598c = L.marker(\n",
       "                [35.891659, 139.953995],\n",
       "                {}\n",
       "            ).addTo(marker_cluster_3b3250dace59432a581fd95f93448708);\n",
       "        \n",
       "    \n",
       "            marker_b078f2fd319a29bc9e75b6105585598c.bindTooltip(\n",
       "                `&lt;div&gt;\n",
       "                     20歳代\n",
       "                 &lt;/div&gt;`,\n",
       "                {&quot;sticky&quot;: true}\n",
       "            );\n",
       "        \n",
       "    \n",
       "            var marker_2efefa0ae74f68390afb84b4aee023b0 = L.marker(\n",
       "                [35.891659, 139.953995],\n",
       "                {}\n",
       "            ).addTo(marker_cluster_3b3250dace59432a581fd95f93448708);\n",
       "        \n",
       "    \n",
       "            marker_2efefa0ae74f68390afb84b4aee023b0.bindTooltip(\n",
       "                `&lt;div&gt;\n",
       "                     40歳代\n",
       "                 &lt;/div&gt;`,\n",
       "                {&quot;sticky&quot;: true}\n",
       "            );\n",
       "        \n",
       "    \n",
       "            var marker_deed7d2e8770b224aa920107439f5db3 = L.marker(\n",
       "                [35.891659, 139.953995],\n",
       "                {}\n",
       "            ).addTo(marker_cluster_3b3250dace59432a581fd95f93448708);\n",
       "        \n",
       "    \n",
       "            marker_deed7d2e8770b224aa920107439f5db3.bindTooltip(\n",
       "                `&lt;div&gt;\n",
       "                     10歳代\n",
       "                 &lt;/div&gt;`,\n",
       "                {&quot;sticky&quot;: true}\n",
       "            );\n",
       "        \n",
       "    \n",
       "            var marker_ba422d7e39491c29c4824c393f84bdf1 = L.marker(\n",
       "                [35.891659, 139.953995],\n",
       "                {}\n",
       "            ).addTo(marker_cluster_3b3250dace59432a581fd95f93448708);\n",
       "        \n",
       "    \n",
       "            marker_ba422d7e39491c29c4824c393f84bdf1.bindTooltip(\n",
       "                `&lt;div&gt;\n",
       "                     10歳代\n",
       "                 &lt;/div&gt;`,\n",
       "                {&quot;sticky&quot;: true}\n",
       "            );\n",
       "        \n",
       "    \n",
       "            var marker_ec35bcf9f806ebdd16bbe729304b4fab = L.marker(\n",
       "                [35.891659, 139.953995],\n",
       "                {}\n",
       "            ).addTo(marker_cluster_3b3250dace59432a581fd95f93448708);\n",
       "        \n",
       "    \n",
       "            marker_ec35bcf9f806ebdd16bbe729304b4fab.bindTooltip(\n",
       "                `&lt;div&gt;\n",
       "                     40歳代\n",
       "                 &lt;/div&gt;`,\n",
       "                {&quot;sticky&quot;: true}\n",
       "            );\n",
       "        \n",
       "    \n",
       "            var marker_6d1868990e4f8fd09b013f0cf9cad78c = L.marker(\n",
       "                [35.891659, 139.953995],\n",
       "                {}\n",
       "            ).addTo(marker_cluster_3b3250dace59432a581fd95f93448708);\n",
       "        \n",
       "    \n",
       "            marker_6d1868990e4f8fd09b013f0cf9cad78c.bindTooltip(\n",
       "                `&lt;div&gt;\n",
       "                     20歳代\n",
       "                 &lt;/div&gt;`,\n",
       "                {&quot;sticky&quot;: true}\n",
       "            );\n",
       "        \n",
       "    \n",
       "            var marker_3f0cb934886ce3b69fabb5d69e3b5cb1 = L.marker(\n",
       "                [35.891659, 139.953995],\n",
       "                {}\n",
       "            ).addTo(marker_cluster_3b3250dace59432a581fd95f93448708);\n",
       "        \n",
       "    \n",
       "            marker_3f0cb934886ce3b69fabb5d69e3b5cb1.bindTooltip(\n",
       "                `&lt;div&gt;\n",
       "                     10歳代\n",
       "                 &lt;/div&gt;`,\n",
       "                {&quot;sticky&quot;: true}\n",
       "            );\n",
       "        \n",
       "    \n",
       "            var marker_12089acf160f4b4cf9d1242406412a20 = L.marker(\n",
       "                [35.891659, 139.953995],\n",
       "                {}\n",
       "            ).addTo(marker_cluster_3b3250dace59432a581fd95f93448708);\n",
       "        \n",
       "    \n",
       "            marker_12089acf160f4b4cf9d1242406412a20.bindTooltip(\n",
       "                `&lt;div&gt;\n",
       "                     20歳代\n",
       "                 &lt;/div&gt;`,\n",
       "                {&quot;sticky&quot;: true}\n",
       "            );\n",
       "        \n",
       "    \n",
       "            var marker_91f25ad86e642090d442227bdad8ec48 = L.marker(\n",
       "                [35.891659, 139.953995],\n",
       "                {}\n",
       "            ).addTo(marker_cluster_3b3250dace59432a581fd95f93448708);\n",
       "        \n",
       "    \n",
       "            marker_91f25ad86e642090d442227bdad8ec48.bindTooltip(\n",
       "                `&lt;div&gt;\n",
       "                     20歳代\n",
       "                 &lt;/div&gt;`,\n",
       "                {&quot;sticky&quot;: true}\n",
       "            );\n",
       "        \n",
       "    \n",
       "            var marker_fe6f013f5ed05d72e1babc11bf2c1ef3 = L.marker(\n",
       "                [35.896427, 139.937088],\n",
       "                {}\n",
       "            ).addTo(marker_cluster_3b3250dace59432a581fd95f93448708);\n",
       "        \n",
       "    \n",
       "            marker_fe6f013f5ed05d72e1babc11bf2c1ef3.bindTooltip(\n",
       "                `&lt;div&gt;\n",
       "                     30歳代\n",
       "                 &lt;/div&gt;`,\n",
       "                {&quot;sticky&quot;: true}\n",
       "            );\n",
       "        \n",
       "    \n",
       "            var marker_b6ac37f60aab47fb9c61337f152d0a13 = L.marker(\n",
       "                [35.896942, 139.944931],\n",
       "                {}\n",
       "            ).addTo(marker_cluster_3b3250dace59432a581fd95f93448708);\n",
       "        \n",
       "    \n",
       "            marker_b6ac37f60aab47fb9c61337f152d0a13.bindTooltip(\n",
       "                `&lt;div&gt;\n",
       "                     20歳代\n",
       "                 &lt;/div&gt;`,\n",
       "                {&quot;sticky&quot;: true}\n",
       "            );\n",
       "        \n",
       "    \n",
       "            var marker_917b9a0da3b9c9a2dfd111a3bf22ade2 = L.marker(\n",
       "                [35.857388, 139.97847],\n",
       "                {}\n",
       "            ).addTo(marker_cluster_3b3250dace59432a581fd95f93448708);\n",
       "        \n",
       "    \n",
       "            marker_917b9a0da3b9c9a2dfd111a3bf22ade2.bindTooltip(\n",
       "                `&lt;div&gt;\n",
       "                     20歳代\n",
       "                 &lt;/div&gt;`,\n",
       "                {&quot;sticky&quot;: true}\n",
       "            );\n",
       "        \n",
       "    \n",
       "            var marker_485041e9dfa2868064ec588cf90edf60 = L.marker(\n",
       "                [35.859604, 139.977722],\n",
       "                {}\n",
       "            ).addTo(marker_cluster_3b3250dace59432a581fd95f93448708);\n",
       "        \n",
       "    \n",
       "            marker_485041e9dfa2868064ec588cf90edf60.bindTooltip(\n",
       "                `&lt;div&gt;\n",
       "                     30歳代\n",
       "                 &lt;/div&gt;`,\n",
       "                {&quot;sticky&quot;: true}\n",
       "            );\n",
       "        \n",
       "    \n",
       "            var marker_461cccc3ccea6c983e5220a9fab327c1 = L.marker(\n",
       "                [35.859604, 139.977722],\n",
       "                {}\n",
       "            ).addTo(marker_cluster_3b3250dace59432a581fd95f93448708);\n",
       "        \n",
       "    \n",
       "            marker_461cccc3ccea6c983e5220a9fab327c1.bindTooltip(\n",
       "                `&lt;div&gt;\n",
       "                     20歳代\n",
       "                 &lt;/div&gt;`,\n",
       "                {&quot;sticky&quot;: true}\n",
       "            );\n",
       "        \n",
       "    \n",
       "            var marker_5f8f3e51609d58d21f6f7a2fe5050c4e = L.marker(\n",
       "                [35.856449, 139.967957],\n",
       "                {}\n",
       "            ).addTo(marker_cluster_3b3250dace59432a581fd95f93448708);\n",
       "        \n",
       "    \n",
       "            marker_5f8f3e51609d58d21f6f7a2fe5050c4e.bindTooltip(\n",
       "                `&lt;div&gt;\n",
       "                     10歳代\n",
       "                 &lt;/div&gt;`,\n",
       "                {&quot;sticky&quot;: true}\n",
       "            );\n",
       "        \n",
       "    \n",
       "            var marker_192d63bfd50b8d89a97dd798d9f5b71e = L.marker(\n",
       "                [35.856449, 139.967957],\n",
       "                {}\n",
       "            ).addTo(marker_cluster_3b3250dace59432a581fd95f93448708);\n",
       "        \n",
       "    \n",
       "            marker_192d63bfd50b8d89a97dd798d9f5b71e.bindTooltip(\n",
       "                `&lt;div&gt;\n",
       "                     10歳代\n",
       "                 &lt;/div&gt;`,\n",
       "                {&quot;sticky&quot;: true}\n",
       "            );\n",
       "        \n",
       "    \n",
       "            var marker_097702447b2160e25e90c299d574ae90 = L.marker(\n",
       "                [35.856449, 139.967957],\n",
       "                {}\n",
       "            ).addTo(marker_cluster_3b3250dace59432a581fd95f93448708);\n",
       "        \n",
       "    \n",
       "            marker_097702447b2160e25e90c299d574ae90.bindTooltip(\n",
       "                `&lt;div&gt;\n",
       "                     10歳代\n",
       "                 &lt;/div&gt;`,\n",
       "                {&quot;sticky&quot;: true}\n",
       "            );\n",
       "        \n",
       "    \n",
       "            var marker_35f81eab0dbde96c97916def3255b1f0 = L.marker(\n",
       "                [35.856449, 139.967957],\n",
       "                {}\n",
       "            ).addTo(marker_cluster_3b3250dace59432a581fd95f93448708);\n",
       "        \n",
       "    \n",
       "            marker_35f81eab0dbde96c97916def3255b1f0.bindTooltip(\n",
       "                `&lt;div&gt;\n",
       "                     10歳代\n",
       "                 &lt;/div&gt;`,\n",
       "                {&quot;sticky&quot;: true}\n",
       "            );\n",
       "        \n",
       "    \n",
       "            var marker_d9d2f6fe0c6359541ffa792968c05452 = L.marker(\n",
       "                [35.864445, 139.986511],\n",
       "                {}\n",
       "            ).addTo(marker_cluster_3b3250dace59432a581fd95f93448708);\n",
       "        \n",
       "    \n",
       "            marker_d9d2f6fe0c6359541ffa792968c05452.bindTooltip(\n",
       "                `&lt;div&gt;\n",
       "                     40歳代\n",
       "                 &lt;/div&gt;`,\n",
       "                {&quot;sticky&quot;: true}\n",
       "            );\n",
       "        \n",
       "    \n",
       "            var marker_1a1cdcdd0644a56638dd0320f59c742e = L.marker(\n",
       "                [35.864445, 139.986511],\n",
       "                {}\n",
       "            ).addTo(marker_cluster_3b3250dace59432a581fd95f93448708);\n",
       "        \n",
       "    \n",
       "            marker_1a1cdcdd0644a56638dd0320f59c742e.bindTooltip(\n",
       "                `&lt;div&gt;\n",
       "                     10歳代\n",
       "                 &lt;/div&gt;`,\n",
       "                {&quot;sticky&quot;: true}\n",
       "            );\n",
       "        \n",
       "    \n",
       "            var marker_cd194a67a1d16dd5c3e3336054319160 = L.marker(\n",
       "                [35.864445, 139.986511],\n",
       "                {}\n",
       "            ).addTo(marker_cluster_3b3250dace59432a581fd95f93448708);\n",
       "        \n",
       "    \n",
       "            marker_cd194a67a1d16dd5c3e3336054319160.bindTooltip(\n",
       "                `&lt;div&gt;\n",
       "                     10歳代\n",
       "                 &lt;/div&gt;`,\n",
       "                {&quot;sticky&quot;: true}\n",
       "            );\n",
       "        \n",
       "    \n",
       "            var marker_3d0ac8275211590a56371a46b93cddb0 = L.marker(\n",
       "                [35.864445, 139.986511],\n",
       "                {}\n",
       "            ).addTo(marker_cluster_3b3250dace59432a581fd95f93448708);\n",
       "        \n",
       "    \n",
       "            marker_3d0ac8275211590a56371a46b93cddb0.bindTooltip(\n",
       "                `&lt;div&gt;\n",
       "                     10歳代\n",
       "                 &lt;/div&gt;`,\n",
       "                {&quot;sticky&quot;: true}\n",
       "            );\n",
       "        \n",
       "    \n",
       "            var marker_92738321e30baebb31b289528f0e0ae9 = L.marker(\n",
       "                [35.864445, 139.986511],\n",
       "                {}\n",
       "            ).addTo(marker_cluster_3b3250dace59432a581fd95f93448708);\n",
       "        \n",
       "    \n",
       "            marker_92738321e30baebb31b289528f0e0ae9.bindTooltip(\n",
       "                `&lt;div&gt;\n",
       "                     10歳代\n",
       "                 &lt;/div&gt;`,\n",
       "                {&quot;sticky&quot;: true}\n",
       "            );\n",
       "        \n",
       "    \n",
       "            var marker_5d1feff11dc059af097a094349f8323f = L.marker(\n",
       "                [35.864445, 139.986511],\n",
       "                {}\n",
       "            ).addTo(marker_cluster_3b3250dace59432a581fd95f93448708);\n",
       "        \n",
       "    \n",
       "            marker_5d1feff11dc059af097a094349f8323f.bindTooltip(\n",
       "                `&lt;div&gt;\n",
       "                     20歳代\n",
       "                 &lt;/div&gt;`,\n",
       "                {&quot;sticky&quot;: true}\n",
       "            );\n",
       "        \n",
       "    \n",
       "            var marker_7b118648292cc834f7bfebd07cec0ca6 = L.marker(\n",
       "                [35.861809, 139.97142],\n",
       "                {}\n",
       "            ).addTo(marker_cluster_3b3250dace59432a581fd95f93448708);\n",
       "        \n",
       "    \n",
       "            marker_7b118648292cc834f7bfebd07cec0ca6.bindTooltip(\n",
       "                `&lt;div&gt;\n",
       "                     40歳代\n",
       "                 &lt;/div&gt;`,\n",
       "                {&quot;sticky&quot;: true}\n",
       "            );\n",
       "        \n",
       "    \n",
       "            var marker_fecba8c31d2b5c6b6b7d324350dd8e50 = L.marker(\n",
       "                [35.861809, 139.97142],\n",
       "                {}\n",
       "            ).addTo(marker_cluster_3b3250dace59432a581fd95f93448708);\n",
       "        \n",
       "    \n",
       "            marker_fecba8c31d2b5c6b6b7d324350dd8e50.bindTooltip(\n",
       "                `&lt;div&gt;\n",
       "                     30歳代\n",
       "                 &lt;/div&gt;`,\n",
       "                {&quot;sticky&quot;: true}\n",
       "            );\n",
       "        \n",
       "    \n",
       "            var marker_d2821e10646f609a4a2184fbe5c7e206 = L.marker(\n",
       "                [35.861809, 139.97142],\n",
       "                {}\n",
       "            ).addTo(marker_cluster_3b3250dace59432a581fd95f93448708);\n",
       "        \n",
       "    \n",
       "            marker_d2821e10646f609a4a2184fbe5c7e206.bindTooltip(\n",
       "                `&lt;div&gt;\n",
       "                     20歳代\n",
       "                 &lt;/div&gt;`,\n",
       "                {&quot;sticky&quot;: true}\n",
       "            );\n",
       "        \n",
       "    \n",
       "            var marker_16047334ca752d66c9e33c62ad3114c5 = L.marker(\n",
       "                [35.861809, 139.97142],\n",
       "                {}\n",
       "            ).addTo(marker_cluster_3b3250dace59432a581fd95f93448708);\n",
       "        \n",
       "    \n",
       "            marker_16047334ca752d66c9e33c62ad3114c5.bindTooltip(\n",
       "                `&lt;div&gt;\n",
       "                     30歳代\n",
       "                 &lt;/div&gt;`,\n",
       "                {&quot;sticky&quot;: true}\n",
       "            );\n",
       "        \n",
       "    \n",
       "            var marker_946383d606f48ea54655d328301b9a3f = L.marker(\n",
       "                [35.861809, 139.97142],\n",
       "                {}\n",
       "            ).addTo(marker_cluster_3b3250dace59432a581fd95f93448708);\n",
       "        \n",
       "    \n",
       "            marker_946383d606f48ea54655d328301b9a3f.bindTooltip(\n",
       "                `&lt;div&gt;\n",
       "                     40歳代\n",
       "                 &lt;/div&gt;`,\n",
       "                {&quot;sticky&quot;: true}\n",
       "            );\n",
       "        \n",
       "    \n",
       "            var marker_7060cb9424cb1a803a0639dbc995fdcb = L.marker(\n",
       "                [35.861809, 139.97142],\n",
       "                {}\n",
       "            ).addTo(marker_cluster_3b3250dace59432a581fd95f93448708);\n",
       "        \n",
       "    \n",
       "            marker_7060cb9424cb1a803a0639dbc995fdcb.bindTooltip(\n",
       "                `&lt;div&gt;\n",
       "                     60-64歳\n",
       "                 &lt;/div&gt;`,\n",
       "                {&quot;sticky&quot;: true}\n",
       "            );\n",
       "        \n",
       "    \n",
       "            var marker_b6c0540ce9b8b3298a3b0ecb3e236a98 = L.marker(\n",
       "                [35.861809, 139.97142],\n",
       "                {}\n",
       "            ).addTo(marker_cluster_3b3250dace59432a581fd95f93448708);\n",
       "        \n",
       "    \n",
       "            marker_b6c0540ce9b8b3298a3b0ecb3e236a98.bindTooltip(\n",
       "                `&lt;div&gt;\n",
       "                     10歳代\n",
       "                 &lt;/div&gt;`,\n",
       "                {&quot;sticky&quot;: true}\n",
       "            );\n",
       "        \n",
       "    \n",
       "            var marker_d888a282d22eead8e9d54989728f35c0 = L.marker(\n",
       "                [35.861809, 139.97142],\n",
       "                {}\n",
       "            ).addTo(marker_cluster_3b3250dace59432a581fd95f93448708);\n",
       "        \n",
       "    \n",
       "            marker_d888a282d22eead8e9d54989728f35c0.bindTooltip(\n",
       "                `&lt;div&gt;\n",
       "                     20歳代\n",
       "                 &lt;/div&gt;`,\n",
       "                {&quot;sticky&quot;: true}\n",
       "            );\n",
       "        \n",
       "    \n",
       "            var marker_e859549ff605beac7faf75bdb038c13a = L.marker(\n",
       "                [35.861809, 139.97142],\n",
       "                {}\n",
       "            ).addTo(marker_cluster_3b3250dace59432a581fd95f93448708);\n",
       "        \n",
       "    \n",
       "            marker_e859549ff605beac7faf75bdb038c13a.bindTooltip(\n",
       "                `&lt;div&gt;\n",
       "                     20歳代\n",
       "                 &lt;/div&gt;`,\n",
       "                {&quot;sticky&quot;: true}\n",
       "            );\n",
       "        \n",
       "    \n",
       "            var marker_b0a26245e9db5d90975c31aadd223a35 = L.marker(\n",
       "                [35.861809, 139.97142],\n",
       "                {}\n",
       "            ).addTo(marker_cluster_3b3250dace59432a581fd95f93448708);\n",
       "        \n",
       "    \n",
       "            marker_b0a26245e9db5d90975c31aadd223a35.bindTooltip(\n",
       "                `&lt;div&gt;\n",
       "                     30歳代\n",
       "                 &lt;/div&gt;`,\n",
       "                {&quot;sticky&quot;: true}\n",
       "            );\n",
       "        \n",
       "    \n",
       "            var marker_c64a9f73566a2add4adde85584148cfe = L.marker(\n",
       "                [35.861809, 139.97142],\n",
       "                {}\n",
       "            ).addTo(marker_cluster_3b3250dace59432a581fd95f93448708);\n",
       "        \n",
       "    \n",
       "            marker_c64a9f73566a2add4adde85584148cfe.bindTooltip(\n",
       "                `&lt;div&gt;\n",
       "                     20歳代\n",
       "                 &lt;/div&gt;`,\n",
       "                {&quot;sticky&quot;: true}\n",
       "            );\n",
       "        \n",
       "    \n",
       "            var marker_4b4cad706b55871fc8cfbe9cbb8f1619 = L.marker(\n",
       "                [35.861809, 139.97142],\n",
       "                {}\n",
       "            ).addTo(marker_cluster_3b3250dace59432a581fd95f93448708);\n",
       "        \n",
       "    \n",
       "            marker_4b4cad706b55871fc8cfbe9cbb8f1619.bindTooltip(\n",
       "                `&lt;div&gt;\n",
       "                     70歳以上\n",
       "                 &lt;/div&gt;`,\n",
       "                {&quot;sticky&quot;: true}\n",
       "            );\n",
       "        \n",
       "    \n",
       "            var marker_e6f4a92edf8f5388e1067cdaa71f2daa = L.marker(\n",
       "                [35.861694, 139.973999],\n",
       "                {}\n",
       "            ).addTo(marker_cluster_3b3250dace59432a581fd95f93448708);\n",
       "        \n",
       "    \n",
       "            marker_e6f4a92edf8f5388e1067cdaa71f2daa.bindTooltip(\n",
       "                `&lt;div&gt;\n",
       "                     70歳以上\n",
       "                 &lt;/div&gt;`,\n",
       "                {&quot;sticky&quot;: true}\n",
       "            );\n",
       "        \n",
       "    \n",
       "            var marker_cfb3fdc5ef9c81290488b6ed6189ebb7 = L.marker(\n",
       "                [35.861694, 139.973999],\n",
       "                {}\n",
       "            ).addTo(marker_cluster_3b3250dace59432a581fd95f93448708);\n",
       "        \n",
       "    \n",
       "            marker_cfb3fdc5ef9c81290488b6ed6189ebb7.bindTooltip(\n",
       "                `&lt;div&gt;\n",
       "                     20歳代\n",
       "                 &lt;/div&gt;`,\n",
       "                {&quot;sticky&quot;: true}\n",
       "            );\n",
       "        \n",
       "    \n",
       "            var marker_70d4f05898ec2e9c6f8bc6284602e0d9 = L.marker(\n",
       "                [35.861694, 139.973999],\n",
       "                {}\n",
       "            ).addTo(marker_cluster_3b3250dace59432a581fd95f93448708);\n",
       "        \n",
       "    \n",
       "            marker_70d4f05898ec2e9c6f8bc6284602e0d9.bindTooltip(\n",
       "                `&lt;div&gt;\n",
       "                     20歳代\n",
       "                 &lt;/div&gt;`,\n",
       "                {&quot;sticky&quot;: true}\n",
       "            );\n",
       "        \n",
       "    \n",
       "            var marker_976e2135eaac033df26a9d73367c7bac = L.marker(\n",
       "                [35.861694, 139.973999],\n",
       "                {}\n",
       "            ).addTo(marker_cluster_3b3250dace59432a581fd95f93448708);\n",
       "        \n",
       "    \n",
       "            marker_976e2135eaac033df26a9d73367c7bac.bindTooltip(\n",
       "                `&lt;div&gt;\n",
       "                     30歳代\n",
       "                 &lt;/div&gt;`,\n",
       "                {&quot;sticky&quot;: true}\n",
       "            );\n",
       "        \n",
       "    \n",
       "            var marker_03c6465eb69788093f738a6425b70f5b = L.marker(\n",
       "                [35.861694, 139.973999],\n",
       "                {}\n",
       "            ).addTo(marker_cluster_3b3250dace59432a581fd95f93448708);\n",
       "        \n",
       "    \n",
       "            marker_03c6465eb69788093f738a6425b70f5b.bindTooltip(\n",
       "                `&lt;div&gt;\n",
       "                     30歳代\n",
       "                 &lt;/div&gt;`,\n",
       "                {&quot;sticky&quot;: true}\n",
       "            );\n",
       "        \n",
       "    \n",
       "            var marker_31fc381e585d8fe25893733c70883b52 = L.marker(\n",
       "                [35.861694, 139.973999],\n",
       "                {}\n",
       "            ).addTo(marker_cluster_3b3250dace59432a581fd95f93448708);\n",
       "        \n",
       "    \n",
       "            marker_31fc381e585d8fe25893733c70883b52.bindTooltip(\n",
       "                `&lt;div&gt;\n",
       "                     20歳代\n",
       "                 &lt;/div&gt;`,\n",
       "                {&quot;sticky&quot;: true}\n",
       "            );\n",
       "        \n",
       "    \n",
       "            var marker_3410611c25b4db4e0696d91c495c458e = L.marker(\n",
       "                [35.860302, 139.975159],\n",
       "                {}\n",
       "            ).addTo(marker_cluster_3b3250dace59432a581fd95f93448708);\n",
       "        \n",
       "    \n",
       "            marker_3410611c25b4db4e0696d91c495c458e.bindTooltip(\n",
       "                `&lt;div&gt;\n",
       "                     70歳以上\n",
       "                 &lt;/div&gt;`,\n",
       "                {&quot;sticky&quot;: true}\n",
       "            );\n",
       "        \n",
       "    \n",
       "            var marker_8ea1f8d5a46287a5990bcc059b2f8e8c = L.marker(\n",
       "                [35.860302, 139.975159],\n",
       "                {}\n",
       "            ).addTo(marker_cluster_3b3250dace59432a581fd95f93448708);\n",
       "        \n",
       "    \n",
       "            marker_8ea1f8d5a46287a5990bcc059b2f8e8c.bindTooltip(\n",
       "                `&lt;div&gt;\n",
       "                     20歳代\n",
       "                 &lt;/div&gt;`,\n",
       "                {&quot;sticky&quot;: true}\n",
       "            );\n",
       "        \n",
       "    \n",
       "            var marker_d5d3bc69eb4dc2dc1b96d934f4c8b718 = L.marker(\n",
       "                [35.860302, 139.975159],\n",
       "                {}\n",
       "            ).addTo(marker_cluster_3b3250dace59432a581fd95f93448708);\n",
       "        \n",
       "    \n",
       "            marker_d5d3bc69eb4dc2dc1b96d934f4c8b718.bindTooltip(\n",
       "                `&lt;div&gt;\n",
       "                     10歳代\n",
       "                 &lt;/div&gt;`,\n",
       "                {&quot;sticky&quot;: true}\n",
       "            );\n",
       "        \n",
       "    \n",
       "            var marker_0de3e6706195af611b6026563fb7e4e0 = L.marker(\n",
       "                [35.860302, 139.975159],\n",
       "                {}\n",
       "            ).addTo(marker_cluster_3b3250dace59432a581fd95f93448708);\n",
       "        \n",
       "    \n",
       "            marker_0de3e6706195af611b6026563fb7e4e0.bindTooltip(\n",
       "                `&lt;div&gt;\n",
       "                     20歳代\n",
       "                 &lt;/div&gt;`,\n",
       "                {&quot;sticky&quot;: true}\n",
       "            );\n",
       "        \n",
       "    \n",
       "            var marker_d89115628e5428e5f845c57ee65f3d4c = L.marker(\n",
       "                [35.860302, 139.975159],\n",
       "                {}\n",
       "            ).addTo(marker_cluster_3b3250dace59432a581fd95f93448708);\n",
       "        \n",
       "    \n",
       "            marker_d89115628e5428e5f845c57ee65f3d4c.bindTooltip(\n",
       "                `&lt;div&gt;\n",
       "                     30歳代\n",
       "                 &lt;/div&gt;`,\n",
       "                {&quot;sticky&quot;: true}\n",
       "            );\n",
       "        \n",
       "    \n",
       "            var marker_f74b77201c80c881d63a0d9e6cdcea1f = L.marker(\n",
       "                [35.860302, 139.975159],\n",
       "                {}\n",
       "            ).addTo(marker_cluster_3b3250dace59432a581fd95f93448708);\n",
       "        \n",
       "    \n",
       "            marker_f74b77201c80c881d63a0d9e6cdcea1f.bindTooltip(\n",
       "                `&lt;div&gt;\n",
       "                     20歳代\n",
       "                 &lt;/div&gt;`,\n",
       "                {&quot;sticky&quot;: true}\n",
       "            );\n",
       "        \n",
       "    \n",
       "            var marker_edd6373fede353c297886bd771a807c3 = L.marker(\n",
       "                [35.860302, 139.975159],\n",
       "                {}\n",
       "            ).addTo(marker_cluster_3b3250dace59432a581fd95f93448708);\n",
       "        \n",
       "    \n",
       "            marker_edd6373fede353c297886bd771a807c3.bindTooltip(\n",
       "                `&lt;div&gt;\n",
       "                     20歳代\n",
       "                 &lt;/div&gt;`,\n",
       "                {&quot;sticky&quot;: true}\n",
       "            );\n",
       "        \n",
       "    \n",
       "            var marker_f972a0df11a2cb63b142c875de722522 = L.marker(\n",
       "                [35.860302, 139.975159],\n",
       "                {}\n",
       "            ).addTo(marker_cluster_3b3250dace59432a581fd95f93448708);\n",
       "        \n",
       "    \n",
       "            marker_f972a0df11a2cb63b142c875de722522.bindTooltip(\n",
       "                `&lt;div&gt;\n",
       "                     60-64歳\n",
       "                 &lt;/div&gt;`,\n",
       "                {&quot;sticky&quot;: true}\n",
       "            );\n",
       "        \n",
       "    \n",
       "            var marker_d0e0d862314faafe6db3736d9ea2c25f = L.marker(\n",
       "                [35.863529, 139.974228],\n",
       "                {}\n",
       "            ).addTo(marker_cluster_3b3250dace59432a581fd95f93448708);\n",
       "        \n",
       "    \n",
       "            marker_d0e0d862314faafe6db3736d9ea2c25f.bindTooltip(\n",
       "                `&lt;div&gt;\n",
       "                     20歳代\n",
       "                 &lt;/div&gt;`,\n",
       "                {&quot;sticky&quot;: true}\n",
       "            );\n",
       "        \n",
       "    \n",
       "            var marker_ab7525114cc0a995133bfbd4a35cb776 = L.marker(\n",
       "                [35.863529, 139.974228],\n",
       "                {}\n",
       "            ).addTo(marker_cluster_3b3250dace59432a581fd95f93448708);\n",
       "        \n",
       "    \n",
       "            marker_ab7525114cc0a995133bfbd4a35cb776.bindTooltip(\n",
       "                `&lt;div&gt;\n",
       "                     10歳代\n",
       "                 &lt;/div&gt;`,\n",
       "                {&quot;sticky&quot;: true}\n",
       "            );\n",
       "        \n",
       "    \n",
       "            var marker_d16708da84232f2041100faa9fe26bf3 = L.marker(\n",
       "                [35.863529, 139.974228],\n",
       "                {}\n",
       "            ).addTo(marker_cluster_3b3250dace59432a581fd95f93448708);\n",
       "        \n",
       "    \n",
       "            marker_d16708da84232f2041100faa9fe26bf3.bindTooltip(\n",
       "                `&lt;div&gt;\n",
       "                     10歳代\n",
       "                 &lt;/div&gt;`,\n",
       "                {&quot;sticky&quot;: true}\n",
       "            );\n",
       "        \n",
       "    \n",
       "            var marker_f0459cbf6f78fff6bcd02fed4dcb41cb = L.marker(\n",
       "                [35.863529, 139.974228],\n",
       "                {}\n",
       "            ).addTo(marker_cluster_3b3250dace59432a581fd95f93448708);\n",
       "        \n",
       "    \n",
       "            marker_f0459cbf6f78fff6bcd02fed4dcb41cb.bindTooltip(\n",
       "                `&lt;div&gt;\n",
       "                     50歳代\n",
       "                 &lt;/div&gt;`,\n",
       "                {&quot;sticky&quot;: true}\n",
       "            );\n",
       "        \n",
       "    \n",
       "            var marker_d742aebc0975cd8c06b043f67640da30 = L.marker(\n",
       "                [35.863529, 139.974228],\n",
       "                {}\n",
       "            ).addTo(marker_cluster_3b3250dace59432a581fd95f93448708);\n",
       "        \n",
       "    \n",
       "            marker_d742aebc0975cd8c06b043f67640da30.bindTooltip(\n",
       "                `&lt;div&gt;\n",
       "                     10歳代\n",
       "                 &lt;/div&gt;`,\n",
       "                {&quot;sticky&quot;: true}\n",
       "            );\n",
       "        \n",
       "    \n",
       "            var marker_f77dd1806181307e7d48f8ab9a71e13e = L.marker(\n",
       "                [35.866447, 139.97612],\n",
       "                {}\n",
       "            ).addTo(marker_cluster_3b3250dace59432a581fd95f93448708);\n",
       "        \n",
       "    \n",
       "            marker_f77dd1806181307e7d48f8ab9a71e13e.bindTooltip(\n",
       "                `&lt;div&gt;\n",
       "                     10歳代\n",
       "                 &lt;/div&gt;`,\n",
       "                {&quot;sticky&quot;: true}\n",
       "            );\n",
       "        \n",
       "    \n",
       "            var marker_fa30da579637fe3a6c246587eae2fa23 = L.marker(\n",
       "                [35.866447, 139.97612],\n",
       "                {}\n",
       "            ).addTo(marker_cluster_3b3250dace59432a581fd95f93448708);\n",
       "        \n",
       "    \n",
       "            marker_fa30da579637fe3a6c246587eae2fa23.bindTooltip(\n",
       "                `&lt;div&gt;\n",
       "                     10歳代\n",
       "                 &lt;/div&gt;`,\n",
       "                {&quot;sticky&quot;: true}\n",
       "            );\n",
       "        \n",
       "    \n",
       "            var marker_4ab3e358e94e1a00c5bb8f5d035aace0 = L.marker(\n",
       "                [35.866447, 139.97612],\n",
       "                {}\n",
       "            ).addTo(marker_cluster_3b3250dace59432a581fd95f93448708);\n",
       "        \n",
       "    \n",
       "            marker_4ab3e358e94e1a00c5bb8f5d035aace0.bindTooltip(\n",
       "                `&lt;div&gt;\n",
       "                     10歳代\n",
       "                 &lt;/div&gt;`,\n",
       "                {&quot;sticky&quot;: true}\n",
       "            );\n",
       "        \n",
       "    \n",
       "            var marker_2f84af8ca0a71448495316e1e99ff1c1 = L.marker(\n",
       "                [35.866447, 139.97612],\n",
       "                {}\n",
       "            ).addTo(marker_cluster_3b3250dace59432a581fd95f93448708);\n",
       "        \n",
       "    \n",
       "            marker_2f84af8ca0a71448495316e1e99ff1c1.bindTooltip(\n",
       "                `&lt;div&gt;\n",
       "                     10歳代\n",
       "                 &lt;/div&gt;`,\n",
       "                {&quot;sticky&quot;: true}\n",
       "            );\n",
       "        \n",
       "    \n",
       "            var marker_e310fdceb63619390c632d0c928396a7 = L.marker(\n",
       "                [35.866447, 139.97612],\n",
       "                {}\n",
       "            ).addTo(marker_cluster_3b3250dace59432a581fd95f93448708);\n",
       "        \n",
       "    \n",
       "            marker_e310fdceb63619390c632d0c928396a7.bindTooltip(\n",
       "                `&lt;div&gt;\n",
       "                     20歳代\n",
       "                 &lt;/div&gt;`,\n",
       "                {&quot;sticky&quot;: true}\n",
       "            );\n",
       "        \n",
       "    \n",
       "            var marker_e099a4e10c14ac8b5aecda223ce5e12b = L.marker(\n",
       "                [35.866447, 139.97612],\n",
       "                {}\n",
       "            ).addTo(marker_cluster_3b3250dace59432a581fd95f93448708);\n",
       "        \n",
       "    \n",
       "            marker_e099a4e10c14ac8b5aecda223ce5e12b.bindTooltip(\n",
       "                `&lt;div&gt;\n",
       "                     20歳代\n",
       "                 &lt;/div&gt;`,\n",
       "                {&quot;sticky&quot;: true}\n",
       "            );\n",
       "        \n",
       "    \n",
       "            var marker_969dccbeedbc95168a0e107857f55e81 = L.marker(\n",
       "                [35.866447, 139.97612],\n",
       "                {}\n",
       "            ).addTo(marker_cluster_3b3250dace59432a581fd95f93448708);\n",
       "        \n",
       "    \n",
       "            marker_969dccbeedbc95168a0e107857f55e81.bindTooltip(\n",
       "                `&lt;div&gt;\n",
       "                     20歳代\n",
       "                 &lt;/div&gt;`,\n",
       "                {&quot;sticky&quot;: true}\n",
       "            );\n",
       "        \n",
       "    \n",
       "            var marker_0d76b412d2aec6543baab115c833150d = L.marker(\n",
       "                [35.866447, 139.97612],\n",
       "                {}\n",
       "            ).addTo(marker_cluster_3b3250dace59432a581fd95f93448708);\n",
       "        \n",
       "    \n",
       "            marker_0d76b412d2aec6543baab115c833150d.bindTooltip(\n",
       "                `&lt;div&gt;\n",
       "                     10歳代\n",
       "                 &lt;/div&gt;`,\n",
       "                {&quot;sticky&quot;: true}\n",
       "            );\n",
       "        \n",
       "    \n",
       "            var marker_3720c53676188cbdcc0a71b90784f797 = L.marker(\n",
       "                [35.866447, 139.97612],\n",
       "                {}\n",
       "            ).addTo(marker_cluster_3b3250dace59432a581fd95f93448708);\n",
       "        \n",
       "    \n",
       "            marker_3720c53676188cbdcc0a71b90784f797.bindTooltip(\n",
       "                `&lt;div&gt;\n",
       "                     20歳代\n",
       "                 &lt;/div&gt;`,\n",
       "                {&quot;sticky&quot;: true}\n",
       "            );\n",
       "        \n",
       "    \n",
       "            var marker_1c270d558b4031cded228793b5e8e394 = L.marker(\n",
       "                [35.866447, 139.97612],\n",
       "                {}\n",
       "            ).addTo(marker_cluster_3b3250dace59432a581fd95f93448708);\n",
       "        \n",
       "    \n",
       "            marker_1c270d558b4031cded228793b5e8e394.bindTooltip(\n",
       "                `&lt;div&gt;\n",
       "                     10歳代\n",
       "                 &lt;/div&gt;`,\n",
       "                {&quot;sticky&quot;: true}\n",
       "            );\n",
       "        \n",
       "    \n",
       "            var marker_8e60eed15fbe8dd62a9d4c80c4f3f7c2 = L.marker(\n",
       "                [35.864346, 139.977219],\n",
       "                {}\n",
       "            ).addTo(marker_cluster_3b3250dace59432a581fd95f93448708);\n",
       "        \n",
       "    \n",
       "            marker_8e60eed15fbe8dd62a9d4c80c4f3f7c2.bindTooltip(\n",
       "                `&lt;div&gt;\n",
       "                     40歳代\n",
       "                 &lt;/div&gt;`,\n",
       "                {&quot;sticky&quot;: true}\n",
       "            );\n",
       "        \n",
       "    \n",
       "            var marker_d334ffa813329f6cec420f8bc80fcd74 = L.marker(\n",
       "                [35.864346, 139.977219],\n",
       "                {}\n",
       "            ).addTo(marker_cluster_3b3250dace59432a581fd95f93448708);\n",
       "        \n",
       "    \n",
       "            marker_d334ffa813329f6cec420f8bc80fcd74.bindTooltip(\n",
       "                `&lt;div&gt;\n",
       "                     20歳代\n",
       "                 &lt;/div&gt;`,\n",
       "                {&quot;sticky&quot;: true}\n",
       "            );\n",
       "        \n",
       "    \n",
       "            var marker_88f3369527ac594bf173c93c83d2a9ae = L.marker(\n",
       "                [35.864346, 139.977219],\n",
       "                {}\n",
       "            ).addTo(marker_cluster_3b3250dace59432a581fd95f93448708);\n",
       "        \n",
       "    \n",
       "            marker_88f3369527ac594bf173c93c83d2a9ae.bindTooltip(\n",
       "                `&lt;div&gt;\n",
       "                     40歳代\n",
       "                 &lt;/div&gt;`,\n",
       "                {&quot;sticky&quot;: true}\n",
       "            );\n",
       "        \n",
       "    \n",
       "            var marker_901a03701ff67e065a1926fc79f56523 = L.marker(\n",
       "                [35.864346, 139.977219],\n",
       "                {}\n",
       "            ).addTo(marker_cluster_3b3250dace59432a581fd95f93448708);\n",
       "        \n",
       "    \n",
       "            marker_901a03701ff67e065a1926fc79f56523.bindTooltip(\n",
       "                `&lt;div&gt;\n",
       "                     30歳代\n",
       "                 &lt;/div&gt;`,\n",
       "                {&quot;sticky&quot;: true}\n",
       "            );\n",
       "        \n",
       "    \n",
       "            var marker_d8423bf3dadbc1789762582c377bf9b2 = L.marker(\n",
       "                [35.862926, 139.97995],\n",
       "                {}\n",
       "            ).addTo(marker_cluster_3b3250dace59432a581fd95f93448708);\n",
       "        \n",
       "    \n",
       "            marker_d8423bf3dadbc1789762582c377bf9b2.bindTooltip(\n",
       "                `&lt;div&gt;\n",
       "                     20歳代\n",
       "                 &lt;/div&gt;`,\n",
       "                {&quot;sticky&quot;: true}\n",
       "            );\n",
       "        \n",
       "    \n",
       "            var marker_42c2fb7722075b29cdb8f32db60d7cc4 = L.marker(\n",
       "                [35.860554, 139.981522],\n",
       "                {}\n",
       "            ).addTo(marker_cluster_3b3250dace59432a581fd95f93448708);\n",
       "        \n",
       "    \n",
       "            marker_42c2fb7722075b29cdb8f32db60d7cc4.bindTooltip(\n",
       "                `&lt;div&gt;\n",
       "                     20歳代\n",
       "                 &lt;/div&gt;`,\n",
       "                {&quot;sticky&quot;: true}\n",
       "            );\n",
       "        \n",
       "    \n",
       "            var marker_3c06e1df5ce607fce0df12f064c88883 = L.marker(\n",
       "                [35.860554, 139.981522],\n",
       "                {}\n",
       "            ).addTo(marker_cluster_3b3250dace59432a581fd95f93448708);\n",
       "        \n",
       "    \n",
       "            marker_3c06e1df5ce607fce0df12f064c88883.bindTooltip(\n",
       "                `&lt;div&gt;\n",
       "                     30歳代\n",
       "                 &lt;/div&gt;`,\n",
       "                {&quot;sticky&quot;: true}\n",
       "            );\n",
       "        \n",
       "    \n",
       "            var marker_6afe4a08cac38f327ca10d6fc194b1da = L.marker(\n",
       "                [35.862904, 139.970398],\n",
       "                {}\n",
       "            ).addTo(marker_cluster_3b3250dace59432a581fd95f93448708);\n",
       "        \n",
       "    \n",
       "            marker_6afe4a08cac38f327ca10d6fc194b1da.bindTooltip(\n",
       "                `&lt;div&gt;\n",
       "                     20歳代\n",
       "                 &lt;/div&gt;`,\n",
       "                {&quot;sticky&quot;: true}\n",
       "            );\n",
       "        \n",
       "    \n",
       "            var marker_60bc3cbdd62771ec0f895f306a04e135 = L.marker(\n",
       "                [35.857903, 139.972931],\n",
       "                {}\n",
       "            ).addTo(marker_cluster_3b3250dace59432a581fd95f93448708);\n",
       "        \n",
       "    \n",
       "            marker_60bc3cbdd62771ec0f895f306a04e135.bindTooltip(\n",
       "                `&lt;div&gt;\n",
       "                     10歳代\n",
       "                 &lt;/div&gt;`,\n",
       "                {&quot;sticky&quot;: true}\n",
       "            );\n",
       "        \n",
       "    \n",
       "            var marker_80af68b65530ce91430ed94abc87f73e = L.marker(\n",
       "                [35.855583, 139.972137],\n",
       "                {}\n",
       "            ).addTo(marker_cluster_3b3250dace59432a581fd95f93448708);\n",
       "        \n",
       "    \n",
       "            marker_80af68b65530ce91430ed94abc87f73e.bindTooltip(\n",
       "                `&lt;div&gt;\n",
       "                     20歳代\n",
       "                 &lt;/div&gt;`,\n",
       "                {&quot;sticky&quot;: true}\n",
       "            );\n",
       "        \n",
       "    \n",
       "            var marker_0f9f42980bfc4506f772a4c9ec98aad0 = L.marker(\n",
       "                [35.855583, 139.972137],\n",
       "                {}\n",
       "            ).addTo(marker_cluster_3b3250dace59432a581fd95f93448708);\n",
       "        \n",
       "    \n",
       "            marker_0f9f42980bfc4506f772a4c9ec98aad0.bindTooltip(\n",
       "                `&lt;div&gt;\n",
       "                     10歳代\n",
       "                 &lt;/div&gt;`,\n",
       "                {&quot;sticky&quot;: true}\n",
       "            );\n",
       "        \n",
       "    \n",
       "            var marker_ccf068afd0c001540b08c98e143c38fc = L.marker(\n",
       "                [35.855583, 139.972137],\n",
       "                {}\n",
       "            ).addTo(marker_cluster_3b3250dace59432a581fd95f93448708);\n",
       "        \n",
       "    \n",
       "            marker_ccf068afd0c001540b08c98e143c38fc.bindTooltip(\n",
       "                `&lt;div&gt;\n",
       "                     20歳代\n",
       "                 &lt;/div&gt;`,\n",
       "                {&quot;sticky&quot;: true}\n",
       "            );\n",
       "        \n",
       "    \n",
       "            var marker_8779b8042a3a596036f864822f81205c = L.marker(\n",
       "                [35.855583, 139.972137],\n",
       "                {}\n",
       "            ).addTo(marker_cluster_3b3250dace59432a581fd95f93448708);\n",
       "        \n",
       "    \n",
       "            marker_8779b8042a3a596036f864822f81205c.bindTooltip(\n",
       "                `&lt;div&gt;\n",
       "                     30歳代\n",
       "                 &lt;/div&gt;`,\n",
       "                {&quot;sticky&quot;: true}\n",
       "            );\n",
       "        \n",
       "    \n",
       "            var marker_d5ce67e6aed6301c05a511b514020bc0 = L.marker(\n",
       "                [35.859303, 139.970566],\n",
       "                {}\n",
       "            ).addTo(marker_cluster_3b3250dace59432a581fd95f93448708);\n",
       "        \n",
       "    \n",
       "            marker_d5ce67e6aed6301c05a511b514020bc0.bindTooltip(\n",
       "                `&lt;div&gt;\n",
       "                     60-64歳\n",
       "                 &lt;/div&gt;`,\n",
       "                {&quot;sticky&quot;: true}\n",
       "            );\n",
       "        \n",
       "    \n",
       "            var marker_dddaaefff000ad22c326e317b2767991 = L.marker(\n",
       "                [35.859303, 139.970566],\n",
       "                {}\n",
       "            ).addTo(marker_cluster_3b3250dace59432a581fd95f93448708);\n",
       "        \n",
       "    \n",
       "            marker_dddaaefff000ad22c326e317b2767991.bindTooltip(\n",
       "                `&lt;div&gt;\n",
       "                     30歳代\n",
       "                 &lt;/div&gt;`,\n",
       "                {&quot;sticky&quot;: true}\n",
       "            );\n",
       "        \n",
       "    \n",
       "            var marker_2f91498c364e77d94105fb8040646977 = L.marker(\n",
       "                [35.859303, 139.970566],\n",
       "                {}\n",
       "            ).addTo(marker_cluster_3b3250dace59432a581fd95f93448708);\n",
       "        \n",
       "    \n",
       "            marker_2f91498c364e77d94105fb8040646977.bindTooltip(\n",
       "                `&lt;div&gt;\n",
       "                     20歳代\n",
       "                 &lt;/div&gt;`,\n",
       "                {&quot;sticky&quot;: true}\n",
       "            );\n",
       "        \n",
       "    \n",
       "            var marker_61703ff03116763855563832b38f815d = L.marker(\n",
       "                [35.859303, 139.970566],\n",
       "                {}\n",
       "            ).addTo(marker_cluster_3b3250dace59432a581fd95f93448708);\n",
       "        \n",
       "    \n",
       "            marker_61703ff03116763855563832b38f815d.bindTooltip(\n",
       "                `&lt;div&gt;\n",
       "                     50歳代\n",
       "                 &lt;/div&gt;`,\n",
       "                {&quot;sticky&quot;: true}\n",
       "            );\n",
       "        \n",
       "    \n",
       "            var marker_5c2ca608a076f8a7ddd40cc076a4df8b = L.marker(\n",
       "                [35.859303, 139.970566],\n",
       "                {}\n",
       "            ).addTo(marker_cluster_3b3250dace59432a581fd95f93448708);\n",
       "        \n",
       "    \n",
       "            marker_5c2ca608a076f8a7ddd40cc076a4df8b.bindTooltip(\n",
       "                `&lt;div&gt;\n",
       "                     30歳代\n",
       "                 &lt;/div&gt;`,\n",
       "                {&quot;sticky&quot;: true}\n",
       "            );\n",
       "        \n",
       "    \n",
       "            var marker_17b760e5adf786f5df07a077acd471cf = L.marker(\n",
       "                [35.859303, 139.970566],\n",
       "                {}\n",
       "            ).addTo(marker_cluster_3b3250dace59432a581fd95f93448708);\n",
       "        \n",
       "    \n",
       "            marker_17b760e5adf786f5df07a077acd471cf.bindTooltip(\n",
       "                `&lt;div&gt;\n",
       "                     10歳代\n",
       "                 &lt;/div&gt;`,\n",
       "                {&quot;sticky&quot;: true}\n",
       "            );\n",
       "        \n",
       "    \n",
       "            var marker_b2f208fab6fb9f7ab81292a4bfc2dd5a = L.marker(\n",
       "                [35.859303, 139.970566],\n",
       "                {}\n",
       "            ).addTo(marker_cluster_3b3250dace59432a581fd95f93448708);\n",
       "        \n",
       "    \n",
       "            marker_b2f208fab6fb9f7ab81292a4bfc2dd5a.bindTooltip(\n",
       "                `&lt;div&gt;\n",
       "                     30歳代\n",
       "                 &lt;/div&gt;`,\n",
       "                {&quot;sticky&quot;: true}\n",
       "            );\n",
       "        \n",
       "    \n",
       "            var marker_fe47d1c102b4ffebdc83ac5150d587e5 = L.marker(\n",
       "                [35.859303, 139.970566],\n",
       "                {}\n",
       "            ).addTo(marker_cluster_3b3250dace59432a581fd95f93448708);\n",
       "        \n",
       "    \n",
       "            marker_fe47d1c102b4ffebdc83ac5150d587e5.bindTooltip(\n",
       "                `&lt;div&gt;\n",
       "                     10歳代\n",
       "                 &lt;/div&gt;`,\n",
       "                {&quot;sticky&quot;: true}\n",
       "            );\n",
       "        \n",
       "    \n",
       "            var marker_37cea5ff4b4153df8569255549e66a91 = L.marker(\n",
       "                [35.859303, 139.970566],\n",
       "                {}\n",
       "            ).addTo(marker_cluster_3b3250dace59432a581fd95f93448708);\n",
       "        \n",
       "    \n",
       "            marker_37cea5ff4b4153df8569255549e66a91.bindTooltip(\n",
       "                `&lt;div&gt;\n",
       "                     30歳代\n",
       "                 &lt;/div&gt;`,\n",
       "                {&quot;sticky&quot;: true}\n",
       "            );\n",
       "        \n",
       "    \n",
       "            var marker_0e6a72d8ec795cb5c84e64799f55b9a5 = L.marker(\n",
       "                [35.853264, 139.96521],\n",
       "                {}\n",
       "            ).addTo(marker_cluster_3b3250dace59432a581fd95f93448708);\n",
       "        \n",
       "    \n",
       "            marker_0e6a72d8ec795cb5c84e64799f55b9a5.bindTooltip(\n",
       "                `&lt;div&gt;\n",
       "                     40歳代\n",
       "                 &lt;/div&gt;`,\n",
       "                {&quot;sticky&quot;: true}\n",
       "            );\n",
       "        \n",
       "    \n",
       "            var marker_46183a1cf6cfb2b5d37c3a3df23b873e = L.marker(\n",
       "                [35.853264, 139.96521],\n",
       "                {}\n",
       "            ).addTo(marker_cluster_3b3250dace59432a581fd95f93448708);\n",
       "        \n",
       "    \n",
       "            marker_46183a1cf6cfb2b5d37c3a3df23b873e.bindTooltip(\n",
       "                `&lt;div&gt;\n",
       "                     40歳代\n",
       "                 &lt;/div&gt;`,\n",
       "                {&quot;sticky&quot;: true}\n",
       "            );\n",
       "        \n",
       "    \n",
       "            var marker_9b6b707d4db827fa350d51a003ed7a09 = L.marker(\n",
       "                [35.876255, 139.992081],\n",
       "                {}\n",
       "            ).addTo(marker_cluster_3b3250dace59432a581fd95f93448708);\n",
       "        \n",
       "    \n",
       "            marker_9b6b707d4db827fa350d51a003ed7a09.bindTooltip(\n",
       "                `&lt;div&gt;\n",
       "                     20歳代\n",
       "                 &lt;/div&gt;`,\n",
       "                {&quot;sticky&quot;: true}\n",
       "            );\n",
       "        \n",
       "    \n",
       "            var marker_1374650201ba27a43d13984705a4dd89 = L.marker(\n",
       "                [35.84705, 140.034134],\n",
       "                {}\n",
       "            ).addTo(marker_cluster_3b3250dace59432a581fd95f93448708);\n",
       "        \n",
       "    \n",
       "            marker_1374650201ba27a43d13984705a4dd89.bindTooltip(\n",
       "                `&lt;div&gt;\n",
       "                     10歳代\n",
       "                 &lt;/div&gt;`,\n",
       "                {&quot;sticky&quot;: true}\n",
       "            );\n",
       "        \n",
       "    \n",
       "            var marker_d0c429faa5126b25fae0738abf3bc725 = L.marker(\n",
       "                [35.858639, 139.983749],\n",
       "                {}\n",
       "            ).addTo(marker_cluster_3b3250dace59432a581fd95f93448708);\n",
       "        \n",
       "    \n",
       "            marker_d0c429faa5126b25fae0738abf3bc725.bindTooltip(\n",
       "                `&lt;div&gt;\n",
       "                     20歳代\n",
       "                 &lt;/div&gt;`,\n",
       "                {&quot;sticky&quot;: true}\n",
       "            );\n",
       "        \n",
       "    \n",
       "            var marker_3bed91f77206f82b617ff2fbfb75e1be = L.marker(\n",
       "                [35.844578, 139.968948],\n",
       "                {}\n",
       "            ).addTo(marker_cluster_3b3250dace59432a581fd95f93448708);\n",
       "        \n",
       "    \n",
       "            marker_3bed91f77206f82b617ff2fbfb75e1be.bindTooltip(\n",
       "                `&lt;div&gt;\n",
       "                     30歳代\n",
       "                 &lt;/div&gt;`,\n",
       "                {&quot;sticky&quot;: true}\n",
       "            );\n",
       "        \n",
       "    \n",
       "            var marker_455c48178fad06fca21b76268acb3c11 = L.marker(\n",
       "                [35.864445, 139.986511],\n",
       "                {}\n",
       "            ).addTo(marker_cluster_3b3250dace59432a581fd95f93448708);\n",
       "        \n",
       "    \n",
       "            marker_455c48178fad06fca21b76268acb3c11.bindTooltip(\n",
       "                `&lt;div&gt;\n",
       "                     30歳代\n",
       "                 &lt;/div&gt;`,\n",
       "                {&quot;sticky&quot;: true}\n",
       "            );\n",
       "        \n",
       "    \n",
       "            var marker_2718d9998162e992ca02a22c5259afa2 = L.marker(\n",
       "                [35.864445, 139.986511],\n",
       "                {}\n",
       "            ).addTo(marker_cluster_3b3250dace59432a581fd95f93448708);\n",
       "        \n",
       "    \n",
       "            marker_2718d9998162e992ca02a22c5259afa2.bindTooltip(\n",
       "                `&lt;div&gt;\n",
       "                     50歳代\n",
       "                 &lt;/div&gt;`,\n",
       "                {&quot;sticky&quot;: true}\n",
       "            );\n",
       "        \n",
       "    \n",
       "            var marker_bbec090c455feca0d6dc198689208a7e = L.marker(\n",
       "                [35.864445, 139.986511],\n",
       "                {}\n",
       "            ).addTo(marker_cluster_3b3250dace59432a581fd95f93448708);\n",
       "        \n",
       "    \n",
       "            marker_bbec090c455feca0d6dc198689208a7e.bindTooltip(\n",
       "                `&lt;div&gt;\n",
       "                     30歳代\n",
       "                 &lt;/div&gt;`,\n",
       "                {&quot;sticky&quot;: true}\n",
       "            );\n",
       "        \n",
       "    \n",
       "            var marker_ccee8d2b0b6a2f4e3dc44dd025749e7c = L.marker(\n",
       "                [35.864445, 139.986511],\n",
       "                {}\n",
       "            ).addTo(marker_cluster_3b3250dace59432a581fd95f93448708);\n",
       "        \n",
       "    \n",
       "            marker_ccee8d2b0b6a2f4e3dc44dd025749e7c.bindTooltip(\n",
       "                `&lt;div&gt;\n",
       "                     30歳代\n",
       "                 &lt;/div&gt;`,\n",
       "                {&quot;sticky&quot;: true}\n",
       "            );\n",
       "        \n",
       "    \n",
       "            var marker_a5cabae19646d561e4c9a37a21149337 = L.marker(\n",
       "                [35.860302, 139.975159],\n",
       "                {}\n",
       "            ).addTo(marker_cluster_3b3250dace59432a581fd95f93448708);\n",
       "        \n",
       "    \n",
       "            marker_a5cabae19646d561e4c9a37a21149337.bindTooltip(\n",
       "                `&lt;div&gt;\n",
       "                     50歳代\n",
       "                 &lt;/div&gt;`,\n",
       "                {&quot;sticky&quot;: true}\n",
       "            );\n",
       "        \n",
       "    \n",
       "            var marker_34b20a4dc013fc22b565ee203a6b98f7 = L.marker(\n",
       "                [35.850071, 139.983734],\n",
       "                {}\n",
       "            ).addTo(marker_cluster_3b3250dace59432a581fd95f93448708);\n",
       "        \n",
       "    \n",
       "            marker_34b20a4dc013fc22b565ee203a6b98f7.bindTooltip(\n",
       "                `&lt;div&gt;\n",
       "                     20歳代\n",
       "                 &lt;/div&gt;`,\n",
       "                {&quot;sticky&quot;: true}\n",
       "            );\n",
       "        \n",
       "    \n",
       "            var marker_89244a50c224f9d6f3660b83fc9c25fb = L.marker(\n",
       "                [35.850071, 139.983734],\n",
       "                {}\n",
       "            ).addTo(marker_cluster_3b3250dace59432a581fd95f93448708);\n",
       "        \n",
       "    \n",
       "            marker_89244a50c224f9d6f3660b83fc9c25fb.bindTooltip(\n",
       "                `&lt;div&gt;\n",
       "                     20歳代\n",
       "                 &lt;/div&gt;`,\n",
       "                {&quot;sticky&quot;: true}\n",
       "            );\n",
       "        \n",
       "    \n",
       "            var marker_31b0f4d3b68851a65bf288c6628bb039 = L.marker(\n",
       "                [35.856525, 139.976288],\n",
       "                {}\n",
       "            ).addTo(marker_cluster_3b3250dace59432a581fd95f93448708);\n",
       "        \n",
       "    \n",
       "            marker_31b0f4d3b68851a65bf288c6628bb039.bindTooltip(\n",
       "                `&lt;div&gt;\n",
       "                     20歳代\n",
       "                 &lt;/div&gt;`,\n",
       "                {&quot;sticky&quot;: true}\n",
       "            );\n",
       "        \n",
       "    \n",
       "            var marker_1866fa53e8146c254c2c36afb4bd09f0 = L.marker(\n",
       "                [35.853741, 139.975143],\n",
       "                {}\n",
       "            ).addTo(marker_cluster_3b3250dace59432a581fd95f93448708);\n",
       "        \n",
       "    \n",
       "            marker_1866fa53e8146c254c2c36afb4bd09f0.bindTooltip(\n",
       "                `&lt;div&gt;\n",
       "                     30歳代\n",
       "                 &lt;/div&gt;`,\n",
       "                {&quot;sticky&quot;: true}\n",
       "            );\n",
       "        \n",
       "    \n",
       "            var marker_477b45e9e3fcfd37f7ba983240cca1da = L.marker(\n",
       "                [35.853741, 139.975143],\n",
       "                {}\n",
       "            ).addTo(marker_cluster_3b3250dace59432a581fd95f93448708);\n",
       "        \n",
       "    \n",
       "            marker_477b45e9e3fcfd37f7ba983240cca1da.bindTooltip(\n",
       "                `&lt;div&gt;\n",
       "                     20歳代\n",
       "                 &lt;/div&gt;`,\n",
       "                {&quot;sticky&quot;: true}\n",
       "            );\n",
       "        \n",
       "    \n",
       "            var marker_548024ee37f2a467de43b3b002876df1 = L.marker(\n",
       "                [35.853741, 139.975143],\n",
       "                {}\n",
       "            ).addTo(marker_cluster_3b3250dace59432a581fd95f93448708);\n",
       "        \n",
       "    \n",
       "            marker_548024ee37f2a467de43b3b002876df1.bindTooltip(\n",
       "                `&lt;div&gt;\n",
       "                     10歳代\n",
       "                 &lt;/div&gt;`,\n",
       "                {&quot;sticky&quot;: true}\n",
       "            );\n",
       "        \n",
       "    \n",
       "            var marker_7fcdd4f2b76757781a59a4326a07ed32 = L.marker(\n",
       "                [35.853451, 139.977646],\n",
       "                {}\n",
       "            ).addTo(marker_cluster_3b3250dace59432a581fd95f93448708);\n",
       "        \n",
       "    \n",
       "            marker_7fcdd4f2b76757781a59a4326a07ed32.bindTooltip(\n",
       "                `&lt;div&gt;\n",
       "                     20歳代\n",
       "                 &lt;/div&gt;`,\n",
       "                {&quot;sticky&quot;: true}\n",
       "            );\n",
       "        \n",
       "    \n",
       "            var marker_5e7301b68647bbe655060b8cc69bcf2d = L.marker(\n",
       "                [35.83136, 139.96756],\n",
       "                {}\n",
       "            ).addTo(marker_cluster_3b3250dace59432a581fd95f93448708);\n",
       "        \n",
       "    \n",
       "            marker_5e7301b68647bbe655060b8cc69bcf2d.bindTooltip(\n",
       "                `&lt;div&gt;\n",
       "                     10歳代\n",
       "                 &lt;/div&gt;`,\n",
       "                {&quot;sticky&quot;: true}\n",
       "            );\n",
       "        \n",
       "    \n",
       "            var marker_45c3980d63c71c360dd1b6197bf8f375 = L.marker(\n",
       "                [35.856003, 139.993591],\n",
       "                {}\n",
       "            ).addTo(marker_cluster_3b3250dace59432a581fd95f93448708);\n",
       "        \n",
       "    \n",
       "            marker_45c3980d63c71c360dd1b6197bf8f375.bindTooltip(\n",
       "                `&lt;div&gt;\n",
       "                     10歳代\n",
       "                 &lt;/div&gt;`,\n",
       "                {&quot;sticky&quot;: true}\n",
       "            );\n",
       "        \n",
       "    \n",
       "            var marker_694a7e82fa62c3c309180b446d0a28e1 = L.marker(\n",
       "                [35.856003, 139.993591],\n",
       "                {}\n",
       "            ).addTo(marker_cluster_3b3250dace59432a581fd95f93448708);\n",
       "        \n",
       "    \n",
       "            marker_694a7e82fa62c3c309180b446d0a28e1.bindTooltip(\n",
       "                `&lt;div&gt;\n",
       "                     10歳代\n",
       "                 &lt;/div&gt;`,\n",
       "                {&quot;sticky&quot;: true}\n",
       "            );\n",
       "        \n",
       "    \n",
       "            var marker_c0582879b4c3b845b0093890fabe5519 = L.marker(\n",
       "                [35.856003, 139.993591],\n",
       "                {}\n",
       "            ).addTo(marker_cluster_3b3250dace59432a581fd95f93448708);\n",
       "        \n",
       "    \n",
       "            marker_c0582879b4c3b845b0093890fabe5519.bindTooltip(\n",
       "                `&lt;div&gt;\n",
       "                     法人・団体、被害者なし\n",
       "                 &lt;/div&gt;`,\n",
       "                {&quot;sticky&quot;: true}\n",
       "            );\n",
       "        \n",
       "    \n",
       "            var marker_e79c7c8bc2d8e03d88231fd26eadaf76 = L.marker(\n",
       "                [35.856003, 139.993591],\n",
       "                {}\n",
       "            ).addTo(marker_cluster_3b3250dace59432a581fd95f93448708);\n",
       "        \n",
       "    \n",
       "            marker_e79c7c8bc2d8e03d88231fd26eadaf76.bindTooltip(\n",
       "                `&lt;div&gt;\n",
       "                     40歳代\n",
       "                 &lt;/div&gt;`,\n",
       "                {&quot;sticky&quot;: true}\n",
       "            );\n",
       "        \n",
       "    \n",
       "            var marker_d19ca5a160f0c38af3e8a87f5547c871 = L.marker(\n",
       "                [35.891659, 139.953995],\n",
       "                {}\n",
       "            ).addTo(marker_cluster_3b3250dace59432a581fd95f93448708);\n",
       "        \n",
       "    \n",
       "            marker_d19ca5a160f0c38af3e8a87f5547c871.bindTooltip(\n",
       "                `&lt;div&gt;\n",
       "                     70歳以上\n",
       "                 &lt;/div&gt;`,\n",
       "                {&quot;sticky&quot;: true}\n",
       "            );\n",
       "        \n",
       "    \n",
       "            var marker_88add441021f776894949486f4536f46 = L.marker(\n",
       "                [35.85392, 139.971054],\n",
       "                {}\n",
       "            ).addTo(marker_cluster_3b3250dace59432a581fd95f93448708);\n",
       "        \n",
       "    \n",
       "            marker_88add441021f776894949486f4536f46.bindTooltip(\n",
       "                `&lt;div&gt;\n",
       "                     10歳代\n",
       "                 &lt;/div&gt;`,\n",
       "                {&quot;sticky&quot;: true}\n",
       "            );\n",
       "        \n",
       "    \n",
       "            var marker_d3c2c0418488f6879ea239e34a3d3ab7 = L.marker(\n",
       "                [35.85392, 139.971054],\n",
       "                {}\n",
       "            ).addTo(marker_cluster_3b3250dace59432a581fd95f93448708);\n",
       "        \n",
       "    \n",
       "            marker_d3c2c0418488f6879ea239e34a3d3ab7.bindTooltip(\n",
       "                `&lt;div&gt;\n",
       "                     50歳代\n",
       "                 &lt;/div&gt;`,\n",
       "                {&quot;sticky&quot;: true}\n",
       "            );\n",
       "        \n",
       "    \n",
       "            var marker_dd729517a8578bb762cf12157ef01489 = L.marker(\n",
       "                [35.85392, 139.971054],\n",
       "                {}\n",
       "            ).addTo(marker_cluster_3b3250dace59432a581fd95f93448708);\n",
       "        \n",
       "    \n",
       "            marker_dd729517a8578bb762cf12157ef01489.bindTooltip(\n",
       "                `&lt;div&gt;\n",
       "                     40歳代\n",
       "                 &lt;/div&gt;`,\n",
       "                {&quot;sticky&quot;: true}\n",
       "            );\n",
       "        \n",
       "    \n",
       "            var marker_666ff862ba58fae0431552a4c77876a7 = L.marker(\n",
       "                [35.85392, 139.971054],\n",
       "                {}\n",
       "            ).addTo(marker_cluster_3b3250dace59432a581fd95f93448708);\n",
       "        \n",
       "    \n",
       "            marker_666ff862ba58fae0431552a4c77876a7.bindTooltip(\n",
       "                `&lt;div&gt;\n",
       "                     30歳代\n",
       "                 &lt;/div&gt;`,\n",
       "                {&quot;sticky&quot;: true}\n",
       "            );\n",
       "        \n",
       "    \n",
       "            var marker_61fff16f207fd34719d1befde4e4df0d = L.marker(\n",
       "                [35.851498, 139.987534],\n",
       "                {}\n",
       "            ).addTo(marker_cluster_3b3250dace59432a581fd95f93448708);\n",
       "        \n",
       "    \n",
       "            marker_61fff16f207fd34719d1befde4e4df0d.bindTooltip(\n",
       "                `&lt;div&gt;\n",
       "                     20歳代\n",
       "                 &lt;/div&gt;`,\n",
       "                {&quot;sticky&quot;: true}\n",
       "            );\n",
       "        \n",
       "    \n",
       "            var marker_625f0d9afacb8e9d7bf39110f9db342a = L.marker(\n",
       "                [35.849293, 139.987366],\n",
       "                {}\n",
       "            ).addTo(marker_cluster_3b3250dace59432a581fd95f93448708);\n",
       "        \n",
       "    \n",
       "            marker_625f0d9afacb8e9d7bf39110f9db342a.bindTooltip(\n",
       "                `&lt;div&gt;\n",
       "                     10歳代\n",
       "                 &lt;/div&gt;`,\n",
       "                {&quot;sticky&quot;: true}\n",
       "            );\n",
       "        \n",
       "    \n",
       "            var marker_7fcf56681f1c016c9700a54b1feb3946 = L.marker(\n",
       "                [35.915867, 139.952377],\n",
       "                {}\n",
       "            ).addTo(marker_cluster_3b3250dace59432a581fd95f93448708);\n",
       "        \n",
       "    \n",
       "            marker_7fcf56681f1c016c9700a54b1feb3946.bindTooltip(\n",
       "                `&lt;div&gt;\n",
       "                     20歳代\n",
       "                 &lt;/div&gt;`,\n",
       "                {&quot;sticky&quot;: true}\n",
       "            );\n",
       "        \n",
       "    \n",
       "            var marker_9442be3fda992129da1ea70aa896c44e = L.marker(\n",
       "                [35.923737, 139.939484],\n",
       "                {}\n",
       "            ).addTo(marker_cluster_3b3250dace59432a581fd95f93448708);\n",
       "        \n",
       "    \n",
       "            marker_9442be3fda992129da1ea70aa896c44e.bindTooltip(\n",
       "                `&lt;div&gt;\n",
       "                     10歳代\n",
       "                 &lt;/div&gt;`,\n",
       "                {&quot;sticky&quot;: true}\n",
       "            );\n",
       "        \n",
       "    \n",
       "            var marker_8170e91fb03a62d4d28ad9d1fbca52b0 = L.marker(\n",
       "                [35.923737, 139.939484],\n",
       "                {}\n",
       "            ).addTo(marker_cluster_3b3250dace59432a581fd95f93448708);\n",
       "        \n",
       "    \n",
       "            marker_8170e91fb03a62d4d28ad9d1fbca52b0.bindTooltip(\n",
       "                `&lt;div&gt;\n",
       "                     10歳代\n",
       "                 &lt;/div&gt;`,\n",
       "                {&quot;sticky&quot;: true}\n",
       "            );\n",
       "        \n",
       "    \n",
       "            var marker_d9ef7f93343c7b4ff32aff037779b202 = L.marker(\n",
       "                [35.911968, 139.961746],\n",
       "                {}\n",
       "            ).addTo(marker_cluster_3b3250dace59432a581fd95f93448708);\n",
       "        \n",
       "    \n",
       "            marker_d9ef7f93343c7b4ff32aff037779b202.bindTooltip(\n",
       "                `&lt;div&gt;\n",
       "                     10歳代\n",
       "                 &lt;/div&gt;`,\n",
       "                {&quot;sticky&quot;: true}\n",
       "            );\n",
       "        \n",
       "    \n",
       "            var marker_1c642c9c7b1c40b71b0146c822881fd5 = L.marker(\n",
       "                [35.911968, 139.961746],\n",
       "                {}\n",
       "            ).addTo(marker_cluster_3b3250dace59432a581fd95f93448708);\n",
       "        \n",
       "    \n",
       "            marker_1c642c9c7b1c40b71b0146c822881fd5.bindTooltip(\n",
       "                `&lt;div&gt;\n",
       "                     10歳代\n",
       "                 &lt;/div&gt;`,\n",
       "                {&quot;sticky&quot;: true}\n",
       "            );\n",
       "        \n",
       "    \n",
       "            var marker_122117c9d0c51e1388727805cc10566e = L.marker(\n",
       "                [35.911968, 139.961746],\n",
       "                {}\n",
       "            ).addTo(marker_cluster_3b3250dace59432a581fd95f93448708);\n",
       "        \n",
       "    \n",
       "            marker_122117c9d0c51e1388727805cc10566e.bindTooltip(\n",
       "                `&lt;div&gt;\n",
       "                     30歳代\n",
       "                 &lt;/div&gt;`,\n",
       "                {&quot;sticky&quot;: true}\n",
       "            );\n",
       "        \n",
       "    \n",
       "            var marker_99cbb337af7a1930ff2c692064a42f5a = L.marker(\n",
       "                [35.911968, 139.961746],\n",
       "                {}\n",
       "            ).addTo(marker_cluster_3b3250dace59432a581fd95f93448708);\n",
       "        \n",
       "    \n",
       "            marker_99cbb337af7a1930ff2c692064a42f5a.bindTooltip(\n",
       "                `&lt;div&gt;\n",
       "                     20歳代\n",
       "                 &lt;/div&gt;`,\n",
       "                {&quot;sticky&quot;: true}\n",
       "            );\n",
       "        \n",
       "    \n",
       "            var marker_51999ea125022a8bcf7f685448d415d3 = L.marker(\n",
       "                [35.911968, 139.961746],\n",
       "                {}\n",
       "            ).addTo(marker_cluster_3b3250dace59432a581fd95f93448708);\n",
       "        \n",
       "    \n",
       "            marker_51999ea125022a8bcf7f685448d415d3.bindTooltip(\n",
       "                `&lt;div&gt;\n",
       "                     20歳代\n",
       "                 &lt;/div&gt;`,\n",
       "                {&quot;sticky&quot;: true}\n",
       "            );\n",
       "        \n",
       "    \n",
       "            var marker_65f4181e11cc672a7cec6147e4253122 = L.marker(\n",
       "                [35.911968, 139.961746],\n",
       "                {}\n",
       "            ).addTo(marker_cluster_3b3250dace59432a581fd95f93448708);\n",
       "        \n",
       "    \n",
       "            marker_65f4181e11cc672a7cec6147e4253122.bindTooltip(\n",
       "                `&lt;div&gt;\n",
       "                     40歳代\n",
       "                 &lt;/div&gt;`,\n",
       "                {&quot;sticky&quot;: true}\n",
       "            );\n",
       "        \n",
       "    \n",
       "            var marker_9da7943e158d6fceebeea5d15a3f6846 = L.marker(\n",
       "                [35.911968, 139.961746],\n",
       "                {}\n",
       "            ).addTo(marker_cluster_3b3250dace59432a581fd95f93448708);\n",
       "        \n",
       "    \n",
       "            marker_9da7943e158d6fceebeea5d15a3f6846.bindTooltip(\n",
       "                `&lt;div&gt;\n",
       "                     法人・団体、被害者なし\n",
       "                 &lt;/div&gt;`,\n",
       "                {&quot;sticky&quot;: true}\n",
       "            );\n",
       "        \n",
       "    \n",
       "            var marker_b9bb4a91b563b0e5f2b4efa1bd805bd0 = L.marker(\n",
       "                [35.911968, 139.961746],\n",
       "                {}\n",
       "            ).addTo(marker_cluster_3b3250dace59432a581fd95f93448708);\n",
       "        \n",
       "    \n",
       "            marker_b9bb4a91b563b0e5f2b4efa1bd805bd0.bindTooltip(\n",
       "                `&lt;div&gt;\n",
       "                     60-64歳\n",
       "                 &lt;/div&gt;`,\n",
       "                {&quot;sticky&quot;: true}\n",
       "            );\n",
       "        \n",
       "    \n",
       "            var marker_9ba35e21b05a58bada6f823b88c3825a = L.marker(\n",
       "                [35.916023, 139.956726],\n",
       "                {}\n",
       "            ).addTo(marker_cluster_3b3250dace59432a581fd95f93448708);\n",
       "        \n",
       "    \n",
       "            marker_9ba35e21b05a58bada6f823b88c3825a.bindTooltip(\n",
       "                `&lt;div&gt;\n",
       "                     10歳代\n",
       "                 &lt;/div&gt;`,\n",
       "                {&quot;sticky&quot;: true}\n",
       "            );\n",
       "        \n",
       "    \n",
       "            var marker_9135805fea3cb2240f0169b9e8d478af = L.marker(\n",
       "                [35.916023, 139.956726],\n",
       "                {}\n",
       "            ).addTo(marker_cluster_3b3250dace59432a581fd95f93448708);\n",
       "        \n",
       "    \n",
       "            marker_9135805fea3cb2240f0169b9e8d478af.bindTooltip(\n",
       "                `&lt;div&gt;\n",
       "                     10歳代\n",
       "                 &lt;/div&gt;`,\n",
       "                {&quot;sticky&quot;: true}\n",
       "            );\n",
       "        \n",
       "    \n",
       "            var marker_6e0ce1f76b8a673ffaeb6aa7f290c40e = L.marker(\n",
       "                [35.916023, 139.956726],\n",
       "                {}\n",
       "            ).addTo(marker_cluster_3b3250dace59432a581fd95f93448708);\n",
       "        \n",
       "    \n",
       "            marker_6e0ce1f76b8a673ffaeb6aa7f290c40e.bindTooltip(\n",
       "                `&lt;div&gt;\n",
       "                     10歳代\n",
       "                 &lt;/div&gt;`,\n",
       "                {&quot;sticky&quot;: true}\n",
       "            );\n",
       "        \n",
       "    \n",
       "            var marker_579e68ffd6ffc4b582663bfa4662110f = L.marker(\n",
       "                [35.915054, 139.959076],\n",
       "                {}\n",
       "            ).addTo(marker_cluster_3b3250dace59432a581fd95f93448708);\n",
       "        \n",
       "    \n",
       "            marker_579e68ffd6ffc4b582663bfa4662110f.bindTooltip(\n",
       "                `&lt;div&gt;\n",
       "                     10歳代\n",
       "                 &lt;/div&gt;`,\n",
       "                {&quot;sticky&quot;: true}\n",
       "            );\n",
       "        \n",
       "    \n",
       "            var marker_636491b9ff4be0099d06ecd53cca4600 = L.marker(\n",
       "                [35.915054, 139.959076],\n",
       "                {}\n",
       "            ).addTo(marker_cluster_3b3250dace59432a581fd95f93448708);\n",
       "        \n",
       "    \n",
       "            marker_636491b9ff4be0099d06ecd53cca4600.bindTooltip(\n",
       "                `&lt;div&gt;\n",
       "                     10歳代\n",
       "                 &lt;/div&gt;`,\n",
       "                {&quot;sticky&quot;: true}\n",
       "            );\n",
       "        \n",
       "    \n",
       "            var marker_a3c9cedee03b6c92e2a7834f5c6686c5 = L.marker(\n",
       "                [35.915054, 139.959076],\n",
       "                {}\n",
       "            ).addTo(marker_cluster_3b3250dace59432a581fd95f93448708);\n",
       "        \n",
       "    \n",
       "            marker_a3c9cedee03b6c92e2a7834f5c6686c5.bindTooltip(\n",
       "                `&lt;div&gt;\n",
       "                     10歳代\n",
       "                 &lt;/div&gt;`,\n",
       "                {&quot;sticky&quot;: true}\n",
       "            );\n",
       "        \n",
       "    \n",
       "            var marker_fa80ac3230647e24cf6aeeb62401cbfa = L.marker(\n",
       "                [35.915054, 139.959076],\n",
       "                {}\n",
       "            ).addTo(marker_cluster_3b3250dace59432a581fd95f93448708);\n",
       "        \n",
       "    \n",
       "            marker_fa80ac3230647e24cf6aeeb62401cbfa.bindTooltip(\n",
       "                `&lt;div&gt;\n",
       "                     10歳代\n",
       "                 &lt;/div&gt;`,\n",
       "                {&quot;sticky&quot;: true}\n",
       "            );\n",
       "        \n",
       "    \n",
       "            var marker_6498be03d5fd388c7b882f242dc693bb = L.marker(\n",
       "                [35.896736, 139.974243],\n",
       "                {}\n",
       "            ).addTo(marker_cluster_3b3250dace59432a581fd95f93448708);\n",
       "        \n",
       "    \n",
       "            marker_6498be03d5fd388c7b882f242dc693bb.bindTooltip(\n",
       "                `&lt;div&gt;\n",
       "                     40歳代\n",
       "                 &lt;/div&gt;`,\n",
       "                {&quot;sticky&quot;: true}\n",
       "            );\n",
       "        \n",
       "    \n",
       "            var marker_53fc59b9c0ff63159163001b7c1ffb09 = L.marker(\n",
       "                [35.896736, 139.974243],\n",
       "                {}\n",
       "            ).addTo(marker_cluster_3b3250dace59432a581fd95f93448708);\n",
       "        \n",
       "    \n",
       "            marker_53fc59b9c0ff63159163001b7c1ffb09.bindTooltip(\n",
       "                `&lt;div&gt;\n",
       "                     20歳代\n",
       "                 &lt;/div&gt;`,\n",
       "                {&quot;sticky&quot;: true}\n",
       "            );\n",
       "        \n",
       "    \n",
       "            var marker_296433650cf242a75ae7208d18369adf = L.marker(\n",
       "                [35.896736, 139.974243],\n",
       "                {}\n",
       "            ).addTo(marker_cluster_3b3250dace59432a581fd95f93448708);\n",
       "        \n",
       "    \n",
       "            marker_296433650cf242a75ae7208d18369adf.bindTooltip(\n",
       "                `&lt;div&gt;\n",
       "                     40歳代\n",
       "                 &lt;/div&gt;`,\n",
       "                {&quot;sticky&quot;: true}\n",
       "            );\n",
       "        \n",
       "    \n",
       "            var marker_a73362a78b13ec879364ccdbec969ec9 = L.marker(\n",
       "                [35.896736, 139.974243],\n",
       "                {}\n",
       "            ).addTo(marker_cluster_3b3250dace59432a581fd95f93448708);\n",
       "        \n",
       "    \n",
       "            marker_a73362a78b13ec879364ccdbec969ec9.bindTooltip(\n",
       "                `&lt;div&gt;\n",
       "                     60-64歳\n",
       "                 &lt;/div&gt;`,\n",
       "                {&quot;sticky&quot;: true}\n",
       "            );\n",
       "        \n",
       "    \n",
       "            var marker_8c76273441a40f178dec092769a4b98d = L.marker(\n",
       "                [35.868122, 139.943359],\n",
       "                {}\n",
       "            ).addTo(marker_cluster_3b3250dace59432a581fd95f93448708);\n",
       "        \n",
       "    \n",
       "            marker_8c76273441a40f178dec092769a4b98d.bindTooltip(\n",
       "                `&lt;div&gt;\n",
       "                     60-64歳\n",
       "                 &lt;/div&gt;`,\n",
       "                {&quot;sticky&quot;: true}\n",
       "            );\n",
       "        \n",
       "    \n",
       "            var marker_eeed39799e27ac1f1a1c548957936bd5 = L.marker(\n",
       "                [35.859928, 139.949814],\n",
       "                {}\n",
       "            ).addTo(marker_cluster_3b3250dace59432a581fd95f93448708);\n",
       "        \n",
       "    \n",
       "            marker_eeed39799e27ac1f1a1c548957936bd5.bindTooltip(\n",
       "                `&lt;div&gt;\n",
       "                     20歳代\n",
       "                 &lt;/div&gt;`,\n",
       "                {&quot;sticky&quot;: true}\n",
       "            );\n",
       "        \n",
       "    \n",
       "            var marker_53dab24f6c33ebd5fd87f0c788c8aaaf = L.marker(\n",
       "                [35.859928, 139.949814],\n",
       "                {}\n",
       "            ).addTo(marker_cluster_3b3250dace59432a581fd95f93448708);\n",
       "        \n",
       "    \n",
       "            marker_53dab24f6c33ebd5fd87f0c788c8aaaf.bindTooltip(\n",
       "                `&lt;div&gt;\n",
       "                     20歳代\n",
       "                 &lt;/div&gt;`,\n",
       "                {&quot;sticky&quot;: true}\n",
       "            );\n",
       "        \n",
       "    \n",
       "            var marker_1fb2bc36bc531bf0e4be10f42b783199 = L.marker(\n",
       "                [35.859928, 139.949814],\n",
       "                {}\n",
       "            ).addTo(marker_cluster_3b3250dace59432a581fd95f93448708);\n",
       "        \n",
       "    \n",
       "            marker_1fb2bc36bc531bf0e4be10f42b783199.bindTooltip(\n",
       "                `&lt;div&gt;\n",
       "                     40歳代\n",
       "                 &lt;/div&gt;`,\n",
       "                {&quot;sticky&quot;: true}\n",
       "            );\n",
       "        \n",
       "    \n",
       "            var marker_284dae2c22860d6f4a2a46b4f2ab2a3d = L.marker(\n",
       "                [35.859928, 139.949814],\n",
       "                {}\n",
       "            ).addTo(marker_cluster_3b3250dace59432a581fd95f93448708);\n",
       "        \n",
       "    \n",
       "            marker_284dae2c22860d6f4a2a46b4f2ab2a3d.bindTooltip(\n",
       "                `&lt;div&gt;\n",
       "                     10歳代\n",
       "                 &lt;/div&gt;`,\n",
       "                {&quot;sticky&quot;: true}\n",
       "            );\n",
       "        \n",
       "    \n",
       "            var marker_4b65242c0aa8fedbd6be88de5b530084 = L.marker(\n",
       "                [35.859928, 139.949814],\n",
       "                {}\n",
       "            ).addTo(marker_cluster_3b3250dace59432a581fd95f93448708);\n",
       "        \n",
       "    \n",
       "            marker_4b65242c0aa8fedbd6be88de5b530084.bindTooltip(\n",
       "                `&lt;div&gt;\n",
       "                     20歳代\n",
       "                 &lt;/div&gt;`,\n",
       "                {&quot;sticky&quot;: true}\n",
       "            );\n",
       "        \n",
       "    \n",
       "            var marker_c40c6475ef7931e41d0adabb477042db = L.marker(\n",
       "                [35.859928, 139.949814],\n",
       "                {}\n",
       "            ).addTo(marker_cluster_3b3250dace59432a581fd95f93448708);\n",
       "        \n",
       "    \n",
       "            marker_c40c6475ef7931e41d0adabb477042db.bindTooltip(\n",
       "                `&lt;div&gt;\n",
       "                     30歳代\n",
       "                 &lt;/div&gt;`,\n",
       "                {&quot;sticky&quot;: true}\n",
       "            );\n",
       "        \n",
       "    \n",
       "            var marker_60b9f8262788c280800f733e9c80af56 = L.marker(\n",
       "                [35.859928, 139.949814],\n",
       "                {}\n",
       "            ).addTo(marker_cluster_3b3250dace59432a581fd95f93448708);\n",
       "        \n",
       "    \n",
       "            marker_60b9f8262788c280800f733e9c80af56.bindTooltip(\n",
       "                `&lt;div&gt;\n",
       "                     20歳代\n",
       "                 &lt;/div&gt;`,\n",
       "                {&quot;sticky&quot;: true}\n",
       "            );\n",
       "        \n",
       "    \n",
       "            var marker_832ae6068053584c887f227a9aa141ad = L.marker(\n",
       "                [35.859928, 139.949814],\n",
       "                {}\n",
       "            ).addTo(marker_cluster_3b3250dace59432a581fd95f93448708);\n",
       "        \n",
       "    \n",
       "            marker_832ae6068053584c887f227a9aa141ad.bindTooltip(\n",
       "                `&lt;div&gt;\n",
       "                     10歳代\n",
       "                 &lt;/div&gt;`,\n",
       "                {&quot;sticky&quot;: true}\n",
       "            );\n",
       "        \n",
       "    \n",
       "            var marker_bc9cfd62816a666c6a5cfd0309db3771 = L.marker(\n",
       "                [35.854702, 139.957123],\n",
       "                {}\n",
       "            ).addTo(marker_cluster_3b3250dace59432a581fd95f93448708);\n",
       "        \n",
       "    \n",
       "            marker_bc9cfd62816a666c6a5cfd0309db3771.bindTooltip(\n",
       "                `&lt;div&gt;\n",
       "                     20歳代\n",
       "                 &lt;/div&gt;`,\n",
       "                {&quot;sticky&quot;: true}\n",
       "            );\n",
       "        \n",
       "    \n",
       "            var marker_d55d8e5a52f7eef14d0250617cab8e99 = L.marker(\n",
       "                [35.804619, 139.996078],\n",
       "                {}\n",
       "            ).addTo(marker_cluster_3b3250dace59432a581fd95f93448708);\n",
       "        \n",
       "    \n",
       "            marker_d55d8e5a52f7eef14d0250617cab8e99.bindTooltip(\n",
       "                `&lt;div&gt;\n",
       "                     10歳代\n",
       "                 &lt;/div&gt;`,\n",
       "                {&quot;sticky&quot;: true}\n",
       "            );\n",
       "        \n",
       "    \n",
       "            var marker_705423337e5a88e5dee060b72033a5da = L.marker(\n",
       "                [35.802979, 139.991287],\n",
       "                {}\n",
       "            ).addTo(marker_cluster_3b3250dace59432a581fd95f93448708);\n",
       "        \n",
       "    \n",
       "            marker_705423337e5a88e5dee060b72033a5da.bindTooltip(\n",
       "                `&lt;div&gt;\n",
       "                     10歳代\n",
       "                 &lt;/div&gt;`,\n",
       "                {&quot;sticky&quot;: true}\n",
       "            );\n",
       "        \n",
       "    \n",
       "            var marker_e36451e2384c9fa53bc97b550b1eb17b = L.marker(\n",
       "                [35.805519, 139.993011],\n",
       "                {}\n",
       "            ).addTo(marker_cluster_3b3250dace59432a581fd95f93448708);\n",
       "        \n",
       "    \n",
       "            marker_e36451e2384c9fa53bc97b550b1eb17b.bindTooltip(\n",
       "                `&lt;div&gt;\n",
       "                     10歳代\n",
       "                 &lt;/div&gt;`,\n",
       "                {&quot;sticky&quot;: true}\n",
       "            );\n",
       "        \n",
       "    \n",
       "            var marker_83586ae5e2026ecd8eb6a2db8ecac406 = L.marker(\n",
       "                [35.801025, 139.980179],\n",
       "                {}\n",
       "            ).addTo(marker_cluster_3b3250dace59432a581fd95f93448708);\n",
       "        \n",
       "    \n",
       "            marker_83586ae5e2026ecd8eb6a2db8ecac406.bindTooltip(\n",
       "                `&lt;div&gt;\n",
       "                     10歳代\n",
       "                 &lt;/div&gt;`,\n",
       "                {&quot;sticky&quot;: true}\n",
       "            );\n",
       "        \n",
       "    \n",
       "            var marker_2240d20f09ae429c58cfe7d1c99bdf10 = L.marker(\n",
       "                [35.80201, 139.977814],\n",
       "                {}\n",
       "            ).addTo(marker_cluster_3b3250dace59432a581fd95f93448708);\n",
       "        \n",
       "    \n",
       "            marker_2240d20f09ae429c58cfe7d1c99bdf10.bindTooltip(\n",
       "                `&lt;div&gt;\n",
       "                     50歳代\n",
       "                 &lt;/div&gt;`,\n",
       "                {&quot;sticky&quot;: true}\n",
       "            );\n",
       "        \n",
       "    \n",
       "            var marker_25677b68bed63bcccdc2bc331a693677 = L.marker(\n",
       "                [35.80201, 139.977814],\n",
       "                {}\n",
       "            ).addTo(marker_cluster_3b3250dace59432a581fd95f93448708);\n",
       "        \n",
       "    \n",
       "            marker_25677b68bed63bcccdc2bc331a693677.bindTooltip(\n",
       "                `&lt;div&gt;\n",
       "                     30歳代\n",
       "                 &lt;/div&gt;`,\n",
       "                {&quot;sticky&quot;: true}\n",
       "            );\n",
       "        \n",
       "    \n",
       "            var marker_8938d736784b98abb92eb684599b44f4 = L.marker(\n",
       "                [35.8078, 139.99794],\n",
       "                {}\n",
       "            ).addTo(marker_cluster_3b3250dace59432a581fd95f93448708);\n",
       "        \n",
       "    \n",
       "            marker_8938d736784b98abb92eb684599b44f4.bindTooltip(\n",
       "                `&lt;div&gt;\n",
       "                     20歳代\n",
       "                 &lt;/div&gt;`,\n",
       "                {&quot;sticky&quot;: true}\n",
       "            );\n",
       "        \n",
       "    \n",
       "            var marker_4fe962f43eece6ffad8ee9795704bd80 = L.marker(\n",
       "                [35.8078, 139.99794],\n",
       "                {}\n",
       "            ).addTo(marker_cluster_3b3250dace59432a581fd95f93448708);\n",
       "        \n",
       "    \n",
       "            marker_4fe962f43eece6ffad8ee9795704bd80.bindTooltip(\n",
       "                `&lt;div&gt;\n",
       "                     10歳代\n",
       "                 &lt;/div&gt;`,\n",
       "                {&quot;sticky&quot;: true}\n",
       "            );\n",
       "        \n",
       "    \n",
       "            var marker_3eb5ccf1a356590bc1241c28b0185dea = L.marker(\n",
       "                [35.8078, 139.99794],\n",
       "                {}\n",
       "            ).addTo(marker_cluster_3b3250dace59432a581fd95f93448708);\n",
       "        \n",
       "    \n",
       "            marker_3eb5ccf1a356590bc1241c28b0185dea.bindTooltip(\n",
       "                `&lt;div&gt;\n",
       "                     30歳代\n",
       "                 &lt;/div&gt;`,\n",
       "                {&quot;sticky&quot;: true}\n",
       "            );\n",
       "        \n",
       "    \n",
       "            var marker_6bdf8ecef47b959544c8cc868241a3ac = L.marker(\n",
       "                [35.8078, 139.99794],\n",
       "                {}\n",
       "            ).addTo(marker_cluster_3b3250dace59432a581fd95f93448708);\n",
       "        \n",
       "    \n",
       "            marker_6bdf8ecef47b959544c8cc868241a3ac.bindTooltip(\n",
       "                `&lt;div&gt;\n",
       "                     10歳代\n",
       "                 &lt;/div&gt;`,\n",
       "                {&quot;sticky&quot;: true}\n",
       "            );\n",
       "        \n",
       "    \n",
       "            var marker_9f0ddd696ca113fc16a8b462869093da = L.marker(\n",
       "                [35.8078, 139.99794],\n",
       "                {}\n",
       "            ).addTo(marker_cluster_3b3250dace59432a581fd95f93448708);\n",
       "        \n",
       "    \n",
       "            marker_9f0ddd696ca113fc16a8b462869093da.bindTooltip(\n",
       "                `&lt;div&gt;\n",
       "                     10歳代\n",
       "                 &lt;/div&gt;`,\n",
       "                {&quot;sticky&quot;: true}\n",
       "            );\n",
       "        \n",
       "    \n",
       "            var marker_28ac68cf344615ac85886f961518f4da = L.marker(\n",
       "                [35.8078, 139.99794],\n",
       "                {}\n",
       "            ).addTo(marker_cluster_3b3250dace59432a581fd95f93448708);\n",
       "        \n",
       "    \n",
       "            marker_28ac68cf344615ac85886f961518f4da.bindTooltip(\n",
       "                `&lt;div&gt;\n",
       "                     10歳代\n",
       "                 &lt;/div&gt;`,\n",
       "                {&quot;sticky&quot;: true}\n",
       "            );\n",
       "        \n",
       "    \n",
       "            var marker_f545f78c08758371ff227ee307ee07d1 = L.marker(\n",
       "                [35.8078, 139.99794],\n",
       "                {}\n",
       "            ).addTo(marker_cluster_3b3250dace59432a581fd95f93448708);\n",
       "        \n",
       "    \n",
       "            marker_f545f78c08758371ff227ee307ee07d1.bindTooltip(\n",
       "                `&lt;div&gt;\n",
       "                     10歳代\n",
       "                 &lt;/div&gt;`,\n",
       "                {&quot;sticky&quot;: true}\n",
       "            );\n",
       "        \n",
       "    \n",
       "            var marker_64b1b97c48c9a8b2ec031879830019e4 = L.marker(\n",
       "                [35.8078, 139.99794],\n",
       "                {}\n",
       "            ).addTo(marker_cluster_3b3250dace59432a581fd95f93448708);\n",
       "        \n",
       "    \n",
       "            marker_64b1b97c48c9a8b2ec031879830019e4.bindTooltip(\n",
       "                `&lt;div&gt;\n",
       "                     10歳代\n",
       "                 &lt;/div&gt;`,\n",
       "                {&quot;sticky&quot;: true}\n",
       "            );\n",
       "        \n",
       "    \n",
       "            var marker_15bdc0fcb85d05b6245ff6e4bea90a7d = L.marker(\n",
       "                [35.8078, 139.99794],\n",
       "                {}\n",
       "            ).addTo(marker_cluster_3b3250dace59432a581fd95f93448708);\n",
       "        \n",
       "    \n",
       "            marker_15bdc0fcb85d05b6245ff6e4bea90a7d.bindTooltip(\n",
       "                `&lt;div&gt;\n",
       "                     70歳以上\n",
       "                 &lt;/div&gt;`,\n",
       "                {&quot;sticky&quot;: true}\n",
       "            );\n",
       "        \n",
       "    \n",
       "            var marker_1e7a8c87d1b498f2316a2f966c0d742e = L.marker(\n",
       "                [35.8078, 139.99794],\n",
       "                {}\n",
       "            ).addTo(marker_cluster_3b3250dace59432a581fd95f93448708);\n",
       "        \n",
       "    \n",
       "            marker_1e7a8c87d1b498f2316a2f966c0d742e.bindTooltip(\n",
       "                `&lt;div&gt;\n",
       "                     20歳代\n",
       "                 &lt;/div&gt;`,\n",
       "                {&quot;sticky&quot;: true}\n",
       "            );\n",
       "        \n",
       "    \n",
       "            var marker_7a5a5509a653ee8f47b538958bcbe6d5 = L.marker(\n",
       "                [35.8078, 139.99794],\n",
       "                {}\n",
       "            ).addTo(marker_cluster_3b3250dace59432a581fd95f93448708);\n",
       "        \n",
       "    \n",
       "            marker_7a5a5509a653ee8f47b538958bcbe6d5.bindTooltip(\n",
       "                `&lt;div&gt;\n",
       "                     10歳代\n",
       "                 &lt;/div&gt;`,\n",
       "                {&quot;sticky&quot;: true}\n",
       "            );\n",
       "        \n",
       "    \n",
       "            var marker_9a2ff3656d2798825b72e7ef9b926bf1 = L.marker(\n",
       "                [35.8078, 139.99794],\n",
       "                {}\n",
       "            ).addTo(marker_cluster_3b3250dace59432a581fd95f93448708);\n",
       "        \n",
       "    \n",
       "            marker_9a2ff3656d2798825b72e7ef9b926bf1.bindTooltip(\n",
       "                `&lt;div&gt;\n",
       "                     20歳代\n",
       "                 &lt;/div&gt;`,\n",
       "                {&quot;sticky&quot;: true}\n",
       "            );\n",
       "        \n",
       "    \n",
       "            var marker_6995beff9df3158a914e73f130ac887f = L.marker(\n",
       "                [35.8078, 139.99794],\n",
       "                {}\n",
       "            ).addTo(marker_cluster_3b3250dace59432a581fd95f93448708);\n",
       "        \n",
       "    \n",
       "            marker_6995beff9df3158a914e73f130ac887f.bindTooltip(\n",
       "                `&lt;div&gt;\n",
       "                     40歳代\n",
       "                 &lt;/div&gt;`,\n",
       "                {&quot;sticky&quot;: true}\n",
       "            );\n",
       "        \n",
       "    \n",
       "            var marker_52efec1465a6b66a6bff9a18a4194558 = L.marker(\n",
       "                [35.8078, 139.99794],\n",
       "                {}\n",
       "            ).addTo(marker_cluster_3b3250dace59432a581fd95f93448708);\n",
       "        \n",
       "    \n",
       "            marker_52efec1465a6b66a6bff9a18a4194558.bindTooltip(\n",
       "                `&lt;div&gt;\n",
       "                     10歳代\n",
       "                 &lt;/div&gt;`,\n",
       "                {&quot;sticky&quot;: true}\n",
       "            );\n",
       "        \n",
       "    \n",
       "            var marker_c4c79f3de29d714790fe0a1b13fb7d03 = L.marker(\n",
       "                [35.8078, 139.99794],\n",
       "                {}\n",
       "            ).addTo(marker_cluster_3b3250dace59432a581fd95f93448708);\n",
       "        \n",
       "    \n",
       "            marker_c4c79f3de29d714790fe0a1b13fb7d03.bindTooltip(\n",
       "                `&lt;div&gt;\n",
       "                     10歳代\n",
       "                 &lt;/div&gt;`,\n",
       "                {&quot;sticky&quot;: true}\n",
       "            );\n",
       "        \n",
       "    \n",
       "            var marker_a78670751fce0eae6dad78825f4899c5 = L.marker(\n",
       "                [35.8078, 139.99794],\n",
       "                {}\n",
       "            ).addTo(marker_cluster_3b3250dace59432a581fd95f93448708);\n",
       "        \n",
       "    \n",
       "            marker_a78670751fce0eae6dad78825f4899c5.bindTooltip(\n",
       "                `&lt;div&gt;\n",
       "                     10歳代\n",
       "                 &lt;/div&gt;`,\n",
       "                {&quot;sticky&quot;: true}\n",
       "            );\n",
       "        \n",
       "    \n",
       "            var marker_014569aa9ec84ebd13d6bb9d3b6c12ef = L.marker(\n",
       "                [35.809856, 139.996445],\n",
       "                {}\n",
       "            ).addTo(marker_cluster_3b3250dace59432a581fd95f93448708);\n",
       "        \n",
       "    \n",
       "            marker_014569aa9ec84ebd13d6bb9d3b6c12ef.bindTooltip(\n",
       "                `&lt;div&gt;\n",
       "                     30歳代\n",
       "                 &lt;/div&gt;`,\n",
       "                {&quot;sticky&quot;: true}\n",
       "            );\n",
       "        \n",
       "    \n",
       "            var marker_ac45103d60b460e170209cb4bb5770b9 = L.marker(\n",
       "                [35.877697, 139.949219],\n",
       "                {}\n",
       "            ).addTo(marker_cluster_3b3250dace59432a581fd95f93448708);\n",
       "        \n",
       "    \n",
       "            marker_ac45103d60b460e170209cb4bb5770b9.bindTooltip(\n",
       "                `&lt;div&gt;\n",
       "                     40歳代\n",
       "                 &lt;/div&gt;`,\n",
       "                {&quot;sticky&quot;: true}\n",
       "            );\n",
       "        \n",
       "&lt;/script&gt;\n",
       "&lt;/html&gt;\" style=\"position:absolute;width:100%;height:100%;left:0;top:0;border:none !important;\" allowfullscreen webkitallowfullscreen mozallowfullscreen></iframe></div></div>"
      ],
      "text/plain": [
       "<folium.folium.Map at 0x27c346252d0>"
      ]
     },
     "execution_count": 39,
     "metadata": {},
     "output_type": "execute_result"
    }
   ],
   "source": [
    "# make the map\n",
    "m = folium.Map(location=[center_lat,center_lon], \n",
    "               zoom_start=12)\n",
    "\n",
    "# マーカーがメチャクチャ多い場合はclusterで処理！\n",
    "marker_cluster = plugins.MarkerCluster().add_to(m)\n",
    " \n",
    "# kashiwaのデータフレームをループしてマーカーを作る\n",
    "for index, row in kashiwa.iterrows():\n",
    "    latlon = [row['lat'],row['lon']]\n",
    "    folium.Marker(latlon, \n",
    "                  tooltip=row['被害者の年齢'],\n",
    "                ).add_to(marker_cluster) # mapにではなくmarker_clusterに足す\n",
    "\n",
    "# show the map\n",
    "m"
   ]
  },
  {
   "attachments": {},
   "cell_type": "markdown",
   "metadata": {
    "slideshow": {
     "slide_type": "slide"
    }
   },
   "source": [
    "# EXTRA Time?\n",
    "\n",
    "時間が余った人は違う場所の犯罪マップ作りに挑戦。\n",
    "\n",
    "このサイトから都道府県を選び、データをダウンロード：\n",
    "\n",
    "https://www.npa.go.jp/toukei/seianki/hanzaiopendatalink.html\n",
    "\n",
    "注意！ジオコーティングは時間がかかるので、データを千件以下に絞ってからジオコーティングをするように。"
   ]
  }
 ],
 "metadata": {
  "celltoolbar": "Slideshow",
  "kernelspec": {
   "display_name": "Python 3 (ipykernel)",
   "language": "python",
   "name": "python3"
  },
  "language_info": {
   "codemirror_mode": {
    "name": "ipython",
    "version": 3
   },
   "file_extension": ".py",
   "mimetype": "text/x-python",
   "name": "python",
   "nbconvert_exporter": "python",
   "pygments_lexer": "ipython3",
   "version": "3.11.3"
  }
 },
 "nbformat": 4,
 "nbformat_minor": 2
}
